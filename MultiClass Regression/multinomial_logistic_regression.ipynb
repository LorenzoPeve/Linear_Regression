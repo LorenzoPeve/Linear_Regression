{
 "cells": [
  {
   "cell_type": "markdown",
   "id": "6c1787d4",
   "metadata": {},
   "source": [
    "# Multinomial Logistic Regression"
   ]
  },
  {
   "cell_type": "markdown",
   "id": "bf6bdc69",
   "metadata": {},
   "source": [
    "**Sections**\n",
    "- [1.0 Synthetic Data & Model](#1.0-Synthetic-Data-&-Model)\n",
    "- [2.0 Newton Raphson Algorithm](#2.0-Newton-Raphson-Algorithm)\n",
    "- [3.0 NR Implementation](#3.0-Newton-Raphson-Implementation)\n",
    "- [4.0 Prediction at X values](#4.0-Prediction-at-X-values)"
   ]
  },
  {
   "cell_type": "markdown",
   "id": "6d4a62ad",
   "metadata": {},
   "source": [
    "### 0. Importing Modules"
   ]
  },
  {
   "cell_type": "code",
   "execution_count": 1,
   "id": "7eb20b74",
   "metadata": {},
   "outputs": [
    {
     "data": {
      "text/html": [
       "<div class=\"bk-root\">\n",
       "        <a href=\"https://bokeh.org\" target=\"_blank\" class=\"bk-logo bk-logo-small bk-logo-notebook\"></a>\n",
       "        <span id=\"1002\">Loading BokehJS ...</span>\n",
       "    </div>\n"
      ]
     },
     "metadata": {},
     "output_type": "display_data"
    },
    {
     "data": {
      "application/javascript": [
       "(function(root) {\n",
       "  function now() {\n",
       "    return new Date();\n",
       "  }\n",
       "\n",
       "  const force = true;\n",
       "\n",
       "  if (typeof root._bokeh_onload_callbacks === \"undefined\" || force === true) {\n",
       "    root._bokeh_onload_callbacks = [];\n",
       "    root._bokeh_is_loading = undefined;\n",
       "  }\n",
       "\n",
       "const JS_MIME_TYPE = 'application/javascript';\n",
       "  const HTML_MIME_TYPE = 'text/html';\n",
       "  const EXEC_MIME_TYPE = 'application/vnd.bokehjs_exec.v0+json';\n",
       "  const CLASS_NAME = 'output_bokeh rendered_html';\n",
       "\n",
       "  /**\n",
       "   * Render data to the DOM node\n",
       "   */\n",
       "  function render(props, node) {\n",
       "    const script = document.createElement(\"script\");\n",
       "    node.appendChild(script);\n",
       "  }\n",
       "\n",
       "  /**\n",
       "   * Handle when an output is cleared or removed\n",
       "   */\n",
       "  function handleClearOutput(event, handle) {\n",
       "    const cell = handle.cell;\n",
       "\n",
       "    const id = cell.output_area._bokeh_element_id;\n",
       "    const server_id = cell.output_area._bokeh_server_id;\n",
       "    // Clean up Bokeh references\n",
       "    if (id != null && id in Bokeh.index) {\n",
       "      Bokeh.index[id].model.document.clear();\n",
       "      delete Bokeh.index[id];\n",
       "    }\n",
       "\n",
       "    if (server_id !== undefined) {\n",
       "      // Clean up Bokeh references\n",
       "      const cmd_clean = \"from bokeh.io.state import curstate; print(curstate().uuid_to_server['\" + server_id + \"'].get_sessions()[0].document.roots[0]._id)\";\n",
       "      cell.notebook.kernel.execute(cmd_clean, {\n",
       "        iopub: {\n",
       "          output: function(msg) {\n",
       "            const id = msg.content.text.trim();\n",
       "            if (id in Bokeh.index) {\n",
       "              Bokeh.index[id].model.document.clear();\n",
       "              delete Bokeh.index[id];\n",
       "            }\n",
       "          }\n",
       "        }\n",
       "      });\n",
       "      // Destroy server and session\n",
       "      const cmd_destroy = \"import bokeh.io.notebook as ion; ion.destroy_server('\" + server_id + \"')\";\n",
       "      cell.notebook.kernel.execute(cmd_destroy);\n",
       "    }\n",
       "  }\n",
       "\n",
       "  /**\n",
       "   * Handle when a new output is added\n",
       "   */\n",
       "  function handleAddOutput(event, handle) {\n",
       "    const output_area = handle.output_area;\n",
       "    const output = handle.output;\n",
       "\n",
       "    // limit handleAddOutput to display_data with EXEC_MIME_TYPE content only\n",
       "    if ((output.output_type != \"display_data\") || (!Object.prototype.hasOwnProperty.call(output.data, EXEC_MIME_TYPE))) {\n",
       "      return\n",
       "    }\n",
       "\n",
       "    const toinsert = output_area.element.find(\".\" + CLASS_NAME.split(' ')[0]);\n",
       "\n",
       "    if (output.metadata[EXEC_MIME_TYPE][\"id\"] !== undefined) {\n",
       "      toinsert[toinsert.length - 1].firstChild.textContent = output.data[JS_MIME_TYPE];\n",
       "      // store reference to embed id on output_area\n",
       "      output_area._bokeh_element_id = output.metadata[EXEC_MIME_TYPE][\"id\"];\n",
       "    }\n",
       "    if (output.metadata[EXEC_MIME_TYPE][\"server_id\"] !== undefined) {\n",
       "      const bk_div = document.createElement(\"div\");\n",
       "      bk_div.innerHTML = output.data[HTML_MIME_TYPE];\n",
       "      const script_attrs = bk_div.children[0].attributes;\n",
       "      for (let i = 0; i < script_attrs.length; i++) {\n",
       "        toinsert[toinsert.length - 1].firstChild.setAttribute(script_attrs[i].name, script_attrs[i].value);\n",
       "        toinsert[toinsert.length - 1].firstChild.textContent = bk_div.children[0].textContent\n",
       "      }\n",
       "      // store reference to server id on output_area\n",
       "      output_area._bokeh_server_id = output.metadata[EXEC_MIME_TYPE][\"server_id\"];\n",
       "    }\n",
       "  }\n",
       "\n",
       "  function register_renderer(events, OutputArea) {\n",
       "\n",
       "    function append_mime(data, metadata, element) {\n",
       "      // create a DOM node to render to\n",
       "      const toinsert = this.create_output_subarea(\n",
       "        metadata,\n",
       "        CLASS_NAME,\n",
       "        EXEC_MIME_TYPE\n",
       "      );\n",
       "      this.keyboard_manager.register_events(toinsert);\n",
       "      // Render to node\n",
       "      const props = {data: data, metadata: metadata[EXEC_MIME_TYPE]};\n",
       "      render(props, toinsert[toinsert.length - 1]);\n",
       "      element.append(toinsert);\n",
       "      return toinsert\n",
       "    }\n",
       "\n",
       "    /* Handle when an output is cleared or removed */\n",
       "    events.on('clear_output.CodeCell', handleClearOutput);\n",
       "    events.on('delete.Cell', handleClearOutput);\n",
       "\n",
       "    /* Handle when a new output is added */\n",
       "    events.on('output_added.OutputArea', handleAddOutput);\n",
       "\n",
       "    /**\n",
       "     * Register the mime type and append_mime function with output_area\n",
       "     */\n",
       "    OutputArea.prototype.register_mime_type(EXEC_MIME_TYPE, append_mime, {\n",
       "      /* Is output safe? */\n",
       "      safe: true,\n",
       "      /* Index of renderer in `output_area.display_order` */\n",
       "      index: 0\n",
       "    });\n",
       "  }\n",
       "\n",
       "  // register the mime type if in Jupyter Notebook environment and previously unregistered\n",
       "  if (root.Jupyter !== undefined) {\n",
       "    const events = require('base/js/events');\n",
       "    const OutputArea = require('notebook/js/outputarea').OutputArea;\n",
       "\n",
       "    if (OutputArea.prototype.mime_types().indexOf(EXEC_MIME_TYPE) == -1) {\n",
       "      register_renderer(events, OutputArea);\n",
       "    }\n",
       "  }\n",
       "  if (typeof (root._bokeh_timeout) === \"undefined\" || force === true) {\n",
       "    root._bokeh_timeout = Date.now() + 5000;\n",
       "    root._bokeh_failed_load = false;\n",
       "  }\n",
       "\n",
       "  const NB_LOAD_WARNING = {'data': {'text/html':\n",
       "     \"<div style='background-color: #fdd'>\\n\"+\n",
       "     \"<p>\\n\"+\n",
       "     \"BokehJS does not appear to have successfully loaded. If loading BokehJS from CDN, this \\n\"+\n",
       "     \"may be due to a slow or bad network connection. Possible fixes:\\n\"+\n",
       "     \"</p>\\n\"+\n",
       "     \"<ul>\\n\"+\n",
       "     \"<li>re-rerun `output_notebook()` to attempt to load from CDN again, or</li>\\n\"+\n",
       "     \"<li>use INLINE resources instead, as so:</li>\\n\"+\n",
       "     \"</ul>\\n\"+\n",
       "     \"<code>\\n\"+\n",
       "     \"from bokeh.resources import INLINE\\n\"+\n",
       "     \"output_notebook(resources=INLINE)\\n\"+\n",
       "     \"</code>\\n\"+\n",
       "     \"</div>\"}};\n",
       "\n",
       "  function display_loaded() {\n",
       "    const el = document.getElementById(\"1002\");\n",
       "    if (el != null) {\n",
       "      el.textContent = \"BokehJS is loading...\";\n",
       "    }\n",
       "    if (root.Bokeh !== undefined) {\n",
       "      if (el != null) {\n",
       "        el.textContent = \"BokehJS \" + root.Bokeh.version + \" successfully loaded.\";\n",
       "      }\n",
       "    } else if (Date.now() < root._bokeh_timeout) {\n",
       "      setTimeout(display_loaded, 100)\n",
       "    }\n",
       "  }\n",
       "\n",
       "  function run_callbacks() {\n",
       "    try {\n",
       "      root._bokeh_onload_callbacks.forEach(function(callback) {\n",
       "        if (callback != null)\n",
       "          callback();\n",
       "      });\n",
       "    } finally {\n",
       "      delete root._bokeh_onload_callbacks\n",
       "    }\n",
       "    console.debug(\"Bokeh: all callbacks have finished\");\n",
       "  }\n",
       "\n",
       "  function load_libs(css_urls, js_urls, callback) {\n",
       "    if (css_urls == null) css_urls = [];\n",
       "    if (js_urls == null) js_urls = [];\n",
       "\n",
       "    root._bokeh_onload_callbacks.push(callback);\n",
       "    if (root._bokeh_is_loading > 0) {\n",
       "      console.debug(\"Bokeh: BokehJS is being loaded, scheduling callback at\", now());\n",
       "      return null;\n",
       "    }\n",
       "    if (js_urls == null || js_urls.length === 0) {\n",
       "      run_callbacks();\n",
       "      return null;\n",
       "    }\n",
       "    console.debug(\"Bokeh: BokehJS not loaded, scheduling load and callback at\", now());\n",
       "    root._bokeh_is_loading = css_urls.length + js_urls.length;\n",
       "\n",
       "    function on_load() {\n",
       "      root._bokeh_is_loading--;\n",
       "      if (root._bokeh_is_loading === 0) {\n",
       "        console.debug(\"Bokeh: all BokehJS libraries/stylesheets loaded\");\n",
       "        run_callbacks()\n",
       "      }\n",
       "    }\n",
       "\n",
       "    function on_error(url) {\n",
       "      console.error(\"failed to load \" + url);\n",
       "    }\n",
       "\n",
       "    for (let i = 0; i < css_urls.length; i++) {\n",
       "      const url = css_urls[i];\n",
       "      const element = document.createElement(\"link\");\n",
       "      element.onload = on_load;\n",
       "      element.onerror = on_error.bind(null, url);\n",
       "      element.rel = \"stylesheet\";\n",
       "      element.type = \"text/css\";\n",
       "      element.href = url;\n",
       "      console.debug(\"Bokeh: injecting link tag for BokehJS stylesheet: \", url);\n",
       "      document.body.appendChild(element);\n",
       "    }\n",
       "\n",
       "    for (let i = 0; i < js_urls.length; i++) {\n",
       "      const url = js_urls[i];\n",
       "      const element = document.createElement('script');\n",
       "      element.onload = on_load;\n",
       "      element.onerror = on_error.bind(null, url);\n",
       "      element.async = false;\n",
       "      element.src = url;\n",
       "      console.debug(\"Bokeh: injecting script tag for BokehJS library: \", url);\n",
       "      document.head.appendChild(element);\n",
       "    }\n",
       "  };\n",
       "\n",
       "  function inject_raw_css(css) {\n",
       "    const element = document.createElement(\"style\");\n",
       "    element.appendChild(document.createTextNode(css));\n",
       "    document.body.appendChild(element);\n",
       "  }\n",
       "\n",
       "  const js_urls = [\"https://cdn.bokeh.org/bokeh/release/bokeh-2.4.3.min.js\", \"https://cdn.bokeh.org/bokeh/release/bokeh-gl-2.4.3.min.js\", \"https://cdn.bokeh.org/bokeh/release/bokeh-widgets-2.4.3.min.js\", \"https://cdn.bokeh.org/bokeh/release/bokeh-tables-2.4.3.min.js\", \"https://cdn.bokeh.org/bokeh/release/bokeh-mathjax-2.4.3.min.js\"];\n",
       "  const css_urls = [];\n",
       "\n",
       "  const inline_js = [    function(Bokeh) {\n",
       "      Bokeh.set_log_level(\"info\");\n",
       "    },\n",
       "function(Bokeh) {\n",
       "    }\n",
       "  ];\n",
       "\n",
       "  function run_inline_js() {\n",
       "    if (root.Bokeh !== undefined || force === true) {\n",
       "          for (let i = 0; i < inline_js.length; i++) {\n",
       "      inline_js[i].call(root, root.Bokeh);\n",
       "    }\n",
       "if (force === true) {\n",
       "        display_loaded();\n",
       "      }} else if (Date.now() < root._bokeh_timeout) {\n",
       "      setTimeout(run_inline_js, 100);\n",
       "    } else if (!root._bokeh_failed_load) {\n",
       "      console.log(\"Bokeh: BokehJS failed to load within specified timeout.\");\n",
       "      root._bokeh_failed_load = true;\n",
       "    } else if (force !== true) {\n",
       "      const cell = $(document.getElementById(\"1002\")).parents('.cell').data().cell;\n",
       "      cell.output_area.append_execute_result(NB_LOAD_WARNING)\n",
       "    }\n",
       "  }\n",
       "\n",
       "  if (root._bokeh_is_loading === 0) {\n",
       "    console.debug(\"Bokeh: BokehJS loaded, going straight to plotting\");\n",
       "    run_inline_js();\n",
       "  } else {\n",
       "    load_libs(css_urls, js_urls, function() {\n",
       "      console.debug(\"Bokeh: BokehJS plotting callback run at\", now());\n",
       "      run_inline_js();\n",
       "    });\n",
       "  }\n",
       "}(window));"
      ],
      "application/vnd.bokehjs_load.v0+json": "(function(root) {\n  function now() {\n    return new Date();\n  }\n\n  const force = true;\n\n  if (typeof root._bokeh_onload_callbacks === \"undefined\" || force === true) {\n    root._bokeh_onload_callbacks = [];\n    root._bokeh_is_loading = undefined;\n  }\n\n\n  if (typeof (root._bokeh_timeout) === \"undefined\" || force === true) {\n    root._bokeh_timeout = Date.now() + 5000;\n    root._bokeh_failed_load = false;\n  }\n\n  const NB_LOAD_WARNING = {'data': {'text/html':\n     \"<div style='background-color: #fdd'>\\n\"+\n     \"<p>\\n\"+\n     \"BokehJS does not appear to have successfully loaded. If loading BokehJS from CDN, this \\n\"+\n     \"may be due to a slow or bad network connection. Possible fixes:\\n\"+\n     \"</p>\\n\"+\n     \"<ul>\\n\"+\n     \"<li>re-rerun `output_notebook()` to attempt to load from CDN again, or</li>\\n\"+\n     \"<li>use INLINE resources instead, as so:</li>\\n\"+\n     \"</ul>\\n\"+\n     \"<code>\\n\"+\n     \"from bokeh.resources import INLINE\\n\"+\n     \"output_notebook(resources=INLINE)\\n\"+\n     \"</code>\\n\"+\n     \"</div>\"}};\n\n  function display_loaded() {\n    const el = document.getElementById(\"1002\");\n    if (el != null) {\n      el.textContent = \"BokehJS is loading...\";\n    }\n    if (root.Bokeh !== undefined) {\n      if (el != null) {\n        el.textContent = \"BokehJS \" + root.Bokeh.version + \" successfully loaded.\";\n      }\n    } else if (Date.now() < root._bokeh_timeout) {\n      setTimeout(display_loaded, 100)\n    }\n  }\n\n  function run_callbacks() {\n    try {\n      root._bokeh_onload_callbacks.forEach(function(callback) {\n        if (callback != null)\n          callback();\n      });\n    } finally {\n      delete root._bokeh_onload_callbacks\n    }\n    console.debug(\"Bokeh: all callbacks have finished\");\n  }\n\n  function load_libs(css_urls, js_urls, callback) {\n    if (css_urls == null) css_urls = [];\n    if (js_urls == null) js_urls = [];\n\n    root._bokeh_onload_callbacks.push(callback);\n    if (root._bokeh_is_loading > 0) {\n      console.debug(\"Bokeh: BokehJS is being loaded, scheduling callback at\", now());\n      return null;\n    }\n    if (js_urls == null || js_urls.length === 0) {\n      run_callbacks();\n      return null;\n    }\n    console.debug(\"Bokeh: BokehJS not loaded, scheduling load and callback at\", now());\n    root._bokeh_is_loading = css_urls.length + js_urls.length;\n\n    function on_load() {\n      root._bokeh_is_loading--;\n      if (root._bokeh_is_loading === 0) {\n        console.debug(\"Bokeh: all BokehJS libraries/stylesheets loaded\");\n        run_callbacks()\n      }\n    }\n\n    function on_error(url) {\n      console.error(\"failed to load \" + url);\n    }\n\n    for (let i = 0; i < css_urls.length; i++) {\n      const url = css_urls[i];\n      const element = document.createElement(\"link\");\n      element.onload = on_load;\n      element.onerror = on_error.bind(null, url);\n      element.rel = \"stylesheet\";\n      element.type = \"text/css\";\n      element.href = url;\n      console.debug(\"Bokeh: injecting link tag for BokehJS stylesheet: \", url);\n      document.body.appendChild(element);\n    }\n\n    for (let i = 0; i < js_urls.length; i++) {\n      const url = js_urls[i];\n      const element = document.createElement('script');\n      element.onload = on_load;\n      element.onerror = on_error.bind(null, url);\n      element.async = false;\n      element.src = url;\n      console.debug(\"Bokeh: injecting script tag for BokehJS library: \", url);\n      document.head.appendChild(element);\n    }\n  };\n\n  function inject_raw_css(css) {\n    const element = document.createElement(\"style\");\n    element.appendChild(document.createTextNode(css));\n    document.body.appendChild(element);\n  }\n\n  const js_urls = [\"https://cdn.bokeh.org/bokeh/release/bokeh-2.4.3.min.js\", \"https://cdn.bokeh.org/bokeh/release/bokeh-gl-2.4.3.min.js\", \"https://cdn.bokeh.org/bokeh/release/bokeh-widgets-2.4.3.min.js\", \"https://cdn.bokeh.org/bokeh/release/bokeh-tables-2.4.3.min.js\", \"https://cdn.bokeh.org/bokeh/release/bokeh-mathjax-2.4.3.min.js\"];\n  const css_urls = [];\n\n  const inline_js = [    function(Bokeh) {\n      Bokeh.set_log_level(\"info\");\n    },\nfunction(Bokeh) {\n    }\n  ];\n\n  function run_inline_js() {\n    if (root.Bokeh !== undefined || force === true) {\n          for (let i = 0; i < inline_js.length; i++) {\n      inline_js[i].call(root, root.Bokeh);\n    }\nif (force === true) {\n        display_loaded();\n      }} else if (Date.now() < root._bokeh_timeout) {\n      setTimeout(run_inline_js, 100);\n    } else if (!root._bokeh_failed_load) {\n      console.log(\"Bokeh: BokehJS failed to load within specified timeout.\");\n      root._bokeh_failed_load = true;\n    } else if (force !== true) {\n      const cell = $(document.getElementById(\"1002\")).parents('.cell').data().cell;\n      cell.output_area.append_execute_result(NB_LOAD_WARNING)\n    }\n  }\n\n  if (root._bokeh_is_loading === 0) {\n    console.debug(\"Bokeh: BokehJS loaded, going straight to plotting\");\n    run_inline_js();\n  } else {\n    load_libs(css_urls, js_urls, function() {\n      console.debug(\"Bokeh: BokehJS plotting callback run at\", now());\n      run_inline_js();\n    });\n  }\n}(window));"
     },
     "metadata": {},
     "output_type": "display_data"
    }
   ],
   "source": [
    "import math\n",
    "import matplotlib.pyplot as plt\n",
    "import numpy as np\n",
    "import os\n",
    "import pandas as pd\n",
    "import bokeh\n",
    "from bokeh.plotting import figure, show\n",
    "from bokeh.models import tickers, ranges\n",
    "from bokeh.io import output_notebook\n",
    "output_notebook()"
   ]
  },
  {
   "cell_type": "markdown",
   "id": "7cb950a1",
   "metadata": {},
   "source": [
    "## 1.0 Synthetic Data & Model"
   ]
  },
  {
   "cell_type": "markdown",
   "id": "35f16073",
   "metadata": {},
   "source": [
    "$$ K = 4 $$"
   ]
  },
  {
   "cell_type": "markdown",
   "id": "f371d29b",
   "metadata": {},
   "source": [
    "\\begin{align}\n",
    "\\large\n",
    "P(Y_i = j \\hspace{1 mm} |  \\hspace{1 mm} \\beta , x_i) = \\dfrac{ {\\rm e}^{x_i \\beta_j}}{1 + \\Sigma_{j=1}^{K-1} {\\rm e}^{x_i \\beta_j}}, \\hspace{3 mm} for \\hspace{3 mm} j = 1,2,3\n",
    "\\end{align}"
   ]
  },
  {
   "cell_type": "markdown",
   "id": "d78c5ede",
   "metadata": {},
   "source": [
    "$$\\large = \\dfrac{ {\\rm e}^{x_i \\beta_j}}{1 + \\Sigma_{j=1}^{3} {\\rm e}^{x_i \\beta_j}}$$"
   ]
  },
  {
   "cell_type": "markdown",
   "id": "49d0b8d2",
   "metadata": {},
   "source": [
    "\\begin{align}\n",
    "\\large\n",
    "P(Y_i = 4 \\hspace{1 mm} |  \\hspace{1 mm} \\beta , x_i) = \\dfrac{ {\\rm e}^{x_i \\beta_j}}{1 + \\Sigma_{j=1}^{3} {\\rm e}^{x_i \\beta_j}}\n",
    "\\end{align}"
   ]
  },
  {
   "cell_type": "markdown",
   "id": "b25108ea",
   "metadata": {},
   "source": [
    "(1) Write down the log-likelihood function"
   ]
  },
  {
   "cell_type": "markdown",
   "id": "7a7c8426",
   "metadata": {},
   "source": [
    " $$\\large L (\\beta) = \\prod_{i=1}^{n} p(y_i \\hspace{1 mm} |  \\hspace{1 mm} x) $$"
   ]
  },
  {
   "cell_type": "markdown",
   "id": "25e45a3e",
   "metadata": {},
   "source": [
    "$$\\large log (L (\\beta)) = \\Sigma_{j=1}^{K-1}\\hspace{1 mm}\\beta_j \\cdot \\hspace{3 mm} \\Sigma_{y_i=j}\\hspace{1 mm} x_i - \\hspace{3 mm}\n",
    "\\Sigma_{i=1}^{n}\\hspace{1 mm} log \\hspace{1 mm} (1 + \\Sigma_{j=1}^{K-1} {\\rm e}^{x_i \\beta_j})$$"
   ]
  },
  {
   "cell_type": "markdown",
   "id": "34604fad",
   "metadata": {},
   "source": [
    "$$\\large log (L (\\beta)) = \\Sigma_{j=1}^{K-1}\\hspace{1 mm}\\beta_j \\cdot \\hspace{3 mm} \\Sigma_{y_i=j}\\hspace{1 mm} x_i - \\hspace{3 mm}\n",
    "\\Sigma_{i=1}^{n}\\hspace{1 mm} log \\hspace{1 mm} (1 + \\Sigma_{j=1}^{K-1} {\\rm e}^{x_i \\beta_j})$$"
   ]
  },
  {
   "cell_type": "markdown",
   "id": "66204822",
   "metadata": {},
   "source": [
    "$$\\large log (L (\\beta)) = \\Sigma_{j=1}^{3}\\hspace{1 mm}\\beta_j \\cdot \\hspace{3 mm} \\Sigma_{y_i=j}\\hspace{1 mm} x_i - \\hspace{3 mm}\n",
    "\\Sigma_{i=1}^{50}\\hspace{1 mm} log \\hspace{1 mm} (1 + \\Sigma_{j=1}^{3} {\\rm e}^{x_i \\beta_j})$$"
   ]
  },
  {
   "cell_type": "markdown",
   "id": "d0874e84",
   "metadata": {},
   "source": [
    "(2) Expressions of the partial derivatives"
   ]
  },
  {
   "cell_type": "markdown",
   "id": "0c758d0f",
   "metadata": {},
   "source": [
    "$$\\large \\dfrac{\\partial L}{\\partial \\beta_j} \\text{      and      }  \n",
    "\\dfrac{\\partial ^2L}{\\partial \\beta_j \\partial \\beta_k} $$"
   ]
  },
  {
   "cell_type": "markdown",
   "id": "6745ce71",
   "metadata": {},
   "source": [
    "$$\\large \\dfrac{\\partial L}{\\partial \\beta_j} = \\Sigma_{y_i=j}\\hspace{1 mm} x_i \n",
    "- \\Sigma_{i=1}^n \\dfrac{ x_i{\\rm e}^{x_i \\beta_j}}{1 + \\Sigma_{j=1}^{K-1} {\\rm e}^{x_i \\beta_j}}$$"
   ]
  },
  {
   "cell_type": "markdown",
   "id": "df271050",
   "metadata": {},
   "source": [
    "$$\\large \\dfrac{\\partial ^2L}{\\partial \\beta_j \\partial \\beta_k} = \n",
    "-1(j=k) \\hspace{3 mm}\n",
    "\\Sigma_{i=1}^n \\dfrac{ x_i^2{\\rm e}^{x_i \\beta_j}}{1 + \\Sigma_{j=1}^{K-1} {\\rm e}^{x_i \\beta_j}}\n",
    "+ \\Sigma_{i=1}^n \\dfrac{ x_i^2{\\rm e}^{x_i (\\beta_j + \\beta_k)}}{(1 + \\Sigma_{j=1}^{K-1} {\\rm e}^{x_i \\beta_j})^2}$$"
   ]
  },
  {
   "cell_type": "markdown",
   "id": "f83eec23",
   "metadata": {},
   "source": [
    "## 2.0 Newton Raphson Algorithm"
   ]
  },
  {
   "cell_type": "code",
   "execution_count": 2,
   "id": "ba58375d",
   "metadata": {},
   "outputs": [],
   "source": [
    "def get_L1_vector(x, yi, Bj):\n",
    "    \"\"\"\n",
    "    Computes partial derivatives dL/dBj.\n",
    "\n",
    "        Assumes Bj is a row vector with K−1 entries and X is a column array.\n",
    "\n",
    "    Args:\n",
    "        xi (np.ndarray): Column vector or N observation x M features\n",
    "            matrix\n",
    "        yi (np.ndarray): Column vector with categorical data.\n",
    "        Bj (np.ndarray): Row vector\n",
    "\n",
    "    \"\"\"\n",
    "    dL_dBj = []\n",
    "\n",
    "    for category, bj in enumerate(Bj, start = 1):\n",
    "\n",
    "        term_1 = np.sum(x[yi == category])\n",
    "        denominator = np.ones(shape = x.shape)        \n",
    "        for i, xi in enumerate(x):\n",
    "            denominator[i] = (1 + np.sum(np.exp(xi * Bj))) # Vector Scaling\n",
    "    \n",
    "        numerator = x * np.exp(x * bj)\n",
    "        dL_dBj.append(term_1 - np.sum(numerator/denominator))\n",
    "\n",
    "    return dL_dBj\n",
    "\n",
    "def get_Lprime2_matrix(x, K, Bj):\n",
    "    \"\"\"\n",
    "    Computes partial second derivatives d2L/dBj dBk.\n",
    "\n",
    "    Assumes Bj is a row vector with K−1 entries and X is a column array.\n",
    "\n",
    "    Args:\n",
    "        xi (np.ndarray): Column vector or N observation x M features\n",
    "            matrix\n",
    "        K (int): Number of categories or discrete values y can take\n",
    "            from 1 to K.\n",
    "        Bj (np.ndarray): Row vector with regression parameters.\n",
    "\n",
    "    \"\"\"\n",
    " \n",
    "    l_prime2 = np.zeros(shape = (K-1, K-1)) # Matrix L2 is (j,k)\n",
    "\n",
    "    # Approach: \n",
    "    #   Since x is a column vector and Bj is a row, vectorized operations make\n",
    "    #   more sense. \n",
    "    #   The only explicit iteration 1:n is for the denominator.\n",
    "    denominator = np.ones(shape = x.shape)\n",
    "\n",
    "    for i, xi in enumerate(x):\n",
    "        denominator[i] = (1 + np.sum(np.exp(xi * Bj))) # Vector Scaling\n",
    "    \n",
    "    # Note: symmetric matrix, we are esimating K-1 parameters\n",
    "    for j in range(K-1):\n",
    "        for k in range(0, K-1): #\n",
    "\n",
    "            if j == k:\n",
    "                f = -1\n",
    "            else:\n",
    "                f = 0\n",
    "\n",
    "            l_prime2[j, k] = f*np.sum(x**2*np.exp(x * Bj[j])/denominator) + \\\n",
    "                    np.sum(x**2*np.exp(x * (Bj[j] + Bj[k]))/(denominator**2))\n",
    "\n",
    "    return l_prime2\n",
    "\n",
    "def newton_raphson(xArr, yArr, b_0, tolerance = 0.00001):\n",
    "    \"\"\"\n",
    "    Performs Newton-Raphson root finding.\n",
    "    \n",
    "    Args:\n",
    "        xArr (np.ndarray): Column array with x values.\n",
    "        yArr (np.ndarray): Column array with y values (discrete).\n",
    "        b_0 (float): Initial guess for regression parameters.\n",
    "        tolerance (float): Stops iteration when difference between iterations\n",
    "            is within tolerance.\n",
    "    \"\"\"\n",
    "\n",
    "    k = len(b_0) + 1\n",
    "    difference = tolerance * 5\n",
    "    \n",
    "    beta_iter = [b_0]\n",
    "    while abs(difference) > tolerance:\n",
    "        \n",
    "        L_1 = get_L1_vector(xArr, yArr, b_0)\n",
    "        L_2 = get_Lprime2_matrix(xArr, k, b_0)\n",
    "        beta_1 = b_0 - np.linalg.solve(L_2, L_1)\n",
    "\n",
    "        # Calculate difference and update iteration state\n",
    "        difference = max(abs(np.array(beta_1) - np.array(b_0)))\n",
    "        b_0 = beta_1\n",
    "        beta_iter.append(b_0)\n",
    "    \n",
    "    return beta_1, beta_iter"
   ]
  },
  {
   "cell_type": "markdown",
   "id": "338d72ec",
   "metadata": {},
   "source": [
    "## 3.0 Newton Raphson Implementation"
   ]
  },
  {
   "cell_type": "markdown",
   "id": "5084daca",
   "metadata": {},
   "source": [
    "(3) Using the partial derivatives just found, write and run a Newton{Raphson\n",
    "algorithm to obtain the maximum likelihood estimator $\\hat \\beta$. <br>\n",
    "State the algorithm and the final result."
   ]
  },
  {
   "cell_type": "code",
   "execution_count": 3,
   "id": "50693be8",
   "metadata": {},
   "outputs": [
    {
     "data": {
      "text/html": [
       "<div>\n",
       "<style scoped>\n",
       "    .dataframe tbody tr th:only-of-type {\n",
       "        vertical-align: middle;\n",
       "    }\n",
       "\n",
       "    .dataframe tbody tr th {\n",
       "        vertical-align: top;\n",
       "    }\n",
       "\n",
       "    .dataframe thead th {\n",
       "        text-align: right;\n",
       "    }\n",
       "</style>\n",
       "<table border=\"1\" class=\"dataframe\">\n",
       "  <thead>\n",
       "    <tr style=\"text-align: right;\">\n",
       "      <th></th>\n",
       "      <th>y</th>\n",
       "      <th>x</th>\n",
       "    </tr>\n",
       "  </thead>\n",
       "  <tbody>\n",
       "    <tr>\n",
       "      <th>0</th>\n",
       "      <td>2</td>\n",
       "      <td>0.208561</td>\n",
       "    </tr>\n",
       "    <tr>\n",
       "      <th>1</th>\n",
       "      <td>4</td>\n",
       "      <td>0.002906</td>\n",
       "    </tr>\n",
       "    <tr>\n",
       "      <th>2</th>\n",
       "      <td>2</td>\n",
       "      <td>0.392529</td>\n",
       "    </tr>\n",
       "    <tr>\n",
       "      <th>3</th>\n",
       "      <td>2</td>\n",
       "      <td>0.836454</td>\n",
       "    </tr>\n",
       "    <tr>\n",
       "      <th>4</th>\n",
       "      <td>3</td>\n",
       "      <td>0.465919</td>\n",
       "    </tr>\n",
       "  </tbody>\n",
       "</table>\n",
       "</div>"
      ],
      "text/plain": [
       "   y         x\n",
       "0  2  0.208561\n",
       "1  4  0.002906\n",
       "2  2  0.392529\n",
       "3  2  0.836454\n",
       "4  3  0.465919"
      ]
     },
     "execution_count": 3,
     "metadata": {},
     "output_type": "execute_result"
    }
   ],
   "source": [
    "df = pd.read_csv('data_1.csv')\n",
    "df.head()"
   ]
  },
  {
   "cell_type": "code",
   "execution_count": 4,
   "id": "03e7b54c",
   "metadata": {},
   "outputs": [],
   "source": [
    "xArr = df.x.values\n",
    "yArr = df.y.values\n",
    "\n",
    "# Run NR with different starting points\n",
    "betas = [np.array([0.5, 0.5, 0.5]),\n",
    "         np.array([1, 1, 1]),\n",
    "         np.array([4, 4, 4]),\n",
    "         np.array([-2, -2, -2]),\n",
    "        ]\n",
    "\n",
    "root = [] # Container for different starting points\n",
    "for b_0 in betas:\n",
    "    beta_1, _ = newton_raphson(xArr, yArr, b_0)\n",
    "    root.append(beta_1)"
   ]
  },
  {
   "cell_type": "code",
   "execution_count": 5,
   "id": "f0985c0e",
   "metadata": {
    "scrolled": true
   },
   "outputs": [
    {
     "data": {
      "text/plain": [
       "B0    0.940669\n",
       "B1    1.769768\n",
       "B2    2.585184\n",
       "Name: B-hats, dtype: float64"
      ]
     },
     "execution_count": 5,
     "metadata": {},
     "output_type": "execute_result"
    }
   ],
   "source": [
    "df_nr = pd.DataFrame(root)\n",
    "beta_hat = pd.Series(df_nr.mean().values, index = ['B0', 'B1', 'B2'], name = 'B-hats')\n",
    "beta_hat"
   ]
  },
  {
   "cell_type": "markdown",
   "id": "c93047ed",
   "metadata": {},
   "source": [
    "## 4.0 Prediction at X values"
   ]
  },
  {
   "cell_type": "markdown",
   "id": "43cfe7c3",
   "metadata": {},
   "source": [
    "(4) Find the predictive probabilities for y with a new predictor at x = $\\bar x$."
   ]
  },
  {
   "cell_type": "code",
   "execution_count": 6,
   "id": "12478810",
   "metadata": {},
   "outputs": [
    {
     "data": {
      "text/plain": [
       "0.54944584972"
      ]
     },
     "execution_count": 6,
     "metadata": {},
     "output_type": "execute_result"
    }
   ],
   "source": [
    "x_bar= xArr.mean()\n",
    "x_bar"
   ]
  },
  {
   "cell_type": "code",
   "execution_count": 7,
   "id": "2fa24b2a",
   "metadata": {},
   "outputs": [],
   "source": [
    "def get_p_j_given_x(x, Bj):\n",
    "    \"\"\"Calculates P( y = j | x).\n",
    "\n",
    "    Args:\n",
    "        x: N x M features\n",
    "        B: M features x K-1\n",
    "\n",
    "    Returns:\n",
    "        np.ndarray: N x K-1 matrix with the probabilities of each observation\n",
    "        to be classified as a given category. \n",
    "    \"\"\"\n",
    "    numerator = np.exp(x @ Bj) # Returns N x K-1 Matrix\n",
    "    # Note: It is critical to sum over the axis because it is\n",
    "    # only within an observation that the probabilities must add up to 1.\n",
    "    denominator = (1 + \n",
    "                    np.sum(np.exp(x @ Bj), axis = 1)).reshape(-1,1) # N Vector\n",
    "    \n",
    "    return numerator / denominator\n",
    "\n",
    "def get_pK(x, Bj):\n",
    "    \"\"\"Calculates P( y = K | x).\n",
    "    \"\"\"    \n",
    "    denominator = (1 + np.sum(np.exp(x @ Bj), axis = 1)).reshape(-1,1)\n",
    "    return 1 / denominator"
   ]
  },
  {
   "cell_type": "code",
   "execution_count": 8,
   "id": "804bafb1",
   "metadata": {},
   "outputs": [
    {
     "data": {
      "text/plain": [
       "array([[0.17724729, 0.27952478, 0.43751799, 0.10570995]])"
      ]
     },
     "execution_count": 8,
     "metadata": {},
     "output_type": "execute_result"
    }
   ],
   "source": [
    "# Probabilities j = 1 through K-1\n",
    "xi = np.array([x_bar]).reshape(1,1)\n",
    "beta_hat = beta_hat.values.reshape(1,-1)\n",
    "\n",
    "p_array_K_minus_one = get_p_j_given_x(xi, beta_hat)\n",
    "\n",
    "# Probabilities j = K\n",
    "p_K = 1 - np.sum(p_array_K_minus_one, axis = 1).reshape(-1,1)\n",
    "\n",
    "# Same as doing\n",
    "p_K_v2 = get_pK(xi, beta_hat)\n",
    "assert max(abs(p_K - p_K_v2)) < 10**-15\n",
    "\n",
    "# Full array\n",
    "p_array = np.concatenate([p_array_K_minus_one, p_K], axis = 1)\n",
    "p_array"
   ]
  },
  {
   "cell_type": "markdown",
   "id": "ad9db1ac",
   "metadata": {},
   "source": [
    "(5) Hence, what would be the predicted outcome for $y$ at this $x$."
   ]
  },
  {
   "cell_type": "code",
   "execution_count": 9,
   "id": "4fcd6f35",
   "metadata": {},
   "outputs": [
    {
     "name": "stdout",
     "output_type": "stream",
     "text": [
      "Predicted outcome for y = 3\n"
     ]
    }
   ],
   "source": [
    "print('Predicted outcome for y =' ,p_array.argmax() + 1 )"
   ]
  }
 ],
 "metadata": {
  "kernelspec": {
   "display_name": "LR",
   "language": "python",
   "name": "lr"
  },
  "language_info": {
   "codemirror_mode": {
    "name": "ipython",
    "version": 3
   },
   "file_extension": ".py",
   "mimetype": "text/x-python",
   "name": "python",
   "nbconvert_exporter": "python",
   "pygments_lexer": "ipython3",
   "version": "3.10.2"
  },
  "vscode": {
   "interpreter": {
    "hash": "caa182d6b2fcd79f380f727def9775cfcd0ead6a4ba21a079fed297fa2c64464"
   }
  }
 },
 "nbformat": 4,
 "nbformat_minor": 5
}
