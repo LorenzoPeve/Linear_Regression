{
 "cells": [
  {
   "cell_type": "markdown",
   "id": "33b9a5b0",
   "metadata": {},
   "source": [
    "# Cox Regression"
   ]
  },
  {
   "cell_type": "markdown",
   "id": "13639b50",
   "metadata": {},
   "source": [
    "A data set $(xi,  ti)$ for $i = 1; . . . ; 10$ is concerned with a survival regression\n",
    "model, whereby"
   ]
  },
  {
   "cell_type": "markdown",
   "id": "b0290cb4",
   "metadata": {},
   "source": [
    "$$\\large h (t \\hspace{1 mm} | \\hspace{1 mm} x) = h_o (t) {\\rm e}^{x \\beta} $$"
   ]
  },
  {
   "cell_type": "markdown",
   "id": "826f0585",
   "metadata": {},
   "source": [
    "$$where$$"
   ]
  },
  {
   "cell_type": "markdown",
   "id": "b3e42e30",
   "metadata": {},
   "source": [
    "$$\n",
    "h_o(t) = \\text{baseline hazard function} \\\\\n",
    "h (t \\hspace{1 mm} | \\hspace{1 mm} x) = \\text{hazard function for an individual with predictor variable x.} \\\\\n",
    "$$"
   ]
  },
  {
   "cell_type": "markdown",
   "id": "59dcf184",
   "metadata": {},
   "source": [
    "In effect, the baseline hazard is the hazard for an individual with $x = 0$.<br>\n",
    "This is also known as a proportional hazards model.<br> \n",
    "Recall that if $f_o(t)$ is the baseline density function for survival time $T$ then:"
   ]
  },
  {
   "cell_type": "markdown",
   "id": "59759ff1",
   "metadata": {},
   "source": [
    "$$\n",
    "h_o(t) = \\dfrac{f_o(t)}{S_o(t)} \\hspace{3 mm} \\text{where} \\hspace{3 mm}  S_o(t)  = \\int_{t}^{\\infty}f_o(s) \\hspace{2 mm} ds\n",
    "$$"
   ]
  },
  {
   "cell_type": "markdown",
   "id": "b3f0133e",
   "metadata": {},
   "source": [
    "(1) (10 pts) If $\\large f_o (t) = \\theta {\\rm e}^{- t \\theta}$ for $t > 0$  for some $\\theta > 0$, find $h_o(t)$."
   ]
  },
  {
   "cell_type": "markdown",
   "id": "693c8058",
   "metadata": {},
   "source": [
    "\\begin{align}\n",
    "h_o(t) & = \\dfrac{f(t)}{S(t)} \\\\\n",
    "\\\\\n",
    "& = \\dfrac{\\theta {\\rm e}^{- t \\theta}}{{\\rm e}^{- t \\theta}} \\\\ \n",
    "& = \\theta\n",
    "\\end{align}"
   ]
  },
  {
   "cell_type": "markdown",
   "id": "367aa251",
   "metadata": {},
   "source": [
    "(2) Hence, write down $f(t \\hspace{2 mm} | \\hspace{2 mm} x, \\hspace{2 mm} \\theta, \\hspace{2 mm} \\beta)$ corresponding to the hazard function $ h (t \\hspace{1 mm} | \\hspace{1 mm} x)$."
   ]
  },
  {
   "cell_type": "markdown",
   "id": "3522a10d",
   "metadata": {},
   "source": [
    "$$\\large h (t \\hspace{1 mm} | \\hspace{1 mm} x) = h_o (t) {\\rm e}^{x \\beta} $$"
   ]
  },
  {
   "cell_type": "markdown",
   "id": "db1c505b",
   "metadata": {},
   "source": [
    "$$\\large h (t \\hspace{1 mm} | \\hspace{1 mm} x) = \\theta {\\rm e}^{x \\beta} $$"
   ]
  },
  {
   "cell_type": "markdown",
   "id": "71fcc180",
   "metadata": {},
   "source": [
    "Recall if,"
   ]
  },
  {
   "cell_type": "markdown",
   "id": "004c6117",
   "metadata": {},
   "source": [
    "$\\large \\hspace{100 mm} h(t) = c   $ then $\\large f(t) = c {\\rm e}^{-c t}$"
   ]
  },
  {
   "cell_type": "markdown",
   "id": "3bfd6779",
   "metadata": {},
   "source": [
    "\\begin{align}\n",
    "\\large\n",
    "f(t \\hspace{2 mm} | \\hspace{2 mm} x, \\hspace{2 mm} \\theta, \\hspace{2 mm} \\beta) & \\large = c {\\rm e}^{-c t}\n",
    "\\\\\n",
    "&\\large  = (\\theta {\\rm e}^{x \\beta})\\hspace{1 mm} {\\rm e}^{- t \\hspace{1 mm} (\\theta {\\rm e}^{x \\beta})}\n",
    "\\end{align}"
   ]
  },
  {
   "cell_type": "markdown",
   "id": "58a66c86",
   "metadata": {},
   "source": [
    "(3) Following on from part (2), write down the expression of the log-likelihood\n",
    "function in terms of the data and $(\\theta, \\beta)$."
   ]
  },
  {
   "cell_type": "markdown",
   "id": "e70b81da",
   "metadata": {},
   "source": [
    "$$\\large I(1 :n) = \\prod_{i=1}^n \\dfrac{h(t_i | x_i)}{\\Sigma_{j\\geq i}\\hspace{2 mm}h(t_j | x_j)} \\\\\n",
    "\\large I(1 :n) = \\prod_{i=1}^n \\dfrac{h_o (t_i) {\\rm e}^{x \\beta}}{\\Sigma_{j\\geq i}\\hspace{2 mm}h(t_j | x_j)}\\\\\n",
    "\\large I(1 :n) = \\prod_{i=1}^n \\dfrac{{\\rm e}^{x_i \\beta}}{\\Sigma_{j\\geq i}\\hspace{2 mm}{\\rm e}^{x_j \\beta}} \\\\\n",
    "\\large L(\\beta) = \\Sigma_{i=1}^n \\hspace{2 mm} [ x_i \\beta - log \\hspace{2 mm} (\\Sigma_{j\\geq i}^n \\hspace{2 mm}{\\rm e}^{x_j \\beta})] $$"
   ]
  },
  {
   "cell_type": "markdown",
   "id": "86dd5231",
   "metadata": {},
   "source": [
    "(4) Assuming $\\theta = 1$, find the maximum likelihood estimator for $\\beta$; i.e., $\\hat\\beta$"
   ]
  },
  {
   "cell_type": "markdown",
   "id": "f0508cb5",
   "metadata": {},
   "source": [
    "$$\\large \\dfrac{\\partial L}{\\partial \\beta} =  \\hspace{4 mm} \\Sigma_{i=1}^n \\hspace{2 mm}[ x_i  - \\dfrac{\\Sigma_{j\\geq i}^n \\hspace{2 mm} x_j {\\rm e}^{x_j \\beta}}{\\Sigma_{j\\geq i}^n \\hspace{2 mm}{\\rm e}^{x_j \\beta}}]$$"
   ]
  },
  {
   "cell_type": "markdown",
   "id": "4968fd69",
   "metadata": {},
   "source": [
    "$$\\large \\dfrac{\\partial^2 L}{\\partial \\beta ^2} =  \\hspace{4 mm} \\Sigma_{i=1}^n \\hspace{2 mm}\n",
    "[ - \\dfrac{\\Sigma_{j\\geq i}^n \\hspace{2 mm} x_j^2 {\\rm e}^{x_j \\beta}}{\\Sigma_{j\\geq i}^n \\hspace{2 mm}{\\rm e}^{x_j \\beta}} \n",
    "+ (\\dfrac{\\Sigma_{j\\geq i}^n \\hspace{2 mm} x_j {\\rm e}^{x_j \\beta}}{\\Sigma_{j\\geq i}^n \\hspace{2 mm}{\\rm e}^{x_j \\beta}})^2]$$"
   ]
  },
  {
   "cell_type": "code",
   "execution_count": 1,
   "id": "7a0bd800",
   "metadata": {},
   "outputs": [],
   "source": [
    "import math\n",
    "import matplotlib.pyplot as plt\n",
    "import numpy as np\n",
    "import os\n",
    "import pandas as pd"
   ]
  },
  {
   "cell_type": "code",
   "execution_count": 2,
   "id": "209d0ac4",
   "metadata": {},
   "outputs": [
    {
     "data": {
      "text/html": [
       "<div>\n",
       "<style scoped>\n",
       "    .dataframe tbody tr th:only-of-type {\n",
       "        vertical-align: middle;\n",
       "    }\n",
       "\n",
       "    .dataframe tbody tr th {\n",
       "        vertical-align: top;\n",
       "    }\n",
       "\n",
       "    .dataframe thead th {\n",
       "        text-align: right;\n",
       "    }\n",
       "</style>\n",
       "<table border=\"1\" class=\"dataframe\">\n",
       "  <thead>\n",
       "    <tr style=\"text-align: right;\">\n",
       "      <th></th>\n",
       "      <th>x</th>\n",
       "      <th>t</th>\n",
       "    </tr>\n",
       "  </thead>\n",
       "  <tbody>\n",
       "    <tr>\n",
       "      <th>0</th>\n",
       "      <td>1.812486</td>\n",
       "      <td>0.017334</td>\n",
       "    </tr>\n",
       "    <tr>\n",
       "      <th>1</th>\n",
       "      <td>-0.341680</td>\n",
       "      <td>0.146967</td>\n",
       "    </tr>\n",
       "    <tr>\n",
       "      <th>2</th>\n",
       "      <td>-0.026972</td>\n",
       "      <td>0.293785</td>\n",
       "    </tr>\n",
       "    <tr>\n",
       "      <th>3</th>\n",
       "      <td>-1.326232</td>\n",
       "      <td>0.304046</td>\n",
       "    </tr>\n",
       "    <tr>\n",
       "      <th>4</th>\n",
       "      <td>0.073958</td>\n",
       "      <td>0.309173</td>\n",
       "    </tr>\n",
       "    <tr>\n",
       "      <th>5</th>\n",
       "      <td>0.287339</td>\n",
       "      <td>0.361833</td>\n",
       "    </tr>\n",
       "    <tr>\n",
       "      <th>6</th>\n",
       "      <td>0.783739</td>\n",
       "      <td>0.639589</td>\n",
       "    </tr>\n",
       "    <tr>\n",
       "      <th>7</th>\n",
       "      <td>0.416258</td>\n",
       "      <td>0.687852</td>\n",
       "    </tr>\n",
       "    <tr>\n",
       "      <th>8</th>\n",
       "      <td>0.304462</td>\n",
       "      <td>1.744188</td>\n",
       "    </tr>\n",
       "    <tr>\n",
       "      <th>9</th>\n",
       "      <td>-1.457712</td>\n",
       "      <td>2.956782</td>\n",
       "    </tr>\n",
       "  </tbody>\n",
       "</table>\n",
       "</div>"
      ],
      "text/plain": [
       "          x         t\n",
       "0  1.812486  0.017334\n",
       "1 -0.341680  0.146967\n",
       "2 -0.026972  0.293785\n",
       "3 -1.326232  0.304046\n",
       "4  0.073958  0.309173\n",
       "5  0.287339  0.361833\n",
       "6  0.783739  0.639589\n",
       "7  0.416258  0.687852\n",
       "8  0.304462  1.744188\n",
       "9 -1.457712  2.956782"
      ]
     },
     "execution_count": 2,
     "metadata": {},
     "output_type": "execute_result"
    }
   ],
   "source": [
    "df = pd.read_csv('data_2.csv')\n",
    "df.sort_values('t', inplace = True)\n",
    "df.reset_index(inplace = True, drop =True)\n",
    "xArr = df.x.values\n",
    "df"
   ]
  },
  {
   "cell_type": "code",
   "execution_count": 3,
   "id": "618356b4",
   "metadata": {},
   "outputs": [],
   "source": [
    "def get_Lprime(x, beta):\n",
    "    total = 0\n",
    "    for idx, xi in enumerate(x):        \n",
    "        total += (xi - np.sum(x[idx:]*np.exp(x[idx:]*beta)) /  np.sum(np.exp(x[idx:]*beta)))\n",
    "    return total\n",
    "\n",
    "def get_Lprime2(x, beta):\n",
    "    total = 0\n",
    "    for idx, xi in enumerate(x): \n",
    "        term_1 = np.sum((x[idx:]**2)*np.exp(x[idx:]*beta)) /  np.sum(np.exp(x[idx:]*beta))\n",
    "        term2 = np.sum(x[idx:]*np.exp(x[idx:]*beta)) /  np.sum(np.exp(x[idx:]*beta))**2\n",
    "        \n",
    "        total += (-term_1 + term2)\n",
    "    return total"
   ]
  },
  {
   "cell_type": "code",
   "execution_count": 4,
   "id": "f07b19c8",
   "metadata": {},
   "outputs": [],
   "source": [
    "def newton_raphson(xArr, b0, tolerance = 0.00001):\n",
    "    \"\"\"\n",
    "    Performs Newton-Raphson root finding.\n",
    "    \n",
    "    Args:\n",
    "        xArr (np.ndarray): Column array with x values.\n",
    "        yArr (np.ndarray): Column array with y values (discrete).\n",
    "        b_0 (float): Initial guess for regression parameters.\n",
    "        tolerance (float): Stops iteration when difference between iterations\n",
    "            is within tolerance.\n",
    "    \"\"\"\n",
    "\n",
    " \n",
    "    difference = tolerance * 5\n",
    "    iter = 0 \n",
    "    beta_iter = [b0]\n",
    "    while abs(difference) > tolerance:\n",
    "        \n",
    "        f = get_Lprime(xArr, b0)         \n",
    "        f_prime = get_Lprime2(xArr, b0)    \n",
    "        b = b0 - (f / f_prime)\n",
    "\n",
    "        # calculate difference and update iteration state\n",
    "        difference = abs(b-b0)\n",
    "        b0 = b\n",
    "\n",
    "        beta_iter.append(b0)\n",
    "        iter +=1\n",
    "    \n",
    "    if iter == 50:\n",
    "        return np.nan, np.nan\n",
    "    \n",
    "    return b, beta_iter"
   ]
  },
  {
   "cell_type": "code",
   "execution_count": 5,
   "id": "92efff3f",
   "metadata": {},
   "outputs": [],
   "source": [
    "# Run NR with different starting points\n",
    "betas = [2, 4, 0, -2 , 1]\n",
    "\n",
    "root = [] # Container for different starting points\n",
    "for b_0 in betas:\n",
    "    beta_1, _ = newton_raphson(xArr, b_0)\n",
    "    root.append(beta_1)"
   ]
  },
  {
   "cell_type": "code",
   "execution_count": 6,
   "id": "f9e20606",
   "metadata": {},
   "outputs": [
    {
     "data": {
      "text/html": [
       "<div>\n",
       "<style scoped>\n",
       "    .dataframe tbody tr th:only-of-type {\n",
       "        vertical-align: middle;\n",
       "    }\n",
       "\n",
       "    .dataframe tbody tr th {\n",
       "        vertical-align: top;\n",
       "    }\n",
       "\n",
       "    .dataframe thead th {\n",
       "        text-align: right;\n",
       "    }\n",
       "</style>\n",
       "<table border=\"1\" class=\"dataframe\">\n",
       "  <thead>\n",
       "    <tr style=\"text-align: right;\">\n",
       "      <th></th>\n",
       "      <th>beta_hat</th>\n",
       "    </tr>\n",
       "    <tr>\n",
       "      <th>Trial</th>\n",
       "      <th></th>\n",
       "    </tr>\n",
       "  </thead>\n",
       "  <tbody>\n",
       "    <tr>\n",
       "      <th>0</th>\n",
       "      <td>0.614420</td>\n",
       "    </tr>\n",
       "    <tr>\n",
       "      <th>1</th>\n",
       "      <td>0.614421</td>\n",
       "    </tr>\n",
       "    <tr>\n",
       "      <th>2</th>\n",
       "      <td>0.614396</td>\n",
       "    </tr>\n",
       "    <tr>\n",
       "      <th>3</th>\n",
       "      <td>0.614394</td>\n",
       "    </tr>\n",
       "    <tr>\n",
       "      <th>4</th>\n",
       "      <td>0.614420</td>\n",
       "    </tr>\n",
       "  </tbody>\n",
       "</table>\n",
       "</div>"
      ],
      "text/plain": [
       "       beta_hat\n",
       "Trial          \n",
       "0      0.614420\n",
       "1      0.614421\n",
       "2      0.614396\n",
       "3      0.614394\n",
       "4      0.614420"
      ]
     },
     "execution_count": 6,
     "metadata": {},
     "output_type": "execute_result"
    }
   ],
   "source": [
    "df_nr = pd.DataFrame(root, columns = ['beta_hat'])\n",
    "df_nr.index.name = 'Trial'\n",
    "df_nr"
   ]
  },
  {
   "cell_type": "code",
   "execution_count": 7,
   "id": "37064ebe",
   "metadata": {},
   "outputs": [
    {
     "name": "stdout",
     "output_type": "stream",
     "text": [
      "Maximum Likelihood Estimator for Beta_hat = 0.6144101284400094\n"
     ]
    }
   ],
   "source": [
    "print('Maximum Likelihood Estimator for Beta_hat =', df_nr.mean()[0])"
   ]
  },
  {
   "cell_type": "markdown",
   "id": "71b7b789",
   "metadata": {},
   "source": [
    "(5) Parametric bootstrap"
   ]
  },
  {
   "cell_type": "code",
   "execution_count": 8,
   "id": "307b6360",
   "metadata": {},
   "outputs": [
    {
     "data": {
      "text/plain": [
       "0.6144101284400094"
      ]
     },
     "execution_count": 8,
     "metadata": {},
     "output_type": "execute_result"
    }
   ],
   "source": [
    "beta_hat = df_nr.mean()[0]\n"
   ]
  },
  {
   "cell_type": "markdown",
   "id": "d7a37f7f",
   "metadata": {},
   "source": [
    "$$\\large h (t \\hspace{1 mm} | \\hspace{1 mm} x) = \\theta {\\rm e}^{x \\beta} $$"
   ]
  },
  {
   "cell_type": "code",
   "execution_count": 12,
   "id": "984ca363",
   "metadata": {},
   "outputs": [],
   "source": [
    "beta_i = []\n",
    "for i in range(1000):\n",
    "    \n",
    "    # Obtain T samples using exponential parameter\n",
    "    ti = []\n",
    "    for xi in xArr:    \n",
    "\n",
    "        ti_iter = np.random.exponential(np.exp(xi*beta_hat), size = 1)[0]        \n",
    "        ti.append(ti_iter)\n",
    "    \n",
    "    df_temp = pd.DataFrame({'x': xArr, 't':ti})\n",
    "    df_temp.sort_values('t', inplace = True)\n",
    "    df_temp.reset_index(inplace = True, drop =True)\n",
    "\n",
    "    beta_1, _ = newton_raphson(df_temp['x'].values, 0.9, tolerance = 0.001)\n",
    "    beta_i.append(beta_1)\n",
    "    print(i, end=',')"
   ]
  },
  {
   "cell_type": "code",
   "execution_count": 14,
   "id": "ec7e455d",
   "metadata": {},
   "outputs": [
    {
     "data": {
      "text/plain": [
       "[-0.44128565135989534,\n",
       " -1.0953093059284416,\n",
       " -0.6812944241614777,\n",
       " -4.140485072829828,\n",
       " -4.127204511778041,\n",
       " -4.451728178784738,\n",
       " -9.728527716858949,\n",
       " -0.6057888633598061,\n",
       " -0.40939509357178167,\n",
       " -0.6387302064209397,\n",
       " -0.36162500908467243,\n",
       " -0.35272818511737514,\n",
       " -0.3763892216212748,\n",
       " -0.5896760055314709,\n",
       " -0.47203898545473905,\n",
       " -0.7927331815271327,\n",
       " -0.18363215443787298,\n",
       " -4.436440859129645,\n",
       " -0.34780863224833436,\n",
       " -1.1726970664199043]"
      ]
     },
     "execution_count": 14,
     "metadata": {},
     "output_type": "execute_result"
    }
   ],
   "source": [
    "beta_i"
   ]
  },
  {
   "cell_type": "code",
   "execution_count": 13,
   "id": "ac5e8c83",
   "metadata": {
    "scrolled": false
   },
   "outputs": [
    {
     "data": {
      "text/plain": [
       "5.8721542988497095"
      ]
     },
     "execution_count": 13,
     "metadata": {},
     "output_type": "execute_result"
    }
   ],
   "source": [
    "var_beta_hat_pb = np.array(beta_i).var(ddof = 1)\n",
    "var_beta_hat_pb"
   ]
  },
  {
   "cell_type": "markdown",
   "id": "4ec058bb",
   "metadata": {},
   "source": [
    "$$ \\beta \\sim N( 0.614, 0.1123)  $$"
   ]
  }
 ],
 "metadata": {
  "kernelspec": {
   "display_name": "LR",
   "language": "python",
   "name": "lr"
  },
  "language_info": {
   "codemirror_mode": {
    "name": "ipython",
    "version": 3
   },
   "file_extension": ".py",
   "mimetype": "text/x-python",
   "name": "python",
   "nbconvert_exporter": "python",
   "pygments_lexer": "ipython3",
   "version": "3.10.2"
  }
 },
 "nbformat": 4,
 "nbformat_minor": 5
}
