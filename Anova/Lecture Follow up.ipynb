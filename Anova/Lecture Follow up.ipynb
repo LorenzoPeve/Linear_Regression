{
 "cells": [
  {
   "cell_type": "code",
   "execution_count": 1,
   "id": "5228a9c1",
   "metadata": {},
   "outputs": [],
   "source": [
    "import numpy as np\n",
    "import matplotlib.pyplot as plt\n",
    "from scipy.stats import f"
   ]
  },
  {
   "cell_type": "code",
   "execution_count": 2,
   "id": "172e6d14",
   "metadata": {},
   "outputs": [],
   "source": [
    "def plot_hist(x, name):\n",
    "    plt.hist(x, bins=20, color='c', edgecolor='k', alpha=0.65)\n",
    "    plt.axvline(x.mean(), color='k', linestyle='dashed', linewidth=1)\n",
    "    min_ylim, max_ylim = plt.ylim()\n",
    "    plt.text(x.mean()*1.1, max_ylim*0.9, 'Mean: {:.2f}'.format(x.mean()))\n",
    "    plt.xlabel(name)\n",
    "    plt.show()"
   ]
  },
  {
   "cell_type": "markdown",
   "id": "ec305b93",
   "metadata": {},
   "source": [
    "### Step 1: Simulation to calculate Errors u1 = u2"
   ]
  },
  {
   "cell_type": "code",
   "execution_count": 3,
   "id": "833db651",
   "metadata": {},
   "outputs": [],
   "source": [
    "n1 = 23\n",
    "n2 = 27\n",
    "u1 = 0\n",
    "u2 = 0\n",
    "SSW = []\n",
    "SSB = []\n",
    "\n",
    "for _ in range(1001):\n",
    "    \n",
    "    # Generate Random Error\n",
    "    ei = np.random.normal(loc = 0.0, scale = 1.0, size = (50,1))\n",
    "\n",
    "    # Calculate Groups means\n",
    "    y_i1 = u1 + ei[:n1] # Group 1\n",
    "    y_i2 = u2 + ei[n1:] # Group 2\n",
    "    y_ij = np.vstack([y_i1, y_i2])\n",
    "\n",
    "    # Calculate Error\n",
    "    y_bar = np.mean(y_ij) \n",
    "    y1_bar = np.mean(y_i1) \n",
    "    y2_bar = np.mean(y_i2)\n",
    "    \n",
    "    # Calculate Variabilit WITHIN and BETWEEN Groups\n",
    "    SSW_iter = np.sum((y_i1 - y1_bar )**2) + np.sum((y_i2 - y2_bar )**2)\n",
    "    SSB_iter = n1*(y1_bar - y_bar)**2 + n2*(y2_bar - y_bar)**2\n",
    "    \n",
    "    \n",
    "    SSW.append(SSW_iter)\n",
    "    SSB.append(SSB_iter)   \n",
    "\n",
    "SSW = np.array(SSW)\n",
    "SSB = np.array(SSB)"
   ]
  },
  {
   "cell_type": "code",
   "execution_count": 4,
   "id": "980c8489",
   "metadata": {},
   "outputs": [
    {
     "data": {
      "image/png": "[encoded data removed]",
      "text/plain": [
       "<Figure size 432x288 with 1 Axes>"
      ]
     },
     "metadata": {
      "needs_background": "light"
     },
     "output_type": "display_data"
    },
    {
     "data": {
      "image/png": "[encoded data removed]",
      "text/plain": [
       "<Figure size 432x288 with 1 Axes>"
      ]
     },
     "metadata": {
      "needs_background": "light"
     },
     "output_type": "display_data"
    }
   ],
   "source": [
    "plot_hist(SSW, 'SSW')\n",
    "plot_hist(SSB, 'SSB')"
   ]
  },
  {
   "cell_type": "markdown",
   "id": "9907b288",
   "metadata": {},
   "source": [
    "### Step 2: Calculate Correlation"
   ]
  },
  {
   "cell_type": "markdown",
   "id": "3d7da018",
   "metadata": {},
   "source": [
    "HandCalc"
   ]
  },
  {
   "cell_type": "code",
   "execution_count": 5,
   "id": "a7ba2e1a",
   "metadata": {},
   "outputs": [
    {
     "data": {
      "text/plain": [
       "array([[94.5111584 ,  0.21879183],\n",
       "       [ 0.21879183,  1.94852194]])"
      ]
     },
     "execution_count": 5,
     "metadata": {},
     "output_type": "execute_result"
    }
   ],
   "source": [
    "cov_matrix = np.cov(SSW, SSB)\n",
    "cov_matrix"
   ]
  },
  {
   "cell_type": "code",
   "execution_count": 6,
   "id": "6b3e95d0",
   "metadata": {},
   "outputs": [
    {
     "data": {
      "text/plain": [
       "0.01612266797126064"
      ]
     },
     "execution_count": 6,
     "metadata": {},
     "output_type": "execute_result"
    }
   ],
   "source": [
    "cov_matrix[0,1] / (np.sqrt(cov_matrix[0,0]) * (np.sqrt(cov_matrix[1,1])))"
   ]
  },
  {
   "cell_type": "markdown",
   "id": "72cc08b3",
   "metadata": {},
   "source": [
    "Numpy Func"
   ]
  },
  {
   "cell_type": "code",
   "execution_count": 7,
   "id": "901d219f",
   "metadata": {
    "scrolled": false
   },
   "outputs": [
    {
     "data": {
      "text/plain": [
       "array([[1.        , 0.01612267],\n",
       "       [0.01612267, 1.        ]])"
      ]
     },
     "execution_count": 7,
     "metadata": {},
     "output_type": "execute_result"
    }
   ],
   "source": [
    "np.corrcoef(SSW, SSB)"
   ]
  },
  {
   "cell_type": "markdown",
   "id": "fdb1708f",
   "metadata": {},
   "source": [
    "### Step 3: F Statistic"
   ]
  },
  {
   "cell_type": "code",
   "execution_count": 8,
   "id": "b627cfcd",
   "metadata": {},
   "outputs": [
    {
     "name": "stdout",
     "output_type": "stream",
     "text": [
      "F statistic:  0.993174995475591\n"
     ]
    }
   ],
   "source": [
    "k = 2\n",
    "n = 50\n",
    "test_stat_F = (np.mean(SSB)/(k-1)) / (np.mean(SSW)/(n-k))\n",
    "print('F statistic: ',test_stat_F)"
   ]
  },
  {
   "cell_type": "code",
   "execution_count": 9,
   "id": "f69f327c",
   "metadata": {},
   "outputs": [
    {
     "name": "stdout",
     "output_type": "stream",
     "text": [
      "p_value:  0.32396521222332675\n"
     ]
    }
   ],
   "source": [
    "p_value = f.sf(test_stat_F, k-1, n-k)\n",
    "print('p_value: ', p_value)"
   ]
  },
  {
   "cell_type": "code",
   "execution_count": 10,
   "id": "d7be1468",
   "metadata": {},
   "outputs": [
    {
     "name": "stdout",
     "output_type": "stream",
     "text": [
      "F statistic to reject (@ alpha=0.05):  4.042652128566653\n"
     ]
    }
   ],
   "source": [
    "F_reject = f.isf(0.05, 1, 48, loc=0, scale=1)\n",
    "print('F statistic to reject (@ alpha=0.05): ', F_reject)"
   ]
  },
  {
   "cell_type": "markdown",
   "id": "7579f6dc",
   "metadata": {},
   "source": [
    "-------------------"
   ]
  },
  {
   "cell_type": "markdown",
   "id": "6d5df86d",
   "metadata": {},
   "source": [
    "### Step 1: Simulation to calculate Errors u1 = 0 & u2 = 2"
   ]
  },
  {
   "cell_type": "code",
   "execution_count": 11,
   "id": "dc5c38d8",
   "metadata": {},
   "outputs": [],
   "source": [
    "n1 = 23\n",
    "n2 = 27\n",
    "u1 = 0\n",
    "u2 = 2\n",
    "SSW = []\n",
    "SSB = []\n",
    "\n",
    "for _ in range(1001):\n",
    "    \n",
    "    # Generate Random Error\n",
    "    ei = np.random.normal(loc = 0.0, scale = 1.0, size = (50,1))\n",
    "\n",
    "    # Calculate Groups means\n",
    "    y_i1 = u1 + ei[:n1] # Group 1\n",
    "    y_i2 = u2 + ei[n1:] # Group 2\n",
    "    y_ij = np.vstack([y_i1, y_i2])\n",
    "\n",
    "    # Calculate Error\n",
    "    y_bar = np.mean(y_ij) \n",
    "    y1_bar = np.mean(y_i1) \n",
    "    y2_bar = np.mean(y_i2)\n",
    "    \n",
    "    # Calculate Variabilit WITHIN and BETWEEN Groups\n",
    "    SSW_iter = np.sum((y_i1 - y1_bar )**2) + np.sum((y_i2 - y2_bar )**2)\n",
    "    SSB_iter = n1*(y1_bar - y_bar)**2 + n2*(y2_bar - y_bar)**2\n",
    "    \n",
    "    \n",
    "    SSW.append(SSW_iter)\n",
    "    SSB.append(SSB_iter)   \n",
    "\n",
    "SSW = np.array(SSW)\n",
    "SSB = np.array(SSB)"
   ]
  },
  {
   "cell_type": "code",
   "execution_count": 12,
   "id": "8faf6a95",
   "metadata": {},
   "outputs": [
    {
     "data": {
      "image/png": "[encoded data removed]",
      "text/plain": [
       "<Figure size 432x288 with 1 Axes>"
      ]
     },
     "metadata": {
      "needs_background": "light"
     },
     "output_type": "display_data"
    },
    {
     "data": {
      "image/png": "[encoded data removed]",
      "text/plain": [
       "<Figure size 432x288 with 1 Axes>"
      ]
     },
     "metadata": {
      "needs_background": "light"
     },
     "output_type": "display_data"
    }
   ],
   "source": [
    "plot_hist(SSW, 'SSW')\n",
    "plot_hist(SSB, 'SSB')"
   ]
  },
  {
   "cell_type": "markdown",
   "id": "56da67c5",
   "metadata": {},
   "source": [
    "### Step 2: Calculate Correlation"
   ]
  },
  {
   "cell_type": "markdown",
   "id": "7b3aca93",
   "metadata": {},
   "source": [
    "HandCalc"
   ]
  },
  {
   "cell_type": "code",
   "execution_count": 13,
   "id": "637d5705",
   "metadata": {},
   "outputs": [
    {
     "data": {
      "text/plain": [
       "array([[100.18144261,  -3.61025015],\n",
       "       [ -3.61025015, 206.16502318]])"
      ]
     },
     "execution_count": 13,
     "metadata": {},
     "output_type": "execute_result"
    }
   ],
   "source": [
    "cov_matrix = np.cov(SSW, SSB)\n",
    "cov_matrix"
   ]
  },
  {
   "cell_type": "code",
   "execution_count": 14,
   "id": "adda2683",
   "metadata": {},
   "outputs": [
    {
     "data": {
      "text/plain": [
       "-0.025120955847629634"
      ]
     },
     "execution_count": 14,
     "metadata": {},
     "output_type": "execute_result"
    }
   ],
   "source": [
    "cov_matrix[0,1] / (np.sqrt(cov_matrix[0,0]) * (np.sqrt(cov_matrix[1,1])))"
   ]
  },
  {
   "cell_type": "markdown",
   "id": "82760d05",
   "metadata": {},
   "source": [
    "Numpy Func"
   ]
  },
  {
   "cell_type": "code",
   "execution_count": 15,
   "id": "79503b14",
   "metadata": {
    "scrolled": true
   },
   "outputs": [
    {
     "data": {
      "text/plain": [
       "array([[ 1.        , -0.02512096],\n",
       "       [-0.02512096,  1.        ]])"
      ]
     },
     "execution_count": 15,
     "metadata": {},
     "output_type": "execute_result"
    }
   ],
   "source": [
    "np.corrcoef(SSW, SSB)"
   ]
  },
  {
   "cell_type": "markdown",
   "id": "13ce2c64",
   "metadata": {},
   "source": [
    "### Step 3: F Statistic"
   ]
  },
  {
   "cell_type": "code",
   "execution_count": 16,
   "id": "1c5152ff",
   "metadata": {},
   "outputs": [
    {
     "name": "stdout",
     "output_type": "stream",
     "text": [
      "F statistic:  51.69514616300362\n"
     ]
    }
   ],
   "source": [
    "k = 2\n",
    "n = 50\n",
    "test_stat_F = (np.mean(SSB)/(k-1)) / (np.mean(SSW)/(n-k))\n",
    "print('F statistic: ',test_stat_F)"
   ]
  },
  {
   "cell_type": "code",
   "execution_count": 17,
   "id": "dbc66915",
   "metadata": {},
   "outputs": [
    {
     "name": "stdout",
     "output_type": "stream",
     "text": [
      "p_value:  3.763122002372791e-09\n"
     ]
    }
   ],
   "source": [
    "p_value = f.sf(test_stat_F, k-1, n-k)\n",
    "print('p_value: ', p_value)"
   ]
  },
  {
   "cell_type": "code",
   "execution_count": 18,
   "id": "6f2024e9",
   "metadata": {
    "scrolled": false
   },
   "outputs": [
    {
     "name": "stdout",
     "output_type": "stream",
     "text": [
      "F statistic to reject (@ alpha=0.05):  4.042652128566653\n"
     ]
    }
   ],
   "source": [
    "F_reject = f.isf(0.05, 1, 48, loc=0, scale=1)\n",
    "print('F statistic to reject (@ alpha=0.05): ', F_reject)"
   ]
  },
  {
   "cell_type": "markdown",
   "id": "d4ccd465",
   "metadata": {},
   "source": [
    "### Step 1: Simulation to calculate Errors u1 - 0 & u2 = 0.5"
   ]
  },
  {
   "cell_type": "code",
   "execution_count": 19,
   "id": "4712ae51",
   "metadata": {},
   "outputs": [],
   "source": [
    "n1 = 23\n",
    "n2 = 27\n",
    "u1 = 0\n",
    "u2 = 0.5\n",
    "SSW = []\n",
    "SSB = []\n",
    "\n",
    "for _ in range(1001):\n",
    "    \n",
    "    # Generate Random Error\n",
    "    ei = np.random.normal(loc = 0.0, scale = 1.0, size = (50,1))\n",
    "\n",
    "    # Calculate Groups means\n",
    "    y_i1 = u1 + ei[:n1] # Group 1\n",
    "    y_i2 = u2 + ei[n1:] # Group 2\n",
    "    y_ij = np.vstack([y_i1, y_i2])\n",
    "\n",
    "    # Calculate Error\n",
    "    y_bar = np.mean(y_ij) \n",
    "    y1_bar = np.mean(y_i1) \n",
    "    y2_bar = np.mean(y_i2)\n",
    "    \n",
    "    # Calculate Variabilit WITHIN and BETWEEN Groups\n",
    "    SSW_iter = np.sum((y_i1 - y1_bar )**2) + np.sum((y_i2 - y2_bar )**2)\n",
    "    SSB_iter = n1*(y1_bar - y_bar)**2 + n2*(y2_bar - y_bar)**2\n",
    "    \n",
    "    \n",
    "    SSW.append(SSW_iter)\n",
    "    SSB.append(SSB_iter)   \n",
    "\n",
    "SSW = np.array(SSW)\n",
    "SSB = np.array(SSB)"
   ]
  },
  {
   "cell_type": "code",
   "execution_count": 20,
   "id": "c9170a7a",
   "metadata": {},
   "outputs": [
    {
     "data": {
      "image/png": "[encoded data removed]",
      "text/plain": [
       "<Figure size 432x288 with 1 Axes>"
      ]
     },
     "metadata": {
      "needs_background": "light"
     },
     "output_type": "display_data"
    },
    {
     "data": {
      "image/png": "[encoded data removed]",
      "text/plain": [
       "<Figure size 432x288 with 1 Axes>"
      ]
     },
     "metadata": {
      "needs_background": "light"
     },
     "output_type": "display_data"
    }
   ],
   "source": [
    "plot_hist(SSW, 'SSW')\n",
    "plot_hist(SSB, 'SSB')"
   ]
  },
  {
   "cell_type": "markdown",
   "id": "9c07b815",
   "metadata": {},
   "source": [
    "### Step 2: Calculate Correlation"
   ]
  },
  {
   "cell_type": "markdown",
   "id": "e8f3712a",
   "metadata": {},
   "source": [
    "HandCalc"
   ]
  },
  {
   "cell_type": "code",
   "execution_count": 21,
   "id": "a88f553f",
   "metadata": {},
   "outputs": [
    {
     "data": {
      "text/plain": [
       "array([[97.37942857,  1.32678203],\n",
       "       [ 1.32678203, 14.82111161]])"
      ]
     },
     "execution_count": 21,
     "metadata": {},
     "output_type": "execute_result"
    }
   ],
   "source": [
    "cov_matrix = np.cov(SSW, SSB)\n",
    "cov_matrix"
   ]
  },
  {
   "cell_type": "code",
   "execution_count": 22,
   "id": "83e4f249",
   "metadata": {},
   "outputs": [
    {
     "data": {
      "text/plain": [
       "0.03492412870207667"
      ]
     },
     "execution_count": 22,
     "metadata": {},
     "output_type": "execute_result"
    }
   ],
   "source": [
    "cov_matrix[0,1] / (np.sqrt(cov_matrix[0,0]) * (np.sqrt(cov_matrix[1,1])))"
   ]
  },
  {
   "cell_type": "markdown",
   "id": "197c49d7",
   "metadata": {},
   "source": [
    "Numpy Func"
   ]
  },
  {
   "cell_type": "code",
   "execution_count": 23,
   "id": "5ec9d411",
   "metadata": {
    "scrolled": true
   },
   "outputs": [
    {
     "data": {
      "text/plain": [
       "array([[1.        , 0.03492413],\n",
       "       [0.03492413, 1.        ]])"
      ]
     },
     "execution_count": 23,
     "metadata": {},
     "output_type": "execute_result"
    }
   ],
   "source": [
    "np.corrcoef(SSW, SSB)"
   ]
  },
  {
   "cell_type": "markdown",
   "id": "d73d171e",
   "metadata": {},
   "source": [
    "### Step 3: F Statistic"
   ]
  },
  {
   "cell_type": "code",
   "execution_count": 24,
   "id": "e9a77c4f",
   "metadata": {},
   "outputs": [
    {
     "name": "stdout",
     "output_type": "stream",
     "text": [
      "F statistic:  4.107971701194723\n"
     ]
    }
   ],
   "source": [
    "k = 2\n",
    "n = 50\n",
    "test_stat_F = (np.mean(SSB)/(k-1)) / (np.mean(SSW)/(n-k))\n",
    "print('F statistic: ',test_stat_F)"
   ]
  },
  {
   "cell_type": "code",
   "execution_count": 25,
   "id": "d27a9ff4",
   "metadata": {},
   "outputs": [
    {
     "name": "stdout",
     "output_type": "stream",
     "text": [
      "p_value:  0.048255903016682436\n"
     ]
    }
   ],
   "source": [
    "p_value = f.sf(test_stat_F, k-1, n-k)\n",
    "print('p_value: ', p_value)"
   ]
  },
  {
   "cell_type": "code",
   "execution_count": 26,
   "id": "3adefbfa",
   "metadata": {
    "scrolled": true
   },
   "outputs": [
    {
     "name": "stdout",
     "output_type": "stream",
     "text": [
      "F statistic to reject (@ alpha=0.05):  4.042652128566653\n"
     ]
    }
   ],
   "source": [
    "F_reject = f.isf(0.05, 1, 48, loc=0, scale=1)\n",
    "print('F statistic to reject (@ alpha=0.05): ', F_reject)"
   ]
  },
  {
   "cell_type": "markdown",
   "id": "2e99d1e5",
   "metadata": {},
   "source": [
    "# Multiple Regression Setting"
   ]
  },
  {
   "cell_type": "code",
   "execution_count": 51,
   "id": "c0db3527",
   "metadata": {},
   "outputs": [],
   "source": [
    "ei = np.random.normal(loc = 0.0, scale = 1.0, size = (50,1))"
   ]
  },
  {
   "cell_type": "code",
   "execution_count": 52,
   "id": "b8934ed0",
   "metadata": {},
   "outputs": [],
   "source": [
    "X = np.zeros(shape=(50,2))\n",
    "X[:23,0] = 1\n",
    "X[23:,1] = 1\n",
    "u = np.array([ 0 , 2]).reshape(2,1)\n",
    "y_i = X @ u + ei"
   ]
  },
  {
   "cell_type": "code",
   "execution_count": 53,
   "id": "6c073058",
   "metadata": {},
   "outputs": [
    {
     "data": {
      "text/plain": [
       "(50, 1)"
      ]
     },
     "execution_count": 53,
     "metadata": {},
     "output_type": "execute_result"
    }
   ],
   "source": [
    "y_i.shape"
   ]
  },
  {
   "cell_type": "code",
   "execution_count": 54,
   "id": "5079f175",
   "metadata": {},
   "outputs": [
    {
     "data": {
      "text/plain": [
       "array([[23.,  0.],\n",
       "       [ 0., 27.]])"
      ]
     },
     "execution_count": 54,
     "metadata": {},
     "output_type": "execute_result"
    }
   ],
   "source": [
    "X.T @ X"
   ]
  },
  {
   "cell_type": "code",
   "execution_count": 55,
   "id": "8a5765c9",
   "metadata": {},
   "outputs": [
    {
     "data": {
      "text/plain": [
       "array([[0.13708731],\n",
       "       [1.86921461]])"
      ]
     },
     "execution_count": 55,
     "metadata": {},
     "output_type": "execute_result"
    }
   ],
   "source": [
    "u_hat = np.linalg.inv(X.T @ X) @ X.T @ y_i\n",
    "u_hat"
   ]
  },
  {
   "cell_type": "code",
   "execution_count": 57,
   "id": "d0010ebf",
   "metadata": {},
   "outputs": [
    {
     "name": "stdout",
     "output_type": "stream",
     "text": [
      "0.1370873076937937\n",
      "1.8692146076972922\n"
     ]
    }
   ],
   "source": [
    "# Check\n",
    "print(np.mean(y_i[:23]))\n",
    "print(np.mean(y_i[23:]))"
   ]
  },
  {
   "cell_type": "code",
   "execution_count": null,
   "id": "0e3e5cab",
   "metadata": {},
   "outputs": [],
   "source": []
  }
 ],
 "metadata": {
  "kernelspec": {
   "display_name": "pymc_env",
   "language": "python",
   "name": "pymc_env"
  },
  "language_info": {
   "codemirror_mode": {
    "name": "ipython",
    "version": 3
   },
   "file_extension": ".py",
   "mimetype": "text/x-python",
   "name": "python",
   "nbconvert_exporter": "python",
   "pygments_lexer": "ipython3",
   "version": "3.10.5"
  }
 },
 "nbformat": 4,
 "nbformat_minor": 5
}
