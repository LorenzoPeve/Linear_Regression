{
 "cells": [
  {
   "cell_type": "markdown",
   "id": "cda518a2",
   "metadata": {},
   "source": [
    "### Effect of Shelf's Width and Height on Bread Sales"
   ]
  },
  {
   "cell_type": "markdown",
   "id": "f7a2d019",
   "metadata": {},
   "source": [
    "The data consists of bread sales depending on the width and height of shelf.<br>\n",
    "There are 12 stores and each store has one of the combinations of height and width.<br>\n",
    "There are the same number of stroes (2) in each category.<br>\n",
    "The objective is to test whether there is a difference in sales due to difference in shelf."
   ]
  },
  {
   "cell_type": "code",
   "execution_count": 1,
   "id": "d85fb1c5",
   "metadata": {},
   "outputs": [
    {
     "data": {
      "text/html": [
       "<style>.output{flex-direction: row;}</style>"
      ],
      "text/plain": [
       "<IPython.core.display.HTML object>"
      ]
     },
     "execution_count": 1,
     "metadata": {},
     "output_type": "execute_result"
    }
   ],
   "source": [
    "import os\n",
    "import pandas as pd\n",
    "import numpy as np\n",
    "from scipy.stats import f\n",
    "import matplotlib.pyplot as plt\n",
    "from IPython.display import display, HTML\n",
    "\n",
    "# Print DataFrames Horironzally\n",
    "CSS = \"\"\".output{flex-direction: row;}\"\"\"\n",
    "HTML('<style>{}</style>'.format(CSS))"
   ]
  },
  {
   "cell_type": "markdown",
   "id": "057a001b",
   "metadata": {},
   "source": [
    "**1.Import External and Internal Modules**"
   ]
  },
  {
   "cell_type": "code",
   "execution_count": 2,
   "id": "375a6b22",
   "metadata": {},
   "outputs": [],
   "source": [
    "# External Modules\n",
    "import os\n",
    "import pandas as pd\n",
    "import numpy as np\n",
    "from scipy.stats import f\n",
    "from IPython.display import display, HTML\n",
    "\n",
    "CSS = \"\"\".output {flex-direction: row;}\"\"\"\n",
    "HTML('<style>{}</style>'.format(CSS))\n",
    "\n",
    "#Internal Modules\n",
    "import anova_compute as anv"
   ]
  },
  {
   "cell_type": "markdown",
   "id": "4253de25",
   "metadata": {},
   "source": [
    "**2.Data**"
   ]
  },
  {
   "cell_type": "code",
   "execution_count": 3,
   "id": "c2d56a46",
   "metadata": {
    "scrolled": true
   },
   "outputs": [
    {
     "data": {
      "text/html": [
       "<div>\n",
       "<style scoped>\n",
       "    .dataframe tbody tr th:only-of-type {\n",
       "        vertical-align: middle;\n",
       "    }\n",
       "\n",
       "    .dataframe tbody tr th {\n",
       "        vertical-align: top;\n",
       "    }\n",
       "\n",
       "    .dataframe thead th {\n",
       "        text-align: right;\n",
       "    }\n",
       "</style>\n",
       "<table border=\"1\" class=\"dataframe\">\n",
       "  <thead>\n",
       "    <tr style=\"text-align: right;\">\n",
       "      <th></th>\n",
       "      <th>sales</th>\n",
       "      <th>height</th>\n",
       "      <th>width</th>\n",
       "    </tr>\n",
       "  </thead>\n",
       "  <tbody>\n",
       "    <tr>\n",
       "      <th>0</th>\n",
       "      <td>47</td>\n",
       "      <td>1</td>\n",
       "      <td>1</td>\n",
       "    </tr>\n",
       "    <tr>\n",
       "      <th>1</th>\n",
       "      <td>43</td>\n",
       "      <td>1</td>\n",
       "      <td>1</td>\n",
       "    </tr>\n",
       "    <tr>\n",
       "      <th>2</th>\n",
       "      <td>46</td>\n",
       "      <td>1</td>\n",
       "      <td>2</td>\n",
       "    </tr>\n",
       "    <tr>\n",
       "      <th>3</th>\n",
       "      <td>40</td>\n",
       "      <td>1</td>\n",
       "      <td>2</td>\n",
       "    </tr>\n",
       "    <tr>\n",
       "      <th>4</th>\n",
       "      <td>62</td>\n",
       "      <td>2</td>\n",
       "      <td>1</td>\n",
       "    </tr>\n",
       "    <tr>\n",
       "      <th>5</th>\n",
       "      <td>68</td>\n",
       "      <td>2</td>\n",
       "      <td>1</td>\n",
       "    </tr>\n",
       "  </tbody>\n",
       "</table>\n",
       "</div>"
      ],
      "text/plain": [
       "   sales  height  width\n",
       "0     47       1      1\n",
       "1     43       1      1\n",
       "2     46       1      2\n",
       "3     40       1      2\n",
       "4     62       2      1\n",
       "5     68       2      1"
      ]
     },
     "metadata": {},
     "output_type": "display_data"
    },
    {
     "data": {
      "text/html": [
       "<div>\n",
       "<style scoped>\n",
       "    .dataframe tbody tr th:only-of-type {\n",
       "        vertical-align: middle;\n",
       "    }\n",
       "\n",
       "    .dataframe tbody tr th {\n",
       "        vertical-align: top;\n",
       "    }\n",
       "\n",
       "    .dataframe thead th {\n",
       "        text-align: right;\n",
       "    }\n",
       "</style>\n",
       "<table border=\"1\" class=\"dataframe\">\n",
       "  <thead>\n",
       "    <tr style=\"text-align: right;\">\n",
       "      <th></th>\n",
       "      <th></th>\n",
       "      <th>sales</th>\n",
       "    </tr>\n",
       "    <tr>\n",
       "      <th>height</th>\n",
       "      <th>width</th>\n",
       "      <th></th>\n",
       "    </tr>\n",
       "  </thead>\n",
       "  <tbody>\n",
       "    <tr>\n",
       "      <th rowspan=\"2\" valign=\"top\">1</th>\n",
       "      <th>1</th>\n",
       "      <td>45.0</td>\n",
       "    </tr>\n",
       "    <tr>\n",
       "      <th>2</th>\n",
       "      <td>43.0</td>\n",
       "    </tr>\n",
       "    <tr>\n",
       "      <th rowspan=\"2\" valign=\"top\">2</th>\n",
       "      <th>1</th>\n",
       "      <td>65.0</td>\n",
       "    </tr>\n",
       "    <tr>\n",
       "      <th>2</th>\n",
       "      <td>69.0</td>\n",
       "    </tr>\n",
       "    <tr>\n",
       "      <th rowspan=\"2\" valign=\"top\">3</th>\n",
       "      <th>1</th>\n",
       "      <td>40.0</td>\n",
       "    </tr>\n",
       "    <tr>\n",
       "      <th>2</th>\n",
       "      <td>44.0</td>\n",
       "    </tr>\n",
       "  </tbody>\n",
       "</table>\n",
       "</div>"
      ],
      "text/plain": [
       "              sales\n",
       "height width       \n",
       "1      1       45.0\n",
       "       2       43.0\n",
       "2      1       65.0\n",
       "       2       69.0\n",
       "3      1       40.0\n",
       "       2       44.0"
      ]
     },
     "metadata": {},
     "output_type": "display_data"
    },
    {
     "data": {
      "text/html": [
       "<div>\n",
       "<style scoped>\n",
       "    .dataframe tbody tr th:only-of-type {\n",
       "        vertical-align: middle;\n",
       "    }\n",
       "\n",
       "    .dataframe tbody tr th {\n",
       "        vertical-align: top;\n",
       "    }\n",
       "\n",
       "    .dataframe thead th {\n",
       "        text-align: right;\n",
       "    }\n",
       "</style>\n",
       "<table border=\"1\" class=\"dataframe\">\n",
       "  <thead>\n",
       "    <tr style=\"text-align: right;\">\n",
       "      <th></th>\n",
       "      <th>sales</th>\n",
       "    </tr>\n",
       "    <tr>\n",
       "      <th>height</th>\n",
       "      <th></th>\n",
       "    </tr>\n",
       "  </thead>\n",
       "  <tbody>\n",
       "    <tr>\n",
       "      <th>1</th>\n",
       "      <td>44.0</td>\n",
       "    </tr>\n",
       "    <tr>\n",
       "      <th>2</th>\n",
       "      <td>67.0</td>\n",
       "    </tr>\n",
       "    <tr>\n",
       "      <th>3</th>\n",
       "      <td>42.0</td>\n",
       "    </tr>\n",
       "  </tbody>\n",
       "</table>\n",
       "</div>"
      ],
      "text/plain": [
       "        sales\n",
       "height       \n",
       "1        44.0\n",
       "2        67.0\n",
       "3        42.0"
      ]
     },
     "metadata": {},
     "output_type": "display_data"
    },
    {
     "data": {
      "text/html": [
       "<div>\n",
       "<style scoped>\n",
       "    .dataframe tbody tr th:only-of-type {\n",
       "        vertical-align: middle;\n",
       "    }\n",
       "\n",
       "    .dataframe tbody tr th {\n",
       "        vertical-align: top;\n",
       "    }\n",
       "\n",
       "    .dataframe thead th {\n",
       "        text-align: right;\n",
       "    }\n",
       "</style>\n",
       "<table border=\"1\" class=\"dataframe\">\n",
       "  <thead>\n",
       "    <tr style=\"text-align: right;\">\n",
       "      <th></th>\n",
       "      <th>sales</th>\n",
       "    </tr>\n",
       "    <tr>\n",
       "      <th>width</th>\n",
       "      <th></th>\n",
       "    </tr>\n",
       "  </thead>\n",
       "  <tbody>\n",
       "    <tr>\n",
       "      <th>1</th>\n",
       "      <td>50.0</td>\n",
       "    </tr>\n",
       "    <tr>\n",
       "      <th>2</th>\n",
       "      <td>52.0</td>\n",
       "    </tr>\n",
       "  </tbody>\n",
       "</table>\n",
       "</div>"
      ],
      "text/plain": [
       "       sales\n",
       "width       \n",
       "1       50.0\n",
       "2       52.0"
      ]
     },
     "metadata": {},
     "output_type": "display_data"
    }
   ],
   "source": [
    "sales = np.array([47,43,46,40,62,68,67,71,41,39,42,46])\n",
    "height = np.array([1,1,1,1,2,2,2,2,3,3,3,3])\n",
    "width = np.array([1,1,2,2,1,1,2,2,1,1,2,2])\n",
    "\n",
    "# Create Dataframe\n",
    "df = pd.DataFrame({'sales': sales, 'height': height, 'width': width})\n",
    "\n",
    "# Display main dataframe and the different averages\n",
    "display(df.head(6))\n",
    "display(df.groupby(['height','width']).mean())\n",
    "display(df.groupby(['height'])[['sales']].mean())\n",
    "display(df.groupby(['width'])[['sales']].mean())"
   ]
  },
  {
   "cell_type": "markdown",
   "id": "860e28a6",
   "metadata": {},
   "source": [
    "**3. Inputs**"
   ]
  },
  {
   "cell_type": "code",
   "execution_count": 4,
   "id": "9f2bf7d8",
   "metadata": {},
   "outputs": [],
   "source": [
    "y = sales\n",
    "x1 = height\n",
    "x2 = width\n",
    "factor_1 = 'height'\n",
    "factor_2 = 'width'"
   ]
  },
  {
   "cell_type": "markdown",
   "id": "9df655fa",
   "metadata": {},
   "source": [
    "**4.Generate Anova Table**"
   ]
  },
  {
   "cell_type": "code",
   "execution_count": 5,
   "id": "7f67b0fa",
   "metadata": {
    "scrolled": false
   },
   "outputs": [
    {
     "data": {
      "text/html": [
       "<div>\n",
       "<style scoped>\n",
       "    .dataframe tbody tr th:only-of-type {\n",
       "        vertical-align: middle;\n",
       "    }\n",
       "\n",
       "    .dataframe tbody tr th {\n",
       "        vertical-align: top;\n",
       "    }\n",
       "\n",
       "    .dataframe thead th {\n",
       "        text-align: right;\n",
       "    }\n",
       "</style>\n",
       "<table border=\"1\" class=\"dataframe\">\n",
       "  <thead>\n",
       "    <tr style=\"text-align: right;\">\n",
       "      <th></th>\n",
       "      <th>SS</th>\n",
       "      <th>df</th>\n",
       "      <th>Mean Square</th>\n",
       "      <th>F_statistic</th>\n",
       "      <th>F_critical</th>\n",
       "      <th>p_value</th>\n",
       "      <th>Decision</th>\n",
       "    </tr>\n",
       "    <tr>\n",
       "      <th>Source</th>\n",
       "      <th></th>\n",
       "      <th></th>\n",
       "      <th></th>\n",
       "      <th></th>\n",
       "      <th></th>\n",
       "      <th></th>\n",
       "      <th></th>\n",
       "    </tr>\n",
       "  </thead>\n",
       "  <tbody>\n",
       "    <tr>\n",
       "      <th>height</th>\n",
       "      <td>1544.0</td>\n",
       "      <td>2</td>\n",
       "      <td>772.0</td>\n",
       "      <td>74.709677</td>\n",
       "      <td>5.143253</td>\n",
       "      <td>0.000058</td>\n",
       "      <td>Reject Ho</td>\n",
       "    </tr>\n",
       "    <tr>\n",
       "      <th>width</th>\n",
       "      <td>12.0</td>\n",
       "      <td>1</td>\n",
       "      <td>12.0</td>\n",
       "      <td>1.16129</td>\n",
       "      <td>5.987378</td>\n",
       "      <td>0.322605</td>\n",
       "      <td>Fail Reject Ho</td>\n",
       "    </tr>\n",
       "    <tr>\n",
       "      <th>Interaction</th>\n",
       "      <td>24.0</td>\n",
       "      <td>2</td>\n",
       "      <td>12.0</td>\n",
       "      <td>1.16129</td>\n",
       "      <td>5.143253</td>\n",
       "      <td>0.374697</td>\n",
       "      <td>Fail Reject Ho</td>\n",
       "    </tr>\n",
       "    <tr>\n",
       "      <th>Error</th>\n",
       "      <td>62.0</td>\n",
       "      <td>6</td>\n",
       "      <td>10.333333</td>\n",
       "      <td></td>\n",
       "      <td></td>\n",
       "      <td></td>\n",
       "      <td></td>\n",
       "    </tr>\n",
       "    <tr>\n",
       "      <th>Total</th>\n",
       "      <td>1642.0</td>\n",
       "      <td>11</td>\n",
       "      <td></td>\n",
       "      <td></td>\n",
       "      <td></td>\n",
       "      <td></td>\n",
       "      <td></td>\n",
       "    </tr>\n",
       "  </tbody>\n",
       "</table>\n",
       "</div>"
      ],
      "text/plain": [
       "                 SS  df Mean Square F_statistic F_critical   p_value  \\\n",
       "Source                                                                 \n",
       "height       1544.0   2       772.0   74.709677   5.143253  0.000058   \n",
       "width          12.0   1        12.0     1.16129   5.987378  0.322605   \n",
       "Interaction    24.0   2        12.0     1.16129   5.143253  0.374697   \n",
       "Error          62.0   6   10.333333                                    \n",
       "Total        1642.0  11                                                \n",
       "\n",
       "                   Decision  \n",
       "Source                       \n",
       "height            Reject Ho  \n",
       "width        Fail Reject Ho  \n",
       "Interaction  Fail Reject Ho  \n",
       "Error                        \n",
       "Total                        "
      ]
     },
     "execution_count": 5,
     "metadata": {},
     "output_type": "execute_result"
    }
   ],
   "source": [
    "df = anv.get_anova_table(x1, x2,  y, alpha =0.05, names = [factor_1, factor_2])\n",
    "df"
   ]
  },
  {
   "cell_type": "markdown",
   "id": "826350bd",
   "metadata": {},
   "source": [
    "**5.Conclusions**"
   ]
  },
  {
   "cell_type": "markdown",
   "id": "97dfa6f3",
   "metadata": {},
   "source": [
    "We have convicing evidence that:\n",
    "\n",
    "- there is significant difference in mean sales due to shelves height but not due to width.\n",
    "- Width and Height interaction is not significant."
   ]
  }
 ],
 "metadata": {
  "kernelspec": {
   "display_name": "pymc_env",
   "language": "python",
   "name": "pymc_env"
  },
  "language_info": {
   "codemirror_mode": {
    "name": "ipython",
    "version": 3
   },
   "file_extension": ".py",
   "mimetype": "text/x-python",
   "name": "python",
   "nbconvert_exporter": "python",
   "pygments_lexer": "ipython3",
   "version": "3.10.5"
  }
 },
 "nbformat": 4,
 "nbformat_minor": 5
}
