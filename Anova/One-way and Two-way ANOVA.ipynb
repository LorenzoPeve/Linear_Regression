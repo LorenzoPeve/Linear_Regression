{
 "cells": [
  {
   "cell_type": "code",
   "execution_count": 1,
   "id": "f7e09353",
   "metadata": {},
   "outputs": [],
   "source": [
    "import anova_compute as anv"
   ]
  },
  {
   "cell_type": "code",
   "execution_count": 2,
   "id": "d85fb1c5",
   "metadata": {},
   "outputs": [
    {
     "data": {
      "text/html": [
       "<style>\n",
       ".output {\n",
       "    flex-direction: row;\n",
       "}\n",
       "</style>"
      ],
      "text/plain": [
       "<IPython.core.display.HTML object>"
      ]
     },
     "execution_count": 2,
     "metadata": {},
     "output_type": "execute_result"
    }
   ],
   "source": [
    "import os\n",
    "import pandas as pd\n",
    "import numpy as np\n",
    "from scipy.stats import f\n",
    "import matplotlib.pyplot as plt\n",
    "from IPython.display import display, HTML\n",
    "\n",
    "CSS = \"\"\"\n",
    ".output {\n",
    "    flex-direction: row;\n",
    "}\n",
    "\"\"\"\n",
    "\n",
    "HTML('<style>{}</style>'.format(CSS))"
   ]
  },
  {
   "cell_type": "markdown",
   "id": "0cc83863",
   "metadata": {},
   "source": [
    "# Problem 1: Treatment Effectiveness Score"
   ]
  },
  {
   "cell_type": "markdown",
   "id": "80809fdb",
   "metadata": {},
   "source": [
    "## Given Data"
   ]
  },
  {
   "cell_type": "code",
   "execution_count": 3,
   "id": "1343ac30",
   "metadata": {},
   "outputs": [],
   "source": [
    "treatment_1 = [8,9,6,8,5]\n",
    "treatment_2 = [5,4,7,6,6]\n",
    "treatment_3 = [9,3,2,4]\n",
    "treatment_number = np.array([1,1,1,1,1,2,2,2,2,2,3,3,3,3])\n",
    "scores = np.array([*treatment_1, *treatment_2, *treatment_3])"
   ]
  },
  {
   "cell_type": "markdown",
   "id": "0d34d6d2",
   "metadata": {},
   "source": [
    "Q1) <br>\n",
    "There are 3 different treatment groups and 14 individuals who are randomly assigned into the groups. The Table shows the effectiveness score of the treatment for each individual. Conduct a one--way ANOVA to test whether these 3 treatments are equally effective; i.e. test the hypothesis , where the  are the means for the three groups."
   ]
  },
  {
   "cell_type": "markdown",
   "id": "d311b7b7",
   "metadata": {},
   "source": [
    "(1) Calculate SSB"
   ]
  },
  {
   "cell_type": "code",
   "execution_count": 4,
   "id": "801621d3",
   "metadata": {},
   "outputs": [
    {
     "name": "stdout",
     "output_type": "stream",
     "text": [
      "16.714285714285715\n"
     ]
    }
   ],
   "source": [
    "SSB = anv.sum_squares_between(x = treatment_number, y = scores)\n",
    "print(SSB)"
   ]
  },
  {
   "cell_type": "markdown",
   "id": "72fec61c",
   "metadata": {},
   "source": [
    "(2) Calculate SSW"
   ]
  },
  {
   "cell_type": "code",
   "execution_count": 5,
   "id": "9419375c",
   "metadata": {},
   "outputs": [
    {
     "name": "stdout",
     "output_type": "stream",
     "text": [
      "45.0\n"
     ]
    }
   ],
   "source": [
    "SSW = anv.sum_squares_within_one_way(x = treatment_number, y = scores)\n",
    "print(SSW)"
   ]
  },
  {
   "cell_type": "markdown",
   "id": "ebc1045c",
   "metadata": {},
   "source": [
    "(3) Compute the F-test statistic."
   ]
  },
  {
   "cell_type": "code",
   "execution_count": 6,
   "id": "30bdcac5",
   "metadata": {},
   "outputs": [
    {
     "name": "stdout",
     "output_type": "stream",
     "text": [
      "F_2_11 statistic:  2.042857142857143\n"
     ]
    }
   ],
   "source": [
    "k = 3\n",
    "n = len(scores)\n",
    "test_stat_F = (np.mean(SSB)/(k-1)) / (np.mean(SSW)/(n-k))\n",
    "print('F_' + str(k-1) + '_' + str(n-k) + ' statistic: ',test_stat_F)"
   ]
  },
  {
   "cell_type": "markdown",
   "id": "4e604bae",
   "metadata": {},
   "source": [
    "(4) Find the p-value and state the conclusion of the test with alpha = 0.1 as the level of significance."
   ]
  },
  {
   "cell_type": "code",
   "execution_count": 7,
   "id": "8a8ef897",
   "metadata": {},
   "outputs": [
    {
     "name": "stdout",
     "output_type": "stream",
     "text": [
      "p_value:  0.17601409150114575\n"
     ]
    }
   ],
   "source": [
    "p_value = f.sf(test_stat_F, k-1, n-k)\n",
    "print('p_value: ', p_value)"
   ]
  },
  {
   "cell_type": "code",
   "execution_count": 8,
   "id": "b8f87be3",
   "metadata": {},
   "outputs": [
    {
     "name": "stdout",
     "output_type": "stream",
     "text": [
      "F statistic to reject (@ alpha=0.1):  2.8130810040649394\n"
     ]
    }
   ],
   "source": [
    "F_reject = f.isf(0.1, 1, 48, loc=0, scale=1)\n",
    "print('F statistic to reject (@ alpha=0.1): ', F_reject)"
   ]
  },
  {
   "cell_type": "code",
   "execution_count": 9,
   "id": "b5d169eb",
   "metadata": {},
   "outputs": [
    {
     "name": "stdout",
     "output_type": "stream",
     "text": [
      "We do not reject Ho\n"
     ]
    }
   ],
   "source": [
    "if test_stat_F > F_reject:\n",
    "    print('We reject Ho')\n",
    "else:\n",
    "    print('We do not reject Ho')"
   ]
  },
  {
   "cell_type": "markdown",
   "id": "393c2d55",
   "metadata": {},
   "source": [
    "# Example 2: Two-way ANOVA Table"
   ]
  },
  {
   "cell_type": "markdown",
   "id": "8953cbf4",
   "metadata": {},
   "source": [
    "We want to determine what impacts the variation in test scores\n",
    "- is it gender\n",
    "- is it the age group\n",
    "- Or both?\n",
    "We need a Two-way ANOVA test because we have two independent variables **age** and **gender**."
   ]
  },
  {
   "cell_type": "code",
   "execution_count": 10,
   "id": "abf6e78b",
   "metadata": {},
   "outputs": [
    {
     "data": {
      "text/html": [
       "<div>\n",
       "<style scoped>\n",
       "    .dataframe tbody tr th:only-of-type {\n",
       "        vertical-align: middle;\n",
       "    }\n",
       "\n",
       "    .dataframe tbody tr th {\n",
       "        vertical-align: top;\n",
       "    }\n",
       "\n",
       "    .dataframe thead th {\n",
       "        text-align: right;\n",
       "    }\n",
       "</style>\n",
       "<table border=\"1\" class=\"dataframe\">\n",
       "  <thead>\n",
       "    <tr style=\"text-align: right;\">\n",
       "      <th></th>\n",
       "      <th>gender</th>\n",
       "      <th>score</th>\n",
       "      <th>age</th>\n",
       "    </tr>\n",
       "  </thead>\n",
       "  <tbody>\n",
       "    <tr>\n",
       "      <th>0</th>\n",
       "      <td>boys</td>\n",
       "      <td>4</td>\n",
       "      <td>10</td>\n",
       "    </tr>\n",
       "    <tr>\n",
       "      <th>1</th>\n",
       "      <td>boys</td>\n",
       "      <td>6</td>\n",
       "      <td>10</td>\n",
       "    </tr>\n",
       "    <tr>\n",
       "      <th>2</th>\n",
       "      <td>boys</td>\n",
       "      <td>8</td>\n",
       "      <td>10</td>\n",
       "    </tr>\n",
       "    <tr>\n",
       "      <th>3</th>\n",
       "      <td>girls</td>\n",
       "      <td>4</td>\n",
       "      <td>10</td>\n",
       "    </tr>\n",
       "    <tr>\n",
       "      <th>4</th>\n",
       "      <td>girls</td>\n",
       "      <td>8</td>\n",
       "      <td>10</td>\n",
       "    </tr>\n",
       "    <tr>\n",
       "      <th>5</th>\n",
       "      <td>girls</td>\n",
       "      <td>9</td>\n",
       "      <td>10</td>\n",
       "    </tr>\n",
       "  </tbody>\n",
       "</table>\n",
       "</div>"
      ],
      "text/plain": [
       "  gender  score  age\n",
       "0   boys      4   10\n",
       "1   boys      6   10\n",
       "2   boys      8   10\n",
       "3  girls      4   10\n",
       "4  girls      8   10\n",
       "5  girls      9   10"
      ]
     },
     "metadata": {},
     "output_type": "display_data"
    },
    {
     "data": {
      "text/html": [
       "<div>\n",
       "<style scoped>\n",
       "    .dataframe tbody tr th:only-of-type {\n",
       "        vertical-align: middle;\n",
       "    }\n",
       "\n",
       "    .dataframe tbody tr th {\n",
       "        vertical-align: top;\n",
       "    }\n",
       "\n",
       "    .dataframe thead th {\n",
       "        text-align: right;\n",
       "    }\n",
       "</style>\n",
       "<table border=\"1\" class=\"dataframe\">\n",
       "  <thead>\n",
       "    <tr style=\"text-align: right;\">\n",
       "      <th></th>\n",
       "      <th></th>\n",
       "      <th>score</th>\n",
       "    </tr>\n",
       "    <tr>\n",
       "      <th>gender</th>\n",
       "      <th>age</th>\n",
       "      <th></th>\n",
       "    </tr>\n",
       "  </thead>\n",
       "  <tbody>\n",
       "    <tr>\n",
       "      <th rowspan=\"3\" valign=\"top\">boys</th>\n",
       "      <th>10</th>\n",
       "      <td>6.0</td>\n",
       "    </tr>\n",
       "    <tr>\n",
       "      <th>11</th>\n",
       "      <td>7.0</td>\n",
       "    </tr>\n",
       "    <tr>\n",
       "      <th>12</th>\n",
       "      <td>10.0</td>\n",
       "    </tr>\n",
       "    <tr>\n",
       "      <th rowspan=\"3\" valign=\"top\">girls</th>\n",
       "      <th>10</th>\n",
       "      <td>7.0</td>\n",
       "    </tr>\n",
       "    <tr>\n",
       "      <th>11</th>\n",
       "      <td>10.0</td>\n",
       "    </tr>\n",
       "    <tr>\n",
       "      <th>12</th>\n",
       "      <td>14.0</td>\n",
       "    </tr>\n",
       "  </tbody>\n",
       "</table>\n",
       "</div>"
      ],
      "text/plain": [
       "            score\n",
       "gender age       \n",
       "boys   10     6.0\n",
       "       11     7.0\n",
       "       12    10.0\n",
       "girls  10     7.0\n",
       "       11    10.0\n",
       "       12    14.0"
      ]
     },
     "metadata": {},
     "output_type": "display_data"
    },
    {
     "data": {
      "text/html": [
       "<div>\n",
       "<style scoped>\n",
       "    .dataframe tbody tr th:only-of-type {\n",
       "        vertical-align: middle;\n",
       "    }\n",
       "\n",
       "    .dataframe tbody tr th {\n",
       "        vertical-align: top;\n",
       "    }\n",
       "\n",
       "    .dataframe thead th {\n",
       "        text-align: right;\n",
       "    }\n",
       "</style>\n",
       "<table border=\"1\" class=\"dataframe\">\n",
       "  <thead>\n",
       "    <tr style=\"text-align: right;\">\n",
       "      <th></th>\n",
       "      <th>score</th>\n",
       "    </tr>\n",
       "    <tr>\n",
       "      <th>gender</th>\n",
       "      <th></th>\n",
       "    </tr>\n",
       "  </thead>\n",
       "  <tbody>\n",
       "    <tr>\n",
       "      <th>boys</th>\n",
       "      <td>7.666667</td>\n",
       "    </tr>\n",
       "    <tr>\n",
       "      <th>girls</th>\n",
       "      <td>10.333333</td>\n",
       "    </tr>\n",
       "  </tbody>\n",
       "</table>\n",
       "</div>"
      ],
      "text/plain": [
       "            score\n",
       "gender           \n",
       "boys     7.666667\n",
       "girls   10.333333"
      ]
     },
     "metadata": {},
     "output_type": "display_data"
    },
    {
     "data": {
      "text/html": [
       "<div>\n",
       "<style scoped>\n",
       "    .dataframe tbody tr th:only-of-type {\n",
       "        vertical-align: middle;\n",
       "    }\n",
       "\n",
       "    .dataframe tbody tr th {\n",
       "        vertical-align: top;\n",
       "    }\n",
       "\n",
       "    .dataframe thead th {\n",
       "        text-align: right;\n",
       "    }\n",
       "</style>\n",
       "<table border=\"1\" class=\"dataframe\">\n",
       "  <thead>\n",
       "    <tr style=\"text-align: right;\">\n",
       "      <th></th>\n",
       "      <th>score</th>\n",
       "    </tr>\n",
       "    <tr>\n",
       "      <th>age</th>\n",
       "      <th></th>\n",
       "    </tr>\n",
       "  </thead>\n",
       "  <tbody>\n",
       "    <tr>\n",
       "      <th>10</th>\n",
       "      <td>6.5</td>\n",
       "    </tr>\n",
       "    <tr>\n",
       "      <th>11</th>\n",
       "      <td>8.5</td>\n",
       "    </tr>\n",
       "    <tr>\n",
       "      <th>12</th>\n",
       "      <td>12.0</td>\n",
       "    </tr>\n",
       "  </tbody>\n",
       "</table>\n",
       "</div>"
      ],
      "text/plain": [
       "     score\n",
       "age       \n",
       "10     6.5\n",
       "11     8.5\n",
       "12    12.0"
      ]
     },
     "metadata": {},
     "output_type": "display_data"
    }
   ],
   "source": [
    "gender_vals = np.array([0,0,0,1,1,1,0,0,0,1,1,1,0,0,0,1,1,1])\n",
    "score_vals = np.array([4,6,8,4,8,9,6,6,9,7,10,13,8,9,13,12,14,16])\n",
    "age_vals = np.array([10,10,10,10,10,10,11,11,11,11,11,11,12,12,12,12,12,12])\n",
    "\n",
    "# Create Dataframe\n",
    "df = pd.DataFrame({'gender': gender_vals, 'score': score_vals, 'age': age_vals})\n",
    "df.replace({0:'boys', 1:'girls'}, inplace =True)\n",
    "\n",
    "# Display main dataframe and the different averages\n",
    "display(df.head(6))\n",
    "display(df.groupby(['gender','age']).mean())\n",
    "display(df.groupby(['gender'])[['score']].mean())\n",
    "display(df.groupby(['age'])[['score']].mean())"
   ]
  },
  {
   "cell_type": "markdown",
   "id": "2d17876d",
   "metadata": {},
   "source": [
    "       All Data                       Gender & Age                     Gender-only                Age-only"
   ]
  },
  {
   "cell_type": "markdown",
   "id": "adb8eb30",
   "metadata": {},
   "source": [
    "**Inputs**"
   ]
  },
  {
   "cell_type": "code",
   "execution_count": 11,
   "id": "237b2594",
   "metadata": {},
   "outputs": [],
   "source": [
    "y = score_vals\n",
    "x1 = gender_vals\n",
    "x2 = age_vals\n",
    "factor_1 = 'gender'\n",
    "factor_2 = 'age'\n",
    "alpha = 0.05"
   ]
  },
  {
   "cell_type": "markdown",
   "id": "38c39f7e",
   "metadata": {},
   "source": [
    "**Anova Table**"
   ]
  },
  {
   "cell_type": "code",
   "execution_count": 12,
   "id": "952761c6",
   "metadata": {
    "scrolled": false
   },
   "outputs": [
    {
     "data": {
      "text/html": [
       "<div>\n",
       "<style scoped>\n",
       "    .dataframe tbody tr th:only-of-type {\n",
       "        vertical-align: middle;\n",
       "    }\n",
       "\n",
       "    .dataframe tbody tr th {\n",
       "        vertical-align: top;\n",
       "    }\n",
       "\n",
       "    .dataframe thead th {\n",
       "        text-align: right;\n",
       "    }\n",
       "</style>\n",
       "<table border=\"1\" class=\"dataframe\">\n",
       "  <thead>\n",
       "    <tr style=\"text-align: right;\">\n",
       "      <th></th>\n",
       "      <th>SS</th>\n",
       "      <th>df</th>\n",
       "      <th>Mean Square</th>\n",
       "      <th>F_statistic</th>\n",
       "      <th>F_critical</th>\n",
       "      <th>p_value</th>\n",
       "      <th>Decision</th>\n",
       "    </tr>\n",
       "    <tr>\n",
       "      <th>Source</th>\n",
       "      <th></th>\n",
       "      <th></th>\n",
       "      <th></th>\n",
       "      <th></th>\n",
       "      <th></th>\n",
       "      <th></th>\n",
       "      <th></th>\n",
       "    </tr>\n",
       "  </thead>\n",
       "  <tbody>\n",
       "    <tr>\n",
       "      <th>age</th>\n",
       "      <td>93.0</td>\n",
       "      <td>2</td>\n",
       "      <td>46.5</td>\n",
       "      <td>8.205882</td>\n",
       "      <td>3.885294</td>\n",
       "      <td>0.005677</td>\n",
       "      <td>Reject Ho</td>\n",
       "    </tr>\n",
       "    <tr>\n",
       "      <th>gender</th>\n",
       "      <td>32.0</td>\n",
       "      <td>1</td>\n",
       "      <td>32.0</td>\n",
       "      <td>5.647059</td>\n",
       "      <td>4.747225</td>\n",
       "      <td>0.034994</td>\n",
       "      <td>Reject Ho</td>\n",
       "    </tr>\n",
       "    <tr>\n",
       "      <th>Interaction</th>\n",
       "      <td>7.0</td>\n",
       "      <td>2</td>\n",
       "      <td>3.5</td>\n",
       "      <td>0.617647</td>\n",
       "      <td>3.885294</td>\n",
       "      <td>0.555502</td>\n",
       "      <td>Fail Reject Ho</td>\n",
       "    </tr>\n",
       "    <tr>\n",
       "      <th>Error</th>\n",
       "      <td>68.0</td>\n",
       "      <td>12</td>\n",
       "      <td>5.666667</td>\n",
       "      <td></td>\n",
       "      <td></td>\n",
       "      <td></td>\n",
       "      <td></td>\n",
       "    </tr>\n",
       "    <tr>\n",
       "      <th>Total</th>\n",
       "      <td>200.0</td>\n",
       "      <td>17</td>\n",
       "      <td></td>\n",
       "      <td></td>\n",
       "      <td></td>\n",
       "      <td></td>\n",
       "      <td></td>\n",
       "    </tr>\n",
       "  </tbody>\n",
       "</table>\n",
       "</div>"
      ],
      "text/plain": [
       "                SS  df Mean Square F_statistic F_critical   p_value  \\\n",
       "Source                                                                \n",
       "age           93.0   2        46.5    8.205882   3.885294  0.005677   \n",
       "gender        32.0   1        32.0    5.647059   4.747225  0.034994   \n",
       "Interaction    7.0   2         3.5    0.617647   3.885294  0.555502   \n",
       "Error         68.0  12    5.666667                                    \n",
       "Total        200.0  17                                                \n",
       "\n",
       "                   Decision  \n",
       "Source                       \n",
       "age               Reject Ho  \n",
       "gender            Reject Ho  \n",
       "Interaction  Fail Reject Ho  \n",
       "Error                        \n",
       "Total                        "
      ]
     },
     "execution_count": 12,
     "metadata": {},
     "output_type": "execute_result"
    }
   ],
   "source": [
    "df = anv.get_anova_table(x1 = age_vals, x2 = gender_vals,  y = score_vals, alpha =0.05, \n",
    "                         names = ['age', 'gender'])\n",
    "df"
   ]
  },
  {
   "cell_type": "code",
   "execution_count": null,
   "id": "eea2ca42",
   "metadata": {},
   "outputs": [],
   "source": []
  }
 ],
 "metadata": {
  "kernelspec": {
   "display_name": "pymc_env",
   "language": "python",
   "name": "pymc_env"
  },
  "language_info": {
   "codemirror_mode": {
    "name": "ipython",
    "version": 3
   },
   "file_extension": ".py",
   "mimetype": "text/x-python",
   "name": "python",
   "nbconvert_exporter": "python",
   "pygments_lexer": "ipython3",
   "version": "3.10.5"
  }
 },
 "nbformat": 4,
 "nbformat_minor": 5
}
