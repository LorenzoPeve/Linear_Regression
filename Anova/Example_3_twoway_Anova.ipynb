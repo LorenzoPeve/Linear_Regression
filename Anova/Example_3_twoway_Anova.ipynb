{
 "cells": [
  {
   "cell_type": "markdown",
   "id": "bdef1489",
   "metadata": {},
   "source": [
    "## Testing Impact of Gender and Program of Study"
   ]
  },
  {
   "cell_type": "markdown",
   "id": "a078644a",
   "metadata": {},
   "source": [
    "80 college students, 40 males and 40 females, were randomly assigned into 2 study programs. The dataset \"scores.csv\" shows their final exam grades. <br>\n",
    "\n",
    "This notebook shows a two-way ANOVA test to study the effect of the study programs (factor A) and gender (factor B) on their grades."
   ]
  },
  {
   "cell_type": "markdown",
   "id": "fff72739",
   "metadata": {},
   "source": [
    "**1.Import External and Internal Modules**"
   ]
  },
  {
   "cell_type": "code",
   "execution_count": 1,
   "id": "f7e09353",
   "metadata": {},
   "outputs": [],
   "source": [
    "# External Modules\n",
    "import os\n",
    "import pandas as pd\n",
    "import numpy as np\n",
    "from scipy.stats import f\n",
    "\n",
    "#Internal Modules\n",
    "import anova_compute as anv"
   ]
  },
  {
   "cell_type": "markdown",
   "id": "a8fd672c",
   "metadata": {},
   "source": [
    "**2.Read Data**"
   ]
  },
  {
   "cell_type": "code",
   "execution_count": 2,
   "id": "dff688ca",
   "metadata": {
    "scrolled": true
   },
   "outputs": [
    {
     "name": "stdout",
     "output_type": "stream",
     "text": [
      "(80, 4)\n"
     ]
    },
    {
     "data": {
      "text/html": [
       "<div>\n",
       "<style scoped>\n",
       "    .dataframe tbody tr th:only-of-type {\n",
       "        vertical-align: middle;\n",
       "    }\n",
       "\n",
       "    .dataframe tbody tr th {\n",
       "        vertical-align: top;\n",
       "    }\n",
       "\n",
       "    .dataframe thead th {\n",
       "        text-align: right;\n",
       "    }\n",
       "</style>\n",
       "<table border=\"1\" class=\"dataframe\">\n",
       "  <thead>\n",
       "    <tr style=\"text-align: right;\">\n",
       "      <th></th>\n",
       "      <th>participant</th>\n",
       "      <th>program</th>\n",
       "      <th>gender</th>\n",
       "      <th>grade</th>\n",
       "    </tr>\n",
       "  </thead>\n",
       "  <tbody>\n",
       "    <tr>\n",
       "      <th>0</th>\n",
       "      <td>1</td>\n",
       "      <td>1</td>\n",
       "      <td>F</td>\n",
       "      <td>81.4</td>\n",
       "    </tr>\n",
       "    <tr>\n",
       "      <th>1</th>\n",
       "      <td>2</td>\n",
       "      <td>1</td>\n",
       "      <td>F</td>\n",
       "      <td>87.1</td>\n",
       "    </tr>\n",
       "    <tr>\n",
       "      <th>2</th>\n",
       "      <td>3</td>\n",
       "      <td>1</td>\n",
       "      <td>F</td>\n",
       "      <td>71.3</td>\n",
       "    </tr>\n",
       "    <tr>\n",
       "      <th>3</th>\n",
       "      <td>4</td>\n",
       "      <td>1</td>\n",
       "      <td>F</td>\n",
       "      <td>72.6</td>\n",
       "    </tr>\n",
       "    <tr>\n",
       "      <th>4</th>\n",
       "      <td>5</td>\n",
       "      <td>1</td>\n",
       "      <td>F</td>\n",
       "      <td>78.3</td>\n",
       "    </tr>\n",
       "  </tbody>\n",
       "</table>\n",
       "</div>"
      ],
      "text/plain": [
       "   participant  program gender  grade\n",
       "0            1        1      F   81.4\n",
       "1            2        1      F   87.1\n",
       "2            3        1      F   71.3\n",
       "3            4        1      F   72.6\n",
       "4            5        1      F   78.3"
      ]
     },
     "execution_count": 2,
     "metadata": {},
     "output_type": "execute_result"
    }
   ],
   "source": [
    "df = pd.read_csv( 'scores.csv')\n",
    "print(df.shape)\n",
    "df.head(5)"
   ]
  },
  {
   "cell_type": "markdown",
   "id": "7cdf3909",
   "metadata": {},
   "source": [
    "**3.Inputs**"
   ]
  },
  {
   "cell_type": "code",
   "execution_count": 3,
   "id": "11e9a8e9",
   "metadata": {},
   "outputs": [],
   "source": [
    "y = df['grade'].to_numpy()\n",
    "x1 = df['program'].to_numpy()\n",
    "x2 = df['gender'].to_numpy()\n",
    "factor_1 = 'program'\n",
    "factor_2 = 'gender'"
   ]
  },
  {
   "cell_type": "markdown",
   "id": "f8c94970",
   "metadata": {},
   "source": [
    "**4.Generate Anova Table**"
   ]
  },
  {
   "cell_type": "code",
   "execution_count": 4,
   "id": "27044a30",
   "metadata": {
    "scrolled": true
   },
   "outputs": [
    {
     "data": {
      "text/html": [
       "<div>\n",
       "<style scoped>\n",
       "    .dataframe tbody tr th:only-of-type {\n",
       "        vertical-align: middle;\n",
       "    }\n",
       "\n",
       "    .dataframe tbody tr th {\n",
       "        vertical-align: top;\n",
       "    }\n",
       "\n",
       "    .dataframe thead th {\n",
       "        text-align: right;\n",
       "    }\n",
       "</style>\n",
       "<table border=\"1\" class=\"dataframe\">\n",
       "  <thead>\n",
       "    <tr style=\"text-align: right;\">\n",
       "      <th></th>\n",
       "      <th>SS</th>\n",
       "      <th>df</th>\n",
       "      <th>Mean Square</th>\n",
       "      <th>F_statistic</th>\n",
       "      <th>F_critical</th>\n",
       "      <th>p_value</th>\n",
       "      <th>Decision</th>\n",
       "    </tr>\n",
       "    <tr>\n",
       "      <th>Source</th>\n",
       "      <th></th>\n",
       "      <th></th>\n",
       "      <th></th>\n",
       "      <th></th>\n",
       "      <th></th>\n",
       "      <th></th>\n",
       "      <th></th>\n",
       "    </tr>\n",
       "  </thead>\n",
       "  <tbody>\n",
       "    <tr>\n",
       "      <th>program</th>\n",
       "      <td>233.2445</td>\n",
       "      <td>1</td>\n",
       "      <td>233.2445</td>\n",
       "      <td>12.490422</td>\n",
       "      <td>3.96676</td>\n",
       "      <td>0.0007</td>\n",
       "      <td>Reject Ho</td>\n",
       "    </tr>\n",
       "    <tr>\n",
       "      <th>gender</th>\n",
       "      <td>38.9205</td>\n",
       "      <td>1</td>\n",
       "      <td>38.9205</td>\n",
       "      <td>2.084223</td>\n",
       "      <td>3.96676</td>\n",
       "      <td>0.152938</td>\n",
       "      <td>Fail Reject Ho</td>\n",
       "    </tr>\n",
       "    <tr>\n",
       "      <th>Interaction</th>\n",
       "      <td>5317.0605</td>\n",
       "      <td>1</td>\n",
       "      <td>5317.0605</td>\n",
       "      <td>284.732675</td>\n",
       "      <td>3.96676</td>\n",
       "      <td>0.0</td>\n",
       "      <td>Reject Ho</td>\n",
       "    </tr>\n",
       "    <tr>\n",
       "      <th>Error</th>\n",
       "      <td>1419.2140</td>\n",
       "      <td>76</td>\n",
       "      <td>18.673868</td>\n",
       "      <td></td>\n",
       "      <td></td>\n",
       "      <td></td>\n",
       "      <td></td>\n",
       "    </tr>\n",
       "    <tr>\n",
       "      <th>Total</th>\n",
       "      <td>7008.4395</td>\n",
       "      <td>79</td>\n",
       "      <td></td>\n",
       "      <td></td>\n",
       "      <td></td>\n",
       "      <td></td>\n",
       "      <td></td>\n",
       "    </tr>\n",
       "  </tbody>\n",
       "</table>\n",
       "</div>"
      ],
      "text/plain": [
       "                    SS  df Mean Square F_statistic F_critical   p_value  \\\n",
       "Source                                                                    \n",
       "program       233.2445   1    233.2445   12.490422    3.96676    0.0007   \n",
       "gender         38.9205   1     38.9205    2.084223    3.96676  0.152938   \n",
       "Interaction  5317.0605   1   5317.0605  284.732675    3.96676       0.0   \n",
       "Error        1419.2140  76   18.673868                                    \n",
       "Total        7008.4395  79                                                \n",
       "\n",
       "                   Decision  \n",
       "Source                       \n",
       "program           Reject Ho  \n",
       "gender       Fail Reject Ho  \n",
       "Interaction       Reject Ho  \n",
       "Error                        \n",
       "Total                        "
      ]
     },
     "execution_count": 4,
     "metadata": {},
     "output_type": "execute_result"
    }
   ],
   "source": [
    "df = anv.get_anova_table(x1, x2, y, alpha =0.05, names = [factor_1, factor_2])\n",
    "df"
   ]
  },
  {
   "cell_type": "markdown",
   "id": "46650dc6",
   "metadata": {},
   "source": [
    "**5.Conclusions**"
   ]
  },
  {
   "cell_type": "markdown",
   "id": "02c4c5e4",
   "metadata": {},
   "source": [
    "We have convicing evidence that:\n",
    "- there is significant difference in grades due to study programs.\n",
    "- Gender has no significant effect on grades.\n",
    "- There is significant interaction between factor A and factor B."
   ]
  },
  {
   "cell_type": "code",
   "execution_count": null,
   "id": "d3ac1baf",
   "metadata": {},
   "outputs": [],
   "source": []
  }
 ],
 "metadata": {
  "kernelspec": {
   "display_name": "pymc_env",
   "language": "python",
   "name": "pymc_env"
  },
  "language_info": {
   "codemirror_mode": {
    "name": "ipython",
    "version": 3
   },
   "file_extension": ".py",
   "mimetype": "text/x-python",
   "name": "python",
   "nbconvert_exporter": "python",
   "pygments_lexer": "ipython3",
   "version": "3.10.5"
  }
 },
 "nbformat": 4,
 "nbformat_minor": 5
}
