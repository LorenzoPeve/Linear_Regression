{
 "cells": [
  {
   "cell_type": "code",
   "execution_count": 1,
   "id": "a1731ed5",
   "metadata": {},
   "outputs": [],
   "source": [
    "import numpy as np\n",
    "import pandas as pd\n",
    "import os\n",
    "from sklearn.linear_model import LinearRegression\n",
    "from sklearn.preprocessing import StandardScaler\n",
    "from sklearn.decomposition import PCA\n",
    "import matplotlib.pyplot as plt                           # plotting\n",
    "import matplotlib.ticker as mtick\n",
    "cmap = plt.cm.inferno"
   ]
  },
  {
   "cell_type": "markdown",
   "id": "3774f990",
   "metadata": {},
   "source": [
    "## Step 1: Get Data"
   ]
  },
  {
   "cell_type": "code",
   "execution_count": 2,
   "id": "69792743",
   "metadata": {},
   "outputs": [],
   "source": [
    "x = np.array([2.5, 0.5, 2.2, 1.9, 3.1, 2.3, 2, 1 , 1.5, 1.1])\n",
    "y = np.array([2.4, 0.7, 2.9, 2.2, 3.0, 2.7, 1.6, 1.1, 1.6, 0.9])"
   ]
  },
  {
   "cell_type": "markdown",
   "id": "29fb2b84",
   "metadata": {},
   "source": [
    "## Step 2: Subtract the mean"
   ]
  },
  {
   "cell_type": "code",
   "execution_count": 3,
   "id": "35c58126",
   "metadata": {
    "scrolled": true
   },
   "outputs": [
    {
     "name": "stdout",
     "output_type": "stream",
     "text": [
      "x-bar: 1.81\n",
      "y-bar: 1.9100000000000001\n"
     ]
    }
   ],
   "source": [
    "x_bar = np.mean(x)\n",
    "y_bar = np.mean(y)\n",
    "print('x-bar:', x_bar)\n",
    "print('y-bar:', y_bar)\n",
    "x_zero_mean = x - x_bar\n",
    "y_zero_mean = y - y_bar"
   ]
  },
  {
   "cell_type": "markdown",
   "id": "6ef25484",
   "metadata": {},
   "source": [
    "## Step 3: Covariance Matrix"
   ]
  },
  {
   "cell_type": "markdown",
   "id": "df89f9b1",
   "metadata": {},
   "source": [
    "3.1 Numpy"
   ]
  },
  {
   "cell_type": "code",
   "execution_count": 4,
   "id": "683ca298",
   "metadata": {
    "scrolled": true
   },
   "outputs": [
    {
     "data": {
      "text/plain": [
       "array([[0.61655556, 0.61544444],\n",
       "       [0.61544444, 0.71655556]])"
      ]
     },
     "execution_count": 4,
     "metadata": {},
     "output_type": "execute_result"
    }
   ],
   "source": [
    "cov_matrix = np.cov(x,y)\n",
    "cov_matrix"
   ]
  },
  {
   "cell_type": "markdown",
   "id": "cb13d6ee",
   "metadata": {},
   "source": [
    "3.2 Numpy with mean-centered"
   ]
  },
  {
   "cell_type": "code",
   "execution_count": 5,
   "id": "1f266f7b",
   "metadata": {},
   "outputs": [
    {
     "data": {
      "text/plain": [
       "array([[0.61655556, 0.61544444],\n",
       "       [0.61544444, 0.71655556]])"
      ]
     },
     "execution_count": 5,
     "metadata": {},
     "output_type": "execute_result"
    }
   ],
   "source": [
    "cov_matrix = np.cov(x - x_bar, y - y_bar)\n",
    "cov_matrix"
   ]
  },
  {
   "cell_type": "markdown",
   "id": "82d76079",
   "metadata": {},
   "source": [
    "3.3 Checks by hand"
   ]
  },
  {
   "cell_type": "code",
   "execution_count": 6,
   "id": "749d5b4b",
   "metadata": {
    "scrolled": false
   },
   "outputs": [
    {
     "name": "stdout",
     "output_type": "stream",
     "text": [
      "0.6165555555555557\n",
      "0.7165555555555555\n",
      "0.6154444444444443\n"
     ]
    }
   ],
   "source": [
    "# ChecK Covariance Matrix\n",
    "print(np.std(x, ddof=1)**2) # STD to Variance\n",
    "print(np.std(y, ddof=1)**2) # STD to Variance\n",
    "\n",
    "n = len(x)\n",
    "cov_xy = (1/(n-1))* np.sum(  (x - np.mean(x))*(y - np.mean(y)))\n",
    "print(cov_xy)"
   ]
  },
  {
   "cell_type": "markdown",
   "id": "b5312d2f",
   "metadata": {},
   "source": [
    "3.4 linear Algebra"
   ]
  },
  {
   "cell_type": "code",
   "execution_count": 21,
   "id": "46fb824b",
   "metadata": {},
   "outputs": [
    {
     "data": {
      "text/plain": [
       "array([[ 0.69,  0.49],\n",
       "       [-1.31, -1.21],\n",
       "       [ 0.39,  0.99],\n",
       "       [ 0.09,  0.29],\n",
       "       [ 1.29,  1.09],\n",
       "       [ 0.49,  0.79],\n",
       "       [ 0.19, -0.31],\n",
       "       [-0.81, -0.81],\n",
       "       [-0.31, -0.31],\n",
       "       [-0.71, -1.01]])"
      ]
     },
     "execution_count": 21,
     "metadata": {},
     "output_type": "execute_result"
    }
   ],
   "source": [
    "# Is (X' X)^-1 the covariance Matrix\n",
    "X = np.hstack([(x - np.mean(x)).reshape(-1,1) ,(y - np.mean(y)).reshape(-1,1)])\n",
    "X"
   ]
  },
  {
   "cell_type": "code",
   "execution_count": 23,
   "id": "dd0b4ac4",
   "metadata": {
    "scrolled": true
   },
   "outputs": [
    {
     "data": {
      "text/plain": [
       "array([[0.61655556, 0.61544444],\n",
       "       [0.61544444, 0.71655556]])"
      ]
     },
     "execution_count": 23,
     "metadata": {},
     "output_type": "execute_result"
    }
   ],
   "source": [
    "(1/(n-1)) * np.matmul(X.T, X)"
   ]
  },
  {
   "cell_type": "markdown",
   "id": "0c67e2ec",
   "metadata": {},
   "source": [
    "## Step 4: Calculate the eigenvectors and eigenvalues of the covariance matrix"
   ]
  },
  {
   "cell_type": "code",
   "execution_count": 14,
   "id": "7f735994",
   "metadata": {},
   "outputs": [
    {
     "name": "stdout",
     "output_type": "stream",
     "text": [
      "[0.0490834  1.28402771]\n",
      "\n",
      "\n",
      "[[-0.73517866 -0.6778734 ]\n",
      " [ 0.6778734  -0.73517866]]\n"
     ]
    }
   ],
   "source": [
    "eigenvalues, eigenvectors = np.linalg.eig(cov_matrix)\n",
    "print(eigenvalues)\n",
    "print('\\n')\n",
    "print(eigenvectors) # Recall if Matrix has eigenvectors it has N vectors. 2x2 so N=2"
   ]
  },
  {
   "cell_type": "markdown",
   "id": "791c7e83",
   "metadata": {},
   "source": [
    "## Step 5: Choosing components and forming a feature vecto"
   ]
  },
  {
   "cell_type": "markdown",
   "id": "83446623",
   "metadata": {},
   "source": [
    "Let's pick two to show recreating the data"
   ]
  },
  {
   "cell_type": "code",
   "execution_count": 29,
   "id": "c642a8be",
   "metadata": {},
   "outputs": [
    {
     "data": {
      "text/plain": [
       "(2, 10)"
      ]
     },
     "execution_count": 29,
     "metadata": {},
     "output_type": "execute_result"
    }
   ],
   "source": [
    "data = np.vstack([x_zero_mean,y_zero_mean])\n",
    "data.shape"
   ]
  },
  {
   "cell_type": "code",
   "execution_count": 30,
   "id": "0695c003",
   "metadata": {},
   "outputs": [
    {
     "name": "stdout",
     "output_type": "stream",
     "text": [
      "(2, 10)\n"
     ]
    },
    {
     "data": {
      "text/plain": [
       "array([[-0.17511531,  0.14285723,  0.38437499,  0.13041721, -0.20949846,\n",
       "         0.17528244, -0.3498247 ,  0.04641726,  0.01776463, -0.16267529],\n",
       "       [-0.82797019,  1.77758033, -0.99219749, -0.27421042, -1.67580142,\n",
       "        -0.9129491 ,  0.09910944,  1.14457216,  0.43804614,  1.22382056]])"
      ]
     },
     "execution_count": 30,
     "metadata": {},
     "output_type": "execute_result"
    }
   ],
   "source": [
    "transformdata = np.matmul(eigenvectors.T, data)\n",
    "print(transformdata.shape)\n",
    "transformdata"
   ]
  },
  {
   "cell_type": "markdown",
   "id": "7ff5ba67",
   "metadata": {},
   "source": [
    "Back to original Data"
   ]
  },
  {
   "cell_type": "code",
   "execution_count": 34,
   "id": "9a7c8f06",
   "metadata": {},
   "outputs": [
    {
     "data": {
      "text/plain": [
       "array([[2.5, 2.4],\n",
       "       [0.5, 0.7],\n",
       "       [2.2, 2.9],\n",
       "       [1.9, 2.2],\n",
       "       [3.1, 3. ],\n",
       "       [2.3, 2.7],\n",
       "       [2. , 1.6],\n",
       "       [1. , 1.1],\n",
       "       [1.5, 1.6],\n",
       "       [1.1, 0.9]])"
      ]
     },
     "execution_count": 34,
     "metadata": {},
     "output_type": "execute_result"
    }
   ],
   "source": [
    "data_Original_recovered = np.matmul(eigenvectors, transformdata)\n",
    "data_Original_recovered = data_Original_recovered.T + [x_bar, y_bar]\n",
    "data_Original_recovered"
   ]
  },
  {
   "cell_type": "code",
   "execution_count": 35,
   "id": "2f1094b8",
   "metadata": {},
   "outputs": [
    {
     "data": {
      "text/plain": [
       "array([ 0.00000000e+00,  2.22044605e-16,  0.00000000e+00,  0.00000000e+00,\n",
       "       -4.44089210e-16,  0.00000000e+00,  0.00000000e+00,  0.00000000e+00,\n",
       "        0.00000000e+00,  0.00000000e+00])"
      ]
     },
     "execution_count": 35,
     "metadata": {},
     "output_type": "execute_result"
    }
   ],
   "source": [
    "data_Original_recovered[:,0] - x"
   ]
  },
  {
   "cell_type": "code",
   "execution_count": 37,
   "id": "4d56187f",
   "metadata": {},
   "outputs": [
    {
     "data": {
      "text/plain": [
       "array([ 0.00000000e+00,  2.22044605e-16, -4.44089210e-16,  0.00000000e+00,\n",
       "        0.00000000e+00,  0.00000000e+00,  0.00000000e+00,  0.00000000e+00,\n",
       "        0.00000000e+00,  1.11022302e-16])"
      ]
     },
     "execution_count": 37,
     "metadata": {},
     "output_type": "execute_result"
    }
   ],
   "source": [
    "data_Original_recovered[:,1] - y"
   ]
  },
  {
   "cell_type": "code",
   "execution_count": null,
   "id": "7103f146",
   "metadata": {},
   "outputs": [],
   "source": []
  },
  {
   "cell_type": "markdown",
   "id": "04bee1f5",
   "metadata": {},
   "source": [
    "# Scikit Learn"
   ]
  },
  {
   "cell_type": "code",
   "execution_count": 48,
   "id": "26ad5d78",
   "metadata": {},
   "outputs": [
    {
     "data": {
      "text/plain": [
       "array([[2.5, 2.4],\n",
       "       [0.5, 0.7],\n",
       "       [2.2, 2.9],\n",
       "       [1.9, 2.2],\n",
       "       [3.1, 3. ],\n",
       "       [2.3, 2.7],\n",
       "       [2. , 1.6],\n",
       "       [1. , 1.1],\n",
       "       [1.5, 1.6],\n",
       "       [1.1, 0.9]])"
      ]
     },
     "execution_count": 48,
     "metadata": {},
     "output_type": "execute_result"
    }
   ],
   "source": [
    "x = np.array([2.5, 0.5, 2.2, 1.9, 3.1, 2.3, 2, 1 , 1.5, 1.1]).reshape(-1,1)\n",
    "y = np.array([2.4, 0.7, 2.9, 2.2, 3.0, 2.7, 1.6, 1.1, 1.6, 0.9]).reshape(-1,1)\n",
    "data = np.hstack([x,y])\n",
    "data"
   ]
  },
  {
   "cell_type": "code",
   "execution_count": 68,
   "id": "00200944",
   "metadata": {},
   "outputs": [
    {
     "data": {
      "text/plain": [
       "array([[ 0.69,  0.49],\n",
       "       [-1.31, -1.21],\n",
       "       [ 0.39,  0.99],\n",
       "       [ 0.09,  0.29],\n",
       "       [ 1.29,  1.09],\n",
       "       [ 0.49,  0.79],\n",
       "       [ 0.19, -0.31],\n",
       "       [-0.81, -0.81],\n",
       "       [-0.31, -0.31],\n",
       "       [-0.71, -1.01]])"
      ]
     },
     "execution_count": 68,
     "metadata": {},
     "output_type": "execute_result"
    }
   ],
   "source": [
    "X_scaled = data -  [np.mean(data[:,0]) , np.mean(data[:,1]) ]\n",
    "X_scaled"
   ]
  },
  {
   "cell_type": "markdown",
   "id": "d6e3d6e8",
   "metadata": {},
   "source": [
    "Principal component analysis (PCA)"
   ]
  },
  {
   "cell_type": "code",
   "execution_count": 74,
   "id": "6712cb45",
   "metadata": {},
   "outputs": [],
   "source": [
    "pca = PCA(n_components=2)\n",
    "X_pca = pca.fit_transform(X_scaled)"
   ]
  },
  {
   "cell_type": "code",
   "execution_count": 75,
   "id": "9480a951",
   "metadata": {},
   "outputs": [
    {
     "data": {
      "text/plain": [
       "(10, 2)"
      ]
     },
     "execution_count": 75,
     "metadata": {},
     "output_type": "execute_result"
    }
   ],
   "source": [
    "X_pca.shape"
   ]
  },
  {
   "cell_type": "code",
   "execution_count": 76,
   "id": "d540b576",
   "metadata": {},
   "outputs": [
    {
     "data": {
      "text/plain": [
       "array([[-0.82797019, -0.17511531],\n",
       "       [ 1.77758033,  0.14285723],\n",
       "       [-0.99219749,  0.38437499],\n",
       "       [-0.27421042,  0.13041721],\n",
       "       [-1.67580142, -0.20949846],\n",
       "       [-0.9129491 ,  0.17528244],\n",
       "       [ 0.09910944, -0.3498247 ],\n",
       "       [ 1.14457216,  0.04641726],\n",
       "       [ 0.43804614,  0.01776463],\n",
       "       [ 1.22382056, -0.16267529]])"
      ]
     },
     "execution_count": 76,
     "metadata": {},
     "output_type": "execute_result"
    }
   ],
   "source": [
    "X_pca"
   ]
  },
  {
   "cell_type": "code",
   "execution_count": 61,
   "id": "a155e337",
   "metadata": {},
   "outputs": [
    {
     "data": {
      "text/plain": [
       "array([[ 0.92627881,  0.61016865],\n",
       "       [-1.7585873 , -1.506743  ],\n",
       "       [ 0.52354889,  1.23278973],\n",
       "       [ 0.12081898,  0.36112022],\n",
       "       [ 1.73173864,  1.35731394],\n",
       "       [ 0.6577922 ,  0.9837413 ],\n",
       "       [ 0.25506228, -0.38602507],\n",
       "       [-1.08737078, -1.00864614],\n",
       "       [-0.41615425, -0.38602507],\n",
       "       [-0.95312747, -1.25769457]])"
      ]
     },
     "execution_count": 61,
     "metadata": {},
     "output_type": "execute_result"
    }
   ],
   "source": [
    "x_reverse = pca.inverse_transform(X_pca) \n",
    "x_reverse"
   ]
  },
  {
   "cell_type": "code",
   "execution_count": 62,
   "id": "39ba3d26",
   "metadata": {},
   "outputs": [
    {
     "data": {
      "text/plain": [
       "array([[2.5, 2.4],\n",
       "       [0.5, 0.7],\n",
       "       [2.2, 2.9],\n",
       "       [1.9, 2.2],\n",
       "       [3.1, 3. ],\n",
       "       [2.3, 2.7],\n",
       "       [2. , 1.6],\n",
       "       [1. , 1.1],\n",
       "       [1.5, 1.6],\n",
       "       [1.1, 0.9]])"
      ]
     },
     "execution_count": 62,
     "metadata": {},
     "output_type": "execute_result"
    }
   ],
   "source": [
    "scaler.inverse_transform(x_reverse)"
   ]
  },
  {
   "cell_type": "code",
   "execution_count": 89,
   "id": "bf364a98",
   "metadata": {},
   "outputs": [],
   "source": [
    "def plot_corr(dataframe,size=10):                         # plots a graphical correlation matrix \n",
    "    from matplotlib.colors import ListedColormap          # make a custom colormap\n",
    "    my_colormap = plt.cm.get_cmap('RdBu_r', 256)          \n",
    "    newcolors = my_colormap(np.linspace(0, 1, 256))\n",
    "    white = np.array([256/256, 256/256, 256/256, 1])\n",
    "    newcolors[65:191, :] = white                          # mask all correlations less than abs(0.8)\n",
    "    newcmp = ListedColormap(newcolors)\n",
    "    corr = dataframe.corr()\n",
    "    fig, ax = plt.subplots(figsize=(size, size))\n",
    "    im = ax.matshow(corr,vmin = -1.0, vmax = 1.0,cmap = newcmp)\n",
    "    plt.xticks(range(len(corr.columns)), corr.columns);\n",
    "    plt.yticks(range(len(corr.columns)), corr.columns);\n",
    "    plt.colorbar(im, orientation = 'vertical')\n",
    "    plt.title('Correlation Matrix')"
   ]
  },
  {
   "cell_type": "code",
   "execution_count": null,
   "id": "216f4197",
   "metadata": {},
   "outputs": [],
   "source": []
  },
  {
   "cell_type": "code",
   "execution_count": null,
   "id": "f29771d8",
   "metadata": {},
   "outputs": [],
   "source": []
  },
  {
   "cell_type": "markdown",
   "id": "4846589f",
   "metadata": {},
   "source": [
    "**Read Data**"
   ]
  },
  {
   "cell_type": "code",
   "execution_count": 42,
   "id": "9032725e",
   "metadata": {},
   "outputs": [
    {
     "name": "stdout",
     "output_type": "stream",
     "text": [
      "(200, 6)\n"
     ]
    },
    {
     "data": {
      "text/html": [
       "<div>\n",
       "<style scoped>\n",
       "    .dataframe tbody tr th:only-of-type {\n",
       "        vertical-align: middle;\n",
       "    }\n",
       "\n",
       "    .dataframe tbody tr th {\n",
       "        vertical-align: top;\n",
       "    }\n",
       "\n",
       "    .dataframe thead th {\n",
       "        text-align: right;\n",
       "    }\n",
       "</style>\n",
       "<table border=\"1\" class=\"dataframe\">\n",
       "  <thead>\n",
       "    <tr style=\"text-align: right;\">\n",
       "      <th></th>\n",
       "      <th>y</th>\n",
       "      <th>x1</th>\n",
       "      <th>x2</th>\n",
       "      <th>x3</th>\n",
       "      <th>x4</th>\n",
       "      <th>x5</th>\n",
       "    </tr>\n",
       "  </thead>\n",
       "  <tbody>\n",
       "    <tr>\n",
       "      <th>0</th>\n",
       "      <td>1.764742</td>\n",
       "      <td>0.925627</td>\n",
       "      <td>1.204426</td>\n",
       "      <td>0.949487</td>\n",
       "      <td>0.921375</td>\n",
       "      <td>0.958830</td>\n",
       "    </tr>\n",
       "    <tr>\n",
       "      <th>1</th>\n",
       "      <td>3.209386</td>\n",
       "      <td>0.459292</td>\n",
       "      <td>1.420216</td>\n",
       "      <td>-0.311133</td>\n",
       "      <td>0.967812</td>\n",
       "      <td>1.251093</td>\n",
       "    </tr>\n",
       "    <tr>\n",
       "      <th>2</th>\n",
       "      <td>-1.393265</td>\n",
       "      <td>0.844528</td>\n",
       "      <td>-0.634767</td>\n",
       "      <td>0.971616</td>\n",
       "      <td>0.020121</td>\n",
       "      <td>-0.224823</td>\n",
       "    </tr>\n",
       "    <tr>\n",
       "      <th>3</th>\n",
       "      <td>3.289348</td>\n",
       "      <td>0.946019</td>\n",
       "      <td>0.641351</td>\n",
       "      <td>1.069610</td>\n",
       "      <td>0.717315</td>\n",
       "      <td>0.612031</td>\n",
       "    </tr>\n",
       "    <tr>\n",
       "      <th>4</th>\n",
       "      <td>2.728297</td>\n",
       "      <td>0.024489</td>\n",
       "      <td>1.213368</td>\n",
       "      <td>0.261710</td>\n",
       "      <td>0.681006</td>\n",
       "      <td>0.864209</td>\n",
       "    </tr>\n",
       "  </tbody>\n",
       "</table>\n",
       "</div>"
      ],
      "text/plain": [
       "          y        x1        x2        x3        x4        x5\n",
       "0  1.764742  0.925627  1.204426  0.949487  0.921375  0.958830\n",
       "1  3.209386  0.459292  1.420216 -0.311133  0.967812  1.251093\n",
       "2 -1.393265  0.844528 -0.634767  0.971616  0.020121 -0.224823\n",
       "3  3.289348  0.946019  0.641351  1.069610  0.717315  0.612031\n",
       "4  2.728297  0.024489  1.213368  0.261710  0.681006  0.864209"
      ]
     },
     "execution_count": 42,
     "metadata": {},
     "output_type": "execute_result"
    }
   ],
   "source": [
    "df = pd.read_csv('w5.csv')\n",
    "print(df.shape)\n",
    "df.head()"
   ]
  },
  {
   "cell_type": "code",
   "execution_count": 43,
   "id": "b51e8a80",
   "metadata": {},
   "outputs": [],
   "source": [
    "X = df.iloc[:,1:].to_numpy()\n",
    "y = df.iloc[:,0].to_numpy()"
   ]
  },
  {
   "cell_type": "markdown",
   "id": "0178a2b1",
   "metadata": {},
   "source": [
    "**Feature Vector & Data Transform**"
   ]
  },
  {
   "cell_type": "markdown",
   "id": "25b6f62b",
   "metadata": {},
   "source": [
    "Each row is a component, top row is the first principal component (PC1). \n",
    "\n",
    "The columns are the features ordered from x1 through x5"
   ]
  },
  {
   "cell_type": "code",
   "execution_count": 44,
   "id": "17aaee7f",
   "metadata": {},
   "outputs": [
    {
     "name": "stdout",
     "output_type": "stream",
     "text": [
      "[[-0.005  0.758 -0.021  0.377  0.531]\n",
      " [ 0.568 -0.035  0.81   0.143 -0.013]\n",
      " [ 0.781 -0.094 -0.586  0.195 -0.02 ]\n",
      " [ 0.095 -0.353  0.009 -0.442  0.819]\n",
      " [ 0.243  0.539 -0.014 -0.777 -0.215]]\n"
     ]
    }
   ],
   "source": [
    "pca_f5 = PCA(n_components=5)\n",
    "X_pca = pca_f5.fit_transform(X)\n",
    "print(np.round(pca_f5.components_,3))    "
   ]
  },
  {
   "cell_type": "markdown",
   "id": "b6302f54",
   "metadata": {},
   "source": [
    "**Explained Variance Vector**"
   ]
  },
  {
   "cell_type": "code",
   "execution_count": 45,
   "id": "b42c87ac",
   "metadata": {},
   "outputs": [
    {
     "name": "stdout",
     "output_type": "stream",
     "text": [
      "Variance explained by PC1 thru PC5 = [0.884 0.088 0.023 0.003 0.001]\n"
     ]
    }
   ],
   "source": [
    "print('Variance explained by PC1 thru PC5 =', np.round(pca_f5.explained_variance_ratio_,3))"
   ]
  },
  {
   "cell_type": "code",
   "execution_count": 28,
   "id": "8a79e521",
   "metadata": {},
   "outputs": [
    {
     "data": {
      "image/png": "[encoded data removed]",
      "text/plain": [
       "<Figure size 1080x432 with 2 Axes>"
      ]
     },
     "metadata": {
      "needs_background": "light"
     },
     "output_type": "display_data"
    }
   ],
   "source": [
    "f, (ax10, ax11) = plt.subplots(1, 2,figsize=(15,6))\n",
    "f.subplots_adjust(wspace=0.5,hspace = 0.3)\n",
    "\n",
    "ax10.plot(np.arange(1,6,1),pca_f5.explained_variance_ratio_*100,color='blue',alpha=0.4)\n",
    "ax10.scatter(np.arange(1,6,1),pca_f5.explained_variance_ratio_*100,color='blue',alpha=0.4,edgecolor='black')\n",
    "ax10.set_xlabel('PC #'); ax10.set_ylabel('Variance Explained'); ax10.set_title('Variance Explained by each PC')\n",
    "fmt = '%.0f%%' # Format you want the ticks, e.g. '40%'\n",
    "yticks = mtick.FormatStrFormatter(fmt); ax10.set_xlim(1,6); ax10.set_ylim(0,100.0)\n",
    "ax10.yaxis.set_major_formatter(yticks)\n",
    "\n",
    "ax11.plot(np.arange(1,6,1),np.cumsum(pca_f5.explained_variance_ratio_*100),color='blue',alpha=0.4)\n",
    "ax11.scatter(np.arange(1,6,1),np.cumsum(pca_f5.explained_variance_ratio_*100),color='blue',alpha=0.4,edgecolor='black')\n",
    "ax11.plot([1,6],[95,95], color='red',linestyle='dashed')\n",
    "ax11.set_xlabel('PC #'); ax11.set_ylabel('Cum. Variance Explained'); ax11.set_title('Cum. Variance Explained by each PC')\n",
    "fmt = '%.0f%%' # Format you want the ticks, e.g. '40%'\n",
    "yticks = mtick.FormatStrFormatter(fmt); ax11.set_xlim(1,6); ax11.set_ylim(0,100.0); ax11.annotate('95% variance explained',[4.05,90])\n",
    "ax11.yaxis.set_major_formatter(yticks)\n",
    "\n",
    "# plt.show()"
   ]
  },
  {
   "cell_type": "markdown",
   "id": "2dd0df24",
   "metadata": {},
   "source": [
    "**Transform Original Data**"
   ]
  },
  {
   "cell_type": "code",
   "execution_count": 47,
   "id": "f4556c2a",
   "metadata": {},
   "outputs": [
    {
     "data": {
      "text/plain": [
       "(200, 5)"
      ]
     },
     "execution_count": 47,
     "metadata": {},
     "output_type": "execute_result"
    }
   ],
   "source": [
    "X.shape"
   ]
  },
  {
   "cell_type": "code",
   "execution_count": 48,
   "id": "6622c7ff",
   "metadata": {},
   "outputs": [
    {
     "data": {
      "text/plain": [
       "(5, 200)"
      ]
     },
     "execution_count": 48,
     "metadata": {},
     "output_type": "execute_result"
    }
   ],
   "source": [
    "transformdata = np.matmul(pca_f5.components_ , X.T)  # Each row is an eigenvector and each row in X is a feature\n",
    "transformdata.shape "
   ]
  },
  {
   "cell_type": "code",
   "execution_count": 39,
   "id": "bb643b24",
   "metadata": {},
   "outputs": [
    {
     "data": {
      "text/plain": [
       "array([[ 0.2482993 ,  0.62846696,  0.22517354,  0.06669033, -0.11059478],\n",
       "       [ 0.2482993 ,  0.62846696,  0.22517354,  0.06669033, -0.11059478],\n",
       "       [ 0.2482993 ,  0.62846696,  0.22517354,  0.06669033, -0.11059478],\n",
       "       [ 0.2482993 ,  0.62846696,  0.22517354,  0.06669033, -0.11059478],\n",
       "       [ 0.2482993 ,  0.62846696,  0.22517354,  0.06669033, -0.11059478],\n",
       "       [ 0.2482993 ,  0.62846696,  0.22517354,  0.06669033, -0.11059478],\n",
       "       [ 0.2482993 ,  0.62846696,  0.22517354,  0.06669033, -0.11059478],\n",
       "       [ 0.2482993 ,  0.62846696,  0.22517354,  0.06669033, -0.11059478],\n",
       "       [ 0.2482993 ,  0.62846696,  0.22517354,  0.06669033, -0.11059478],\n",
       "       [ 0.2482993 ,  0.62846696,  0.22517354,  0.06669033, -0.11059478],\n",
       "       [ 0.2482993 ,  0.62846696,  0.22517354,  0.06669033, -0.11059478],\n",
       "       [ 0.2482993 ,  0.62846696,  0.22517354,  0.06669033, -0.11059478],\n",
       "       [ 0.2482993 ,  0.62846696,  0.22517354,  0.06669033, -0.11059478],\n",
       "       [ 0.2482993 ,  0.62846696,  0.22517354,  0.06669033, -0.11059478],\n",
       "       [ 0.2482993 ,  0.62846696,  0.22517354,  0.06669033, -0.11059478],\n",
       "       [ 0.2482993 ,  0.62846696,  0.22517354,  0.06669033, -0.11059478],\n",
       "       [ 0.2482993 ,  0.62846696,  0.22517354,  0.06669033, -0.11059478],\n",
       "       [ 0.2482993 ,  0.62846696,  0.22517354,  0.06669033, -0.11059478],\n",
       "       [ 0.2482993 ,  0.62846696,  0.22517354,  0.06669033, -0.11059478],\n",
       "       [ 0.2482993 ,  0.62846696,  0.22517354,  0.06669033, -0.11059478],\n",
       "       [ 0.2482993 ,  0.62846696,  0.22517354,  0.06669033, -0.11059478],\n",
       "       [ 0.2482993 ,  0.62846696,  0.22517354,  0.06669033, -0.11059478],\n",
       "       [ 0.2482993 ,  0.62846696,  0.22517354,  0.06669033, -0.11059478],\n",
       "       [ 0.2482993 ,  0.62846696,  0.22517354,  0.06669033, -0.11059478],\n",
       "       [ 0.2482993 ,  0.62846696,  0.22517354,  0.06669033, -0.11059478],\n",
       "       [ 0.2482993 ,  0.62846696,  0.22517354,  0.06669033, -0.11059478],\n",
       "       [ 0.2482993 ,  0.62846696,  0.22517354,  0.06669033, -0.11059478],\n",
       "       [ 0.2482993 ,  0.62846696,  0.22517354,  0.06669033, -0.11059478],\n",
       "       [ 0.2482993 ,  0.62846696,  0.22517354,  0.06669033, -0.11059478],\n",
       "       [ 0.2482993 ,  0.62846696,  0.22517354,  0.06669033, -0.11059478],\n",
       "       [ 0.2482993 ,  0.62846696,  0.22517354,  0.06669033, -0.11059478],\n",
       "       [ 0.2482993 ,  0.62846696,  0.22517354,  0.06669033, -0.11059478],\n",
       "       [ 0.2482993 ,  0.62846696,  0.22517354,  0.06669033, -0.11059478],\n",
       "       [ 0.2482993 ,  0.62846696,  0.22517354,  0.06669033, -0.11059478],\n",
       "       [ 0.2482993 ,  0.62846696,  0.22517354,  0.06669033, -0.11059478],\n",
       "       [ 0.2482993 ,  0.62846696,  0.22517354,  0.06669033, -0.11059478],\n",
       "       [ 0.2482993 ,  0.62846696,  0.22517354,  0.06669033, -0.11059478],\n",
       "       [ 0.2482993 ,  0.62846696,  0.22517354,  0.06669033, -0.11059478],\n",
       "       [ 0.2482993 ,  0.62846696,  0.22517354,  0.06669033, -0.11059478],\n",
       "       [ 0.2482993 ,  0.62846696,  0.22517354,  0.06669033, -0.11059478],\n",
       "       [ 0.2482993 ,  0.62846696,  0.22517354,  0.06669033, -0.11059478],\n",
       "       [ 0.2482993 ,  0.62846696,  0.22517354,  0.06669033, -0.11059478],\n",
       "       [ 0.2482993 ,  0.62846696,  0.22517354,  0.06669033, -0.11059478],\n",
       "       [ 0.2482993 ,  0.62846696,  0.22517354,  0.06669033, -0.11059478],\n",
       "       [ 0.2482993 ,  0.62846696,  0.22517354,  0.06669033, -0.11059478],\n",
       "       [ 0.2482993 ,  0.62846696,  0.22517354,  0.06669033, -0.11059478],\n",
       "       [ 0.2482993 ,  0.62846696,  0.22517354,  0.06669033, -0.11059478],\n",
       "       [ 0.2482993 ,  0.62846696,  0.22517354,  0.06669033, -0.11059478],\n",
       "       [ 0.2482993 ,  0.62846696,  0.22517354,  0.06669033, -0.11059478],\n",
       "       [ 0.2482993 ,  0.62846696,  0.22517354,  0.06669033, -0.11059478],\n",
       "       [ 0.2482993 ,  0.62846696,  0.22517354,  0.06669033, -0.11059478],\n",
       "       [ 0.2482993 ,  0.62846696,  0.22517354,  0.06669033, -0.11059478],\n",
       "       [ 0.2482993 ,  0.62846696,  0.22517354,  0.06669033, -0.11059478],\n",
       "       [ 0.2482993 ,  0.62846696,  0.22517354,  0.06669033, -0.11059478],\n",
       "       [ 0.2482993 ,  0.62846696,  0.22517354,  0.06669033, -0.11059478],\n",
       "       [ 0.2482993 ,  0.62846696,  0.22517354,  0.06669033, -0.11059478],\n",
       "       [ 0.2482993 ,  0.62846696,  0.22517354,  0.06669033, -0.11059478],\n",
       "       [ 0.2482993 ,  0.62846696,  0.22517354,  0.06669033, -0.11059478],\n",
       "       [ 0.2482993 ,  0.62846696,  0.22517354,  0.06669033, -0.11059478],\n",
       "       [ 0.2482993 ,  0.62846696,  0.22517354,  0.06669033, -0.11059478],\n",
       "       [ 0.2482993 ,  0.62846696,  0.22517354,  0.06669033, -0.11059478],\n",
       "       [ 0.2482993 ,  0.62846696,  0.22517354,  0.06669033, -0.11059478],\n",
       "       [ 0.2482993 ,  0.62846696,  0.22517354,  0.06669033, -0.11059478],\n",
       "       [ 0.2482993 ,  0.62846696,  0.22517354,  0.06669033, -0.11059478],\n",
       "       [ 0.2482993 ,  0.62846696,  0.22517354,  0.06669033, -0.11059478],\n",
       "       [ 0.2482993 ,  0.62846696,  0.22517354,  0.06669033, -0.11059478],\n",
       "       [ 0.2482993 ,  0.62846696,  0.22517354,  0.06669033, -0.11059478],\n",
       "       [ 0.2482993 ,  0.62846696,  0.22517354,  0.06669033, -0.11059478],\n",
       "       [ 0.2482993 ,  0.62846696,  0.22517354,  0.06669033, -0.11059478],\n",
       "       [ 0.2482993 ,  0.62846696,  0.22517354,  0.06669033, -0.11059478],\n",
       "       [ 0.2482993 ,  0.62846696,  0.22517354,  0.06669033, -0.11059478],\n",
       "       [ 0.2482993 ,  0.62846696,  0.22517354,  0.06669033, -0.11059478],\n",
       "       [ 0.2482993 ,  0.62846696,  0.22517354,  0.06669033, -0.11059478],\n",
       "       [ 0.2482993 ,  0.62846696,  0.22517354,  0.06669033, -0.11059478],\n",
       "       [ 0.2482993 ,  0.62846696,  0.22517354,  0.06669033, -0.11059478],\n",
       "       [ 0.2482993 ,  0.62846696,  0.22517354,  0.06669033, -0.11059478],\n",
       "       [ 0.2482993 ,  0.62846696,  0.22517354,  0.06669033, -0.11059478],\n",
       "       [ 0.2482993 ,  0.62846696,  0.22517354,  0.06669033, -0.11059478],\n",
       "       [ 0.2482993 ,  0.62846696,  0.22517354,  0.06669033, -0.11059478],\n",
       "       [ 0.2482993 ,  0.62846696,  0.22517354,  0.06669033, -0.11059478],\n",
       "       [ 0.2482993 ,  0.62846696,  0.22517354,  0.06669033, -0.11059478],\n",
       "       [ 0.2482993 ,  0.62846696,  0.22517354,  0.06669033, -0.11059478],\n",
       "       [ 0.2482993 ,  0.62846696,  0.22517354,  0.06669033, -0.11059478],\n",
       "       [ 0.2482993 ,  0.62846696,  0.22517354,  0.06669033, -0.11059478],\n",
       "       [ 0.2482993 ,  0.62846696,  0.22517354,  0.06669033, -0.11059478],\n",
       "       [ 0.2482993 ,  0.62846696,  0.22517354,  0.06669033, -0.11059478],\n",
       "       [ 0.2482993 ,  0.62846696,  0.22517354,  0.06669033, -0.11059478],\n",
       "       [ 0.2482993 ,  0.62846696,  0.22517354,  0.06669033, -0.11059478],\n",
       "       [ 0.2482993 ,  0.62846696,  0.22517354,  0.06669033, -0.11059478],\n",
       "       [ 0.2482993 ,  0.62846696,  0.22517354,  0.06669033, -0.11059478],\n",
       "       [ 0.2482993 ,  0.62846696,  0.22517354,  0.06669033, -0.11059478],\n",
       "       [ 0.2482993 ,  0.62846696,  0.22517354,  0.06669033, -0.11059478],\n",
       "       [ 0.2482993 ,  0.62846696,  0.22517354,  0.06669033, -0.11059478],\n",
       "       [ 0.2482993 ,  0.62846696,  0.22517354,  0.06669033, -0.11059478],\n",
       "       [ 0.2482993 ,  0.62846696,  0.22517354,  0.06669033, -0.11059478],\n",
       "       [ 0.2482993 ,  0.62846696,  0.22517354,  0.06669033, -0.11059478],\n",
       "       [ 0.2482993 ,  0.62846696,  0.22517354,  0.06669033, -0.11059478],\n",
       "       [ 0.2482993 ,  0.62846696,  0.22517354,  0.06669033, -0.11059478],\n",
       "       [ 0.2482993 ,  0.62846696,  0.22517354,  0.06669033, -0.11059478],\n",
       "       [ 0.2482993 ,  0.62846696,  0.22517354,  0.06669033, -0.11059478],\n",
       "       [ 0.2482993 ,  0.62846696,  0.22517354,  0.06669033, -0.11059478],\n",
       "       [ 0.2482993 ,  0.62846696,  0.22517354,  0.06669033, -0.11059478],\n",
       "       [ 0.2482993 ,  0.62846696,  0.22517354,  0.06669033, -0.11059478],\n",
       "       [ 0.2482993 ,  0.62846696,  0.22517354,  0.06669033, -0.11059478],\n",
       "       [ 0.2482993 ,  0.62846696,  0.22517354,  0.06669033, -0.11059478],\n",
       "       [ 0.2482993 ,  0.62846696,  0.22517354,  0.06669033, -0.11059478],\n",
       "       [ 0.2482993 ,  0.62846696,  0.22517354,  0.06669033, -0.11059478],\n",
       "       [ 0.2482993 ,  0.62846696,  0.22517354,  0.06669033, -0.11059478],\n",
       "       [ 0.2482993 ,  0.62846696,  0.22517354,  0.06669033, -0.11059478],\n",
       "       [ 0.2482993 ,  0.62846696,  0.22517354,  0.06669033, -0.11059478],\n",
       "       [ 0.2482993 ,  0.62846696,  0.22517354,  0.06669033, -0.11059478],\n",
       "       [ 0.2482993 ,  0.62846696,  0.22517354,  0.06669033, -0.11059478],\n",
       "       [ 0.2482993 ,  0.62846696,  0.22517354,  0.06669033, -0.11059478],\n",
       "       [ 0.2482993 ,  0.62846696,  0.22517354,  0.06669033, -0.11059478],\n",
       "       [ 0.2482993 ,  0.62846696,  0.22517354,  0.06669033, -0.11059478],\n",
       "       [ 0.2482993 ,  0.62846696,  0.22517354,  0.06669033, -0.11059478],\n",
       "       [ 0.2482993 ,  0.62846696,  0.22517354,  0.06669033, -0.11059478],\n",
       "       [ 0.2482993 ,  0.62846696,  0.22517354,  0.06669033, -0.11059478],\n",
       "       [ 0.2482993 ,  0.62846696,  0.22517354,  0.06669033, -0.11059478],\n",
       "       [ 0.2482993 ,  0.62846696,  0.22517354,  0.06669033, -0.11059478],\n",
       "       [ 0.2482993 ,  0.62846696,  0.22517354,  0.06669033, -0.11059478],\n",
       "       [ 0.2482993 ,  0.62846696,  0.22517354,  0.06669033, -0.11059478],\n",
       "       [ 0.2482993 ,  0.62846696,  0.22517354,  0.06669033, -0.11059478],\n",
       "       [ 0.2482993 ,  0.62846696,  0.22517354,  0.06669033, -0.11059478],\n",
       "       [ 0.2482993 ,  0.62846696,  0.22517354,  0.06669033, -0.11059478],\n",
       "       [ 0.2482993 ,  0.62846696,  0.22517354,  0.06669033, -0.11059478],\n",
       "       [ 0.2482993 ,  0.62846696,  0.22517354,  0.06669033, -0.11059478],\n",
       "       [ 0.2482993 ,  0.62846696,  0.22517354,  0.06669033, -0.11059478],\n",
       "       [ 0.2482993 ,  0.62846696,  0.22517354,  0.06669033, -0.11059478],\n",
       "       [ 0.2482993 ,  0.62846696,  0.22517354,  0.06669033, -0.11059478],\n",
       "       [ 0.2482993 ,  0.62846696,  0.22517354,  0.06669033, -0.11059478],\n",
       "       [ 0.2482993 ,  0.62846696,  0.22517354,  0.06669033, -0.11059478],\n",
       "       [ 0.2482993 ,  0.62846696,  0.22517354,  0.06669033, -0.11059478],\n",
       "       [ 0.2482993 ,  0.62846696,  0.22517354,  0.06669033, -0.11059478],\n",
       "       [ 0.2482993 ,  0.62846696,  0.22517354,  0.06669033, -0.11059478],\n",
       "       [ 0.2482993 ,  0.62846696,  0.22517354,  0.06669033, -0.11059478],\n",
       "       [ 0.2482993 ,  0.62846696,  0.22517354,  0.06669033, -0.11059478],\n",
       "       [ 0.2482993 ,  0.62846696,  0.22517354,  0.06669033, -0.11059478],\n",
       "       [ 0.2482993 ,  0.62846696,  0.22517354,  0.06669033, -0.11059478],\n",
       "       [ 0.2482993 ,  0.62846696,  0.22517354,  0.06669033, -0.11059478],\n",
       "       [ 0.2482993 ,  0.62846696,  0.22517354,  0.06669033, -0.11059478],\n",
       "       [ 0.2482993 ,  0.62846696,  0.22517354,  0.06669033, -0.11059478],\n",
       "       [ 0.2482993 ,  0.62846696,  0.22517354,  0.06669033, -0.11059478],\n",
       "       [ 0.2482993 ,  0.62846696,  0.22517354,  0.06669033, -0.11059478],\n",
       "       [ 0.2482993 ,  0.62846696,  0.22517354,  0.06669033, -0.11059478],\n",
       "       [ 0.2482993 ,  0.62846696,  0.22517354,  0.06669033, -0.11059478],\n",
       "       [ 0.2482993 ,  0.62846696,  0.22517354,  0.06669033, -0.11059478],\n",
       "       [ 0.2482993 ,  0.62846696,  0.22517354,  0.06669033, -0.11059478],\n",
       "       [ 0.2482993 ,  0.62846696,  0.22517354,  0.06669033, -0.11059478],\n",
       "       [ 0.2482993 ,  0.62846696,  0.22517354,  0.06669033, -0.11059478],\n",
       "       [ 0.2482993 ,  0.62846696,  0.22517354,  0.06669033, -0.11059478],\n",
       "       [ 0.2482993 ,  0.62846696,  0.22517354,  0.06669033, -0.11059478],\n",
       "       [ 0.2482993 ,  0.62846696,  0.22517354,  0.06669033, -0.11059478],\n",
       "       [ 0.2482993 ,  0.62846696,  0.22517354,  0.06669033, -0.11059478],\n",
       "       [ 0.2482993 ,  0.62846696,  0.22517354,  0.06669033, -0.11059478],\n",
       "       [ 0.2482993 ,  0.62846696,  0.22517354,  0.06669033, -0.11059478],\n",
       "       [ 0.2482993 ,  0.62846696,  0.22517354,  0.06669033, -0.11059478],\n",
       "       [ 0.2482993 ,  0.62846696,  0.22517354,  0.06669033, -0.11059478],\n",
       "       [ 0.2482993 ,  0.62846696,  0.22517354,  0.06669033, -0.11059478],\n",
       "       [ 0.2482993 ,  0.62846696,  0.22517354,  0.06669033, -0.11059478],\n",
       "       [ 0.2482993 ,  0.62846696,  0.22517354,  0.06669033, -0.11059478],\n",
       "       [ 0.2482993 ,  0.62846696,  0.22517354,  0.06669033, -0.11059478],\n",
       "       [ 0.2482993 ,  0.62846696,  0.22517354,  0.06669033, -0.11059478],\n",
       "       [ 0.2482993 ,  0.62846696,  0.22517354,  0.06669033, -0.11059478],\n",
       "       [ 0.2482993 ,  0.62846696,  0.22517354,  0.06669033, -0.11059478],\n",
       "       [ 0.2482993 ,  0.62846696,  0.22517354,  0.06669033, -0.11059478],\n",
       "       [ 0.2482993 ,  0.62846696,  0.22517354,  0.06669033, -0.11059478],\n",
       "       [ 0.2482993 ,  0.62846696,  0.22517354,  0.06669033, -0.11059478],\n",
       "       [ 0.2482993 ,  0.62846696,  0.22517354,  0.06669033, -0.11059478],\n",
       "       [ 0.2482993 ,  0.62846696,  0.22517354,  0.06669033, -0.11059478],\n",
       "       [ 0.2482993 ,  0.62846696,  0.22517354,  0.06669033, -0.11059478],\n",
       "       [ 0.2482993 ,  0.62846696,  0.22517354,  0.06669033, -0.11059478],\n",
       "       [ 0.2482993 ,  0.62846696,  0.22517354,  0.06669033, -0.11059478],\n",
       "       [ 0.2482993 ,  0.62846696,  0.22517354,  0.06669033, -0.11059478],\n",
       "       [ 0.2482993 ,  0.62846696,  0.22517354,  0.06669033, -0.11059478],\n",
       "       [ 0.2482993 ,  0.62846696,  0.22517354,  0.06669033, -0.11059478],\n",
       "       [ 0.2482993 ,  0.62846696,  0.22517354,  0.06669033, -0.11059478],\n",
       "       [ 0.2482993 ,  0.62846696,  0.22517354,  0.06669033, -0.11059478],\n",
       "       [ 0.2482993 ,  0.62846696,  0.22517354,  0.06669033, -0.11059478],\n",
       "       [ 0.2482993 ,  0.62846696,  0.22517354,  0.06669033, -0.11059478],\n",
       "       [ 0.2482993 ,  0.62846696,  0.22517354,  0.06669033, -0.11059478],\n",
       "       [ 0.2482993 ,  0.62846696,  0.22517354,  0.06669033, -0.11059478],\n",
       "       [ 0.2482993 ,  0.62846696,  0.22517354,  0.06669033, -0.11059478],\n",
       "       [ 0.2482993 ,  0.62846696,  0.22517354,  0.06669033, -0.11059478],\n",
       "       [ 0.2482993 ,  0.62846696,  0.22517354,  0.06669033, -0.11059478],\n",
       "       [ 0.2482993 ,  0.62846696,  0.22517354,  0.06669033, -0.11059478],\n",
       "       [ 0.2482993 ,  0.62846696,  0.22517354,  0.06669033, -0.11059478],\n",
       "       [ 0.2482993 ,  0.62846696,  0.22517354,  0.06669033, -0.11059478],\n",
       "       [ 0.2482993 ,  0.62846696,  0.22517354,  0.06669033, -0.11059478],\n",
       "       [ 0.2482993 ,  0.62846696,  0.22517354,  0.06669033, -0.11059478],\n",
       "       [ 0.2482993 ,  0.62846696,  0.22517354,  0.06669033, -0.11059478],\n",
       "       [ 0.2482993 ,  0.62846696,  0.22517354,  0.06669033, -0.11059478],\n",
       "       [ 0.2482993 ,  0.62846696,  0.22517354,  0.06669033, -0.11059478],\n",
       "       [ 0.2482993 ,  0.62846696,  0.22517354,  0.06669033, -0.11059478],\n",
       "       [ 0.2482993 ,  0.62846696,  0.22517354,  0.06669033, -0.11059478],\n",
       "       [ 0.2482993 ,  0.62846696,  0.22517354,  0.06669033, -0.11059478],\n",
       "       [ 0.2482993 ,  0.62846696,  0.22517354,  0.06669033, -0.11059478],\n",
       "       [ 0.2482993 ,  0.62846696,  0.22517354,  0.06669033, -0.11059478],\n",
       "       [ 0.2482993 ,  0.62846696,  0.22517354,  0.06669033, -0.11059478],\n",
       "       [ 0.2482993 ,  0.62846696,  0.22517354,  0.06669033, -0.11059478]])"
      ]
     },
     "execution_count": 39,
     "metadata": {},
     "output_type": "execute_result"
    }
   ],
   "source": [
    "transformdata.T - X_train_pc"
   ]
  },
  {
   "cell_type": "code",
   "execution_count": 46,
   "id": "69530851",
   "metadata": {},
   "outputs": [
    {
     "data": {
      "text/plain": [
       "array([[ 1.49675570e+00,  7.42790307e-01, -1.21507506e-02,\n",
       "        -1.65260356e-02,  4.91055995e-02],\n",
       "       [ 1.86258438e+00, -5.47622244e-01,  3.45753495e-01,\n",
       "         6.99897679e-02, -2.96057431e-02],\n",
       "       [-8.66714791e-01,  6.65954876e-01, -6.73066371e-02,\n",
       "         5.38095527e-02, -6.60705426e-03],\n",
       "       [ 8.05897137e-01,  8.46786599e-01, -4.64852725e-02,\n",
       "        -8.61252689e-03, -1.77249758e-02],\n",
       "       [ 1.38205238e+00, -3.59278436e-01, -3.58179566e-01,\n",
       "        -8.31892079e-02,  5.13611362e-02],\n",
       "       [ 9.46547969e-01, -1.52544025e-01,  1.93842436e-02,\n",
       "         7.09443735e-03, -9.08762138e-03],\n",
       "       [ 7.49538764e-01, -4.58193191e-03, -6.00038651e-02,\n",
       "         7.60104841e-02,  6.54630388e-02],\n",
       "       [-6.70237382e-02,  1.53868935e-01, -9.25343823e-02,\n",
       "        -9.34521075e-02,  1.26097665e-02],\n",
       "       [ 9.40698516e-01, -4.06631587e-01, -1.56230633e-01,\n",
       "         1.30116267e-01, -2.42016788e-02],\n",
       "       [ 9.93834924e-01, -1.53751347e-01, -4.07334980e-01,\n",
       "        -5.35618654e-02, -5.44138379e-02],\n",
       "       [-1.20248858e+00, -5.00241001e-01, -5.68174962e-04,\n",
       "        -3.87444661e-03, -2.70092638e-02],\n",
       "       [ 2.01325350e-01, -7.00086979e-02, -1.44074809e-01,\n",
       "         4.69886764e-02,  1.88099568e-02],\n",
       "       [ 8.22684030e-01, -2.50589286e-01,  4.67360331e-02,\n",
       "         1.18853163e-02,  2.15048388e-02],\n",
       "       [ 5.61542464e-01, -9.97350224e-01,  7.03974105e-02,\n",
       "         4.85211443e-02,  1.69207158e-02],\n",
       "       [ 9.24666874e-01, -3.97031630e-01, -3.29180266e-01,\n",
       "        -9.83693762e-02,  1.08454011e-02],\n",
       "       [ 1.58163196e+00,  3.30803046e-01,  1.20498053e-01,\n",
       "         6.38589031e-02, -5.90328561e-02],\n",
       "       [-1.88510428e+00,  3.44735557e-01,  8.95163085e-02,\n",
       "         2.21743097e-02, -4.29767370e-02],\n",
       "       [ 1.18273955e+00,  5.93698890e-01, -3.79868207e-01,\n",
       "        -3.33877637e-02, -6.73215331e-02],\n",
       "       [-9.91445176e-02,  7.00125846e-02,  8.18008051e-02,\n",
       "         1.12288595e-02,  3.20240967e-02],\n",
       "       [-1.05390843e+00,  5.60526816e-01,  1.74925219e-01,\n",
       "         7.15178210e-03,  7.86667836e-02],\n",
       "       [ 3.68926530e-01,  6.71167065e-01, -1.77565977e-01,\n",
       "        -1.06181733e-01, -5.14307039e-02],\n",
       "       [-3.38462721e-01, -1.27617110e-01,  7.51119133e-02,\n",
       "        -3.29523079e-02,  5.85205975e-02],\n",
       "       [-1.04114867e+00,  5.57907664e-01, -1.02603438e-02,\n",
       "         3.45690182e-02, -4.79398841e-02],\n",
       "       [-6.35617911e-01, -3.13525195e-01, -1.32143193e-01,\n",
       "        -1.08780517e-01, -3.75211789e-02],\n",
       "       [-2.92687353e+00, -1.23836950e-01,  3.47334089e-01,\n",
       "        -1.16037165e-01,  4.97688670e-02],\n",
       "       [-1.44926382e+00,  4.63718183e-01, -8.29968797e-02,\n",
       "         1.66833703e-02, -3.88956342e-02],\n",
       "       [-2.58570665e+00,  1.15262433e-01,  4.24828592e-01,\n",
       "         8.58511439e-02, -2.55621572e-02],\n",
       "       [-1.92420386e+00,  1.45204064e-01, -4.37149945e-01,\n",
       "         9.19648691e-02, -2.77678955e-02],\n",
       "       [ 1.39890058e+00,  1.65398833e-01, -1.11027460e-01,\n",
       "        -7.15848250e-02,  1.82105172e-02],\n",
       "       [ 3.35527045e-01, -9.31971715e-02,  3.21416065e-02,\n",
       "         3.66051923e-02,  5.24921853e-02],\n",
       "       [-6.47119309e-02, -1.86751587e-01,  4.21626396e-01,\n",
       "        -5.89915728e-02,  6.31462890e-03],\n",
       "       [-1.37731678e+00,  1.82945858e-01,  3.73085659e-01,\n",
       "         4.85543651e-02,  6.87929761e-02],\n",
       "       [ 1.77200507e+00,  4.27303316e-01,  1.68723570e-01,\n",
       "        -1.03878071e-01, -3.92392372e-02],\n",
       "       [ 4.39373088e-01, -1.82095613e-01, -3.33879680e-01,\n",
       "        -3.22666768e-02, -2.13581177e-02],\n",
       "       [ 2.91933874e+00, -3.95951526e-01, -2.04394747e-01,\n",
       "         1.32236756e-02, -1.62878280e-03],\n",
       "       [ 6.95473935e-01,  5.94721414e-02,  1.60417616e-01,\n",
       "        -4.59459781e-02,  3.37744284e-02],\n",
       "       [ 6.95599440e-01,  5.48132279e-02,  5.79347110e-01,\n",
       "        -4.66933041e-02, -2.27414303e-02],\n",
       "       [-4.24030968e-01, -1.95120918e-01, -1.53441881e-01,\n",
       "        -7.21767290e-02, -4.62179306e-02],\n",
       "       [-1.18214717e+00,  2.57845493e-01, -4.76684706e-02,\n",
       "         4.02662840e-02, -2.21088962e-02],\n",
       "       [-1.06755591e+00, -6.00238839e-02, -3.28992541e-01,\n",
       "         3.22961440e-02, -8.86382995e-02],\n",
       "       [ 1.38290066e+00, -3.06320154e-01, -1.72986076e-01,\n",
       "        -8.59503355e-02, -3.43301052e-04],\n",
       "       [ 1.79343344e-01, -4.40523175e-01, -2.40869232e-02,\n",
       "         2.73656844e-02,  4.75374611e-02],\n",
       "       [-2.32313784e+00, -3.11499224e-01,  3.50574829e-02,\n",
       "         8.30985441e-02, -8.63051687e-02],\n",
       "       [ 2.08100995e+00,  2.02784141e-01, -1.70752217e-01,\n",
       "        -7.05368988e-02,  1.02915386e-01],\n",
       "       [ 1.20432772e+00, -2.57786794e-01,  1.35804812e-01,\n",
       "         5.60603687e-02, -6.08985695e-02],\n",
       "       [ 1.26747572e+00,  1.11483497e+00, -3.02964731e-01,\n",
       "         4.02652596e-02,  6.68631464e-03],\n",
       "       [ 6.94765832e-01, -4.75677471e-01,  1.40842988e-01,\n",
       "         6.62789652e-02, -6.17991877e-02],\n",
       "       [ 2.47698250e-01, -8.70142713e-01,  2.47650952e-01,\n",
       "        -4.05463969e-02, -6.14814706e-02],\n",
       "       [-9.76481381e-02, -2.82365683e-01,  1.27279155e-01,\n",
       "         8.61730249e-02, -3.06746132e-02],\n",
       "       [ 1.26526692e+00, -2.49925286e-01, -1.96374389e-01,\n",
       "        -5.84745181e-02,  7.58771960e-02],\n",
       "       [ 1.33337496e-01, -4.66591007e-01, -1.12970504e-01,\n",
       "         3.92383386e-02, -7.07646037e-03],\n",
       "       [-9.49973080e-02, -1.33898824e-02,  1.06936055e-01,\n",
       "        -6.09774876e-02,  3.10141051e-02],\n",
       "       [-1.79771635e+00, -5.01525154e-02,  1.54342920e-02,\n",
       "         1.59835489e-02, -7.24963496e-04],\n",
       "       [ 1.16925561e+00,  3.11867552e-01,  8.86695716e-02,\n",
       "         8.73524709e-02, -1.11051357e-02],\n",
       "       [-1.74385138e+00,  6.96588685e-01, -5.99781764e-02,\n",
       "         9.09963640e-02, -4.64341142e-02],\n",
       "       [-1.15999267e-02, -2.80922946e-01, -3.84054972e-01,\n",
       "         1.13230141e-01, -1.91628087e-02],\n",
       "       [ 9.81968318e-02,  5.41373564e-01,  3.99547869e-02,\n",
       "        -3.78060810e-02, -2.27972909e-02],\n",
       "       [ 7.35350034e-01, -7.19716817e-02,  4.91924563e-01,\n",
       "        -1.07267651e-01, -2.64329131e-02],\n",
       "       [ 7.14893464e-01,  5.08888038e-02,  1.44639329e-01,\n",
       "         5.60921966e-02, -3.67903841e-02],\n",
       "       [-2.37346321e+00,  9.68757323e-01, -4.41190037e-01,\n",
       "         1.46772597e-01,  3.64381985e-02],\n",
       "       [ 9.94934350e-01, -6.07922564e-01, -1.99313927e-01,\n",
       "        -6.29426533e-02,  4.72100088e-02],\n",
       "       [ 6.63933939e-01, -2.64558294e-01, -1.47301447e-01,\n",
       "        -8.51815658e-02,  1.85089404e-02],\n",
       "       [ 2.59062527e-01, -1.70857431e-01,  3.33657742e-01,\n",
       "        -6.80719526e-02, -2.95150654e-02],\n",
       "       [ 5.98077117e-01, -2.62359357e-01, -3.58318598e-01,\n",
       "        -6.80327759e-02, -4.94685520e-02],\n",
       "       [-1.77421546e+00, -8.80075443e-02,  1.75347386e-01,\n",
       "         7.40533026e-02, -5.07254846e-02],\n",
       "       [ 1.68325098e+00,  2.74872260e-01,  3.08553104e-01,\n",
       "        -5.95186518e-02,  1.32214614e-02],\n",
       "       [ 5.12245887e-01, -3.20790788e-01,  2.57117865e-03,\n",
       "        -5.37727823e-02,  1.46474911e-02],\n",
       "       [-7.14507387e-01,  4.59574180e-01, -9.38398777e-02,\n",
       "         1.04724496e-01, -1.52034394e-02],\n",
       "       [ 1.48765148e+00,  2.12242922e-01,  2.82545901e-01,\n",
       "        -8.31077350e-02, -6.78110040e-02],\n",
       "       [-1.41718559e-01,  3.36229411e-02,  2.61165907e-02,\n",
       "         7.39565823e-02,  7.19499875e-03],\n",
       "       [ 2.14000540e-01,  3.78488704e-01,  2.07250073e-01,\n",
       "        -1.33863823e-01, -4.15248637e-02],\n",
       "       [-6.90740923e-01,  7.95527027e-01, -3.62757010e-01,\n",
       "        -2.08987800e-02,  5.02102833e-02],\n",
       "       [ 2.74412061e+00,  2.13252494e-01, -1.90541123e-02,\n",
       "         9.68406824e-02, -5.23885785e-03],\n",
       "       [-1.95588769e+00, -9.99299475e-02,  2.00076397e-02,\n",
       "        -6.10622579e-02, -1.82941653e-02],\n",
       "       [-1.38161671e+00, -2.91768232e-02,  2.57021834e-01,\n",
       "        -1.42471389e-02, -6.16815612e-02],\n",
       "       [ 1.50783007e+00,  7.90148515e-01,  3.61119348e-03,\n",
       "         1.13361738e-01,  3.53783571e-02],\n",
       "       [ 1.91949816e+00, -4.31858462e-01, -3.08218753e-01,\n",
       "         7.26714501e-02,  5.22265206e-02],\n",
       "       [ 3.12875443e-01, -4.70864207e-01, -1.17489021e-01,\n",
       "        -1.06791141e-01, -3.97844512e-02],\n",
       "       [ 1.94788493e+00, -5.06771078e-04,  1.69400367e-01,\n",
       "        -1.40188720e-01, -2.19571667e-02],\n",
       "       [-9.59641585e-01,  7.33584426e-01,  7.75505031e-03,\n",
       "        -1.21204900e-01, -3.97254422e-02],\n",
       "       [-2.09598859e+00, -1.55477277e-01, -4.23139936e-01,\n",
       "        -5.01675224e-02, -9.20656631e-03],\n",
       "       [ 2.91105295e-01,  3.53705500e-01,  2.12412987e-01,\n",
       "        -8.74512196e-02, -1.53052984e-02],\n",
       "       [-1.36086038e+00,  7.74962397e-03,  2.99782540e-01,\n",
       "         7.83229629e-02, -4.53785156e-02],\n",
       "       [-8.43455053e-01,  3.45181184e-01,  2.77500672e-01,\n",
       "         5.57956684e-02, -6.32156813e-02],\n",
       "       [ 5.91519581e-01,  3.73174252e-01,  1.57305074e-01,\n",
       "         4.75569126e-02,  7.07625149e-02],\n",
       "       [-5.67205840e-01,  3.82346175e-01, -2.68956838e-01,\n",
       "        -6.59391649e-02, -3.55600366e-02],\n",
       "       [-3.93525302e-02,  1.87131264e-02, -7.13168981e-02,\n",
       "         1.76356065e-02, -7.61720580e-02],\n",
       "       [ 1.02318205e+00, -6.73482480e-01, -4.44758504e-02,\n",
       "        -3.90502237e-02, -7.67348474e-03],\n",
       "       [ 4.42212883e-01,  1.41829592e-01,  1.15675641e-01,\n",
       "         8.60659948e-02, -5.97120368e-02],\n",
       "       [-2.58199889e-01, -3.32555666e-01, -3.06908183e-01,\n",
       "        -5.55461415e-02, -4.23494980e-02],\n",
       "       [-6.99425330e-01,  7.06465361e-01,  4.43837135e-02,\n",
       "        -3.03940580e-03,  8.26211495e-03],\n",
       "       [-9.22678353e-01, -2.93273063e-01,  9.92231688e-02,\n",
       "         1.28441162e-02,  4.22967691e-02],\n",
       "       [ 2.06387803e-01, -6.72652114e-01,  1.77565458e-02,\n",
       "         1.66160457e-01,  5.08402573e-02],\n",
       "       [ 2.27240934e+00, -5.47768093e-02,  3.90460086e-01,\n",
       "         1.59484304e-02, -4.39663281e-02],\n",
       "       [-1.02548688e+00,  2.25568628e-02,  1.77742978e-01,\n",
       "        -1.01150126e-01,  7.24528991e-02],\n",
       "       [ 4.05094060e-01,  1.37416513e-02, -4.59176879e-02,\n",
       "        -9.72993499e-02,  5.01917780e-02],\n",
       "       [-1.59910629e+00,  4.61747917e-01,  2.04481691e-01,\n",
       "        -8.34278772e-02,  4.16007244e-02],\n",
       "       [-5.46343928e-01, -9.54058575e-02,  1.56617651e-01,\n",
       "         1.22117090e-01,  5.69033237e-03],\n",
       "       [-1.87993147e+00,  3.85865938e-01, -1.29695317e-02,\n",
       "         1.30179466e-01,  2.83745261e-03],\n",
       "       [ 2.76656481e-01, -5.60678058e-02, -4.20283075e-01,\n",
       "        -7.07831684e-02,  9.04130662e-02],\n",
       "       [ 1.39061834e+00, -7.49741440e-01,  6.78166723e-02,\n",
       "        -1.64850251e-03,  4.36352478e-02],\n",
       "       [-3.74482957e-01,  3.81053679e-01, -3.14208085e-02,\n",
       "         1.40354355e-01,  2.66802160e-02],\n",
       "       [ 5.91712550e-01, -5.91292003e-01,  2.14507248e-01,\n",
       "        -5.66290711e-02, -2.05932446e-02],\n",
       "       [-4.78923996e-01, -3.71563659e-01, -2.39529547e-01,\n",
       "        -5.75700415e-02,  8.88182409e-02],\n",
       "       [ 1.25001031e+00,  9.46401250e-01, -8.81225604e-02,\n",
       "         8.03754747e-02, -1.68035980e-02],\n",
       "       [-4.54758819e-02, -1.68836579e-01,  2.41676087e-02,\n",
       "         1.34967387e-01,  3.48695102e-02],\n",
       "       [ 2.72413425e+00,  2.37562921e-02, -6.05523972e-02,\n",
       "        -3.16307243e-02, -6.39870445e-02],\n",
       "       [ 5.10683611e-01,  3.54786094e-01,  1.34663810e-01,\n",
       "         2.08347865e-02,  4.32116691e-02],\n",
       "       [-6.69242625e-01, -6.35525140e-01, -7.94458836e-02,\n",
       "         9.55880124e-02, -4.87478434e-02],\n",
       "       [ 8.36791922e-01,  1.76909992e-01, -3.56247158e-01,\n",
       "        -8.38112024e-02,  8.08271197e-03],\n",
       "       [-1.17255692e+00, -1.49198055e-01,  1.61701218e-02,\n",
       "        -8.53844609e-02, -5.25519840e-02],\n",
       "       [-2.80091076e+00, -7.99950633e-01, -2.97830407e-02,\n",
       "        -2.33082640e-02,  8.04779263e-02],\n",
       "       [ 1.01852127e+00,  4.36185439e-01, -7.45998885e-02,\n",
       "         3.60414186e-02,  3.30225324e-02],\n",
       "       [-1.74597381e+00,  3.62483713e-01, -9.44719190e-02,\n",
       "        -1.31049361e-01,  9.96155417e-03],\n",
       "       [-3.83479936e-01,  1.94974565e-01, -4.10935599e-01,\n",
       "        -9.15660404e-02, -5.49669435e-02],\n",
       "       [-5.58261356e-01, -6.95545519e-01,  1.75086001e-01,\n",
       "         8.44629318e-02,  6.13940259e-02],\n",
       "       [-7.54439715e-01,  4.00069733e-02,  3.33832094e-01,\n",
       "        -1.11418931e-01,  3.29711711e-02],\n",
       "       [ 9.70056051e-01,  7.94930966e-02,  1.17664770e-01,\n",
       "        -9.96209553e-03,  1.21464701e-02],\n",
       "       [ 2.30717257e+00, -2.84707211e-01, -1.42957579e-01,\n",
       "        -9.69135942e-02, -3.67327587e-02],\n",
       "       [-8.72394632e-01, -2.74953891e-01,  1.43337235e-01,\n",
       "         4.16232943e-02,  3.82527759e-02],\n",
       "       [-1.30633746e+00,  3.48085660e-01,  1.81577489e-01,\n",
       "         9.02360849e-02,  2.99369736e-02],\n",
       "       [-6.69746057e-01,  6.83873402e-01,  6.32739181e-02,\n",
       "         3.85144564e-03,  5.10687484e-03],\n",
       "       [ 2.56366366e-01, -9.47920716e-02, -2.81905485e-02,\n",
       "        -1.50742454e-02, -2.87882742e-02],\n",
       "       [-7.41676954e-01,  4.75486161e-01,  1.01877806e-01,\n",
       "        -5.57741120e-02,  7.66501313e-02],\n",
       "       [ 1.68815729e+00, -1.48801231e-01,  1.08033115e-01,\n",
       "        -1.23124037e-02,  1.12518436e-02],\n",
       "       [-5.56089302e-01,  3.57517136e-01, -1.89359760e-01,\n",
       "        -1.17444835e-01, -3.37979281e-02],\n",
       "       [-1.82264298e+00, -1.11048749e-01, -5.13741815e-02,\n",
       "        -5.00789790e-02, -2.30535974e-02],\n",
       "       [ 1.87351845e+00,  2.19415830e-01,  2.68689156e-01,\n",
       "         2.90343277e-02,  9.78596905e-04],\n",
       "       [-1.15023148e+00, -5.63026762e-01, -2.18804186e-01,\n",
       "         1.49711504e-02,  1.28652383e-02],\n",
       "       [-1.08887430e+00, -2.70555119e-01, -1.36968987e-01,\n",
       "         2.96704280e-02, -8.14839462e-02],\n",
       "       [ 1.24064870e-01, -2.10309518e-02,  1.07268979e-01,\n",
       "         3.28868746e-02, -8.16735554e-02],\n",
       "       [-2.04568584e+00,  4.21976763e-01,  1.61532350e-01,\n",
       "        -4.00376841e-02,  7.69230244e-02],\n",
       "       [ 4.92550673e-01,  4.80964554e-02,  1.48070206e-01,\n",
       "         5.72618036e-02,  5.15318894e-02],\n",
       "       [-1.99541763e-01, -7.98013801e-02,  2.28098105e-01,\n",
       "        -3.05460300e-02, -9.73420038e-03],\n",
       "       [-2.71956922e+00, -3.64839170e-01, -2.48071050e-02,\n",
       "         3.54012820e-03, -1.50590673e-02],\n",
       "       [-3.73681335e-01, -2.17319888e-03, -1.50863705e-01,\n",
       "        -1.02537879e-01,  1.32174738e-02],\n",
       "       [-8.24793072e-01, -1.76868446e-01, -8.96874303e-02,\n",
       "         1.05637773e-01,  4.77651954e-02],\n",
       "       [-4.29603315e-01, -1.31932530e-01, -1.51197635e-01,\n",
       "         1.32623581e-01,  4.42731786e-03],\n",
       "       [-1.46599684e-01,  6.23154631e-01, -1.77106474e-02,\n",
       "        -1.34594599e-01, -6.00325146e-03],\n",
       "       [-2.92658672e-01,  7.47389052e-01,  5.08985538e-02,\n",
       "        -9.88630223e-02,  3.05944784e-02],\n",
       "       [-1.08551467e+00,  1.04814138e-01,  1.28839252e-01,\n",
       "         5.70163806e-02,  3.12366082e-02],\n",
       "       [ 1.65909914e+00,  6.88460760e-01, -1.31821528e-02,\n",
       "         8.44999366e-02, -1.22935095e-02],\n",
       "       [-9.73664745e-01, -4.96014671e-01, -1.73118703e-01,\n",
       "        -8.07171574e-02, -5.01770225e-02],\n",
       "       [ 2.36853800e+00, -4.57821825e-01, -2.82968382e-01,\n",
       "        -1.22952132e-01, -2.50720200e-03],\n",
       "       [ 4.46400472e-01,  2.63588170e-01,  1.09610284e-02,\n",
       "         1.00020323e-01,  5.79251384e-02],\n",
       "       [ 1.11772174e+00, -6.82422407e-01, -1.63083137e-01,\n",
       "        -7.91586674e-02,  8.38711544e-02],\n",
       "       [ 8.24346672e-01, -7.23134538e-01, -1.09767793e-01,\n",
       "         1.31325691e-01, -1.32636673e-02],\n",
       "       [ 3.44256413e-01,  3.62635803e-01,  2.41272671e-01,\n",
       "        -6.18841008e-02, -8.30351678e-03],\n",
       "       [ 1.61372940e+00, -3.94232843e-01,  2.48813249e-01,\n",
       "         1.74374521e-02,  4.17837193e-03],\n",
       "       [-1.25619379e+00, -1.90245017e-01,  1.43676416e-02,\n",
       "        -4.83155440e-03,  7.75265704e-02],\n",
       "       [ 1.27334514e-01,  2.33198319e-01, -1.25907594e-01,\n",
       "         1.06691041e-01, -3.46214198e-02],\n",
       "       [ 4.05811670e-01,  3.49662588e-01,  3.02073825e-01,\n",
       "         1.01577785e-01,  4.85779298e-02],\n",
       "       [ 1.46816450e+00,  2.03424820e-01, -1.59299382e-01,\n",
       "        -1.92624516e-02, -6.52664203e-02],\n",
       "       [-2.76272710e-01,  2.12758049e-01, -1.81931777e-01,\n",
       "         6.19963933e-02, -6.48600537e-02],\n",
       "       [ 1.05786612e+00, -1.52791889e-01,  3.92114307e-01,\n",
       "        -5.46094744e-02,  5.58122532e-02],\n",
       "       [ 4.98850610e-01,  4.04282094e-01,  2.04699027e-01,\n",
       "        -6.87615134e-02,  8.52295416e-02],\n",
       "       [-1.46514797e+00,  4.64055664e-02,  9.65455447e-02,\n",
       "        -3.39524961e-02, -3.04432040e-02],\n",
       "       [-1.04845492e+00, -6.71589523e-01,  1.30167493e-02,\n",
       "         2.35339393e-02,  4.99955721e-02],\n",
       "       [ 3.03812394e-01, -4.64945602e-01,  5.62510748e-02,\n",
       "         9.99355379e-02,  9.89608003e-03],\n",
       "       [-4.94422826e-01,  3.85080256e-01,  1.64884710e-01,\n",
       "        -8.65449207e-02,  5.80760560e-02],\n",
       "       [ 1.97383261e-01,  7.24365477e-01,  7.67760261e-02,\n",
       "        -3.57315470e-02, -7.50996998e-02],\n",
       "       [-2.08978778e+00,  8.71373001e-02,  4.19230777e-01,\n",
       "         6.23161604e-02,  7.02615720e-02],\n",
       "       [ 1.17921793e+00,  4.18780425e-01, -2.04495215e-01,\n",
       "        -3.52957444e-02,  4.50416378e-02],\n",
       "       [-1.20089869e+00,  1.03402104e-01, -3.76278136e-02,\n",
       "        -8.37550891e-02, -8.11879322e-03],\n",
       "       [ 1.28145454e+00, -3.72825345e-01,  1.36548936e-02,\n",
       "        -5.36510354e-03, -3.78847366e-04],\n",
       "       [-2.93270035e+00, -6.06403566e-01,  1.17883734e-01,\n",
       "        -1.29629396e-01, -1.94848283e-02],\n",
       "       [ 3.19608104e-01,  2.67377599e-01,  2.11817401e-01,\n",
       "         8.20946240e-02, -3.19469024e-02],\n",
       "       [ 1.45753979e+00, -4.51252411e-01,  6.60070838e-02,\n",
       "        -5.45436870e-02,  2.44431275e-02],\n",
       "       [ 3.75109792e-01, -4.02873609e-01, -2.13563261e-01,\n",
       "         6.94506339e-02, -6.53489531e-02],\n",
       "       [ 4.45638859e-01, -3.38880035e-01,  1.77478366e-01,\n",
       "        -5.89965981e-02, -5.62762672e-02],\n",
       "       [ 3.52413971e+00,  5.73014351e-01,  1.58480183e-01,\n",
       "         7.63304976e-02,  3.31570665e-02],\n",
       "       [ 1.23385966e+00, -7.15183660e-03, -4.76699367e-02,\n",
       "         1.26320760e-01, -1.46344848e-02],\n",
       "       [ 5.77350114e-01, -3.88795352e-01,  3.72266403e-02,\n",
       "         8.93676391e-02,  5.95817527e-03],\n",
       "       [ 5.71178864e-01, -4.09034496e-01, -2.67838087e-02,\n",
       "        -1.10540961e-01,  2.88282604e-02],\n",
       "       [ 1.93631357e+00, -3.25617102e-01,  1.81116577e-01,\n",
       "         1.05512106e-01, -3.88755942e-02],\n",
       "       [ 7.18753015e-01,  2.35125238e-01, -3.14243123e-02,\n",
       "         1.35193541e-01,  1.64743716e-02],\n",
       "       [-1.07624633e-01,  1.06290615e-01, -4.64052829e-01,\n",
       "         1.47337321e-01,  4.53278466e-02],\n",
       "       [-8.80434994e-01,  4.69979938e-01, -2.61904927e-01,\n",
       "        -9.30245382e-02, -2.41648717e-02],\n",
       "       [-1.10847744e+00, -1.05263877e-01, -4.79525106e-02,\n",
       "        -1.07798882e-01, -1.51311192e-02],\n",
       "       [ 7.01845334e-01, -3.27052176e-02,  2.07125368e-01,\n",
       "        -2.25459867e-02, -1.77697090e-02],\n",
       "       [-3.04824384e+00, -5.08605875e-01, -6.94236391e-02,\n",
       "        -1.38682229e-01, -1.36320573e-02],\n",
       "       [ 1.67323215e-01, -4.65724135e-01,  3.86247084e-01,\n",
       "        -7.95585213e-02, -4.97315488e-02],\n",
       "       [-1.82449683e-01,  6.78236067e-02, -3.10528909e-01,\n",
       "         1.11972484e-01,  2.81574313e-02],\n",
       "       [ 2.49194426e-01, -2.06229256e-01, -2.15250757e-01,\n",
       "        -4.51444356e-02,  8.77516310e-02],\n",
       "       [-1.46114660e+00,  4.43543742e-01, -1.39197718e-01,\n",
       "        -1.52446637e-02,  1.07993421e-02],\n",
       "       [-2.47030729e+00, -1.08469868e-01,  3.34609530e-01,\n",
       "        -8.08373163e-03, -6.80244936e-02],\n",
       "       [-2.05439913e+00, -4.69725288e-01, -1.94873438e-01,\n",
       "        -5.76309147e-02,  4.38434618e-02],\n",
       "       [ 2.21909842e-01, -2.81718697e-01,  1.77532354e-02,\n",
       "         1.19682087e-01,  4.73250645e-02],\n",
       "       [-8.64096113e-02, -7.24951409e-02, -3.03402086e-01,\n",
       "         1.16001677e-01,  3.24253486e-02],\n",
       "       [ 1.20720988e+00, -4.18086568e-01, -2.28793987e-01,\n",
       "         1.54566100e-02, -3.37648120e-02],\n",
       "       [ 1.70257904e+00, -1.82743310e-02,  2.97062855e-01,\n",
       "         6.16467197e-02,  2.78015376e-02],\n",
       "       [-1.65391361e+00, -2.61464070e-01, -3.95968236e-01,\n",
       "         1.67200375e-01,  1.99478861e-02],\n",
       "       [-2.07730779e+00, -8.17994797e-01, -2.44038503e-02,\n",
       "         9.43920636e-02, -9.07689827e-02],\n",
       "       [ 3.31359217e+00,  4.31689486e-01,  1.65654640e-02,\n",
       "        -8.71184809e-02, -5.59162754e-02],\n",
       "       [-2.37110282e+00,  6.59863259e-01, -3.52255027e-01,\n",
       "        -1.18476430e-01, -7.05063476e-03],\n",
       "       [ 6.00926930e-02,  2.89049464e-01,  9.25154068e-02,\n",
       "        -3.00911705e-02,  2.70591308e-02],\n",
       "       [ 7.96180062e-01, -4.78510403e-03, -1.31433114e-01,\n",
       "         1.82442837e-02,  1.92123757e-02],\n",
       "       [-1.66337540e+00, -6.20406329e-01,  3.71709263e-02,\n",
       "        -7.20190895e-02,  6.21413669e-02],\n",
       "       [ 5.76672968e-01, -1.16188597e-01, -9.92160851e-02,\n",
       "         8.80881639e-02, -6.99256802e-02],\n",
       "       [-1.38751031e+00, -4.86058148e-02,  3.93439591e-01,\n",
       "         9.02788910e-02, -3.69969529e-04]])"
      ]
     },
     "execution_count": 46,
     "metadata": {},
     "output_type": "execute_result"
    }
   ],
   "source": [
    "X_pca"
   ]
  },
  {
   "cell_type": "code",
   "execution_count": null,
   "id": "f8dcb71f",
   "metadata": {},
   "outputs": [],
   "source": [
    "reg = LinearRegression().fit(transformdata, y)"
   ]
  },
  {
   "cell_type": "code",
   "execution_count": null,
   "id": "5291fd3b",
   "metadata": {},
   "outputs": [],
   "source": []
  },
  {
   "cell_type": "code",
   "execution_count": null,
   "id": "80942b9f",
   "metadata": {},
   "outputs": [],
   "source": []
  }
 ],
 "metadata": {
  "kernelspec": {
   "display_name": "pymc_env",
   "language": "python",
   "name": "pymc_env"
  },
  "language_info": {
   "codemirror_mode": {
    "name": "ipython",
    "version": 3
   },
   "file_extension": ".py",
   "mimetype": "text/x-python",
   "name": "python",
   "nbconvert_exporter": "python",
   "pygments_lexer": "ipython3",
   "version": "3.10.5"
  }
 },
 "nbformat": 4,
 "nbformat_minor": 5
}
