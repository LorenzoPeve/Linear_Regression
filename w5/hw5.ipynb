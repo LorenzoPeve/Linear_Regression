{
 "cells": [
  {
   "cell_type": "code",
   "execution_count": 1,
   "id": "a1731ed5",
   "metadata": {},
   "outputs": [],
   "source": [
    "import numpy as np\n",
    "import pandas as pd\n",
    "import os\n",
    "from sklearn.linear_model import LinearRegression\n",
    "from sklearn.preprocessing import StandardScaler\n",
    "from sklearn.decomposition import PCA\n",
    "import matplotlib.pyplot as plt                           # plotting\n",
    "import matplotlib.ticker as mtick\n",
    "cmap = plt.cm.inferno"
   ]
  },
  {
   "cell_type": "markdown",
   "id": "fdff95a9",
   "metadata": {},
   "source": [
    "# Problem 1.3"
   ]
  },
  {
   "cell_type": "markdown",
   "id": "4846589f",
   "metadata": {},
   "source": [
    "## **Read Data**"
   ]
  },
  {
   "cell_type": "code",
   "execution_count": 2,
   "id": "9032725e",
   "metadata": {
    "scrolled": true
   },
   "outputs": [
    {
     "name": "stdout",
     "output_type": "stream",
     "text": [
      "(200, 6)\n"
     ]
    },
    {
     "data": {
      "text/html": [
       "<div>\n",
       "<style scoped>\n",
       "    .dataframe tbody tr th:only-of-type {\n",
       "        vertical-align: middle;\n",
       "    }\n",
       "\n",
       "    .dataframe tbody tr th {\n",
       "        vertical-align: top;\n",
       "    }\n",
       "\n",
       "    .dataframe thead th {\n",
       "        text-align: right;\n",
       "    }\n",
       "</style>\n",
       "<table border=\"1\" class=\"dataframe\">\n",
       "  <thead>\n",
       "    <tr style=\"text-align: right;\">\n",
       "      <th></th>\n",
       "      <th>y</th>\n",
       "      <th>x1</th>\n",
       "      <th>x2</th>\n",
       "      <th>x3</th>\n",
       "      <th>x4</th>\n",
       "      <th>x5</th>\n",
       "    </tr>\n",
       "  </thead>\n",
       "  <tbody>\n",
       "    <tr>\n",
       "      <th>0</th>\n",
       "      <td>1.764742</td>\n",
       "      <td>0.925627</td>\n",
       "      <td>1.204426</td>\n",
       "      <td>0.949487</td>\n",
       "      <td>0.921375</td>\n",
       "      <td>0.958830</td>\n",
       "    </tr>\n",
       "    <tr>\n",
       "      <th>1</th>\n",
       "      <td>3.209386</td>\n",
       "      <td>0.459292</td>\n",
       "      <td>1.420216</td>\n",
       "      <td>-0.311133</td>\n",
       "      <td>0.967812</td>\n",
       "      <td>1.251093</td>\n",
       "    </tr>\n",
       "    <tr>\n",
       "      <th>2</th>\n",
       "      <td>-1.393265</td>\n",
       "      <td>0.844528</td>\n",
       "      <td>-0.634767</td>\n",
       "      <td>0.971616</td>\n",
       "      <td>0.020121</td>\n",
       "      <td>-0.224823</td>\n",
       "    </tr>\n",
       "    <tr>\n",
       "      <th>3</th>\n",
       "      <td>3.289348</td>\n",
       "      <td>0.946019</td>\n",
       "      <td>0.641351</td>\n",
       "      <td>1.069610</td>\n",
       "      <td>0.717315</td>\n",
       "      <td>0.612031</td>\n",
       "    </tr>\n",
       "    <tr>\n",
       "      <th>4</th>\n",
       "      <td>2.728297</td>\n",
       "      <td>0.024489</td>\n",
       "      <td>1.213368</td>\n",
       "      <td>0.261710</td>\n",
       "      <td>0.681006</td>\n",
       "      <td>0.864209</td>\n",
       "    </tr>\n",
       "  </tbody>\n",
       "</table>\n",
       "</div>"
      ],
      "text/plain": [
       "          y        x1        x2        x3        x4        x5\n",
       "0  1.764742  0.925627  1.204426  0.949487  0.921375  0.958830\n",
       "1  3.209386  0.459292  1.420216 -0.311133  0.967812  1.251093\n",
       "2 -1.393265  0.844528 -0.634767  0.971616  0.020121 -0.224823\n",
       "3  3.289348  0.946019  0.641351  1.069610  0.717315  0.612031\n",
       "4  2.728297  0.024489  1.213368  0.261710  0.681006  0.864209"
      ]
     },
     "execution_count": 2,
     "metadata": {},
     "output_type": "execute_result"
    }
   ],
   "source": [
    "df = pd.read_csv('w5.csv')\n",
    "print(df.shape)\n",
    "df.head()"
   ]
  },
  {
   "cell_type": "code",
   "execution_count": 3,
   "id": "c2aac9bd",
   "metadata": {},
   "outputs": [],
   "source": [
    "X = df.iloc[:,1:].to_numpy()\n",
    "y = df.iloc[:,0].to_numpy().reshape(-1,1)"
   ]
  },
  {
   "cell_type": "markdown",
   "id": "76acc7d0",
   "metadata": {},
   "source": [
    "## Single Value Decomposition"
   ]
  },
  {
   "cell_type": "markdown",
   "id": "d98abf5a",
   "metadata": {},
   "source": [
    "$$ X = P \\cdot D \\cdot Q^{T} $$"
   ]
  },
  {
   "cell_type": "code",
   "execution_count": 25,
   "id": "079fbc2b",
   "metadata": {},
   "outputs": [],
   "source": [
    "P, d, Q_T = np.linalg.svd(X, full_matrices=False)"
   ]
  },
  {
   "cell_type": "markdown",
   "id": "e1410aac",
   "metadata": {},
   "source": [
    "**1.1 Reconstruction**"
   ]
  },
  {
   "cell_type": "code",
   "execution_count": 26,
   "id": "5dfefcdd",
   "metadata": {},
   "outputs": [
    {
     "data": {
      "text/plain": [
       "6.090673275959986e-16"
      ]
     },
     "execution_count": 26,
     "metadata": {},
     "output_type": "execute_result"
    }
   ],
   "source": [
    "X_reconstructed = P @ D @ Q_T\n",
    "np.std(X - X_reconstructed)"
   ]
  },
  {
   "cell_type": "code",
   "execution_count": 28,
   "id": "eb46cdbe",
   "metadata": {
    "scrolled": true
   },
   "outputs": [
    {
     "name": "stdout",
     "output_type": "stream",
     "text": [
      "X:  (200, 5)\n",
      "y:  (200, 1)\n",
      "P:  (200, 5)\n",
      "D:  (5, 5)\n",
      "Q:  (5, 5)\n"
     ]
    }
   ],
   "source": [
    "Q = Q_T.T\n",
    "P = P.T\n",
    "D = np.diag(d)  # D**2 are the eigenvalues\n",
    "print('X: ', X.shape)\n",
    "print('y: ', y.shape)\n",
    "print('P: ', P.shape)\n",
    "print('D: ', D.shape)\n",
    "print('Q: ',Q_T.shape)"
   ]
  },
  {
   "cell_type": "markdown",
   "id": "ea84d139",
   "metadata": {},
   "source": [
    "**1.1 Reconstruction**"
   ]
  },
  {
   "cell_type": "code",
   "execution_count": 24,
   "id": "a9adc1ed",
   "metadata": {},
   "outputs": [
    {
     "ename": "ValueError",
     "evalue": "matmul: Input operand 1 has a mismatch in its core dimension 0, with gufunc signature (n?,k),(k,m?)->(n?,m?) (size 5 is different from 200)",
     "output_type": "error",
     "traceback": [
      "\u001b[0;31m---------------------------------------------------------------------------\u001b[0m",
      "\u001b[0;31mValueError\u001b[0m                                Traceback (most recent call last)",
      "Input \u001b[0;32mIn [24]\u001b[0m, in \u001b[0;36m<cell line: 1>\u001b[0;34m()\u001b[0m\n\u001b[0;32m----> 1\u001b[0m X_reconstructed \u001b[38;5;241m=\u001b[39m \u001b[43mP\u001b[49m\u001b[43m \u001b[49m\u001b[38;5;241;43m@\u001b[39;49m\u001b[43m \u001b[49m\u001b[43mD\u001b[49m \u001b[38;5;241m@\u001b[39m Q_T\n\u001b[1;32m      2\u001b[0m np\u001b[38;5;241m.\u001b[39mstd(X \u001b[38;5;241m-\u001b[39m X_reconstructed)\n",
      "\u001b[0;31mValueError\u001b[0m: matmul: Input operand 1 has a mismatch in its core dimension 0, with gufunc signature (n?,k),(k,m?)->(n?,m?) (size 5 is different from 200)"
     ]
    }
   ],
   "source": [
    "X_reconstructed = P @ D @ Q_T\n",
    "np.std(X - X_reconstructed)"
   ]
  },
  {
   "cell_type": "code",
   "execution_count": 8,
   "id": "21f6fa71",
   "metadata": {},
   "outputs": [
    {
     "name": "stdout",
     "output_type": "stream",
     "text": [
      "PXQ':\n",
      " [[18.91  0.   -0.    0.    0.  ]\n",
      " [-0.   10.88 -0.   -0.    0.  ]\n",
      " [ 0.   -0.    3.37  0.    0.  ]\n",
      " [ 0.    0.    0.    1.25 -0.  ]\n",
      " [-0.    0.    0.   -0.    0.88]]\n",
      "\n",
      "\n",
      "D:\n",
      " [[18.91  0.    0.    0.    0.  ]\n",
      " [ 0.   10.88  0.    0.    0.  ]\n",
      " [ 0.    0.    3.37  0.    0.  ]\n",
      " [ 0.    0.    0.    1.25  0.  ]\n",
      " [ 0.    0.    0.    0.    0.88]]\n"
     ]
    }
   ],
   "source": [
    "with np.printoptions(precision=2, suppress=True, threshold=5):\n",
    "    print(\"PXQ':\\n\", P @ X @ Q)\n",
    "    print(\"\\n\\nD:\\n\", D)"
   ]
  },
  {
   "cell_type": "markdown",
   "id": "5c992a18",
   "metadata": {},
   "source": [
    "**1.2 Transform the Data**"
   ]
  },
  {
   "cell_type": "code",
   "execution_count": 9,
   "id": "e9f3bdc2",
   "metadata": {},
   "outputs": [],
   "source": [
    "z = P.T @ y"
   ]
  },
  {
   "cell_type": "markdown",
   "id": "8226ad0a",
   "metadata": {},
   "source": [
    "**1.3 Linear Regression**"
   ]
  },
  {
   "cell_type": "markdown",
   "id": "80c87ced",
   "metadata": {},
   "source": [
    "Recall Multiple Linear Regression"
   ]
  },
  {
   "cell_type": "markdown",
   "id": "bfc82e36",
   "metadata": {},
   "source": [
    "$$ \\hat\\beta = (X'X)^{-1}X'y $$"
   ]
  },
  {
   "cell_type": "markdown",
   "id": "5aac448f",
   "metadata": {},
   "source": [
    "Recall Transform Model"
   ]
  },
  {
   "cell_type": "markdown",
   "id": "cc3d5a7d",
   "metadata": {},
   "source": [
    "$$ z = D \\cdot \\gamma $$"
   ]
  },
  {
   "cell_type": "code",
   "execution_count": 10,
   "id": "09954382",
   "metadata": {
    "scrolled": true
   },
   "outputs": [
    {
     "data": {
      "text/plain": [
       "array([[-1.09360122, -0.37678565, -0.67855824,  2.15723033, -1.26843182]])"
      ]
     },
     "execution_count": 10,
     "metadata": {},
     "output_type": "execute_result"
    }
   ],
   "source": [
    "reg = LinearRegression(fit_intercept = False).fit(D, z) \n",
    "reg.coef_ "
   ]
  },
  {
   "cell_type": "code",
   "execution_count": 13,
   "id": "a05966b1",
   "metadata": {
    "scrolled": true
   },
   "outputs": [
    {
     "name": "stdout",
     "output_type": "stream",
     "text": [
      "gamma_hat:  [-1.09360122 -0.37678565 -0.67855824  2.15723033 -1.26843182]\n"
     ]
    }
   ],
   "source": [
    "gamma_hat = np.linalg.inv(D.T @ D) @ D.T @ z\n",
    "print(\"gamma_hat: \", gamma_hat.flatten())"
   ]
  },
  {
   "cell_type": "markdown",
   "id": "7be2f245",
   "metadata": {},
   "source": [
    "Get Beta: Two options:\n",
    "- gamma = Q * B\n",
    "- Get Beta from Data ( works because we are using all the PC)"
   ]
  },
  {
   "cell_type": "code",
   "execution_count": 15,
   "id": "e54c2ba5",
   "metadata": {},
   "outputs": [
    {
     "name": "stdout",
     "output_type": "stream",
     "text": [
      "beta_hat:  [ 0.67177036  1.31224093 -0.27019562  1.99255642 -1.35808537]\n"
     ]
    }
   ],
   "source": [
    "beta_hat = gamma_hat.flatten() @ np.linalg.inv(Q)\n",
    "print(\"beta_hat: \", beta_hat)"
   ]
  },
  {
   "cell_type": "code",
   "execution_count": 17,
   "id": "2ddf4b81",
   "metadata": {},
   "outputs": [
    {
     "name": "stdout",
     "output_type": "stream",
     "text": [
      "beta_hat:  [ 0.67177036  1.31224093 -0.27019562  1.99255642 -1.35808537]\n"
     ]
    }
   ],
   "source": [
    "beta_hat = np.linalg.inv(X.T @ X) @ X.T @ y\n",
    "print(\"beta_hat: \", beta_hat.flatten())"
   ]
  },
  {
   "cell_type": "markdown",
   "id": "d4271ee8",
   "metadata": {},
   "source": [
    "# Problem 1.4: using only 4 principle components."
   ]
  },
  {
   "cell_type": "code",
   "execution_count": 19,
   "id": "03099427",
   "metadata": {},
   "outputs": [
    {
     "name": "stdout",
     "output_type": "stream",
     "text": [
      "gamma_hat_4:  [-1.09360122 -0.37678565 -0.67855824  2.15723033]\n"
     ]
    }
   ],
   "source": [
    "D_4 = D[:4, :4]\n",
    "z_4 = P.T[:4, :] @ y\n",
    "gamma_hat_4 = np.linalg.inv(D_4.T @ D_4) @ D_4.T @ z_4\n",
    "print(\"gamma_hat_4: \", gamma_hat_4.flatten())"
   ]
  },
  {
   "cell_type": "code",
   "execution_count": 21,
   "id": "9b77ab12",
   "metadata": {},
   "outputs": [
    {
     "name": "stdout",
     "output_type": "stream",
     "text": [
      "beta_hat_4:  [-0.46332873  0.69326518 -0.39259119 -0.11947841 -2.36396319]\n"
     ]
    }
   ],
   "source": [
    "print(\"beta_hat_4: \", (Q_T[:, :4] @ gamma_hat_4).flatten())"
   ]
  },
  {
   "cell_type": "code",
   "execution_count": 22,
   "id": "d8a73c51",
   "metadata": {},
   "outputs": [
    {
     "name": "stdout",
     "output_type": "stream",
     "text": [
      "beta_hat_4:  [ 1.12427654  1.7212518  -0.28414886  0.89901372 -1.15600315]\n"
     ]
    }
   ],
   "source": [
    "print(\"beta_hat_4: \", (Q[:, :4] @ gamma_hat_4).flatten())"
   ]
  },
  {
   "cell_type": "code",
   "execution_count": null,
   "id": "d65b6b51",
   "metadata": {},
   "outputs": [],
   "source": []
  },
  {
   "cell_type": "code",
   "execution_count": null,
   "id": "c47cbcec",
   "metadata": {},
   "outputs": [],
   "source": [
    "pca = PCA(n_components = 4)\n",
    "X_pca_4 = pca.fit_transform(X) # Data is Centered\n",
    "pca.components_"
   ]
  },
  {
   "cell_type": "code",
   "execution_count": null,
   "id": "5510751e",
   "metadata": {},
   "outputs": [],
   "source": [
    "reg = LinearRegression(fit_intercept = False).fit(D, z) \n",
    "reg.coef_ "
   ]
  },
  {
   "cell_type": "code",
   "execution_count": null,
   "id": "1d69df93",
   "metadata": {},
   "outputs": [],
   "source": []
  },
  {
   "cell_type": "code",
   "execution_count": null,
   "id": "05eed6ad",
   "metadata": {},
   "outputs": [],
   "source": [
    "z_4.shape"
   ]
  },
  {
   "cell_type": "code",
   "execution_count": null,
   "id": "0e7106fa",
   "metadata": {
    "scrolled": true
   },
   "outputs": [],
   "source": [
    "X = df.iloc[:,1:].to_numpy()\n",
    "X = (X - np.mean(X, axis = 0))\n",
    "P, d, Q_T = np.linalg.svd(X, full_matrices=False)\n",
    "D = np.diag(d)  # D**2 are the eigenvalues\n",
    "X_reconstructed = P @ D @ Q_T\n",
    "np.std(X - X_reconstructed)"
   ]
  },
  {
   "cell_type": "code",
   "execution_count": null,
   "id": "d355ff3f",
   "metadata": {},
   "outputs": [],
   "source": [
    "Q_T"
   ]
  },
  {
   "cell_type": "code",
   "execution_count": null,
   "id": "3d3e639d",
   "metadata": {
    "scrolled": true
   },
   "outputs": [],
   "source": [
    "pca = PCA(n_components = 5)\n",
    "X_pca_5 = pca.fit_transform(X)\n",
    "pca.components_"
   ]
  },
  {
   "cell_type": "code",
   "execution_count": null,
   "id": "0adce758",
   "metadata": {},
   "outputs": [],
   "source": [
    "X_pca_5.shape"
   ]
  },
  {
   "cell_type": "code",
   "execution_count": null,
   "id": "a86bf2c2",
   "metadata": {},
   "outputs": [],
   "source": []
  },
  {
   "cell_type": "code",
   "execution_count": null,
   "id": "1056a959",
   "metadata": {},
   "outputs": [],
   "source": [
    "pca = PCA(n_components = 4)\n",
    "X_pca_4 = pca.fit_transform(X)\n",
    "pca.components_"
   ]
  },
  {
   "cell_type": "code",
   "execution_count": null,
   "id": "e4f3d8cc",
   "metadata": {},
   "outputs": [],
   "source": [
    "X_pca_4.shape"
   ]
  },
  {
   "cell_type": "code",
   "execution_count": null,
   "id": "3f5509bd",
   "metadata": {},
   "outputs": [],
   "source": []
  },
  {
   "cell_type": "code",
   "execution_count": null,
   "id": "a119c20d",
   "metadata": {},
   "outputs": [],
   "source": [
    "pca.singular_values_"
   ]
  },
  {
   "cell_type": "code",
   "execution_count": null,
   "id": "c0a4d657",
   "metadata": {},
   "outputs": [],
   "source": [
    "P.T.shape"
   ]
  },
  {
   "cell_type": "markdown",
   "id": "133c42ba",
   "metadata": {},
   "source": [
    "**1.3 Linear Regression**"
   ]
  },
  {
   "cell_type": "code",
   "execution_count": null,
   "id": "d5f04b95",
   "metadata": {},
   "outputs": [],
   "source": []
  },
  {
   "cell_type": "code",
   "execution_count": null,
   "id": "2fee75bb",
   "metadata": {},
   "outputs": [],
   "source": []
  },
  {
   "cell_type": "code",
   "execution_count": null,
   "id": "b08a8a24",
   "metadata": {},
   "outputs": [],
   "source": []
  },
  {
   "cell_type": "code",
   "execution_count": null,
   "id": "cb50574d",
   "metadata": {},
   "outputs": [],
   "source": []
  },
  {
   "cell_type": "markdown",
   "id": "0178a2b1",
   "metadata": {},
   "source": [
    "**Feature Vector & Data Transform**"
   ]
  },
  {
   "cell_type": "markdown",
   "id": "25b6f62b",
   "metadata": {},
   "source": [
    "Each row is a component, top row is the first principal component (PC1). \n",
    "\n",
    "The columns are the features ordered from x1 through x5"
   ]
  },
  {
   "cell_type": "code",
   "execution_count": null,
   "id": "17aaee7f",
   "metadata": {},
   "outputs": [],
   "source": [
    "pca_f5 = PCA(n_components=5)\n",
    "X_pca = pca_f5.fit_transform(X)\n",
    "print(np.round(pca_f5.components_,3))    "
   ]
  },
  {
   "cell_type": "markdown",
   "id": "b6302f54",
   "metadata": {},
   "source": [
    "**Explained Variance Vector**"
   ]
  },
  {
   "cell_type": "code",
   "execution_count": null,
   "id": "b42c87ac",
   "metadata": {},
   "outputs": [],
   "source": [
    "print('Variance explained by PC1 thru PC5 =', np.round(pca_f5.explained_variance_ratio_,3))"
   ]
  },
  {
   "cell_type": "code",
   "execution_count": null,
   "id": "8a79e521",
   "metadata": {},
   "outputs": [],
   "source": [
    "f, (ax10, ax11) = plt.subplots(1, 2,figsize=(15,6))\n",
    "f.subplots_adjust(wspace=0.5,hspace = 0.3)\n",
    "\n",
    "ax10.plot(np.arange(1,6,1),pca_f5.explained_variance_ratio_*100,color='blue',alpha=0.4)\n",
    "ax10.scatter(np.arange(1,6,1),pca_f5.explained_variance_ratio_*100,color='blue',alpha=0.4,edgecolor='black')\n",
    "ax10.set_xlabel('PC #'); ax10.set_ylabel('Variance Explained'); ax10.set_title('Variance Explained by each PC')\n",
    "fmt = '%.0f%%' # Format you want the ticks, e.g. '40%'\n",
    "yticks = mtick.FormatStrFormatter(fmt); ax10.set_xlim(1,6); ax10.set_ylim(0,100.0)\n",
    "ax10.yaxis.set_major_formatter(yticks)\n",
    "\n",
    "ax11.plot(np.arange(1,6,1),np.cumsum(pca_f5.explained_variance_ratio_*100),color='blue',alpha=0.4)\n",
    "ax11.scatter(np.arange(1,6,1),np.cumsum(pca_f5.explained_variance_ratio_*100),color='blue',alpha=0.4,edgecolor='black')\n",
    "ax11.plot([1,6],[95,95], color='red',linestyle='dashed')\n",
    "ax11.set_xlabel('PC #'); ax11.set_ylabel('Cum. Variance Explained'); ax11.set_title('Cum. Variance Explained by each PC')\n",
    "fmt = '%.0f%%' # Format you want the ticks, e.g. '40%'\n",
    "yticks = mtick.FormatStrFormatter(fmt); ax11.set_xlim(1,6); ax11.set_ylim(0,100.0); ax11.annotate('95% variance explained',[4.05,90])\n",
    "ax11.yaxis.set_major_formatter(yticks)\n",
    "\n",
    "# plt.show()"
   ]
  },
  {
   "cell_type": "markdown",
   "id": "ad3f0c09",
   "metadata": {},
   "source": [
    "**Transform Original Data**"
   ]
  },
  {
   "cell_type": "code",
   "execution_count": null,
   "id": "a3b72e71",
   "metadata": {},
   "outputs": [],
   "source": [
    "X.shape"
   ]
  },
  {
   "cell_type": "code",
   "execution_count": null,
   "id": "ddfba706",
   "metadata": {},
   "outputs": [],
   "source": [
    "transformdata = np.matmul(pca_f5.components_ , X.T)  # Each row is an eigenvector and each row in X is a feature\n",
    "transformdata.shape "
   ]
  },
  {
   "cell_type": "code",
   "execution_count": null,
   "id": "f5c0e185",
   "metadata": {},
   "outputs": [],
   "source": [
    "transformdata = transformdata.T "
   ]
  },
  {
   "cell_type": "code",
   "execution_count": null,
   "id": "3b259502",
   "metadata": {},
   "outputs": [],
   "source": [
    "reg = LinearRegression().fit(transformdata, y)"
   ]
  },
  {
   "cell_type": "code",
   "execution_count": null,
   "id": "854c4f8d",
   "metadata": {},
   "outputs": [],
   "source": [
    "reg.coef_"
   ]
  },
  {
   "cell_type": "code",
   "execution_count": null,
   "id": "3b3d7708",
   "metadata": {},
   "outputs": [],
   "source": []
  },
  {
   "cell_type": "code",
   "execution_count": null,
   "id": "98d56349",
   "metadata": {},
   "outputs": [],
   "source": []
  },
  {
   "cell_type": "code",
   "execution_count": null,
   "id": "e4f3fe3c",
   "metadata": {},
   "outputs": [],
   "source": []
  },
  {
   "cell_type": "markdown",
   "id": "e054078b",
   "metadata": {},
   "source": [
    "## 1.3"
   ]
  },
  {
   "cell_type": "markdown",
   "id": "5bb8409c",
   "metadata": {},
   "source": [
    "$$ \\hat\\gamma = [-1.094,-0.377,-0.679,2.157,-1.268] $$"
   ]
  },
  {
   "cell_type": "markdown",
   "id": "92d00def",
   "metadata": {},
   "source": [
    "$$ \\hat\\beta =  [0.672,1.312,-0.27,1.993,-1.358] $$"
   ]
  },
  {
   "cell_type": "markdown",
   "id": "18c1d70e",
   "metadata": {},
   "source": [
    "## 1.4"
   ]
  },
  {
   "cell_type": "markdown",
   "id": "795e71fb",
   "metadata": {},
   "source": [
    "$$ \\hat\\gamma = [-1.094,-0.377,-0.679,2.157] $$"
   ]
  },
  {
   "cell_type": "markdown",
   "id": "6439053f",
   "metadata": {},
   "source": [
    "$$ \\hat\\beta =  [1.124,1.721,-0.284,0.899,-1.156] $$"
   ]
  },
  {
   "cell_type": "markdown",
   "id": "2220d8af",
   "metadata": {},
   "source": [
    "## 1.5"
   ]
  },
  {
   "cell_type": "markdown",
   "id": "17a8efe0",
   "metadata": {},
   "source": [
    "$$ \\hat\\gamma = [-1.094,-0.377] $$"
   ]
  },
  {
   "cell_type": "markdown",
   "id": "13863cd2",
   "metadata": {},
   "source": [
    "$$ \\hat\\beta = [0.381,0.698,0.299,0.523,0.585] $$"
   ]
  }
 ],
 "metadata": {
  "kernelspec": {
   "display_name": "pymc_env",
   "language": "python",
   "name": "pymc_env"
  },
  "language_info": {
   "codemirror_mode": {
    "name": "ipython",
    "version": 3
   },
   "file_extension": ".py",
   "mimetype": "text/x-python",
   "name": "python",
   "nbconvert_exporter": "python",
   "pygments_lexer": "ipython3",
   "version": "3.10.5"
  }
 },
 "nbformat": 4,
 "nbformat_minor": 5
}
