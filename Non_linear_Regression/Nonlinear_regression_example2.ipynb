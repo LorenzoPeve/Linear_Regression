{
 "cells": [
  {
   "cell_type": "markdown",
   "id": "0236e60c",
   "metadata": {},
   "source": [
    "# Non Linear Regression"
   ]
  },
  {
   "cell_type": "markdown",
   "id": "d2912013",
   "metadata": {},
   "source": [
    "### Importing Modules"
   ]
  },
  {
   "cell_type": "code",
   "execution_count": 1,
   "id": "380d4aa5",
   "metadata": {},
   "outputs": [],
   "source": [
    "import math\n",
    "import matplotlib.pyplot as plt\n",
    "import numpy as np\n",
    "import os\n",
    "import pandas as pd"
   ]
  },
  {
   "cell_type": "markdown",
   "id": "994657b7",
   "metadata": {},
   "source": [
    "### Model & Setting up NR"
   ]
  },
  {
   "cell_type": "markdown",
   "id": "452215a5",
   "metadata": {},
   "source": [
    "\\begin{align}\n",
    "\\large\n",
    "y_i = \\dfrac{100x_i}{\\theta + x_i} + \\sigma\\epsilon_i, \\hspace{10 mm} i = 1, 2,..., 100. \\\\\n",
    "\\end{align}"
   ]
  },
  {
   "cell_type": "code",
   "execution_count": 2,
   "id": "d0ff0389",
   "metadata": {},
   "outputs": [
    {
     "data": {
      "image/png": "[encoded data removed]",
      "text/plain": [
       "<Figure size 432x288 with 1 Axes>"
      ]
     },
     "metadata": {
      "needs_background": "light"
     },
     "output_type": "display_data"
    }
   ],
   "source": [
    "x = np.arange(1,101)\n",
    "theta = 1\n",
    "sigma = 2\n",
    "ei = np.random.normal(loc = 0.0, scale = 1, size = x.shape)\n",
    "y = ((100*x)/(theta +x)) + sigma* ei\n",
    "\n",
    "# Plotting\n",
    "plt.scatter(x, y)\n",
    "plt.xlabel('x'), plt.ylabel('y')\n",
    "plt.grid()\n",
    "plt.show()"
   ]
  },
  {
   "cell_type": "markdown",
   "id": "7f7a2b56",
   "metadata": {},
   "source": [
    "\\begin{align}\n",
    "\\large\n",
    "I(\\theta)  = \\frac{1}{2} \\Sigma_{i=1}^{n}(y_i - \\dfrac{ax_i}{\\theta + x_i})^{2}\n",
    "\\\\\n",
    "\\\\\n",
    "\\large\n",
    "I'(\\theta) = - \\Sigma_{i=1}^{n}(y_i - \\dfrac{ax_i}{\\theta + x_i})\\hspace{5mm}\\dfrac{ax_i}{(\\theta + x_i)^2}\n",
    "\\\\\n",
    "\\\\\n",
    "\\large\n",
    "I''(\\theta) = -2\\Sigma_{i=1}^{n}\\dfrac{ay_ix_i}{(\\theta + x_i)^3} +3   \\Sigma_{i=1}^{n}\\dfrac{a^2x_i^2}{(\\theta + x_i)^4}\n",
    "\\\\\n",
    "\\\\\n",
    "\\end{align}"
   ]
  },
  {
   "cell_type": "markdown",
   "id": "84c7384a",
   "metadata": {},
   "source": [
    "1. Use a Newton-Raphson algorithm to find the least squares estimator, $\\hat\\theta$, for $\\theta$\n",
    "(take the initial value $\\theta_0$ = 1)."
   ]
  },
  {
   "cell_type": "markdown",
   "id": "688305af",
   "metadata": {},
   "source": [
    "*Newton-Raphson*"
   ]
  },
  {
   "cell_type": "markdown",
   "id": "7c0259c5",
   "metadata": {},
   "source": [
    "\\begin{equation}\n",
    "x = x_0 - \\frac{f (x_0)}{f'(x_0)} \\\\\n",
    "\\theta_{t+1} = \\theta_{t} - \\frac{L'(\\theta)}{L''(\\theta)}.\n",
    "\\end{equation}"
   ]
  },
  {
   "cell_type": "markdown",
   "id": "42b3ef8a",
   "metadata": {},
   "source": [
    "### Least Squares Estimator"
   ]
  },
  {
   "cell_type": "markdown",
   "id": "d82ce212",
   "metadata": {},
   "source": [
    "*Newton-Raphson Set-up for Least Squares*"
   ]
  },
  {
   "cell_type": "code",
   "execution_count": 3,
   "id": "f57f63a3",
   "metadata": {},
   "outputs": [],
   "source": [
    "def newton(x, y, guess, tolerance = 0.00001, output_message = False):\n",
    "    \"\"\"\n",
    "    Args:\n",
    "        guess (float): initial value for parameter\n",
    "        tolerance (float): tolerance\n",
    "    \n",
    "    \\begin{equation}\n",
    "    t = t_0 - \\frac{f(x_0)}{f'(x_0)}.\n",
    "    \\end{equation}\n",
    "\n",
    "    \"\"\"\n",
    "    #Initialize\n",
    "    t_0 = guess\n",
    "    difference = tolerance * 5 # Enter Loop\n",
    "    iter_number = 0\n",
    "\n",
    "    status_message = 'Starting with Guess = ' + str(t_0) + '\\n'\n",
    "    while abs(difference) > tolerance:\n",
    "        \n",
    "        # calculate values of function and derivative and t+1 value\n",
    "        \n",
    "        f =  np.sum(    (y- ((100*x)/(t_0 +x)))   * ((100*x)/(t_0 +x)**2) )               \n",
    "        f_prime = - 2 * np.sum((100*y*x) /(t_0 + x)**3) + 3 *np.sum(((100**2)*(x**2)) /(t_0 + x)**4)\n",
    "        t = t_0 - (f / f_prime)\n",
    "\n",
    "        # calculate difference and update iteration state\n",
    "        difference = t - t_0\n",
    "        t_0 = t\n",
    "        iter_number += 1\n",
    "        status_message += 'Iteration #' + str(iter_number) + ':= ' + str(t) + '\\n'\n",
    "        \n",
    "    status_message += 'Total No. of Iterations = '  +  str(iter_number)\n",
    "    \n",
    "    if output_message:\n",
    "        return t_0, status_message\n",
    "    return t_0    "
   ]
  },
  {
   "cell_type": "code",
   "execution_count": 4,
   "id": "bddd5743",
   "metadata": {},
   "outputs": [
    {
     "name": "stdout",
     "output_type": "stream",
     "text": [
      "Starting with Guess = 1.4\n",
      "Iteration #1:= 0.8672669803328653\n",
      "Iteration #2:= 0.9785045483821829\n",
      "Iteration #3:= 0.988957578453745\n",
      "Iteration #4:= 0.9890366328519096\n",
      "Iteration #5:= 0.9890366373080094\n",
      "Total No. of Iterations = 5\n",
      "Theta_hat = 0.9890366373080094\n"
     ]
    }
   ],
   "source": [
    "theta_hat, message = newton(x, y, guess = 1.4, output_message = True)\n",
    "print(message)\n",
    "print('Theta_hat =', theta_hat)"
   ]
  },
  {
   "cell_type": "markdown",
   "id": "f5962312",
   "metadata": {},
   "source": [
    "2. Estimated value of $\\hat\\theta$, <br>\n",
    "$\\hspace{30mm}\\hat\\theta$ = 0.98903"
   ]
  },
  {
   "cell_type": "code",
   "execution_count": 5,
   "id": "7d6ee8a6",
   "metadata": {},
   "outputs": [
    {
     "data": {
      "image/png": "[encoded data removed]",
      "text/plain": [
       "<Figure size 432x288 with 1 Axes>"
      ]
     },
     "metadata": {
      "needs_background": "light"
     },
     "output_type": "display_data"
    }
   ],
   "source": [
    "plt.scatter(x, y, label='Data')\n",
    "plt.plot(x, ((100*x)/(theta_hat +x)), '.r', markersize = 10, label='Model')\n",
    "plt.xlabel('x'), plt.ylabel('y')\n",
    "plt.legend()\n",
    "plt.grid()\n",
    "plt.show()"
   ]
  },
  {
   "cell_type": "markdown",
   "id": "8fc2b4e4",
   "metadata": {},
   "source": [
    "### Variance of Estimator"
   ]
  },
  {
   "cell_type": "markdown",
   "id": "e55f9aa1",
   "metadata": {},
   "source": [
    "\\begin{equation}\n",
    "\\large\n",
    "Var I'(\\theta) = \\sigma^2 \\Sigma_{i=1}^{n}(\\dfrac{\\partial f(\\theta, x_i)}{\\partial \\theta})^2 \\\\\n",
    "\\large\n",
    "\\dfrac{\\partial f(\\theta, x_i)}{\\partial \\theta} = \\dfrac{\\partial \\dfrac{ax_i}{\\theta + x_i}}{\\partial \\theta} =  -\\dfrac{ax_i}{(\\theta + x_i)^2}\n",
    "\\\\\n",
    "\\\\\n",
    "\\large\n",
    "Var \\hat\\theta = \\sigma^2\\dfrac{\\Sigma_{i=1}^{n}(\\dfrac{\\partial f(\\theta, x_i)}{\\partial \\theta})^2}{I''(\\hat\\theta)^2}\n",
    "\\end{equation}"
   ]
  },
  {
   "cell_type": "code",
   "execution_count": 6,
   "id": "60f0b39e",
   "metadata": {},
   "outputs": [
    {
     "data": {
      "text/plain": [
       "0.07257137258214746"
      ]
     },
     "execution_count": 6,
     "metadata": {},
     "output_type": "execute_result"
    }
   ],
   "source": [
    "y_predicted = (100*x)/(theta_hat +x)\n",
    "var_xy = (1/(len(x)-1) * np.sum( (y-y_predicted )**2))\n",
    "var_I_prime = var_xy * np.sum(       ((100*x)/    ((theta_hat+x)**2)))**2\n",
    "f_prime = - 2 * np.sum((100*y*x) /(theta_hat + x)**3) + 3 *np.sum(((100**2)*(x**2)) /(theta_hat + x)**4)\n",
    "I_prime2 = f_prime\n",
    "var_theta_hat = var_I_prime / (I_prime2**2)\n",
    "var_theta_hat"
   ]
  },
  {
   "cell_type": "markdown",
   "id": "84cecc3d",
   "metadata": {},
   "source": [
    "4. Estimated value of $Var(\\hat\\theta)$, <br>\n",
    "$\\hspace{30mm}Var(\\hat\\theta)$ = 0.072"
   ]
  }
 ],
 "metadata": {
  "kernelspec": {
   "display_name": "pymc_env",
   "language": "python",
   "name": "pymc_env"
  },
  "language_info": {
   "codemirror_mode": {
    "name": "ipython",
    "version": 3
   },
   "file_extension": ".py",
   "mimetype": "text/x-python",
   "name": "python",
   "nbconvert_exporter": "python",
   "pygments_lexer": "ipython3",
   "version": "3.10.5"
  }
 },
 "nbformat": 4,
 "nbformat_minor": 5
}
