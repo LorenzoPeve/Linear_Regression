{
 "cells": [
  {
   "cell_type": "code",
   "execution_count": 1,
   "id": "5228a9c1",
   "metadata": {},
   "outputs": [],
   "source": [
    "import numpy as np\n",
    "import matplotlib.pyplot as plt\n",
    "from scipy.stats import f"
   ]
  },
  {
   "cell_type": "markdown",
   "id": "ec305b93",
   "metadata": {},
   "source": [
    "### Synthtetic Data"
   ]
  },
  {
   "cell_type": "markdown",
   "id": "14b30b08",
   "metadata": {},
   "source": [
    "\\begin{align}\n",
    "y_i = log (\\theta + x_i) + \\sigma \\epsilon_i\n",
    "\\end{align}"
   ]
  },
  {
   "cell_type": "code",
   "execution_count": 2,
   "id": "fb8e24a2",
   "metadata": {
    "scrolled": true
   },
   "outputs": [
    {
     "data": {
      "image/png": "[encoded data removed]",
      "text/plain": [
       "<Figure size 432x288 with 1 Axes>"
      ]
     },
     "metadata": {
      "needs_background": "light"
     },
     "output_type": "display_data"
    }
   ],
   "source": [
    "n = 100\n",
    "theta = 2\n",
    "ei = np.random.normal(loc = 0.0, scale = 1, size = (n,1))\n",
    "xi = np.random.uniform(low=0.0, high=2.0, size = (n,1))\n",
    "yi = np.log(theta + xi) + 0.1* ei\n",
    "plt.scatter(xi, yi)\n",
    "plt.xlabel('x')\n",
    "plt.ylabel('y')\n",
    "plt.show()"
   ]
  },
  {
   "cell_type": "markdown",
   "id": "9972a83e",
   "metadata": {},
   "source": [
    "### Newton–Raphson algorithm"
   ]
  },
  {
   "cell_type": "markdown",
   "id": "d1dace01",
   "metadata": {},
   "source": [
    "While true value of theta is 2, let's look at the sum of square residuals for various values of theta."
   ]
  },
  {
   "cell_type": "code",
   "execution_count": 3,
   "id": "72d395bf",
   "metadata": {},
   "outputs": [
    {
     "data": {
      "image/png": "[encoded data removed]",
      "text/plain": [
       "<Figure size 432x288 with 1 Axes>"
      ]
     },
     "metadata": {
      "needs_background": "light"
     },
     "output_type": "display_data"
    }
   ],
   "source": [
    "n = 100\n",
    "theta = 2\n",
    "ei = np.random.normal(loc = 0.0, scale = 1, size = (n,1))\n",
    "xi = np.random.uniform(low=0.0, high=2.0, size = (n,1))\n",
    "y = np.log(theta + xi) + 0.1* ei\n",
    "\n",
    "I_theta = []\n",
    "theta_vals = np.linspace(0, 4, 150, endpoint = True)\n",
    "for theta_i in theta_vals:\n",
    "    yi = np.log(theta_i + xi) + 0.1* ei\n",
    "    I_theta.append(0.5 * np.sum((y - yi)**2))\n",
    "\n",
    "yi = np.log(theta + xi) + 0.1* ei\n",
    "plt.scatter(theta_vals, I_theta)\n",
    "plt.xlabel('theta')\n",
    "plt.ylabel('I_theta')\n",
    "plt.show()"
   ]
  },
  {
   "cell_type": "markdown",
   "id": "ecf2b1f9",
   "metadata": {},
   "source": [
    "### Newton–Raphson algorithm Implementation"
   ]
  },
  {
   "cell_type": "code",
   "execution_count": 4,
   "id": "0e3e5cab",
   "metadata": {},
   "outputs": [
    {
     "data": {
      "image/png": "[encoded data removed]",
      "text/plain": [
       "<Figure size 432x288 with 1 Axes>"
      ]
     },
     "metadata": {
      "needs_background": "light"
     },
     "output_type": "display_data"
    }
   ],
   "source": [
    "n = 100\n",
    "\n",
    "y = []\n",
    "x = np.linspace(-1.5, 4.5, n, endpoint = True)\n",
    "for x_i in x:\n",
    "    yi = x_i**3 - 4*x_i**2 +1\n",
    "    y.append(yi)\n",
    "\n",
    "plt.scatter(x, y)\n",
    "plt.xlabel('x')\n",
    "plt.ylabel('y')\n",
    "plt.axhline(y=0, color='r', linestyle='-')\n",
    "plt.show()"
   ]
  },
  {
   "cell_type": "code",
   "execution_count": 2,
   "id": "8acdf50d",
   "metadata": {},
   "outputs": [
    {
     "name": "stdout",
     "output_type": "stream",
     "text": [
      "Starting with 0.5\n",
      "Iteration # 1 = 0.5384615384615384\n",
      "Iteration # 2 = 0.5374023566794651\n",
      "Iteration # 3 = 0.5374015770256486\n",
      "Total No. of Iterations 3\n",
      "Starting with -0.5\n",
      "Iteration # 1 = -0.4736842105263158\n",
      "Iteration # 2 = -0.472834787154105\n",
      "Total No. of Iterations 2\n"
     ]
    }
   ],
   "source": [
    "def newton(x_i, tolerance = 0.001):\n",
    "    \n",
    "    difference = tolerance * 5 # Enter Loop\n",
    "    iter_number = 0\n",
    "    \n",
    "    print('Starting with', x_i)\n",
    "    while abs(difference) > tolerance:\n",
    "        \n",
    "        yi = x_i**3 - 4*x_i**2 +1\n",
    "        yi_prime = 3*x_i**2 - 8*x_i\n",
    "        x_i_plus_1 = x_i - (yi / yi_prime)\n",
    "        difference = x_i - x_i_plus_1\n",
    "        x_i = x_i_plus_1\n",
    "        iter_number += 1\n",
    "        print('Iteration #', iter_number, '=', x_i)\n",
    "\n",
    "        \n",
    "    print('Total No. of Iterations', iter_number)\n",
    "    return\n",
    "\n",
    "newton(0.5, tolerance = 0.001)\n",
    "newton(-0.5, tolerance = 0.001)\n",
    "# newton(3, tolerance = 0.001)\n",
    "# newton(1, tolerance = 0.001)\n",
    "# newton(10, tolerance = 0.001)"
   ]
  },
  {
   "cell_type": "code",
   "execution_count": 3,
   "id": "8ca664b1",
   "metadata": {},
   "outputs": [],
   "source": [
    "def newton(start, tolerance = 0.001):\n",
    "    \"\"\"\n",
    "    Args:\n",
    "        param \n",
    "    \n",
    "    \\begin{equation}\n",
    "    t = t_0 - \\frac{f (x_0)}{f'(x_0)}.\n",
    "    \\end{equation}\n",
    "    \"\"\"\n",
    "\n",
    "    t_0 = start\n",
    "\n",
    "    difference = tolerance * 5 # Enter Loop\n",
    "    iter_number = 0\n",
    "    \n",
    "    print('Starting with', t_0)\n",
    "    while abs(difference) > tolerance:\n",
    "        \n",
    "        yi = t_0**3 - 4*t_0**2 +1\n",
    "        yi_prime = 3*t_0**2 - 8*t_0\n",
    "\n",
    "\n",
    "\n",
    "        t = t_0 - (yi / yi_prime)\n",
    "        difference = t - t_0\n",
    "        t_0 = t\n",
    "        iter_number += 1\n",
    "        print('Iteration #', iter_number, '=', t)\n",
    "\n",
    "        \n",
    "    print('Total No. of Iterations', iter_number)\n",
    "    return"
   ]
  },
  {
   "cell_type": "code",
   "execution_count": 4,
   "id": "c5869ca0",
   "metadata": {},
   "outputs": [
    {
     "name": "stdout",
     "output_type": "stream",
     "text": [
      "Starting with 0.5\n",
      "Iteration # 1 = 0.5384615384615384\n",
      "Iteration # 2 = 0.5374023566794651\n",
      "Iteration # 3 = 0.5374015770256486\n",
      "Total No. of Iterations 3\n",
      "Starting with -0.5\n",
      "Iteration # 1 = -0.4736842105263158\n",
      "Iteration # 2 = -0.472834787154105\n",
      "Total No. of Iterations 2\n"
     ]
    }
   ],
   "source": [
    "newton(0.5, tolerance = 0.001)\n",
    "newton(-0.5, tolerance = 0.001)"
   ]
  }
 ],
 "metadata": {
  "kernelspec": {
   "display_name": "pymc_env",
   "language": "python",
   "name": "pymc_env"
  },
  "language_info": {
   "codemirror_mode": {
    "name": "ipython",
    "version": 3
   },
   "file_extension": ".py",
   "mimetype": "text/x-python",
   "name": "python",
   "nbconvert_exporter": "python",
   "pygments_lexer": "ipython3",
   "version": "3.10.5"
  }
 },
 "nbformat": 4,
 "nbformat_minor": 5
}
