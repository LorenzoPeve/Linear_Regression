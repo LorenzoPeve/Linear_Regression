{
 "cells": [
  {
   "cell_type": "markdown",
   "id": "0236e60c",
   "metadata": {},
   "source": [
    "# Non Linear Regression"
   ]
  },
  {
   "cell_type": "markdown",
   "id": "d2912013",
   "metadata": {},
   "source": [
    "### Importing Modules"
   ]
  },
  {
   "cell_type": "code",
   "execution_count": 1,
   "id": "380d4aa5",
   "metadata": {},
   "outputs": [],
   "source": [
    "import math\n",
    "import matplotlib.pyplot as plt\n",
    "import numpy as np\n",
    "import os\n",
    "import pandas as pd\n",
    "import random"
   ]
  },
  {
   "cell_type": "markdown",
   "id": "2affaed5",
   "metadata": {},
   "source": [
    "### Reading Data"
   ]
  },
  {
   "cell_type": "code",
   "execution_count": 2,
   "id": "9b8a79d4",
   "metadata": {},
   "outputs": [
    {
     "name": "stdout",
     "output_type": "stream",
     "text": [
      "Shape of data:  (100, 2)\n"
     ]
    },
    {
     "data": {
      "text/html": [
       "<div>\n",
       "<style scoped>\n",
       "    .dataframe tbody tr th:only-of-type {\n",
       "        vertical-align: middle;\n",
       "    }\n",
       "\n",
       "    .dataframe tbody tr th {\n",
       "        vertical-align: top;\n",
       "    }\n",
       "\n",
       "    .dataframe thead th {\n",
       "        text-align: right;\n",
       "    }\n",
       "</style>\n",
       "<table border=\"1\" class=\"dataframe\">\n",
       "  <thead>\n",
       "    <tr style=\"text-align: right;\">\n",
       "      <th></th>\n",
       "      <th>y</th>\n",
       "      <th>x</th>\n",
       "    </tr>\n",
       "  </thead>\n",
       "  <tbody>\n",
       "    <tr>\n",
       "      <th>0</th>\n",
       "      <td>-0.092155</td>\n",
       "      <td>-1.368186</td>\n",
       "    </tr>\n",
       "    <tr>\n",
       "      <th>1</th>\n",
       "      <td>0.704033</td>\n",
       "      <td>0.235943</td>\n",
       "    </tr>\n",
       "    <tr>\n",
       "      <th>2</th>\n",
       "      <td>1.424685</td>\n",
       "      <td>1.018225</td>\n",
       "    </tr>\n",
       "    <tr>\n",
       "      <th>3</th>\n",
       "      <td>-0.792711</td>\n",
       "      <td>-1.297050</td>\n",
       "    </tr>\n",
       "  </tbody>\n",
       "</table>\n",
       "</div>"
      ],
      "text/plain": [
       "          y         x\n",
       "0 -0.092155 -1.368186\n",
       "1  0.704033  0.235943\n",
       "2  1.424685  1.018225\n",
       "3 -0.792711 -1.297050"
      ]
     },
     "metadata": {},
     "output_type": "display_data"
    },
    {
     "data": {
      "image/png": "[encoded data removed]",
      "text/plain": [
       "<Figure size 432x288 with 1 Axes>"
      ]
     },
     "metadata": {
      "needs_background": "light"
     },
     "output_type": "display_data"
    }
   ],
   "source": [
    "df = pd.read_csv('non_linear_data.csv')\n",
    "print('Shape of data: ', df.shape)\n",
    "display(df.head(4))\n",
    "plt.scatter(df.x, df.y)\n",
    "plt.xlabel('x'), plt.ylabel('y')\n",
    "plt.grid()\n",
    "plt.show()"
   ]
  },
  {
   "cell_type": "markdown",
   "id": "994657b7",
   "metadata": {},
   "source": [
    "### Model"
   ]
  },
  {
   "cell_type": "markdown",
   "id": "452215a5",
   "metadata": {},
   "source": [
    "\\begin{align}\n",
    "\\large\n",
    "y_i & = {\\rm e}^{\\theta x_i} + \\sigma\\epsilon_i, \\hspace{10 mm} i = 1, 2,..., 100. \\\\\n",
    "\\end{align}"
   ]
  },
  {
   "cell_type": "markdown",
   "id": "84c7384a",
   "metadata": {},
   "source": [
    "1. Use a Newton-Raphson algorithm to find the least squares estimator, $\\hat\\theta$, for $\\theta$\n",
    "(take the initial value $\\theta_0$ = 1)."
   ]
  },
  {
   "cell_type": "markdown",
   "id": "688305af",
   "metadata": {},
   "source": [
    "*Newton-Raphson*"
   ]
  },
  {
   "cell_type": "markdown",
   "id": "7c0259c5",
   "metadata": {},
   "source": [
    "\\begin{equation}\n",
    "x = x_0 - \\frac{f (x_0)}{f'(x_0)}.\n",
    "\\end{equation}"
   ]
  },
  {
   "cell_type": "markdown",
   "id": "42b3ef8a",
   "metadata": {},
   "source": [
    "### Least Squares Estimator"
   ]
  },
  {
   "cell_type": "markdown",
   "id": "d82ce212",
   "metadata": {},
   "source": [
    "*Newton-Raphson Set-up for Least Squares*"
   ]
  },
  {
   "cell_type": "markdown",
   "id": "62f4f6df",
   "metadata": {},
   "source": [
    "\\begin{align}\n",
    "\\large\n",
    "y_i & = {\\rm e}^{\\theta x_i} \\\\\n",
    "\\\\\n",
    "\\text{Sum of Square Errors: } \\\\\n",
    "\\\\\n",
    "I(\\theta) & = \\frac{1}{2} \\Sigma_{i=1}^{n}(y_i - m(\\theta, x_i))^{2}\n",
    "\\\\\n",
    "\\\\\n",
    "I'(\\theta) &= - \\Sigma_{i=1}^{n}(y_i - m(\\theta, x_i)m'(\\theta, x_i) \n",
    "\\\\ \n",
    "m(\\theta, x_i) &= {\\rm e}^{\\theta x_i} \n",
    "\\\\\n",
    "m'(\\theta, x_i) &= \\frac{\\partial m}{\\partial \\theta} = x {\\rm e}^{\\theta x_i} \n",
    "\\\\\n",
    "I'(\\theta) &= - \\Sigma_{i=1}^{n}(y_i - {\\rm e}^{\\theta x_i}) x {\\rm e}^{\\theta x_i}\n",
    "\\\\\n",
    "\\\\\n",
    "m''(\\theta, x_i) &= \\frac{\\partial^2 m}{\\partial \\theta^2} = x^2 {\\rm e}^{\\theta x_i}\n",
    "\\\\\n",
    "I''(\\theta) &= \\Sigma_{i=1}^{n}x^2 {\\rm e}^{\\theta x_i} (2 {\\rm e}^{\\theta x_i} - y)\n",
    "\\\\\n",
    "\\\\\n",
    "L (\\theta) &= I'(\\theta)\n",
    "\\\\\n",
    "\\theta_{t+1} &= \\theta_{t} - \\frac{L(x_0)}{L'(x_0)} = \\theta_{t} - \\frac{I'(x_0)}{I''(x_0)}\n",
    "\\\\\n",
    "\\end{align}"
   ]
  },
  {
   "cell_type": "code",
   "execution_count": 3,
   "id": "f57f63a3",
   "metadata": {},
   "outputs": [],
   "source": [
    "def newton(x, y, guess, tolerance = 0.00001, output_message = False):\n",
    "    \"\"\"\n",
    "    Args:\n",
    "        guess (float): initial value for parameter\n",
    "        tolerance (float): tolerance\n",
    "    \n",
    "    \\begin{equation}\n",
    "    t = t_0 - \\frac{f(x_0)}{f'(x_0)}.\n",
    "    \\end{equation}\n",
    "\n",
    "    \"\"\"\n",
    "    #Initialize\n",
    "    t_0 = guess\n",
    "    difference = tolerance * 5 # Enter Loop\n",
    "    iter_number = 0\n",
    "\n",
    "    status_message = 'Starting with Guess = ' + str(t_0) + '\\n'\n",
    "    while abs(difference) > tolerance:\n",
    "        \n",
    "        # calculate values of function and derivative and t+1 value\n",
    "        \n",
    "        f = np.sum(-x*np.exp(t_0*x)*(y - np.exp(t_0*x)))                \n",
    "        f_prime = np.sum((x**2)*np.exp(t_0*x)*(2*np.exp(t_0*x) -y))\n",
    "        t = t_0 - (f / f_prime)\n",
    "\n",
    "        # calculate difference and update iteration state\n",
    "        difference = t - t_0\n",
    "        t_0 = t\n",
    "        iter_number += 1\n",
    "        status_message += 'Iteration #' + str(iter_number) + ':= ' + str(t) + '\\n'\n",
    "        \n",
    "    status_message += 'Total No. of Iterations = '  +  str(iter_number)\n",
    "    \n",
    "    if output_message:\n",
    "        return t_0, status_message\n",
    "    return t_0    "
   ]
  },
  {
   "cell_type": "code",
   "execution_count": 4,
   "id": "bddd5743",
   "metadata": {},
   "outputs": [
    {
     "name": "stdout",
     "output_type": "stream",
     "text": [
      "Starting with Guess = 1\n",
      "Iteration #1:= 0.9906754421932568\n",
      "Iteration #2:= 0.9902524564644658\n",
      "Iteration #3:= 0.9902516224836764\n",
      "Total No. of Iterations = 3\n",
      "Theta_hat = 0.9902516224836764\n"
     ]
    }
   ],
   "source": [
    "theta_hat, message = newton(df.x, df.y, \n",
    "                            guess = 1, \n",
    "                            output_message = True)\n",
    "print(message)\n",
    "print('Theta_hat =', theta_hat)"
   ]
  },
  {
   "cell_type": "markdown",
   "id": "f5962312",
   "metadata": {},
   "source": [
    "2. Estimated value of $\\hat\\theta$, <br>\n",
    "$\\hspace{30mm}\\hat\\theta$ = 0.9902516"
   ]
  },
  {
   "cell_type": "code",
   "execution_count": 5,
   "id": "7d6ee8a6",
   "metadata": {},
   "outputs": [
    {
     "name": "stdout",
     "output_type": "stream",
     "text": [
      "Shape of data:  (100, 2)\n"
     ]
    },
    {
     "data": {
      "text/html": [
       "<div>\n",
       "<style scoped>\n",
       "    .dataframe tbody tr th:only-of-type {\n",
       "        vertical-align: middle;\n",
       "    }\n",
       "\n",
       "    .dataframe tbody tr th {\n",
       "        vertical-align: top;\n",
       "    }\n",
       "\n",
       "    .dataframe thead th {\n",
       "        text-align: right;\n",
       "    }\n",
       "</style>\n",
       "<table border=\"1\" class=\"dataframe\">\n",
       "  <thead>\n",
       "    <tr style=\"text-align: right;\">\n",
       "      <th></th>\n",
       "      <th>y</th>\n",
       "      <th>x</th>\n",
       "    </tr>\n",
       "  </thead>\n",
       "  <tbody>\n",
       "    <tr>\n",
       "      <th>0</th>\n",
       "      <td>-0.092155</td>\n",
       "      <td>-1.368186</td>\n",
       "    </tr>\n",
       "    <tr>\n",
       "      <th>1</th>\n",
       "      <td>0.704033</td>\n",
       "      <td>0.235943</td>\n",
       "    </tr>\n",
       "    <tr>\n",
       "      <th>2</th>\n",
       "      <td>1.424685</td>\n",
       "      <td>1.018225</td>\n",
       "    </tr>\n",
       "    <tr>\n",
       "      <th>3</th>\n",
       "      <td>-0.792711</td>\n",
       "      <td>-1.297050</td>\n",
       "    </tr>\n",
       "  </tbody>\n",
       "</table>\n",
       "</div>"
      ],
      "text/plain": [
       "          y         x\n",
       "0 -0.092155 -1.368186\n",
       "1  0.704033  0.235943\n",
       "2  1.424685  1.018225\n",
       "3 -0.792711 -1.297050"
      ]
     },
     "metadata": {},
     "output_type": "display_data"
    },
    {
     "data": {
      "image/png": "[encoded data removed]",
      "text/plain": [
       "<Figure size 432x288 with 1 Axes>"
      ]
     },
     "metadata": {
      "needs_background": "light"
     },
     "output_type": "display_data"
    }
   ],
   "source": [
    "theta_hat = newton(df.x, df.y, guess = 1)\n",
    "df = pd.read_csv('non_linear_data.csv')\n",
    "print('Shape of data: ', df.shape)\n",
    "display(df.head(4))\n",
    "plt.scatter(df.x, df.y, label='Data')\n",
    "plt.plot(df.x, np.exp(theta_hat * df.x), '.r', markersize = 10, label='Model')\n",
    "plt.xlabel('x'), plt.ylabel('y')\n",
    "plt.legend()\n",
    "plt.grid()\n",
    "plt.show()"
   ]
  },
  {
   "cell_type": "markdown",
   "id": "8fc2b4e4",
   "metadata": {},
   "source": [
    "### Variance of Estimator with Parametric Bootstrap"
   ]
  },
  {
   "cell_type": "markdown",
   "id": "844ad588",
   "metadata": {},
   "source": [
    "3. Use the parametric Bootstrap to find an approximate variance for $\\hat\\theta$."
   ]
  },
  {
   "cell_type": "code",
   "execution_count": 6,
   "id": "566ec8dd",
   "metadata": {},
   "outputs": [
    {
     "name": "stdout",
     "output_type": "stream",
     "text": [
      "Variance using best estimate for theta: 1.0103637690419425\n"
     ]
    }
   ],
   "source": [
    "#Step 1: Get variance\n",
    "n = len(df)\n",
    "var_xy = (1/(n-1) * np.sum( (df.y-np.exp(theta_hat * df.x) )**2))\n",
    "print('Variance using best estimate for theta:', var_xy)"
   ]
  },
  {
   "cell_type": "code",
   "execution_count": 7,
   "id": "2e3f41fd",
   "metadata": {},
   "outputs": [],
   "source": [
    "# Model function\n",
    "m = lambda x: math.exp(theta_hat*x) \n",
    "\n",
    "theta_i = []\n",
    "for _ in range(1000):\n",
    "    \n",
    "    # Obtain a bootstrap sample from the density f(y | theta_hat)\n",
    "    y_i = []\n",
    "    for xi in df.x.values:        \n",
    "        mean = m(theta_hat*xi) \n",
    "        y_iter = np.random.normal(mean, var_xy)\n",
    "        y_i.append(y_iter)\n",
    "        \n",
    "    theta_iter = newton(df.x, y_i, 1, tolerance = 0.00001)\n",
    "    theta_i.append(theta_iter)"
   ]
  },
  {
   "cell_type": "code",
   "execution_count": 8,
   "id": "345fae0e",
   "metadata": {
    "scrolled": false
   },
   "outputs": [
    {
     "data": {
      "image/png": "[encoded data removed]",
      "text/plain": [
       "<Figure size 432x288 with 1 Axes>"
      ]
     },
     "metadata": {
      "needs_background": "light"
     },
     "output_type": "display_data"
    }
   ],
   "source": [
    "def plot_hist(x, name):\n",
    "    plt.hist(x, bins=12, color='c', edgecolor='k', alpha=0.65)\n",
    "    plt.axvline(x.mean(), color='k', linestyle='dashed', linewidth=1)\n",
    "    min_ylim, max_ylim = plt.ylim()\n",
    "    plt.text(x.mean()*1.1, max_ylim*0.9, 'Mean: {:.2f}'.format(x.mean()))\n",
    "    plt.xlabel(name)\n",
    "    plt.show()\n",
    "plot_hist(np.array(theta_i), 'Theta')"
   ]
  },
  {
   "cell_type": "code",
   "execution_count": 9,
   "id": "6f42345f",
   "metadata": {},
   "outputs": [
    {
     "data": {
      "text/plain": [
       "0.00012043212628189552"
      ]
     },
     "execution_count": 9,
     "metadata": {},
     "output_type": "execute_result"
    }
   ],
   "source": [
    "var_theta_hat = np.array(theta_i).var(ddof = 1)\n",
    "var_theta_hat"
   ]
  },
  {
   "cell_type": "markdown",
   "id": "84cecc3d",
   "metadata": {},
   "source": [
    "4. Estimated value of $Var(\\hat\\theta)$, <br>\n",
    "$\\hspace{30mm}Var(\\hat\\theta)$ = 0.0001204"
   ]
  },
  {
   "cell_type": "markdown",
   "id": "58a6cfde",
   "metadata": {},
   "source": [
    "### Variance of Estimator with Non-Parametric Bootstrap"
   ]
  },
  {
   "cell_type": "markdown",
   "id": "35b51e11",
   "metadata": {},
   "source": [
    "3. Use the non-parametric Bootstrap to find an approximate variance for $\\hat\\theta$."
   ]
  },
  {
   "cell_type": "code",
   "execution_count": 21,
   "id": "e461d0ca",
   "metadata": {},
   "outputs": [],
   "source": [
    "theta_i = []\n",
    "for _ in range(1000):\n",
    "    \n",
    "    # Sample with replacement 100 (x,y) pairs\n",
    "    idx = np.random.choice(len(df.x), size=100, replace=True)\n",
    "    x_arr = df.x[idx]\n",
    "    y_arr = df.y[idx]    \n",
    "    \n",
    "    theta_iter = newton(x_arr, y_arr, 1, tolerance = 0.00001)\n",
    "    theta_i.append(theta_iter)"
   ]
  },
  {
   "cell_type": "code",
   "execution_count": 22,
   "id": "ce2b0e79",
   "metadata": {
    "scrolled": false
   },
   "outputs": [
    {
     "data": {
      "image/png": "[encoded data removed]",
      "text/plain": [
       "<Figure size 432x288 with 1 Axes>"
      ]
     },
     "metadata": {
      "needs_background": "light"
     },
     "output_type": "display_data"
    }
   ],
   "source": [
    "def plot_hist(x, name):\n",
    "    plt.hist(x, bins=12, color='c', edgecolor='k', alpha=0.65)\n",
    "    plt.axvline(x.mean(), color='k', linestyle='dashed', linewidth=1)\n",
    "    min_ylim, max_ylim = plt.ylim()\n",
    "    plt.text(x.mean()*1.1, max_ylim*0.9, 'Mean: {:.2f}'.format(x.mean()))\n",
    "    plt.xlabel(name)\n",
    "    plt.show()\n",
    "plot_hist(np.array(theta_i), 'Theta')"
   ]
  },
  {
   "cell_type": "code",
   "execution_count": 25,
   "id": "0967c10d",
   "metadata": {},
   "outputs": [
    {
     "data": {
      "text/plain": [
       "0.0006971837168005572"
      ]
     },
     "execution_count": 25,
     "metadata": {},
     "output_type": "execute_result"
    }
   ],
   "source": [
    "var_theta_hat = np.array(theta_i).var(ddof = 1)\n",
    "var_theta_hat"
   ]
  },
  {
   "cell_type": "markdown",
   "id": "9817f143",
   "metadata": {},
   "source": [
    "4. Estimated value of $Var(\\hat\\theta)$, <br>\n",
    "$\\hspace{30mm}Var(\\hat\\theta)$ = 0.000697"
   ]
  },
  {
   "cell_type": "markdown",
   "id": "a8919319",
   "metadata": {},
   "source": [
    "5. The logarithm of the predicted value at $x = \\bar x$ is given by <br>\n",
    "$\\hspace{50mm}log\\hat y = \\hat\\theta \\bar x$\n",
    "\n",
    "Find a 95% confidence interval for the predicted value of $log y$."
   ]
  },
  {
   "cell_type": "markdown",
   "id": "73c68147",
   "metadata": {},
   "source": [
    "Recall Best Estimate for $\\hat\\theta$"
   ]
  },
  {
   "cell_type": "code",
   "execution_count": 13,
   "id": "f915fc4e",
   "metadata": {},
   "outputs": [
    {
     "data": {
      "text/plain": [
       "0.9902516224836764"
      ]
     },
     "execution_count": 13,
     "metadata": {},
     "output_type": "execute_result"
    }
   ],
   "source": [
    "theta_hat"
   ]
  },
  {
   "cell_type": "code",
   "execution_count": 14,
   "id": "5eac0f8a",
   "metadata": {},
   "outputs": [
    {
     "data": {
      "text/plain": [
       "-0.08488403633000001"
      ]
     },
     "execution_count": 14,
     "metadata": {},
     "output_type": "execute_result"
    }
   ],
   "source": [
    "df.x.values.mean()"
   ]
  },
  {
   "cell_type": "code",
   "execution_count": 15,
   "id": "cf99dfdc",
   "metadata": {},
   "outputs": [
    {
     "name": "stdout",
     "output_type": "stream",
     "text": [
      "x_bar:  -0.08488403633000001\n",
      "log_y_hat:  -0.08405655469874584\n"
     ]
    }
   ],
   "source": [
    "x_bar = df.x.values.mean()\n",
    "print('x_bar: ', x_bar)\n",
    "log_y_hat = x_bar * theta_hat\n",
    "print('log_y_hat: ', log_y_hat)"
   ]
  },
  {
   "cell_type": "code",
   "execution_count": 16,
   "id": "cd4b5df7",
   "metadata": {},
   "outputs": [
    {
     "data": {
      "text/plain": [
       "0.0050657770492117905"
      ]
     },
     "execution_count": 16,
     "metadata": {},
     "output_type": "execute_result"
    }
   ],
   "source": [
    "CI_error = 1.96 * np.std( np.array(theta_i)*x_bar , ddof = 1)\n",
    "CI_error"
   ]
  },
  {
   "cell_type": "code",
   "execution_count": 17,
   "id": "d48760b1",
   "metadata": {},
   "outputs": [
    {
     "data": {
      "text/plain": [
       "0.0050657770492117905"
      ]
     },
     "execution_count": 17,
     "metadata": {},
     "output_type": "execute_result"
    }
   ],
   "source": [
    "CI_error = abs(1.96 * math.sqrt(var_theta_hat)*x_bar)\n",
    "CI_error"
   ]
  },
  {
   "cell_type": "code",
   "execution_count": 18,
   "id": "f2b2fa95",
   "metadata": {},
   "outputs": [
    {
     "name": "stdout",
     "output_type": "stream",
     "text": [
      "95% Confidence Interval:  -0.08912233174795764 to -0.07899077764953405\n"
     ]
    }
   ],
   "source": [
    "log_y_hat_UP = log_y_hat + CI_error\n",
    "log_y_hat_DO = log_y_hat - CI_error\n",
    "\n",
    "print('95% Confidence Interval: ', log_y_hat_DO , 'to', log_y_hat_UP)"
   ]
  }
 ],
 "metadata": {
  "kernelspec": {
   "display_name": "venv",
   "language": "python",
   "name": "venv"
  },
  "language_info": {
   "codemirror_mode": {
    "name": "ipython",
    "version": 3
   },
   "file_extension": ".py",
   "mimetype": "text/x-python",
   "name": "python",
   "nbconvert_exporter": "python",
   "pygments_lexer": "ipython3",
   "version": "3.10.2"
  }
 },
 "nbformat": 4,
 "nbformat_minor": 5
}
