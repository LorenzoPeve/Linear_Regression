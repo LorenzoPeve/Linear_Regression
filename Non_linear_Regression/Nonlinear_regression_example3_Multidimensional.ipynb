{
 "cells": [
  {
   "cell_type": "markdown",
   "id": "0236e60c",
   "metadata": {},
   "source": [
    "# Multidimensional Non Linear Regression"
   ]
  },
  {
   "cell_type": "markdown",
   "id": "bacf00f4",
   "metadata": {},
   "source": [
    "An example of a multidimensional non-linear regression analysis. <br><br>\n",
    "**Sections**\n",
    "- [1.0 Reading Data](#1.0-Reading-Data)\n",
    "- [2.0 Model & Newton Raphson Set-up](#2.0-Model-&-Newton-Raphson-Set-up)\n",
    "- [3.0 NR Implementation](#3.0-NR-Implementation)\n",
    "- [4.0 Variance of Estimator](#4.0-Variance-of-Estimator)\n",
    " - [4.1 Variance of Estimator with Parametric Bootstrap](#4.1-Variance-of-Estimator-with-Parametric-Bootstrap)\n",
    " - [4.2 Variance of Estimator with Non-Parametric Bootstrap](#4.2-Variance-of-Estimator-with-Non-Parametric-Bootstrap)\n",
    " - [4.3 Variance of Estimator with Formula](#4.3-Variance-of-Estimator-with-Formula)\n",
    "- [5.0 Predicting Values](#5.0-Predicting-Values)"
   ]
  },
  {
   "cell_type": "markdown",
   "id": "d2912013",
   "metadata": {},
   "source": [
    "### Importing Modules"
   ]
  },
  {
   "cell_type": "code",
   "execution_count": 1,
   "id": "380d4aa5",
   "metadata": {},
   "outputs": [],
   "source": [
    "import math\n",
    "import matplotlib.pyplot as plt\n",
    "import numpy as np\n",
    "import os\n",
    "import pandas as pd\n",
    "import random"
   ]
  },
  {
   "cell_type": "markdown",
   "id": "2affaed5",
   "metadata": {},
   "source": [
    "## 1.0 Synthetic Data"
   ]
  },
  {
   "cell_type": "markdown",
   "id": "0c38f143",
   "metadata": {},
   "source": [
    "\\begin{align}\n",
    "\\large\n",
    "y_i = \\theta_1 {\\rm e}^{-\\theta_2x_i} + \\sigma \\epsilon_i\n",
    "\\end{align}"
   ]
  },
  {
   "cell_type": "code",
   "execution_count": 2,
   "id": "9b8a79d4",
   "metadata": {},
   "outputs": [
    {
     "data": {
      "image/png": "[encoded data removed]",
      "text/plain": [
       "<Figure size 432x288 with 1 Axes>"
      ]
     },
     "metadata": {
      "needs_background": "light"
     },
     "output_type": "display_data"
    }
   ],
   "source": [
    "n = 100\n",
    "theta_1 = 2\n",
    "theta_2 = 1\n",
    "sigma = 0.1\n",
    "ei = np.random.normal(loc = 0.0, scale = 1, size = (n,1))\n",
    "xi = np.random.uniform(low=0.0, high=4.0, size = (n,1))\n",
    "yi = theta_1 * np.exp(- theta_2 * xi) + sigma * ei\n",
    "plt.scatter(xi, yi)\n",
    "plt.xlabel('x')\n",
    "plt.ylabel('y')\n",
    "plt.show()"
   ]
  },
  {
   "cell_type": "markdown",
   "id": "994657b7",
   "metadata": {},
   "source": [
    "## 2.0 Model & Newton Raphson Set-up"
   ]
  },
  {
   "cell_type": "markdown",
   "id": "62f4f6df",
   "metadata": {},
   "source": [
    "\\begin{align}\n",
    "\\large\n",
    "I(\\theta) & = \\frac{1}{2} \\Sigma_{i=1}^{n}(y_i - \\theta_1 {\\rm e}^{-\\theta_2x_i})^{2}\n",
    "\\\\\n",
    "\\\\\n",
    "\\large\n",
    "I'(\\theta) &= (\\dfrac{\\partial L}{\\partial \\theta_1}, \\dfrac{\\partial L}{\\partial \\theta_2})\n",
    "\\\\\n",
    "\\\\\n",
    "\\large\n",
    "J(\\theta_1,\\theta_2) = J(a,b) & =\\begin{pmatrix}\n",
    "    \\dfrac{\\partial^2 L}{\\partial a^2}   & \\dfrac{\\partial^2 L}{\\partial a \\hspace{1mm} \\partial b}\\\\\n",
    "    \\dfrac{\\partial^2 L}{\\partial a \\hspace{1mm} \\partial b}   & \\dfrac{\\partial^2 L}{\\partial b^2}\n",
    "\\end{pmatrix}\n",
    "\\\\\n",
    "\\\\\n",
    "\\theta_{t+1} &= \\theta_{t} - J^{-1}(\\theta(t))  I'(\\theta(t)) \n",
    "\\end{align}"
   ]
  },
  {
   "cell_type": "markdown",
   "id": "415d2ac7",
   "metadata": {},
   "source": [
    "Compute Derivatives"
   ]
  },
  {
   "cell_type": "markdown",
   "id": "6ddb16ab",
   "metadata": {},
   "source": [
    "\\begin{align}\n",
    "\\large\n",
    "I'(\\theta) = (\\dfrac{\\partial L}{\\partial \\theta_1}, \\dfrac{\\partial L}{\\partial \\theta_2})\n",
    "\\\\ \n",
    "\\large\n",
    "\\dfrac{\\partial L}{\\partial \\theta_1} = \\Sigma_{i=1}^{n} (y_i - \\theta_1 {\\rm e}^{-\\theta_2x_i}) (-{\\rm e}^{-\\theta_2x_i})\n",
    "\\\\\n",
    "\\large\n",
    "\\dfrac{\\partial L}{\\partial \\theta_2} = \\Sigma_{i=1}^{n} (y_i - \\theta_1 {\\rm e}^{-\\theta_2x_i}) (\\theta_1 x_i{\\rm e}^{-\\theta_2x_i})\n",
    "\\\\\n",
    "\\\\\n",
    "\\large\n",
    "\\dfrac{\\partial^2 L}{\\partial \\theta_1^2} = \\Sigma_{i=1}^{n} (-{\\rm e}^{-2\\theta_2x_i})\n",
    "\\\\\n",
    "\\large\n",
    "\\dfrac{\\partial^2 L}{\\partial \\theta_2^2} = \\Sigma_{i=1}^{n} (y_i - 2\\theta_1 {\\rm e}^{-\\theta_2x_i})\n",
    "(\\theta_1 x_i^2{\\rm e}^{-\\theta_2x_i})\n",
    "\\end{align}"
   ]
  },
  {
   "cell_type": "code",
   "execution_count": 3,
   "id": "17c400e4",
   "metadata": {},
   "outputs": [],
   "source": [
    "def get_J_and_Lprime(xi, yi, theta_1, theta_2):\n",
    "    \"\"\"Computes J matrix and L vector for the model.\n",
    "    \"\"\"    \n",
    "    exp_t2 = np.exp(-theta_2*xi)    \n",
    "\n",
    "    # Get derivatives for NR\n",
    "    dL_dtheta_1 = np.sum( (yi - theta_1*exp_t2)*-exp_t2)\n",
    "    dL_dtheta_2 = np.sum( (yi - theta_1*exp_t2)*(theta_1*xi*exp_t2))\n",
    "                   \n",
    "\n",
    "    # Second Partial Derivatives\n",
    "    d2L_dtheta_1 = np.sum(-np.exp(-2*theta_2*xi))                   \n",
    "    d2L_dtheta_2 = np.sum( -(yi - 2*theta_1*exp_t2)*(theta_1*(xi**2)*exp_t2))    \n",
    "    dL_dt1t2 = np.sum( (yi - 2*theta_1*exp_t2)*(xi*exp_t2))\n",
    "       \n",
    "    J = np.array([[d2L_dtheta_1,   dL_dt1t2],\n",
    "                  [dL_dt1t2,       d2L_dtheta_2]])\n",
    "    \n",
    "    L_prime = np.array([[dL_dtheta_1],[dL_dtheta_2]])\n",
    "    return J, L_prime"
   ]
  },
  {
   "cell_type": "markdown",
   "id": "a52c5acb",
   "metadata": {},
   "source": [
    "## 3.0 NR Implementation"
   ]
  },
  {
   "cell_type": "code",
   "execution_count": 4,
   "id": "f57f63a3",
   "metadata": {},
   "outputs": [],
   "source": [
    "def newton_n_iter(x, y, a_o, b_o, n_iter =10, output_message = False):\n",
    "    \"\"\"\n",
    "    Performs Newton-Raphson for a definite number of iteration\n",
    "    Args:\n",
    "        guess (float): initial value for parameter\n",
    "        tolerance (float): tolerance\n",
    "    \n",
    "    \"\"\"\n",
    "    #Initialize\n",
    "    iter_number = 0\n",
    "    status_message = 'Starting with Guess = ' + str(a_o) + \",\" + str(b_o) + '\\n'\n",
    "    \n",
    "    a = [a_o]\n",
    "    b = [b_o]\n",
    "    for i in range(n_iter):\n",
    "    \n",
    "        J, Lprime = get_J_and_Lprime(x, y, a_o, b_o)\n",
    "        print(J)\n",
    "   \n",
    "        a_1 ,b_1 = np.array([[a_o],[b_o]]) - (np.linalg.inv(J) @ Lprime)\n",
    "        a.append(a_1[0])\n",
    "        b.append(b_1[0])\n",
    "        \n",
    "        # Update Values\n",
    "        a_o, b_o = a_1[0], b_1[0]\n",
    "    \n",
    "        iter_number += 1\n",
    "        status_message += 'Iteration #' + str(iter_number) + ':= ' + str(a_1[0]) + \",\" + str(b_1[0])+ '\\n'\n",
    "        \n",
    "    status_message += 'Total No. of Iterations = '  +  str(iter_number)\n",
    "    \n",
    "    if output_message:\n",
    "        return a_o, b_o, status_message, a, b\n",
    "    return a_o, b_o, a, b"
   ]
  },
  {
   "cell_type": "code",
   "execution_count": 5,
   "id": "61fabe49",
   "metadata": {},
   "outputs": [
    {
     "name": "stdout",
     "output_type": "stream",
     "text": [
      "[[-9.93686629  0.22622002]\n",
      " [ 0.22622002 -0.02748279]]\n",
      "[[-1.12315028e-10  9.13114777e-07]\n",
      " [ 9.13114777e-07 -2.35236295e-07]]\n",
      "[[-1.52019212e-11  3.35911902e-07]\n",
      " [ 3.35911902e-07 -8.65360719e-08]]\n",
      "[[-2.05747478e-12  1.23574279e-07]\n",
      " [ 1.23574279e-07 -3.18343951e-08]]\n",
      "[[-2.78456808e-13  4.54602899e-08]\n",
      " [ 4.54602899e-08 -1.17111414e-08]]\n",
      "[[-3.76855451e-14  1.67238797e-08]\n",
      " [ 1.67238797e-08 -4.30827465e-09]]\n",
      "[[-5.10021703e-15  6.15236690e-09]\n",
      " [ 6.15236690e-09 -1.58492335e-09]]\n",
      "[[-6.90241429e-16  2.26332849e-09]\n",
      " [ 2.26332849e-09 -5.83060319e-10]]\n",
      "[[-9.34141531e-17  8.32631881e-10]\n",
      " [ 8.32631881e-10 -2.14495837e-10]]\n",
      "[[-1.26422393e-17  3.06308127e-10]\n",
      " [ 3.06308127e-10 -7.89085970e-11]]\n",
      "Starting with Guess = 1,1\n",
      "Iteration #1:= 5.670653360229993,252.18116451777632\n",
      "Iteration #2:= 5.671048956569975,274.1951256859996\n",
      "Iteration #3:= 5.67122924709357,296.20970955219263\n",
      "Iteration #4:= 5.671311406935329,318.2246158911193\n",
      "Iteration #5:= 5.671348846136722,340.23968341998705\n",
      "Iteration #6:= 5.6713659062929205,362.25482963962565\n",
      "Iteration #7:= 5.671373680104965,384.270013644191\n",
      "Iteration #8:= 5.671377222380949,406.2852155753448\n",
      "Iteration #9:= 5.671378836477294,428.3004259359453\n",
      "Iteration #10:= 5.671379571965801,450.31564023353576\n",
      "Total No. of Iterations = 10\n"
     ]
    }
   ],
   "source": [
    "(a_o, b_o, status_message, a_array, b_array) = newton_n_iter(xi, yi, 1, 1, n_iter =10, output_message = True)\n",
    "print(status_message)"
   ]
  },
  {
   "cell_type": "code",
   "execution_count": null,
   "id": "53c14bcf",
   "metadata": {},
   "outputs": [],
   "source": []
  }
 ],
 "metadata": {
  "kernelspec": {
   "display_name": "venv",
   "language": "python",
   "name": "venv"
  },
  "language_info": {
   "codemirror_mode": {
    "name": "ipython",
    "version": 3
   },
   "file_extension": ".py",
   "mimetype": "text/x-python",
   "name": "python",
   "nbconvert_exporter": "python",
   "pygments_lexer": "ipython3",
   "version": "3.10.2"
  }
 },
 "nbformat": 4,
 "nbformat_minor": 5
}
