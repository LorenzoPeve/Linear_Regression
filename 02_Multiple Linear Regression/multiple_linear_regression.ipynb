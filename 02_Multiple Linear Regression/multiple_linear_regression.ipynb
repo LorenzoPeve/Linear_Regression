{
 "cells": [
  {
   "cell_type": "markdown",
   "id": "6a9fd693",
   "metadata": {},
   "source": [
    "# Multiple Linear Regression"
   ]
  },
  {
   "cell_type": "code",
   "execution_count": 1,
   "id": "15f7b6e2",
   "metadata": {},
   "outputs": [],
   "source": [
    "import pandas as pd\n",
    "import matplotlib as mpl\n",
    "import matplotlib.pyplot as plt\n",
    "import numpy as np\n",
    "from scipy import stats\n",
    "from scipy.stats import f"
   ]
  },
  {
   "cell_type": "code",
   "execution_count": 2,
   "id": "027a4470",
   "metadata": {},
   "outputs": [
    {
     "name": "stdout",
     "output_type": "stream",
     "text": [
      "(30, 4)\n"
     ]
    },
    {
     "data": {
      "text/html": [
       "<div>\n",
       "<style scoped>\n",
       "    .dataframe tbody tr th:only-of-type {\n",
       "        vertical-align: middle;\n",
       "    }\n",
       "\n",
       "    .dataframe tbody tr th {\n",
       "        vertical-align: top;\n",
       "    }\n",
       "\n",
       "    .dataframe thead th {\n",
       "        text-align: right;\n",
       "    }\n",
       "</style>\n",
       "<table border=\"1\" class=\"dataframe\">\n",
       "  <thead>\n",
       "    <tr style=\"text-align: right;\">\n",
       "      <th></th>\n",
       "      <th>y</th>\n",
       "      <th>x1</th>\n",
       "      <th>x2</th>\n",
       "      <th>x3</th>\n",
       "    </tr>\n",
       "  </thead>\n",
       "  <tbody>\n",
       "    <tr>\n",
       "      <th>0</th>\n",
       "      <td>-1.471961</td>\n",
       "      <td>1</td>\n",
       "      <td>-0.626454</td>\n",
       "      <td>-0.383425</td>\n",
       "    </tr>\n",
       "    <tr>\n",
       "      <th>1</th>\n",
       "      <td>4.585642</td>\n",
       "      <td>1</td>\n",
       "      <td>1.595281</td>\n",
       "      <td>1.215549</td>\n",
       "    </tr>\n",
       "    <tr>\n",
       "      <th>2</th>\n",
       "      <td>3.113337</td>\n",
       "      <td>1</td>\n",
       "      <td>0.487429</td>\n",
       "      <td>0.562698</td>\n",
       "    </tr>\n",
       "    <tr>\n",
       "      <th>3</th>\n",
       "      <td>1.018829</td>\n",
       "      <td>1</td>\n",
       "      <td>-0.305388</td>\n",
       "      <td>0.239762</td>\n",
       "    </tr>\n",
       "    <tr>\n",
       "      <th>4</th>\n",
       "      <td>-0.216829</td>\n",
       "      <td>1</td>\n",
       "      <td>-0.621241</td>\n",
       "      <td>-1.099278</td>\n",
       "    </tr>\n",
       "  </tbody>\n",
       "</table>\n",
       "</div>"
      ],
      "text/plain": [
       "          y  x1        x2        x3\n",
       "0 -1.471961   1 -0.626454 -0.383425\n",
       "1  4.585642   1  1.595281  1.215549\n",
       "2  3.113337   1  0.487429  0.562698\n",
       "3  1.018829   1 -0.305388  0.239762\n",
       "4 -0.216829   1 -0.621241 -1.099278"
      ]
     },
     "execution_count": 2,
     "metadata": {},
     "output_type": "execute_result"
    }
   ],
   "source": [
    "df = pd.read_csv('HW2_data.csv')\n",
    "print(df.shape)\n",
    "df.head()"
   ]
  },
  {
   "cell_type": "markdown",
   "id": "cde430ef",
   "metadata": {},
   "source": [
    "Use the provided data set to build a multiple linear regression model"
   ]
  },
  {
   "cell_type": "markdown",
   "id": "0e26617d",
   "metadata": {},
   "source": [
    "$$\\large y = X \\beta + \\sigma \\epsilon $$"
   ]
  },
  {
   "cell_type": "markdown",
   "id": "5f737ebf",
   "metadata": {},
   "source": [
    "1) Find the estimator $\\hat\\beta = (\\hat{\\beta_1}, \\hat{\\beta_2}, \\hat{\\beta_3})$ and the distribution of  $\\hat{\\beta_3}$"
   ]
  },
  {
   "cell_type": "code",
   "execution_count": 3,
   "id": "5f1cc4e1",
   "metadata": {},
   "outputs": [],
   "source": [
    "x1 = df['x1'].to_numpy()\n",
    "x2 = df['x2'].to_numpy()\n",
    "x3 = df['x3'].to_numpy()\n",
    "y = df['y'].to_numpy()\n",
    "\n",
    "# Get X Matrix\n",
    "X = np.stack((x1,x2,x3), axis=1)"
   ]
  },
  {
   "cell_type": "markdown",
   "id": "f9d6138f",
   "metadata": {},
   "source": [
    "$$\\large \\hat \\beta = (X^{T} X)^{-1}X^T y $$"
   ]
  },
  {
   "cell_type": "code",
   "execution_count": 4,
   "id": "2dbd0613",
   "metadata": {},
   "outputs": [
    {
     "data": {
      "text/plain": [
       "(0.9925764865075013, 2.0805342305653247, 0.7053498780401117)"
      ]
     },
     "execution_count": 4,
     "metadata": {},
     "output_type": "execute_result"
    }
   ],
   "source": [
    "beta_hat = np.linalg.inv(X.T @ X) @ X.T @ y\n",
    "b1, b2, b3 = beta_hat\n",
    "b1, b2, b3"
   ]
  },
  {
   "cell_type": "markdown",
   "id": "a11c1f5b",
   "metadata": {},
   "source": [
    "$$\\large Cov \\hat \\beta = \\sigma^2(X^{T} X)^{-1}$$"
   ]
  },
  {
   "cell_type": "markdown",
   "id": "efcc8fd3",
   "metadata": {},
   "source": [
    "$$\\large \\sigma^2 = \\dfrac{1}{n-p} \\hat \\epsilon'\\hat \\epsilon$$"
   ]
  },
  {
   "cell_type": "markdown",
   "id": "5ab1b55c",
   "metadata": {},
   "source": [
    "$$\\large \\hat \\epsilon = y_i - \\hat y_i$$"
   ]
  },
  {
   "cell_type": "code",
   "execution_count": 5,
   "id": "c9146899",
   "metadata": {},
   "outputs": [
    {
     "data": {
      "text/plain": [
       "array([[ 0.03605075,  0.00886407, -0.02331968],\n",
       "       [ 0.00886407,  0.30290927, -0.37437606],\n",
       "       [-0.02331968, -0.37437606,  0.52489867]])"
      ]
     },
     "execution_count": 5,
     "metadata": {},
     "output_type": "execute_result"
    }
   ],
   "source": [
    "# Covariance as a function of sigma^2\n",
    "COV_beta_hat = np.linalg.inv(X.T @ X)\n",
    "COV_beta_hat"
   ]
  },
  {
   "cell_type": "markdown",
   "id": "d4639ebf",
   "metadata": {},
   "source": [
    "$$\\large Cov \\text{ } \\hat \\beta_3 = 0.524 \\text{ } \\sigma^2  $$"
   ]
  },
  {
   "cell_type": "markdown",
   "id": "4c4f905f",
   "metadata": {},
   "source": [
    "2) Perform an F–test for the hypothesis $H_o : \\beta_3 = 0$ with the $\\alpha = 0.01$ level\n",
    "of significance. Provide the value of the F test statistic and the corresponding critical\n",
    "value."
   ]
  },
  {
   "cell_type": "code",
   "execution_count": 6,
   "id": "93a2f01b",
   "metadata": {},
   "outputs": [
    {
     "data": {
      "text/plain": [
       "19.013416291904456"
      ]
     },
     "execution_count": 6,
     "metadata": {},
     "output_type": "execute_result"
    }
   ],
   "source": [
    "def get_H_matrix(X):\n",
    "    return X @ np.linalg.inv(X.T @ X) @ X.T\n",
    "\n",
    "H_full = get_H_matrix(X)\n",
    "SS_full = y.T @ (np.identity(H_full.shape[0]) - H_full) @ y\n",
    "SS_full"
   ]
  },
  {
   "cell_type": "markdown",
   "id": "b8d9f639",
   "metadata": {},
   "source": [
    "Fit the reduced linear model only use β1 and β2, and compute the reduced residual sum of squares."
   ]
  },
  {
   "cell_type": "code",
   "execution_count": 7,
   "id": "03014f9b",
   "metadata": {},
   "outputs": [
    {
     "data": {
      "text/plain": [
       "19.961253417440183"
      ]
     },
     "execution_count": 7,
     "metadata": {},
     "output_type": "execute_result"
    }
   ],
   "source": [
    "X_red = X[:, :-1]\n",
    "H_red = get_H_matrix(X_red)\n",
    "SS_red = y.T @ (np.identity(H_red.shape[0]) - H_red) @ y\n",
    "SS_red"
   ]
  },
  {
   "cell_type": "code",
   "execution_count": 8,
   "id": "02199ede",
   "metadata": {},
   "outputs": [
    {
     "data": {
      "text/plain": [
       "1.3459760201201216"
      ]
     },
     "execution_count": 8,
     "metadata": {},
     "output_type": "execute_result"
    }
   ],
   "source": [
    "n = X.shape[0]\n",
    "p = X.shape[1]\n",
    "q = X_red.shape[1] \n",
    "F_stat = ((SS_red - SS_full) / (p-q)) / (SS_full/(n-p))\n",
    "F_stat"
   ]
  },
  {
   "cell_type": "markdown",
   "id": "e8b99985",
   "metadata": {},
   "source": [
    "$$F_{p-q, n-p} $$"
   ]
  },
  {
   "cell_type": "code",
   "execution_count": 9,
   "id": "e46cc5f3",
   "metadata": {
    "scrolled": true
   },
   "outputs": [
    {
     "data": {
      "text/plain": [
       "7.676684048887484"
      ]
     },
     "execution_count": 9,
     "metadata": {},
     "output_type": "execute_result"
    }
   ],
   "source": [
    "f_statistic = f.isf(0.01,p-q,n-p)\n",
    "f_statistic"
   ]
  },
  {
   "cell_type": "markdown",
   "id": "b963e5d5",
   "metadata": {},
   "source": [
    "$$ F _{critical} > F_{stat} \\text{ Do not Reject } H_o$$"
   ]
  },
  {
   "cell_type": "code",
   "execution_count": 10,
   "id": "e7464065",
   "metadata": {
    "scrolled": true
   },
   "outputs": [
    {
     "data": {
      "image/png": "[encoded data removed]",
      "text/plain": [
       "<Figure size 432x288 with 1 Axes>"
      ]
     },
     "metadata": {
      "needs_background": "light"
     },
     "output_type": "display_data"
    }
   ],
   "source": [
    "fig, ax = plt.subplots(1, 1)\n",
    "xArr = np.arange(0,8,0.005)\n",
    "yArr = f.pdf(xArr, p-q, n-p)\n",
    "yArr[np.isinf(yArr)] = 0\n",
    "ax.plot(xArr, yArr)\n",
    "ax.vlines(x = f_statistic, ymin = -2, ymax = 4,  colors='red', linestyles='dashed')\n",
    "ax.set_ylim(-0.10)\n",
    "plt.show()"
   ]
  },
  {
   "cell_type": "markdown",
   "id": "8343afff",
   "metadata": {},
   "source": [
    "3) Use the marginal distribution of $\\beta_3$ to conduct a t–test for the hypothesis $H_o : \\beta_3 = 0$ with the $\\alpha = 0.01$ level\n",
    "of significance. Provide the value of the test\n",
    "statistic and the p value.\n"
   ]
  },
  {
   "cell_type": "markdown",
   "id": "52dd2813",
   "metadata": {},
   "source": [
    "$$\\large \\hat \\beta_3 \\sim N(\\beta_3, \\sigma^2 C_j)  $$"
   ]
  },
  {
   "cell_type": "markdown",
   "id": "14b6275b",
   "metadata": {},
   "source": [
    "$$\\large C_j = (X^T X)^{-1}_{jj} $$"
   ]
  },
  {
   "cell_type": "code",
   "execution_count": 11,
   "id": "8a34114a",
   "metadata": {},
   "outputs": [
    {
     "name": "stdout",
     "output_type": "stream",
     "text": [
      "19.013416291904456\n",
      "19.01341629190452\n",
      "0.5248986740944783\n"
     ]
    }
   ],
   "source": [
    "# Calculate Sum of Suares\n",
    "# Option 1 using H-matrix\n",
    "H_full = get_H_matrix(X)\n",
    "SS_full = y.T @ (np.identity(H_full.shape[0]) - H_full) @ y\n",
    "print(SS_full)\n",
    "\n",
    "# Option 2 - Sum of Squares\n",
    "ei = y - X @ beta_hat\n",
    "SS_full = np.dot(ei, ei)\n",
    "print(SS_full)\n",
    "\n",
    "# Simga^2\n",
    "sigma_2 = SS_full / ( n-p) \n",
    "\n",
    "#Cj \n",
    "Cj = COV_beta_hat[-1,-1]\n",
    "print(Cj)"
   ]
  },
  {
   "cell_type": "markdown",
   "id": "cc087fad",
   "metadata": {},
   "source": [
    "$\\sigma^2$ unknown so T-distribution"
   ]
  },
  {
   "cell_type": "code",
   "execution_count": 12,
   "id": "0ff61645",
   "metadata": {},
   "outputs": [
    {
     "data": {
      "text/plain": [
       "0.25613909746903474"
      ]
     },
     "execution_count": 12,
     "metadata": {},
     "output_type": "execute_result"
    }
   ],
   "source": [
    "b3 = beta_hat[-1]\n",
    "b_null = 0\n",
    "t = (b3 - b_null) / np.sqrt(sigma_2*Cj)\n",
    "p = 2 * (1 - stats.t.cdf(abs(t), df = 30 - 3 ))\n",
    "p"
   ]
  },
  {
   "cell_type": "code",
   "execution_count": 13,
   "id": "bac14d6d",
   "metadata": {},
   "outputs": [
    {
     "data": {
      "text/plain": [
       "0.25613909746903474"
      ]
     },
     "execution_count": 13,
     "metadata": {},
     "output_type": "execute_result"
    }
   ],
   "source": [
    "p = 2 * (1 - stats.t.cdf(abs(t), df = 30 - 3 ))\n",
    "p"
   ]
  },
  {
   "cell_type": "markdown",
   "id": "51513808",
   "metadata": {},
   "source": [
    "$$ p > alpha \\text{ Do not Reject } H_o\n",
    "$$"
   ]
  },
  {
   "cell_type": "markdown",
   "id": "11bec176",
   "metadata": {},
   "source": [
    "4) Compute the leverage score for the first and second observations. Which data\n",
    "point is more influential? What is the issue arise with a very high leverage value."
   ]
  },
  {
   "cell_type": "code",
   "execution_count": 16,
   "id": "86e75f05",
   "metadata": {},
   "outputs": [],
   "source": [
    "H_full = get_H_matrix(X)"
   ]
  },
  {
   "cell_type": "markdown",
   "id": "5484cdc8",
   "metadata": {},
   "source": [
    "The *leverage score* for the i th observation is given by\n",
    "$h_{ii}$ the i th diagonal element of H."
   ]
  },
  {
   "cell_type": "code",
   "execution_count": 17,
   "id": "a11092a7",
   "metadata": {},
   "outputs": [
    {
     "data": {
      "text/plain": [
       "(30, 30)"
      ]
     },
     "execution_count": 17,
     "metadata": {},
     "output_type": "execute_result"
    }
   ],
   "source": [
    "H_full.shape"
   ]
  },
  {
   "cell_type": "code",
   "execution_count": 18,
   "id": "2237d397",
   "metadata": {},
   "outputs": [
    {
     "name": "stdout",
     "output_type": "stream",
     "text": [
      "Leverage score for the first observation =  0.05902166122567102\n",
      "Leverage score for the second observation =  0.10215207937505952\n"
     ]
    }
   ],
   "source": [
    "print('Leverage score for the first observation = ', H_full[0,0] )\n",
    "print('Leverage score for the second observation = ', H_full[1,1] )"
   ]
  },
  {
   "cell_type": "markdown",
   "id": "fed69a62",
   "metadata": {},
   "source": [
    "A higher leverage score suggests the point is influential in that the variance of the\n",
    "residual is small and hence the fitted curve will pass through close to the point regardless\n",
    "of other observation"
   ]
  },
  {
   "cell_type": "markdown",
   "id": "67860698",
   "metadata": {},
   "source": [
    "(5) Given a new data point x = (1, 0.12, 0.56), find the predicted y value and its\n",
    "95% confidence interval."
   ]
  },
  {
   "cell_type": "code",
   "execution_count": 30,
   "id": "3f0a8521",
   "metadata": {},
   "outputs": [
    {
     "data": {
      "text/plain": [
       "1.6372365258778028"
      ]
     },
     "execution_count": 30,
     "metadata": {},
     "output_type": "execute_result"
    }
   ],
   "source": [
    "x_vector = np.array([1, 0.12, 0.56])\n",
    "y_pred = x_vector @ beta_hat\n",
    "y_pred"
   ]
  },
  {
   "cell_type": "markdown",
   "id": "f258bdb6",
   "metadata": {},
   "source": [
    "$\\sigma^2$ unknown so T-distribution"
   ]
  },
  {
   "cell_type": "code",
   "execution_count": 27,
   "id": "e6115968",
   "metadata": {},
   "outputs": [
    {
     "name": "stdout",
     "output_type": "stream",
     "text": [
      "0.7042006034038711\n"
     ]
    }
   ],
   "source": [
    "# Option 2 - Sum of Squares\n",
    "ei = y - X @ beta_hat\n",
    "SS_full = np.dot(ei, ei)\n",
    "\n",
    "# Simga^2\n",
    "sigma_2 = SS_full / (30-3)\n",
    "print(sigma_2)"
   ]
  },
  {
   "cell_type": "markdown",
   "id": "1cbdf93e",
   "metadata": {},
   "source": [
    "$$ Var \\text{  } y_{pred} = \\sigma^2 x' (X^T X)^{-1}x $$"
   ]
  },
  {
   "cell_type": "code",
   "execution_count": 38,
   "id": "96b499bf",
   "metadata": {},
   "outputs": [
    {
     "data": {
      "text/plain": [
       "0.0920489193070928"
      ]
     },
     "execution_count": 38,
     "metadata": {},
     "output_type": "execute_result"
    }
   ],
   "source": [
    "var_y_pred = sigma_2 * (x_vector.T @ np.linalg.inv(X.T @ X) @ x_vector)\n",
    "var_y_pred"
   ]
  },
  {
   "cell_type": "code",
   "execution_count": 41,
   "id": "1847ea91",
   "metadata": {},
   "outputs": [
    {
     "data": {
      "text/plain": [
       "0.622516449410153"
      ]
     },
     "execution_count": 41,
     "metadata": {},
     "output_type": "execute_result"
    }
   ],
   "source": [
    "ME = abs(stats.t.isf(0.975, df = 30 - 3 )) * np.sqrt(var_y_pred) # margin of error\n",
    "ME"
   ]
  },
  {
   "cell_type": "markdown",
   "id": "a8136cc2",
   "metadata": {},
   "source": [
    "$$ y_{pred} \\pm 0.622$$"
   ]
  },
  {
   "cell_type": "markdown",
   "id": "882228c0",
   "metadata": {},
   "source": [
    "$$ (1.01, 2.26) $$"
   ]
  }
 ],
 "metadata": {
  "kernelspec": {
   "display_name": "LR",
   "language": "python",
   "name": "lr"
  },
  "language_info": {
   "codemirror_mode": {
    "name": "ipython",
    "version": 3
   },
   "file_extension": ".py",
   "mimetype": "text/x-python",
   "name": "python",
   "nbconvert_exporter": "python",
   "pygments_lexer": "ipython3",
   "version": "3.10.2"
  }
 },
 "nbformat": 4,
 "nbformat_minor": 5
}
