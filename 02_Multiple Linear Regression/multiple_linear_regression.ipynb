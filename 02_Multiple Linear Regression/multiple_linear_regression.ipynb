{
 "cells": [
  {
   "cell_type": "markdown",
   "id": "6a9fd693",
   "metadata": {},
   "source": [
    "# Multiple Linear Regression"
   ]
  },
  {
   "cell_type": "code",
   "execution_count": 1,
   "id": "15f7b6e2",
   "metadata": {},
   "outputs": [],
   "source": [
    "import pandas as pd\n",
    "import numpy as np"
   ]
  },
  {
   "cell_type": "code",
   "execution_count": 2,
   "id": "027a4470",
   "metadata": {},
   "outputs": [
    {
     "name": "stdout",
     "output_type": "stream",
     "text": [
      "(30, 4)\n"
     ]
    },
    {
     "data": {
      "text/html": [
       "<div>\n",
       "<style scoped>\n",
       "    .dataframe tbody tr th:only-of-type {\n",
       "        vertical-align: middle;\n",
       "    }\n",
       "\n",
       "    .dataframe tbody tr th {\n",
       "        vertical-align: top;\n",
       "    }\n",
       "\n",
       "    .dataframe thead th {\n",
       "        text-align: right;\n",
       "    }\n",
       "</style>\n",
       "<table border=\"1\" class=\"dataframe\">\n",
       "  <thead>\n",
       "    <tr style=\"text-align: right;\">\n",
       "      <th></th>\n",
       "      <th>y</th>\n",
       "      <th>x1</th>\n",
       "      <th>x2</th>\n",
       "      <th>x3</th>\n",
       "    </tr>\n",
       "  </thead>\n",
       "  <tbody>\n",
       "    <tr>\n",
       "      <th>0</th>\n",
       "      <td>-1.471961</td>\n",
       "      <td>1</td>\n",
       "      <td>-0.626454</td>\n",
       "      <td>-0.383425</td>\n",
       "    </tr>\n",
       "    <tr>\n",
       "      <th>1</th>\n",
       "      <td>4.585642</td>\n",
       "      <td>1</td>\n",
       "      <td>1.595281</td>\n",
       "      <td>1.215549</td>\n",
       "    </tr>\n",
       "    <tr>\n",
       "      <th>2</th>\n",
       "      <td>3.113337</td>\n",
       "      <td>1</td>\n",
       "      <td>0.487429</td>\n",
       "      <td>0.562698</td>\n",
       "    </tr>\n",
       "    <tr>\n",
       "      <th>3</th>\n",
       "      <td>1.018829</td>\n",
       "      <td>1</td>\n",
       "      <td>-0.305388</td>\n",
       "      <td>0.239762</td>\n",
       "    </tr>\n",
       "    <tr>\n",
       "      <th>4</th>\n",
       "      <td>-0.216829</td>\n",
       "      <td>1</td>\n",
       "      <td>-0.621241</td>\n",
       "      <td>-1.099278</td>\n",
       "    </tr>\n",
       "  </tbody>\n",
       "</table>\n",
       "</div>"
      ],
      "text/plain": [
       "          y  x1        x2        x3\n",
       "0 -1.471961   1 -0.626454 -0.383425\n",
       "1  4.585642   1  1.595281  1.215549\n",
       "2  3.113337   1  0.487429  0.562698\n",
       "3  1.018829   1 -0.305388  0.239762\n",
       "4 -0.216829   1 -0.621241 -1.099278"
      ]
     },
     "execution_count": 2,
     "metadata": {},
     "output_type": "execute_result"
    }
   ],
   "source": [
    "df = pd.read_csv('HW2_data.csv')\n",
    "print(df.shape)\n",
    "df.head()"
   ]
  },
  {
   "cell_type": "markdown",
   "id": "cde430ef",
   "metadata": {},
   "source": [
    "Use the provided data set to build a multiple linear regression model"
   ]
  },
  {
   "cell_type": "markdown",
   "id": "0e26617d",
   "metadata": {},
   "source": [
    "$$\\large y = X \\beta + \\sigma \\epsilon $$"
   ]
  },
  {
   "cell_type": "markdown",
   "id": "5f737ebf",
   "metadata": {},
   "source": [
    "1) Find the estimator $\\hat\\beta = (\\hat{\\beta_1}, \\hat{\\beta_2}, \\hat{\\beta_3})$ and the distribution of  $\\hat{\\beta_3}$"
   ]
  },
  {
   "cell_type": "code",
   "execution_count": 6,
   "id": "5f1cc4e1",
   "metadata": {},
   "outputs": [
    {
     "data": {
      "text/plain": [
       "array([[ 1.        , -0.62645381, -0.38342467],\n",
       "       [ 1.        ,  1.5952808 ,  1.21554889],\n",
       "       [ 1.        ,  0.48742905,  0.56269775],\n",
       "       [ 1.        , -0.30538839,  0.23976248],\n",
       "       [ 1.        , -0.62124058, -1.09927837],\n",
       "       [ 1.        , -0.04493361, -0.03631061],\n",
       "       [ 1.        ,  0.8212212 ,  0.75302523],\n",
       "       [ 1.        ,  0.7821363 ,  0.56986491],\n",
       "       [ 1.        ,  0.61982575,  0.4170394 ],\n",
       "       [ 1.        , -1.47075238, -1.17297169]])"
      ]
     },
     "execution_count": 6,
     "metadata": {},
     "output_type": "execute_result"
    }
   ],
   "source": [
    "x1 = df['x1'].to_numpy()\n",
    "x2 = df['x2'].to_numpy()\n",
    "x3 = df['x3'].to_numpy()\n",
    "y = df['y'].to_numpy()\n",
    "\n",
    "# Get X Matrix\n",
    "X = np.stack((x1,x2,x3), axis=1)\n",
    "X[:10]"
   ]
  },
  {
   "cell_type": "code",
   "execution_count": 7,
   "id": "964d05a6",
   "metadata": {},
   "outputs": [],
   "source": [
    "def find_estimators(X,y):\n",
    "    \n",
    "    a1 = np.matmul(X.T, X)\n",
    "    inv_a1 = np.linalg.inv(a1)\n",
    "    a2 = np.matmul(inv_a1, X.T)\n",
    "    res = np.matmul(a2, y)\n",
    "    return res"
   ]
  },
  {
   "cell_type": "code",
   "execution_count": 8,
   "id": "6e7a4166",
   "metadata": {},
   "outputs": [
    {
     "data": {
      "text/plain": [
       "(0.9925764865075013, 2.0805342305653247, 0.7053498780401117)"
      ]
     },
     "execution_count": 8,
     "metadata": {},
     "output_type": "execute_result"
    }
   ],
   "source": [
    "b1, b2, b3 = find_estimators(X, y)\n",
    "b1, b2, b3"
   ]
  },
  {
   "cell_type": "code",
   "execution_count": null,
   "id": "e6759473",
   "metadata": {},
   "outputs": [],
   "source": []
  }
 ],
 "metadata": {
  "kernelspec": {
   "display_name": "LR",
   "language": "python",
   "name": "lr"
  },
  "language_info": {
   "codemirror_mode": {
    "name": "ipython",
    "version": 3
   },
   "file_extension": ".py",
   "mimetype": "text/x-python",
   "name": "python",
   "nbconvert_exporter": "python",
   "pygments_lexer": "ipython3",
   "version": "3.10.2"
  }
 },
 "nbformat": 4,
 "nbformat_minor": 5
}
