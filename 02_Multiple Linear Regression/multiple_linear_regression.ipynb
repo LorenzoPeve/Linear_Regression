{
 "cells": [
  {
   "cell_type": "markdown",
   "id": "6a9fd693",
   "metadata": {},
   "source": [
    "# Multiple Linear Regression"
   ]
  },
  {
   "cell_type": "code",
   "execution_count": 33,
   "id": "15f7b6e2",
   "metadata": {},
   "outputs": [],
   "source": [
    "import pandas as pd\n",
    "import matplotlib as mpl\n",
    "import matplotlib.pyplot as plt\n",
    "import numpy as np"
   ]
  },
  {
   "cell_type": "code",
   "execution_count": 3,
   "id": "027a4470",
   "metadata": {},
   "outputs": [
    {
     "name": "stdout",
     "output_type": "stream",
     "text": [
      "(30, 4)\n"
     ]
    },
    {
     "data": {
      "text/html": [
       "<div>\n",
       "<style scoped>\n",
       "    .dataframe tbody tr th:only-of-type {\n",
       "        vertical-align: middle;\n",
       "    }\n",
       "\n",
       "    .dataframe tbody tr th {\n",
       "        vertical-align: top;\n",
       "    }\n",
       "\n",
       "    .dataframe thead th {\n",
       "        text-align: right;\n",
       "    }\n",
       "</style>\n",
       "<table border=\"1\" class=\"dataframe\">\n",
       "  <thead>\n",
       "    <tr style=\"text-align: right;\">\n",
       "      <th></th>\n",
       "      <th>y</th>\n",
       "      <th>x1</th>\n",
       "      <th>x2</th>\n",
       "      <th>x3</th>\n",
       "    </tr>\n",
       "  </thead>\n",
       "  <tbody>\n",
       "    <tr>\n",
       "      <th>0</th>\n",
       "      <td>-1.471961</td>\n",
       "      <td>1</td>\n",
       "      <td>-0.626454</td>\n",
       "      <td>-0.383425</td>\n",
       "    </tr>\n",
       "    <tr>\n",
       "      <th>1</th>\n",
       "      <td>4.585642</td>\n",
       "      <td>1</td>\n",
       "      <td>1.595281</td>\n",
       "      <td>1.215549</td>\n",
       "    </tr>\n",
       "    <tr>\n",
       "      <th>2</th>\n",
       "      <td>3.113337</td>\n",
       "      <td>1</td>\n",
       "      <td>0.487429</td>\n",
       "      <td>0.562698</td>\n",
       "    </tr>\n",
       "    <tr>\n",
       "      <th>3</th>\n",
       "      <td>1.018829</td>\n",
       "      <td>1</td>\n",
       "      <td>-0.305388</td>\n",
       "      <td>0.239762</td>\n",
       "    </tr>\n",
       "    <tr>\n",
       "      <th>4</th>\n",
       "      <td>-0.216829</td>\n",
       "      <td>1</td>\n",
       "      <td>-0.621241</td>\n",
       "      <td>-1.099278</td>\n",
       "    </tr>\n",
       "  </tbody>\n",
       "</table>\n",
       "</div>"
      ],
      "text/plain": [
       "          y  x1        x2        x3\n",
       "0 -1.471961   1 -0.626454 -0.383425\n",
       "1  4.585642   1  1.595281  1.215549\n",
       "2  3.113337   1  0.487429  0.562698\n",
       "3  1.018829   1 -0.305388  0.239762\n",
       "4 -0.216829   1 -0.621241 -1.099278"
      ]
     },
     "execution_count": 3,
     "metadata": {},
     "output_type": "execute_result"
    }
   ],
   "source": [
    "df = pd.read_csv('HW2_data.csv')\n",
    "print(df.shape)\n",
    "df.head()"
   ]
  },
  {
   "cell_type": "markdown",
   "id": "cde430ef",
   "metadata": {},
   "source": [
    "Use the provided data set to build a multiple linear regression model"
   ]
  },
  {
   "cell_type": "markdown",
   "id": "0e26617d",
   "metadata": {},
   "source": [
    "$$\\large y = X \\beta + \\sigma \\epsilon $$"
   ]
  },
  {
   "cell_type": "markdown",
   "id": "5f737ebf",
   "metadata": {},
   "source": [
    "1) Find the estimator $\\hat\\beta = (\\hat{\\beta_1}, \\hat{\\beta_2}, \\hat{\\beta_3})$ and the distribution of  $\\hat{\\beta_3}$"
   ]
  },
  {
   "cell_type": "code",
   "execution_count": 4,
   "id": "5f1cc4e1",
   "metadata": {},
   "outputs": [
    {
     "data": {
      "text/plain": [
       "array([[ 1.        , -0.62645381, -0.38342467],\n",
       "       [ 1.        ,  1.5952808 ,  1.21554889],\n",
       "       [ 1.        ,  0.48742905,  0.56269775],\n",
       "       [ 1.        , -0.30538839,  0.23976248],\n",
       "       [ 1.        , -0.62124058, -1.09927837],\n",
       "       [ 1.        , -0.04493361, -0.03631061],\n",
       "       [ 1.        ,  0.8212212 ,  0.75302523],\n",
       "       [ 1.        ,  0.7821363 ,  0.56986491],\n",
       "       [ 1.        ,  0.61982575,  0.4170394 ],\n",
       "       [ 1.        , -1.47075238, -1.17297169]])"
      ]
     },
     "execution_count": 4,
     "metadata": {},
     "output_type": "execute_result"
    }
   ],
   "source": [
    "x1 = df['x1'].to_numpy()\n",
    "x2 = df['x2'].to_numpy()\n",
    "x3 = df['x3'].to_numpy()\n",
    "y = df['y'].to_numpy()\n",
    "\n",
    "# Get X Matrix\n",
    "X = np.stack((x1,x2,x3), axis=1)\n",
    "X[:10]"
   ]
  },
  {
   "cell_type": "markdown",
   "id": "f9d6138f",
   "metadata": {},
   "source": [
    "$$\\large \\hat \\beta = (X^{T} X)^{-1}X^T y $$"
   ]
  },
  {
   "cell_type": "code",
   "execution_count": 7,
   "id": "2dbd0613",
   "metadata": {},
   "outputs": [
    {
     "data": {
      "text/plain": [
       "(3,)"
      ]
     },
     "execution_count": 7,
     "metadata": {},
     "output_type": "execute_result"
    }
   ],
   "source": [
    "beta_hat = np.linalg.inv(X.T @ X) @ X.T @ y\n",
    "b1, b2, b3 = beta_hat\n",
    "b1, b2, b3"
   ]
  },
  {
   "cell_type": "code",
   "execution_count": 5,
   "id": "6e7a4166",
   "metadata": {},
   "outputs": [
    {
     "data": {
      "text/plain": [
       "(0.9925764865075013, 2.0805342305653247, 0.7053498780401117)"
      ]
     },
     "execution_count": 5,
     "metadata": {},
     "output_type": "execute_result"
    }
   ],
   "source": [
    "b1, b2, b3 = find_estimators(X, y)\n",
    "b1, b2, b3"
   ]
  },
  {
   "cell_type": "markdown",
   "id": "a11c1f5b",
   "metadata": {},
   "source": [
    "$$\\large Cov \\hat \\beta = \\sigma^2(X^{T} X)^{-1}$$"
   ]
  },
  {
   "cell_type": "markdown",
   "id": "efcc8fd3",
   "metadata": {},
   "source": [
    "$$\\large \\sigma^2 = \\dfrac{1}{n-p} \\hat \\epsilon'\\hat \\epsilon$$"
   ]
  },
  {
   "cell_type": "markdown",
   "id": "5ab1b55c",
   "metadata": {},
   "source": [
    "$$\\large \\hat \\epsilon = y_i - \\hat y_i$$"
   ]
  },
  {
   "cell_type": "code",
   "execution_count": 10,
   "id": "c9146899",
   "metadata": {},
   "outputs": [
    {
     "data": {
      "text/plain": [
       "array([[ 0.03605075,  0.00886407, -0.02331968],\n",
       "       [ 0.00886407,  0.30290927, -0.37437606],\n",
       "       [-0.02331968, -0.37437606,  0.52489867]])"
      ]
     },
     "execution_count": 10,
     "metadata": {},
     "output_type": "execute_result"
    }
   ],
   "source": [
    "# Covariance as a function of sigma^2\n",
    "COV_beta_hat = np.linalg.inv(X.T @ X)\n",
    "COV_beta_hat"
   ]
  },
  {
   "cell_type": "code",
   "execution_count": null,
   "id": "092eb597",
   "metadata": {},
   "outputs": [],
   "source": []
  },
  {
   "cell_type": "markdown",
   "id": "c3e19a90",
   "metadata": {},
   "source": [
    "$$\\large \\hat \\beta = (X^{T} X)^{-1}X^T y $$"
   ]
  },
  {
   "cell_type": "markdown",
   "id": "ddc3f322",
   "metadata": {},
   "source": [
    "## Illustration"
   ]
  },
  {
   "cell_type": "markdown",
   "id": "f0128154",
   "metadata": {},
   "source": [
    "#### Generate Synthetic Data"
   ]
  },
  {
   "cell_type": "code",
   "execution_count": 28,
   "id": "981b9828",
   "metadata": {},
   "outputs": [],
   "source": [
    "n = 100\n",
    "p = 5\n",
    "sigma = 1\n",
    "beta = np.array([2, -1, 3, -2, 0])\n",
    "X = np.random.uniform(size = (n, p))\n",
    "\n",
    "# Create observation by adding error term\n",
    "y = X @ beta + sigma * np.random.standard_normal(size = (n))"
   ]
  },
  {
   "cell_type": "markdown",
   "id": "01047d84",
   "metadata": {},
   "source": [
    "#### Get estimators"
   ]
  },
  {
   "cell_type": "code",
   "execution_count": 30,
   "id": "5fb87cda",
   "metadata": {},
   "outputs": [
    {
     "data": {
      "text/plain": [
       "array([ 2.10038397, -1.42958259,  3.27161133, -1.7861101 ,  0.05160208])"
      ]
     },
     "execution_count": 30,
     "metadata": {},
     "output_type": "execute_result"
    }
   ],
   "source": [
    "beta_hat = np.linalg.inv(X.T @ X) @ X.T @ y\n",
    "beta_hat"
   ]
  },
  {
   "cell_type": "markdown",
   "id": "c6d81914",
   "metadata": {},
   "source": [
    "#### Residuals"
   ]
  },
  {
   "cell_type": "code",
   "execution_count": 32,
   "id": "49e28fa9",
   "metadata": {},
   "outputs": [],
   "source": [
    "ei = y - X @ beta_hat"
   ]
  },
  {
   "cell_type": "code",
   "execution_count": 42,
   "id": "56f4c9b6",
   "metadata": {},
   "outputs": [
    {
     "data": {
      "text/plain": [
       "<matplotlib.collections.PathCollection at 0x278aaaaece0>"
      ]
     },
     "execution_count": 42,
     "metadata": {},
     "output_type": "execute_result"
    },
    {
     "data": {
      "image/png": "[encoded data removed]",
      "text/plain": [
       "<Figure size 432x288 with 1 Axes>"
      ]
     },
     "metadata": {
      "needs_background": "light"
     },
     "output_type": "display_data"
    }
   ],
   "source": [
    "fig, ax = plt.subplots()  # Create a figure containing a single axes.\n",
    "ax.set_xlabel('i')\n",
    "ax.set_ylabel(r'$y_i - \\hat y_i$')\n",
    "ax.scatter(range(1,len(ei)+1), ei, color = 'black')  # Plot some data on the axes"
   ]
  },
  {
   "cell_type": "code",
   "execution_count": null,
   "id": "0894e3e7",
   "metadata": {},
   "outputs": [],
   "source": []
  },
  {
   "cell_type": "code",
   "execution_count": null,
   "id": "42a05895",
   "metadata": {},
   "outputs": [],
   "source": []
  },
  {
   "cell_type": "code",
   "execution_count": 31,
   "id": "361cf44f",
   "metadata": {},
   "outputs": [
    {
     "data": {
      "text/plain": [
       "array([-0.00892626,  0.97213339,  1.22293485, -1.06172462,  0.2046839 ,\n",
       "        1.23326119, -0.28384927,  1.77381446, -0.92745547,  1.93642778,\n",
       "        0.87967989,  1.68554094,  1.00465578, -0.65253495, -0.52452591,\n",
       "        1.12759065,  3.49068858,  1.05242895,  2.36326769,  2.54638423,\n",
       "        0.08476566, -0.06441183, -1.26555202,  2.5165974 ,  2.84487436,\n",
       "        3.91160879, -0.48852262,  0.71560322,  0.93101609,  2.77680797,\n",
       "        0.80864496,  1.80320916, -0.68602985,  2.72136082,  2.14319109,\n",
       "        0.2821969 ,  2.61065672,  0.91469697,  0.98061927,  1.05424307,\n",
       "        0.25383339,  0.57599336,  1.67991361,  0.58951362,  2.51582516,\n",
       "        1.35418137,  0.60175459,  1.5770266 ,  0.23863339,  1.60529202,\n",
       "       -0.24117456,  2.314456  ,  2.06407381,  4.49816711,  2.24842003,\n",
       "        2.254323  ,  1.14201585,  0.89575882,  2.49079387,  0.01618956,\n",
       "        1.13559769,  0.39485591,  0.39477388,  1.9015508 ,  2.51067366,\n",
       "       -1.13511469,  1.01604899,  2.56405562,  2.19462301,  2.68385304,\n",
       "        1.97897145,  0.12874408,  2.60081956, -1.96677444, -0.14603535,\n",
       "        1.45691191,  0.06905488,  1.00679166,  0.69423412,  0.81809851,\n",
       "       -0.08405894,  3.05371338,  2.40308699, -1.02812554,  0.59268184,\n",
       "       -0.68094904,  3.11163672,  1.90122984, -1.51718357,  1.1788148 ,\n",
       "       -0.91982425, -0.28059597,  0.53147874,  0.1867731 ,  2.57707332,\n",
       "        1.06168919, -1.74369779,  2.9943309 ,  1.48295451,  2.81610685])"
      ]
     },
     "execution_count": 31,
     "metadata": {},
     "output_type": "execute_result"
    }
   ],
   "source": [
    " X @ beta_hat"
   ]
  },
  {
   "cell_type": "code",
   "execution_count": null,
   "id": "d8d6dca2",
   "metadata": {},
   "outputs": [],
   "source": []
  },
  {
   "cell_type": "code",
   "execution_count": null,
   "id": "6ab085b6",
   "metadata": {},
   "outputs": [],
   "source": []
  },
  {
   "cell_type": "code",
   "execution_count": null,
   "id": "dbba8e7e",
   "metadata": {},
   "outputs": [],
   "source": []
  },
  {
   "cell_type": "code",
   "execution_count": null,
   "id": "76257b6a",
   "metadata": {},
   "outputs": [],
   "source": []
  },
  {
   "cell_type": "code",
   "execution_count": null,
   "id": "9747bc44",
   "metadata": {},
   "outputs": [],
   "source": []
  },
  {
   "cell_type": "code",
   "execution_count": null,
   "id": "a3ef1fb1",
   "metadata": {},
   "outputs": [],
   "source": []
  },
  {
   "cell_type": "code",
   "execution_count": null,
   "id": "c97c7594",
   "metadata": {},
   "outputs": [],
   "source": []
  },
  {
   "cell_type": "code",
   "execution_count": 6,
   "id": "f57b68f3",
   "metadata": {},
   "outputs": [],
   "source": [
    "x_x_T = np.array([[11, 22],\n",
    "                  [22, 51]])"
   ]
  },
  {
   "cell_type": "code",
   "execution_count": 21,
   "id": "7b7eab50",
   "metadata": {},
   "outputs": [
    {
     "name": "stdout",
     "output_type": "stream",
     "text": [
      "[[-0.40455358 -0.9145143 ]\n",
      " [-0.9145143   0.40455358]]\n",
      "(2, 2)\n",
      "\n",
      "[[7.79308267 0.        ]\n",
      " [0.         1.12599401]]\n",
      "(2,)\n",
      "\n",
      "[[-0.40455358 -0.9145143 ]\n",
      " [-0.9145143   0.40455358]]\n",
      "(2, 2)\n"
     ]
    }
   ],
   "source": [
    "u, s, vh = np.linalg.svd(x_x_T)\n",
    "print(u)\n",
    "print(u.shape)\n",
    "print()\n",
    "print(np.sqrt(np.diag(s)))\n",
    "print(s.shape)\n",
    "print()\n",
    "print(vh)\n",
    "print(vh.shape)"
   ]
  },
  {
   "cell_type": "code",
   "execution_count": null,
   "id": "82de5cbf",
   "metadata": {},
   "outputs": [],
   "source": []
  },
  {
   "cell_type": "code",
   "execution_count": 18,
   "id": "092e9d51",
   "metadata": {},
   "outputs": [
    {
     "name": "stdout",
     "output_type": "stream",
     "text": [
      "[[-0.40455358 -0.9145143 ]\n",
      " [-0.9145143   0.40455358]]\n",
      "(2, 2)\n",
      "\n",
      "[60.73213749  1.26786251]\n",
      "(2,)\n",
      "\n",
      "[[-0.40455358 -0.9145143 ]\n",
      " [-0.9145143   0.40455358]]\n",
      "(2, 2)\n",
      "\n",
      "\n",
      "[[11. 22.]\n",
      " [22. 51.]]\n"
     ]
    }
   ],
   "source": [
    "u, s, vh = np.linalg.svd(x_x_T, full_matrices=True)\n",
    "print(u)\n",
    "print(u.shape)\n",
    "print()\n",
    "print(s)\n",
    "print(s.shape)\n",
    "print()\n",
    "print(vh)\n",
    "print(vh.shape)\n",
    "print()\n",
    "print()\n",
    "print(u @ np.diag(s) @ vh)"
   ]
  },
  {
   "cell_type": "code",
   "execution_count": 19,
   "id": "54da066c",
   "metadata": {},
   "outputs": [
    {
     "data": {
      "text/plain": [
       "array([[11, 22],\n",
       "       [22, 51]])"
      ]
     },
     "execution_count": 19,
     "metadata": {},
     "output_type": "execute_result"
    }
   ],
   "source": [
    "x_x_T"
   ]
  },
  {
   "cell_type": "code",
   "execution_count": 17,
   "id": "89012a67",
   "metadata": {},
   "outputs": [
    {
     "name": "stdout",
     "output_type": "stream",
     "text": [
      "[[-0.40455358 -0.9145143 ]\n",
      " [-0.9145143   0.40455358]]\n",
      "(2, 2)\n",
      "\n",
      "[60.73213749  1.26786251]\n",
      "(2,)\n",
      "\n",
      "[[-0.40455358 -0.9145143 ]\n",
      " [-0.9145143   0.40455358]]\n",
      "(2, 2)\n",
      "\n",
      "\n",
      "[60.73213749  1.26786251]\n"
     ]
    }
   ],
   "source": [
    "u, s, vh = np.linalg.svd(x_x_T, full_matrices=False)\n",
    "print(u)\n",
    "print(u.shape)\n",
    "print()\n",
    "print(s)\n",
    "print(s.shape)\n",
    "print()\n",
    "print(vh)\n",
    "print(vh.shape)\n",
    "print()\n",
    "print()\n",
    "print(u @ s @ vh)"
   ]
  },
  {
   "cell_type": "code",
   "execution_count": null,
   "id": "c8e97527",
   "metadata": {},
   "outputs": [],
   "source": []
  }
 ],
 "metadata": {
  "kernelspec": {
   "display_name": "LR",
   "language": "python",
   "name": "lr"
  },
  "language_info": {
   "codemirror_mode": {
    "name": "ipython",
    "version": 3
   },
   "file_extension": ".py",
   "mimetype": "text/x-python",
   "name": "python",
   "nbconvert_exporter": "python",
   "pygments_lexer": "ipython3",
   "version": "3.10.2"
  }
 },
 "nbformat": 4,
 "nbformat_minor": 5
}
