{
 "cells": [
  {
   "cell_type": "markdown",
   "id": "6a9fd693",
   "metadata": {},
   "source": [
    "# Multiple Linear Regression Synthetic"
   ]
  },
  {
   "cell_type": "code",
   "execution_count": 1,
   "id": "15f7b6e2",
   "metadata": {},
   "outputs": [],
   "source": [
    "import pandas as pd\n",
    "import matplotlib as mpl\n",
    "import matplotlib.pyplot as plt\n",
    "import numpy as np\n",
    "from scipy import stats\n",
    "from scipy.stats import f"
   ]
  },
  {
   "cell_type": "markdown",
   "id": "f0128154",
   "metadata": {},
   "source": [
    "## 1.0 Generate Synthetic Data"
   ]
  },
  {
   "cell_type": "code",
   "execution_count": 2,
   "id": "981b9828",
   "metadata": {},
   "outputs": [],
   "source": [
    "n = 100\n",
    "p = 5\n",
    "sigma = 1\n",
    "beta = np.array([2, -1, 3, -2, 0])\n",
    "X = np.random.uniform(size = (n, p))\n",
    "\n",
    "# Create observation by adding error term\n",
    "y = X @ beta + sigma * np.random.standard_normal(size = (n))"
   ]
  },
  {
   "cell_type": "markdown",
   "id": "01047d84",
   "metadata": {},
   "source": [
    "## 2.0 Get estimators"
   ]
  },
  {
   "cell_type": "markdown",
   "id": "0629bbe0",
   "metadata": {},
   "source": [
    "$$\\large \\hat \\beta = (X^{T} X)^{-1}X^T y $$"
   ]
  },
  {
   "cell_type": "code",
   "execution_count": 3,
   "id": "5fb87cda",
   "metadata": {},
   "outputs": [
    {
     "data": {
      "text/plain": [
       "array([ 1.59060945, -1.41004882,  3.23308867, -1.78793554,  0.22677789])"
      ]
     },
     "execution_count": 3,
     "metadata": {},
     "output_type": "execute_result"
    }
   ],
   "source": [
    "beta_hat = np.linalg.inv(X.T @ X) @ X.T @ y\n",
    "beta_hat"
   ]
  },
  {
   "cell_type": "markdown",
   "id": "c6d81914",
   "metadata": {},
   "source": [
    "## 3.0 Residuals"
   ]
  },
  {
   "cell_type": "code",
   "execution_count": 4,
   "id": "56f4c9b6",
   "metadata": {},
   "outputs": [
    {
     "data": {
      "text/plain": [
       "<matplotlib.collections.PathCollection at 0x187bb35f2b0>"
      ]
     },
     "execution_count": 4,
     "metadata": {},
     "output_type": "execute_result"
    },
    {
     "data": {
      "image/png": "[encoded data removed]",
      "text/plain": [
       "<Figure size 432x288 with 1 Axes>"
      ]
     },
     "metadata": {
      "needs_background": "light"
     },
     "output_type": "display_data"
    }
   ],
   "source": [
    "ei = y - X @ beta_hat\n",
    "fig, ax = plt.subplots()  # Create a figure containing a single axes.\n",
    "ax.set_xlabel('i')\n",
    "ax.set_ylabel(r'$y_i - \\hat y_i$')\n",
    "ax.scatter(range(1,len(ei)+1), ei, color = 'black')  # Plot some data on the axes"
   ]
  },
  {
   "cell_type": "markdown",
   "id": "7d7e1fee",
   "metadata": {},
   "source": [
    "### 3.1 Sum of Squares"
   ]
  },
  {
   "cell_type": "markdown",
   "id": "d8f1d67f",
   "metadata": {},
   "source": [
    "$$\\large \\hat \\epsilon = y_i - \\hat y_i$$"
   ]
  },
  {
   "cell_type": "markdown",
   "id": "c9a53c32",
   "metadata": {},
   "source": [
    "$$\\large \\hat \\epsilon = (I - H) y$$"
   ]
  },
  {
   "cell_type": "markdown",
   "id": "e59965ac",
   "metadata": {},
   "source": [
    "$$\\large H = X (X^T X)^{-1} X^T$$"
   ]
  },
  {
   "cell_type": "markdown",
   "id": "ba8eef88",
   "metadata": {},
   "source": [
    "$$\\large \\hat \\epsilon'\\hat \\epsilon = y'(I - H) y$$"
   ]
  },
  {
   "cell_type": "markdown",
   "id": "9878afd5",
   "metadata": {},
   "source": [
    "Option 1:"
   ]
  },
  {
   "cell_type": "code",
   "execution_count": 5,
   "id": "cb8f1b0e",
   "metadata": {
    "scrolled": true
   },
   "outputs": [
    {
     "data": {
      "text/plain": [
       "79.5879331800288"
      ]
     },
     "execution_count": 5,
     "metadata": {},
     "output_type": "execute_result"
    }
   ],
   "source": [
    "ei = y - X @ beta_hat\n",
    "SS = np.dot(ei, ei)\n",
    "SS"
   ]
  },
  {
   "cell_type": "markdown",
   "id": "826f5889",
   "metadata": {},
   "source": [
    "Option 2:"
   ]
  },
  {
   "cell_type": "code",
   "execution_count": 6,
   "id": "e7b18364",
   "metadata": {},
   "outputs": [
    {
     "data": {
      "text/plain": [
       "79.5879331800289"
      ]
     },
     "execution_count": 6,
     "metadata": {},
     "output_type": "execute_result"
    }
   ],
   "source": [
    "def get_H_matrix(X):\n",
    "    return X @ np.linalg.inv(X.T @ X) @ X.T\n",
    "\n",
    "H_full = get_H_matrix(X)\n",
    "SS_full = y.T @ (np.identity(H_full.shape[0]) - H_full) @ y\n",
    "SS_full"
   ]
  },
  {
   "cell_type": "markdown",
   "id": "a32afa74",
   "metadata": {},
   "source": [
    "## 4.0 Testing $ \\beta_5 = 0 $"
   ]
  },
  {
   "cell_type": "markdown",
   "id": "a4827a3d",
   "metadata": {},
   "source": [
    "Compute Residual sum of squares"
   ]
  },
  {
   "cell_type": "code",
   "execution_count": 7,
   "id": "3e68ab8d",
   "metadata": {},
   "outputs": [
    {
     "data": {
      "text/plain": [
       "79.9806641307161"
      ]
     },
     "execution_count": 7,
     "metadata": {},
     "output_type": "execute_result"
    }
   ],
   "source": [
    "X_red = X[:, :-1]\n",
    "H_red = get_H_matrix(X_red)\n",
    "SS_red = y.T @ (np.identity(H_red.shape[0]) - H_red) @ y\n",
    "SS_red"
   ]
  },
  {
   "cell_type": "markdown",
   "id": "4ca07ba8",
   "metadata": {},
   "source": [
    "Compute F-statistic"
   ]
  },
  {
   "cell_type": "code",
   "execution_count": 8,
   "id": "6c175957",
   "metadata": {},
   "outputs": [
    {
     "data": {
      "text/plain": [
       "0.4687826260155431"
      ]
     },
     "execution_count": 8,
     "metadata": {},
     "output_type": "execute_result"
    }
   ],
   "source": [
    "n = X.shape[0]\n",
    "p = X.shape[1]\n",
    "q = X_red.shape[1] \n",
    "F_stat = ((SS_red - SS_full) / (p-q)) / (SS_full/(n-p))\n",
    "F_stat"
   ]
  },
  {
   "cell_type": "markdown",
   "id": "fcccf767",
   "metadata": {},
   "source": [
    "F statistic appeared to change  a lot in a few iterations. Thus, I decided to look at the distribution of the F statistic."
   ]
  },
  {
   "cell_type": "code",
   "execution_count": 9,
   "id": "b9cc2278",
   "metadata": {
    "scrolled": true
   },
   "outputs": [
    {
     "data": {
      "image/png": "[encoded data removed]",
      "text/plain": [
       "<Figure size 432x288 with 1 Axes>"
      ]
     },
     "metadata": {
      "needs_background": "light"
     },
     "output_type": "display_data"
    }
   ],
   "source": [
    "n = 100\n",
    "p = 5\n",
    "sigma = 1\n",
    "beta = np.array([2, -1, 3, -2, 0])\n",
    "\n",
    "F_sample = []\n",
    "for _ in range(1000):\n",
    "\n",
    "    X = np.random.uniform(size = (n, p))\n",
    "    y = X @ beta + sigma * np.random.standard_normal(size = (n))\n",
    "    \n",
    "    # Full model\n",
    "    H_full = get_H_matrix(X)\n",
    "    SS_full = y.T @ (np.identity(H_full.shape[0]) - H_full) @ y\n",
    "    \n",
    "    # Reduced Model\n",
    "    X_red = X[:, :-1]\n",
    "    H_red = get_H_matrix(X_red)\n",
    "    SS_red = y.T @ (np.identity(H_red.shape[0]) - H_red) @ y\n",
    "    \n",
    "    F_stat = ((SS_red - SS_full) / (p-q)) / (SS_full/(n-p))\n",
    "    \n",
    "    F_sample.append(F_stat)\n",
    "    \n",
    "fig, ax = plt.subplots(1, 1)\n",
    "bins = np.arange(0, 8+0.1, 0.25)\n",
    "_, bins, patches = plt.hist(F_sample, bins = bins, facecolor='b', alpha=0.75)\n",
    "plt.title(r'F_statitic Dist. for $\\beta_5 = 0$')\n",
    "plt.show()"
   ]
  },
  {
   "cell_type": "markdown",
   "id": "7ae24f12",
   "metadata": {},
   "source": [
    "From histogram, calculate mean of first bin"
   ]
  },
  {
   "cell_type": "code",
   "execution_count": 10,
   "id": "2d183deb",
   "metadata": {
    "scrolled": true
   },
   "outputs": [
    {
     "data": {
      "text/plain": [
       "0.052162289061954095"
      ]
     },
     "execution_count": 10,
     "metadata": {},
     "output_type": "execute_result"
    }
   ],
   "source": [
    "f_distribution = np.array(F_sample)\n",
    "np.median(f_distribution[f_distribution<=0.25])"
   ]
  },
  {
   "cell_type": "code",
   "execution_count": 11,
   "id": "88bd980f",
   "metadata": {},
   "outputs": [
    {
     "data": {
      "text/plain": [
       "3.9412215469195755"
      ]
     },
     "execution_count": 11,
     "metadata": {},
     "output_type": "execute_result"
    }
   ],
   "source": [
    "f_statistic = f.isf(0.05,p-q,n-p)\n",
    "f_statistic"
   ]
  },
  {
   "cell_type": "markdown",
   "id": "3c0a6b63",
   "metadata": {},
   "source": [
    "$$F_{1, 95} < F_{\\alpha = 0.05, 1, 95}\n",
    "$$"
   ]
  },
  {
   "cell_type": "markdown",
   "id": "8ccc0cf5",
   "metadata": {},
   "source": [
    "$$ 0.052 < 3.941\n",
    "$$"
   ]
  },
  {
   "cell_type": "markdown",
   "id": "04f95c48",
   "metadata": {},
   "source": [
    "We fail to reject $H_o$, thus, the $\\beta_5 = 0$ is supported by the data (which should be case)."
   ]
  },
  {
   "cell_type": "markdown",
   "id": "c024c634",
   "metadata": {},
   "source": [
    "## 5.0 Testing $ \\beta_1 = 0 $"
   ]
  },
  {
   "cell_type": "code",
   "execution_count": 12,
   "id": "909c8b80",
   "metadata": {},
   "outputs": [
    {
     "data": {
      "image/png": "[encoded data removed]",
      "text/plain": [
       "<Figure size 432x288 with 1 Axes>"
      ]
     },
     "metadata": {
      "needs_background": "light"
     },
     "output_type": "display_data"
    }
   ],
   "source": [
    "n = 100\n",
    "p = 5\n",
    "sigma = 1\n",
    "beta = np.array([2, -1, 3, -2, 0])\n",
    "\n",
    "F_sample = []\n",
    "for _ in range(3000):\n",
    "\n",
    "    X = np.random.uniform(size = (n, p))\n",
    "    y = X @ beta + sigma * np.random.standard_normal(size = (n))\n",
    "    \n",
    "    # Full model\n",
    "    H_full = get_H_matrix(X)\n",
    "    SS_full = y.T @ (np.identity(H_full.shape[0]) - H_full) @ y\n",
    "    \n",
    "    # Reduced Model\n",
    "    X_red = X[:, 1:]\n",
    "    H_red = get_H_matrix(X_red)\n",
    "    SS_red = y.T @ (np.identity(H_red.shape[0]) - H_red) @ y\n",
    "    \n",
    "    F_stat = ((SS_red - SS_full) / (p-q)) / (SS_full/(n-p))\n",
    "    \n",
    "    F_sample.append(F_stat)\n",
    "    \n",
    "fig, ax = plt.subplots(1, 1)\n",
    "_, bins, patches = plt.hist(F_sample, bins = 50, facecolor='b', alpha=0.75)\n",
    "plt.title(r'F_statitic Dist. for $\\beta_1 = 0$')\n",
    "plt.show()"
   ]
  },
  {
   "cell_type": "code",
   "execution_count": 13,
   "id": "c97e6705",
   "metadata": {},
   "outputs": [],
   "source": [
    "f_distribution = np.array(F_sample)"
   ]
  },
  {
   "cell_type": "markdown",
   "id": "598c933c",
   "metadata": {},
   "source": [
    "$$ F > 3.941\n",
    "$$"
   ]
  },
  {
   "cell_type": "markdown",
   "id": "1e5935c6",
   "metadata": {},
   "source": [
    "This would lead to a rejection of the hypothesis at the 0.05 level of significance. $\\beta_1$ is not zero."
   ]
  },
  {
   "cell_type": "markdown",
   "id": "f5bc9246",
   "metadata": {},
   "source": [
    "## 6.0 Testing $ \\beta_5 = 0 $ using a T distribution"
   ]
  },
  {
   "cell_type": "markdown",
   "id": "66a76236",
   "metadata": {},
   "source": [
    "We can also test for a single $\\hat \\beta_j$  to be $0$ using the marginal distribution for $\\hat \\beta_j$."
   ]
  },
  {
   "cell_type": "code",
   "execution_count": 24,
   "id": "72f216a0",
   "metadata": {},
   "outputs": [
    {
     "data": {
      "text/plain": [
       "array([ 2.1349051 , -0.98707836,  2.84309937, -2.07741058,  0.02923366])"
      ]
     },
     "execution_count": 24,
     "metadata": {},
     "output_type": "execute_result"
    }
   ],
   "source": [
    "n = 100\n",
    "p = 5\n",
    "sigma = 1\n",
    "beta = np.array([2, -1, 3, -2, 0])\n",
    "X = np.random.uniform(size = (n, p))\n",
    "\n",
    "# Create observation by adding error term\n",
    "y = X @ beta + sigma * np.random.standard_normal(size = (n))\n",
    "beta_hat = np.linalg.inv(X.T @ X) @ X.T @ y\n",
    "beta_hat"
   ]
  },
  {
   "cell_type": "markdown",
   "id": "ea8ac853",
   "metadata": {},
   "source": [
    "Covariance Matrix"
   ]
  },
  {
   "cell_type": "code",
   "execution_count": 25,
   "id": "e0edac69",
   "metadata": {},
   "outputs": [
    {
     "data": {
      "text/plain": [
       "array([[ 0.11019652, -0.02695449, -0.03850592, -0.01749097, -0.00761483],\n",
       "       [-0.02695449,  0.10508705, -0.01612712, -0.02327797, -0.03643402],\n",
       "       [-0.03850592, -0.01612712,  0.0993036 , -0.01797559, -0.02584844],\n",
       "       [-0.01749097, -0.02327797, -0.01797559,  0.08598478, -0.01607432],\n",
       "       [-0.00761483, -0.03643402, -0.02584844, -0.01607432,  0.09134412]])"
      ]
     },
     "execution_count": 25,
     "metadata": {},
     "output_type": "execute_result"
    }
   ],
   "source": [
    "# Covariance as a function of sigma^2\n",
    "COV_beta_hat = np.linalg.inv(X.T @ X)\n",
    "COV_beta_hat"
   ]
  },
  {
   "cell_type": "markdown",
   "id": "0e11a73e",
   "metadata": {},
   "source": [
    "Esimate $\\sigma^2$"
   ]
  },
  {
   "cell_type": "markdown",
   "id": "8bf87758",
   "metadata": {},
   "source": [
    "$$\\large \\sigma^2 = \\dfrac{1}{n-p} \\hat \\epsilon'\\hat \\epsilon$$"
   ]
  },
  {
   "cell_type": "code",
   "execution_count": 26,
   "id": "c4e3c4d9",
   "metadata": {},
   "outputs": [
    {
     "data": {
      "text/plain": [
       "104.15788305887253"
      ]
     },
     "execution_count": 26,
     "metadata": {},
     "output_type": "execute_result"
    }
   ],
   "source": [
    "ei = y - X @ beta_hat\n",
    "SS = np.dot(ei, ei)\n",
    "SS"
   ]
  },
  {
   "cell_type": "code",
   "execution_count": 27,
   "id": "258c547f",
   "metadata": {
    "scrolled": true
   },
   "outputs": [
    {
     "data": {
      "text/plain": [
       "0.09237587559603301"
      ]
     },
     "execution_count": 27,
     "metadata": {},
     "output_type": "execute_result"
    }
   ],
   "source": [
    "b5 = beta_hat[-1]\n",
    "b_null = 0\n",
    "alpha = 0.05\n",
    "sigma_2 = SS / ( n-p) \n",
    "t = (b5 - b_null) / np.sqrt(COV_beta_hat[-1,-1] * sigma_2 )\n",
    "abs(t)"
   ]
  },
  {
   "cell_type": "code",
   "execution_count": 18,
   "id": "b995905a",
   "metadata": {},
   "outputs": [
    {
     "data": {
      "text/plain": [
       "1.9852510034099262"
      ]
     },
     "execution_count": 18,
     "metadata": {},
     "output_type": "execute_result"
    }
   ],
   "source": [
    "#Critical T-value\n",
    "abs(stats.t.isf(  (1-alpha/2), df = 95))"
   ]
  },
  {
   "cell_type": "markdown",
   "id": "d8d615ac",
   "metadata": {},
   "source": [
    "$$ T _{critical} > T_{stat}\n",
    "$$"
   ]
  },
  {
   "cell_type": "markdown",
   "id": "fc55c7cd",
   "metadata": {},
   "source": [
    "$$ 1.985 > 0.09 \\text{ Do not Reject } H_o\n",
    "$$"
   ]
  },
  {
   "cell_type": "code",
   "execution_count": 28,
   "id": "2f35250b",
   "metadata": {},
   "outputs": [
    {
     "data": {
      "text/plain": [
       "0.9265939283810272"
      ]
     },
     "execution_count": 28,
     "metadata": {},
     "output_type": "execute_result"
    }
   ],
   "source": [
    "p = 2 * (1 - stats.t.cdf(abs(t), df = 95))\n",
    "p"
   ]
  },
  {
   "cell_type": "markdown",
   "id": "41a558d9",
   "metadata": {},
   "source": [
    "$$ p > alpha \\text{ Do not Reject } H_o\n",
    "$$"
   ]
  }
 ],
 "metadata": {
  "kernelspec": {
   "display_name": "LR",
   "language": "python",
   "name": "lr"
  },
  "language_info": {
   "codemirror_mode": {
    "name": "ipython",
    "version": 3
   },
   "file_extension": ".py",
   "mimetype": "text/x-python",
   "name": "python",
   "nbconvert_exporter": "python",
   "pygments_lexer": "ipython3",
   "version": "3.10.2"
  }
 },
 "nbformat": 4,
 "nbformat_minor": 5
}
