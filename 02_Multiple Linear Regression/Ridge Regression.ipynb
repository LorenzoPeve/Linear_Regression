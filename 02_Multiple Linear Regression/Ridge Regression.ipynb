{
 "cells": [
  {
   "cell_type": "code",
   "execution_count": 2,
   "id": "de5febf5",
   "metadata": {},
   "outputs": [],
   "source": [
    "import pandas as pd\n",
    "import matplotlib as mpl\n",
    "import matplotlib.pyplot as plt\n",
    "import numpy as np\n",
    "from scipy import stats\n",
    "from scipy.stats import f\n",
    "\n",
    "x = np.random.standard_normal(size = (100,))\n"
   ]
  },
  {
   "cell_type": "code",
   "execution_count": 5,
   "id": "5331e6dd",
   "metadata": {},
   "outputs": [],
   "source": [
    "n = 100"
   ]
  },
  {
   "cell_type": "code",
   "execution_count": 28,
   "id": "4ebef703",
   "metadata": {},
   "outputs": [
    {
     "data": {
      "text/plain": [
       "array([ 20.82054137, -20.14432124])"
      ]
     },
     "execution_count": 28,
     "metadata": {},
     "output_type": "execute_result"
    }
   ],
   "source": [
    "x1 = np.random.standard_normal(size = (n,))\n",
    "x2 = 0.9*x1 + 0.01*np.random.standard_normal(size = (n))\n",
    "# Create observation by adding error term\n",
    "y = x1 + 2 * x2 + np.random.standard_normal(size = (n))\n",
    "X = np.stack((x1,x2), axis=1)\n",
    "beta_hat = np.linalg.inv(X.T @ X) @ X.T @ y\n",
    "beta_hat"
   ]
  },
  {
   "cell_type": "code",
   "execution_count": 16,
   "id": "3a6a5d99",
   "metadata": {},
   "outputs": [
    {
     "ename": "NameError",
     "evalue": "name 'array' is not defined",
     "output_type": "error",
     "traceback": [
      "\u001b[1;31m---------------------------------------------------------------------------\u001b[0m",
      "\u001b[1;31mNameError\u001b[0m                                 Traceback (most recent call last)",
      "Input \u001b[1;32mIn [16]\u001b[0m, in \u001b[0;36m<cell line: 1>\u001b[1;34m()\u001b[0m\n\u001b[1;32m----> 1\u001b[0m \u001b[43marray\u001b[49m([\u001b[38;5;241m10.82490066\u001b[39m, \u001b[38;5;241m-\u001b[39m\u001b[38;5;241m9.00699383\u001b[39m])\n\u001b[0;32m      2\u001b[0m array([\u001b[38;5;241m-\u001b[39m\u001b[38;5;241m3.45470684\u001b[39m,  \u001b[38;5;241m6.82319185\u001b[39m])\n\u001b[0;32m      3\u001b[0m array([ \u001b[38;5;241m3.11369316\u001b[39m, \u001b[38;5;241m-\u001b[39m\u001b[38;5;241m0.28808413\u001b[39m])\n",
      "\u001b[1;31mNameError\u001b[0m: name 'array' is not defined"
     ]
    }
   ],
   "source": [
    "array([10.82490066, -9.00699383])\n",
    "array([-3.45470684,  6.82319185])\n",
    "array([ 3.11369316, -0.28808413])"
   ]
  },
  {
   "cell_type": "code",
   "execution_count": 29,
   "id": "9da2b5b4",
   "metadata": {},
   "outputs": [],
   "source": [
    "W = np.sum(x1**2) * np.sum(x2**2) - (np.sum(x1*x2))**2"
   ]
  },
  {
   "cell_type": "code",
   "execution_count": 30,
   "id": "01a81a6a",
   "metadata": {},
   "outputs": [
    {
     "data": {
      "text/plain": [
       "1.0173207641109911"
      ]
     },
     "execution_count": 30,
     "metadata": {},
     "output_type": "execute_result"
    }
   ],
   "source": [
    "W"
   ]
  },
  {
   "cell_type": "code",
   "execution_count": null,
   "id": "409ea023",
   "metadata": {},
   "outputs": [],
   "source": []
  }
 ],
 "metadata": {
  "kernelspec": {
   "display_name": "LR",
   "language": "python",
   "name": "lr"
  },
  "language_info": {
   "codemirror_mode": {
    "name": "ipython",
    "version": 3
   },
   "file_extension": ".py",
   "mimetype": "text/x-python",
   "name": "python",
   "nbconvert_exporter": "python",
   "pygments_lexer": "ipython3",
   "version": "3.10.2"
  }
 },
 "nbformat": 4,
 "nbformat_minor": 5
}
