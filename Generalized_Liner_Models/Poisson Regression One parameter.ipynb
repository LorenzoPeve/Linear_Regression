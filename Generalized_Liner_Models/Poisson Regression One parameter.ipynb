{
 "cells": [
  {
   "cell_type": "markdown",
   "id": "e1575a67",
   "metadata": {},
   "source": [
    "## Importing Modules"
   ]
  },
  {
   "cell_type": "code",
   "execution_count": 3,
   "id": "128ef46e",
   "metadata": {},
   "outputs": [
    {
     "data": {
      "text/html": [
       "<div class=\"bk-root\">\n",
       "        <a href=\"https://bokeh.org\" target=\"_blank\" class=\"bk-logo bk-logo-small bk-logo-notebook\"></a>\n",
       "        <span id=\"1002\">Loading BokehJS ...</span>\n",
       "    </div>\n"
      ]
     },
     "metadata": {},
     "output_type": "display_data"
    },
    {
     "data": {
      "application/javascript": [
       "(function(root) {\n",
       "  function now() {\n",
       "    return new Date();\n",
       "  }\n",
       "\n",
       "  const force = true;\n",
       "\n",
       "  if (typeof root._bokeh_onload_callbacks === \"undefined\" || force === true) {\n",
       "    root._bokeh_onload_callbacks = [];\n",
       "    root._bokeh_is_loading = undefined;\n",
       "  }\n",
       "\n",
       "const JS_MIME_TYPE = 'application/javascript';\n",
       "  const HTML_MIME_TYPE = 'text/html';\n",
       "  const EXEC_MIME_TYPE = 'application/vnd.bokehjs_exec.v0+json';\n",
       "  const CLASS_NAME = 'output_bokeh rendered_html';\n",
       "\n",
       "  /**\n",
       "   * Render data to the DOM node\n",
       "   */\n",
       "  function render(props, node) {\n",
       "    const script = document.createElement(\"script\");\n",
       "    node.appendChild(script);\n",
       "  }\n",
       "\n",
       "  /**\n",
       "   * Handle when an output is cleared or removed\n",
       "   */\n",
       "  function handleClearOutput(event, handle) {\n",
       "    const cell = handle.cell;\n",
       "\n",
       "    const id = cell.output_area._bokeh_element_id;\n",
       "    const server_id = cell.output_area._bokeh_server_id;\n",
       "    // Clean up Bokeh references\n",
       "    if (id != null && id in Bokeh.index) {\n",
       "      Bokeh.index[id].model.document.clear();\n",
       "      delete Bokeh.index[id];\n",
       "    }\n",
       "\n",
       "    if (server_id !== undefined) {\n",
       "      // Clean up Bokeh references\n",
       "      const cmd_clean = \"from bokeh.io.state import curstate; print(curstate().uuid_to_server['\" + server_id + \"'].get_sessions()[0].document.roots[0]._id)\";\n",
       "      cell.notebook.kernel.execute(cmd_clean, {\n",
       "        iopub: {\n",
       "          output: function(msg) {\n",
       "            const id = msg.content.text.trim();\n",
       "            if (id in Bokeh.index) {\n",
       "              Bokeh.index[id].model.document.clear();\n",
       "              delete Bokeh.index[id];\n",
       "            }\n",
       "          }\n",
       "        }\n",
       "      });\n",
       "      // Destroy server and session\n",
       "      const cmd_destroy = \"import bokeh.io.notebook as ion; ion.destroy_server('\" + server_id + \"')\";\n",
       "      cell.notebook.kernel.execute(cmd_destroy);\n",
       "    }\n",
       "  }\n",
       "\n",
       "  /**\n",
       "   * Handle when a new output is added\n",
       "   */\n",
       "  function handleAddOutput(event, handle) {\n",
       "    const output_area = handle.output_area;\n",
       "    const output = handle.output;\n",
       "\n",
       "    // limit handleAddOutput to display_data with EXEC_MIME_TYPE content only\n",
       "    if ((output.output_type != \"display_data\") || (!Object.prototype.hasOwnProperty.call(output.data, EXEC_MIME_TYPE))) {\n",
       "      return\n",
       "    }\n",
       "\n",
       "    const toinsert = output_area.element.find(\".\" + CLASS_NAME.split(' ')[0]);\n",
       "\n",
       "    if (output.metadata[EXEC_MIME_TYPE][\"id\"] !== undefined) {\n",
       "      toinsert[toinsert.length - 1].firstChild.textContent = output.data[JS_MIME_TYPE];\n",
       "      // store reference to embed id on output_area\n",
       "      output_area._bokeh_element_id = output.metadata[EXEC_MIME_TYPE][\"id\"];\n",
       "    }\n",
       "    if (output.metadata[EXEC_MIME_TYPE][\"server_id\"] !== undefined) {\n",
       "      const bk_div = document.createElement(\"div\");\n",
       "      bk_div.innerHTML = output.data[HTML_MIME_TYPE];\n",
       "      const script_attrs = bk_div.children[0].attributes;\n",
       "      for (let i = 0; i < script_attrs.length; i++) {\n",
       "        toinsert[toinsert.length - 1].firstChild.setAttribute(script_attrs[i].name, script_attrs[i].value);\n",
       "        toinsert[toinsert.length - 1].firstChild.textContent = bk_div.children[0].textContent\n",
       "      }\n",
       "      // store reference to server id on output_area\n",
       "      output_area._bokeh_server_id = output.metadata[EXEC_MIME_TYPE][\"server_id\"];\n",
       "    }\n",
       "  }\n",
       "\n",
       "  function register_renderer(events, OutputArea) {\n",
       "\n",
       "    function append_mime(data, metadata, element) {\n",
       "      // create a DOM node to render to\n",
       "      const toinsert = this.create_output_subarea(\n",
       "        metadata,\n",
       "        CLASS_NAME,\n",
       "        EXEC_MIME_TYPE\n",
       "      );\n",
       "      this.keyboard_manager.register_events(toinsert);\n",
       "      // Render to node\n",
       "      const props = {data: data, metadata: metadata[EXEC_MIME_TYPE]};\n",
       "      render(props, toinsert[toinsert.length - 1]);\n",
       "      element.append(toinsert);\n",
       "      return toinsert\n",
       "    }\n",
       "\n",
       "    /* Handle when an output is cleared or removed */\n",
       "    events.on('clear_output.CodeCell', handleClearOutput);\n",
       "    events.on('delete.Cell', handleClearOutput);\n",
       "\n",
       "    /* Handle when a new output is added */\n",
       "    events.on('output_added.OutputArea', handleAddOutput);\n",
       "\n",
       "    /**\n",
       "     * Register the mime type and append_mime function with output_area\n",
       "     */\n",
       "    OutputArea.prototype.register_mime_type(EXEC_MIME_TYPE, append_mime, {\n",
       "      /* Is output safe? */\n",
       "      safe: true,\n",
       "      /* Index of renderer in `output_area.display_order` */\n",
       "      index: 0\n",
       "    });\n",
       "  }\n",
       "\n",
       "  // register the mime type if in Jupyter Notebook environment and previously unregistered\n",
       "  if (root.Jupyter !== undefined) {\n",
       "    const events = require('base/js/events');\n",
       "    const OutputArea = require('notebook/js/outputarea').OutputArea;\n",
       "\n",
       "    if (OutputArea.prototype.mime_types().indexOf(EXEC_MIME_TYPE) == -1) {\n",
       "      register_renderer(events, OutputArea);\n",
       "    }\n",
       "  }\n",
       "  if (typeof (root._bokeh_timeout) === \"undefined\" || force === true) {\n",
       "    root._bokeh_timeout = Date.now() + 5000;\n",
       "    root._bokeh_failed_load = false;\n",
       "  }\n",
       "\n",
       "  const NB_LOAD_WARNING = {'data': {'text/html':\n",
       "     \"<div style='background-color: #fdd'>\\n\"+\n",
       "     \"<p>\\n\"+\n",
       "     \"BokehJS does not appear to have successfully loaded. If loading BokehJS from CDN, this \\n\"+\n",
       "     \"may be due to a slow or bad network connection. Possible fixes:\\n\"+\n",
       "     \"</p>\\n\"+\n",
       "     \"<ul>\\n\"+\n",
       "     \"<li>re-rerun `output_notebook()` to attempt to load from CDN again, or</li>\\n\"+\n",
       "     \"<li>use INLINE resources instead, as so:</li>\\n\"+\n",
       "     \"</ul>\\n\"+\n",
       "     \"<code>\\n\"+\n",
       "     \"from bokeh.resources import INLINE\\n\"+\n",
       "     \"output_notebook(resources=INLINE)\\n\"+\n",
       "     \"</code>\\n\"+\n",
       "     \"</div>\"}};\n",
       "\n",
       "  function display_loaded() {\n",
       "    const el = document.getElementById(\"1002\");\n",
       "    if (el != null) {\n",
       "      el.textContent = \"BokehJS is loading...\";\n",
       "    }\n",
       "    if (root.Bokeh !== undefined) {\n",
       "      if (el != null) {\n",
       "        el.textContent = \"BokehJS \" + root.Bokeh.version + \" successfully loaded.\";\n",
       "      }\n",
       "    } else if (Date.now() < root._bokeh_timeout) {\n",
       "      setTimeout(display_loaded, 100)\n",
       "    }\n",
       "  }\n",
       "\n",
       "  function run_callbacks() {\n",
       "    try {\n",
       "      root._bokeh_onload_callbacks.forEach(function(callback) {\n",
       "        if (callback != null)\n",
       "          callback();\n",
       "      });\n",
       "    } finally {\n",
       "      delete root._bokeh_onload_callbacks\n",
       "    }\n",
       "    console.debug(\"Bokeh: all callbacks have finished\");\n",
       "  }\n",
       "\n",
       "  function load_libs(css_urls, js_urls, callback) {\n",
       "    if (css_urls == null) css_urls = [];\n",
       "    if (js_urls == null) js_urls = [];\n",
       "\n",
       "    root._bokeh_onload_callbacks.push(callback);\n",
       "    if (root._bokeh_is_loading > 0) {\n",
       "      console.debug(\"Bokeh: BokehJS is being loaded, scheduling callback at\", now());\n",
       "      return null;\n",
       "    }\n",
       "    if (js_urls == null || js_urls.length === 0) {\n",
       "      run_callbacks();\n",
       "      return null;\n",
       "    }\n",
       "    console.debug(\"Bokeh: BokehJS not loaded, scheduling load and callback at\", now());\n",
       "    root._bokeh_is_loading = css_urls.length + js_urls.length;\n",
       "\n",
       "    function on_load() {\n",
       "      root._bokeh_is_loading--;\n",
       "      if (root._bokeh_is_loading === 0) {\n",
       "        console.debug(\"Bokeh: all BokehJS libraries/stylesheets loaded\");\n",
       "        run_callbacks()\n",
       "      }\n",
       "    }\n",
       "\n",
       "    function on_error(url) {\n",
       "      console.error(\"failed to load \" + url);\n",
       "    }\n",
       "\n",
       "    for (let i = 0; i < css_urls.length; i++) {\n",
       "      const url = css_urls[i];\n",
       "      const element = document.createElement(\"link\");\n",
       "      element.onload = on_load;\n",
       "      element.onerror = on_error.bind(null, url);\n",
       "      element.rel = \"stylesheet\";\n",
       "      element.type = \"text/css\";\n",
       "      element.href = url;\n",
       "      console.debug(\"Bokeh: injecting link tag for BokehJS stylesheet: \", url);\n",
       "      document.body.appendChild(element);\n",
       "    }\n",
       "\n",
       "    for (let i = 0; i < js_urls.length; i++) {\n",
       "      const url = js_urls[i];\n",
       "      const element = document.createElement('script');\n",
       "      element.onload = on_load;\n",
       "      element.onerror = on_error.bind(null, url);\n",
       "      element.async = false;\n",
       "      element.src = url;\n",
       "      console.debug(\"Bokeh: injecting script tag for BokehJS library: \", url);\n",
       "      document.head.appendChild(element);\n",
       "    }\n",
       "  };\n",
       "\n",
       "  function inject_raw_css(css) {\n",
       "    const element = document.createElement(\"style\");\n",
       "    element.appendChild(document.createTextNode(css));\n",
       "    document.body.appendChild(element);\n",
       "  }\n",
       "\n",
       "  const js_urls = [\"https://cdn.bokeh.org/bokeh/release/bokeh-2.4.3.min.js\", \"https://cdn.bokeh.org/bokeh/release/bokeh-gl-2.4.3.min.js\", \"https://cdn.bokeh.org/bokeh/release/bokeh-widgets-2.4.3.min.js\", \"https://cdn.bokeh.org/bokeh/release/bokeh-tables-2.4.3.min.js\", \"https://cdn.bokeh.org/bokeh/release/bokeh-mathjax-2.4.3.min.js\"];\n",
       "  const css_urls = [];\n",
       "\n",
       "  const inline_js = [    function(Bokeh) {\n",
       "      Bokeh.set_log_level(\"info\");\n",
       "    },\n",
       "function(Bokeh) {\n",
       "    }\n",
       "  ];\n",
       "\n",
       "  function run_inline_js() {\n",
       "    if (root.Bokeh !== undefined || force === true) {\n",
       "          for (let i = 0; i < inline_js.length; i++) {\n",
       "      inline_js[i].call(root, root.Bokeh);\n",
       "    }\n",
       "if (force === true) {\n",
       "        display_loaded();\n",
       "      }} else if (Date.now() < root._bokeh_timeout) {\n",
       "      setTimeout(run_inline_js, 100);\n",
       "    } else if (!root._bokeh_failed_load) {\n",
       "      console.log(\"Bokeh: BokehJS failed to load within specified timeout.\");\n",
       "      root._bokeh_failed_load = true;\n",
       "    } else if (force !== true) {\n",
       "      const cell = $(document.getElementById(\"1002\")).parents('.cell').data().cell;\n",
       "      cell.output_area.append_execute_result(NB_LOAD_WARNING)\n",
       "    }\n",
       "  }\n",
       "\n",
       "  if (root._bokeh_is_loading === 0) {\n",
       "    console.debug(\"Bokeh: BokehJS loaded, going straight to plotting\");\n",
       "    run_inline_js();\n",
       "  } else {\n",
       "    load_libs(css_urls, js_urls, function() {\n",
       "      console.debug(\"Bokeh: BokehJS plotting callback run at\", now());\n",
       "      run_inline_js();\n",
       "    });\n",
       "  }\n",
       "}(window));"
      ],
      "application/vnd.bokehjs_load.v0+json": "(function(root) {\n  function now() {\n    return new Date();\n  }\n\n  const force = true;\n\n  if (typeof root._bokeh_onload_callbacks === \"undefined\" || force === true) {\n    root._bokeh_onload_callbacks = [];\n    root._bokeh_is_loading = undefined;\n  }\n\n\n  if (typeof (root._bokeh_timeout) === \"undefined\" || force === true) {\n    root._bokeh_timeout = Date.now() + 5000;\n    root._bokeh_failed_load = false;\n  }\n\n  const NB_LOAD_WARNING = {'data': {'text/html':\n     \"<div style='background-color: #fdd'>\\n\"+\n     \"<p>\\n\"+\n     \"BokehJS does not appear to have successfully loaded. If loading BokehJS from CDN, this \\n\"+\n     \"may be due to a slow or bad network connection. Possible fixes:\\n\"+\n     \"</p>\\n\"+\n     \"<ul>\\n\"+\n     \"<li>re-rerun `output_notebook()` to attempt to load from CDN again, or</li>\\n\"+\n     \"<li>use INLINE resources instead, as so:</li>\\n\"+\n     \"</ul>\\n\"+\n     \"<code>\\n\"+\n     \"from bokeh.resources import INLINE\\n\"+\n     \"output_notebook(resources=INLINE)\\n\"+\n     \"</code>\\n\"+\n     \"</div>\"}};\n\n  function display_loaded() {\n    const el = document.getElementById(\"1002\");\n    if (el != null) {\n      el.textContent = \"BokehJS is loading...\";\n    }\n    if (root.Bokeh !== undefined) {\n      if (el != null) {\n        el.textContent = \"BokehJS \" + root.Bokeh.version + \" successfully loaded.\";\n      }\n    } else if (Date.now() < root._bokeh_timeout) {\n      setTimeout(display_loaded, 100)\n    }\n  }\n\n  function run_callbacks() {\n    try {\n      root._bokeh_onload_callbacks.forEach(function(callback) {\n        if (callback != null)\n          callback();\n      });\n    } finally {\n      delete root._bokeh_onload_callbacks\n    }\n    console.debug(\"Bokeh: all callbacks have finished\");\n  }\n\n  function load_libs(css_urls, js_urls, callback) {\n    if (css_urls == null) css_urls = [];\n    if (js_urls == null) js_urls = [];\n\n    root._bokeh_onload_callbacks.push(callback);\n    if (root._bokeh_is_loading > 0) {\n      console.debug(\"Bokeh: BokehJS is being loaded, scheduling callback at\", now());\n      return null;\n    }\n    if (js_urls == null || js_urls.length === 0) {\n      run_callbacks();\n      return null;\n    }\n    console.debug(\"Bokeh: BokehJS not loaded, scheduling load and callback at\", now());\n    root._bokeh_is_loading = css_urls.length + js_urls.length;\n\n    function on_load() {\n      root._bokeh_is_loading--;\n      if (root._bokeh_is_loading === 0) {\n        console.debug(\"Bokeh: all BokehJS libraries/stylesheets loaded\");\n        run_callbacks()\n      }\n    }\n\n    function on_error(url) {\n      console.error(\"failed to load \" + url);\n    }\n\n    for (let i = 0; i < css_urls.length; i++) {\n      const url = css_urls[i];\n      const element = document.createElement(\"link\");\n      element.onload = on_load;\n      element.onerror = on_error.bind(null, url);\n      element.rel = \"stylesheet\";\n      element.type = \"text/css\";\n      element.href = url;\n      console.debug(\"Bokeh: injecting link tag for BokehJS stylesheet: \", url);\n      document.body.appendChild(element);\n    }\n\n    for (let i = 0; i < js_urls.length; i++) {\n      const url = js_urls[i];\n      const element = document.createElement('script');\n      element.onload = on_load;\n      element.onerror = on_error.bind(null, url);\n      element.async = false;\n      element.src = url;\n      console.debug(\"Bokeh: injecting script tag for BokehJS library: \", url);\n      document.head.appendChild(element);\n    }\n  };\n\n  function inject_raw_css(css) {\n    const element = document.createElement(\"style\");\n    element.appendChild(document.createTextNode(css));\n    document.body.appendChild(element);\n  }\n\n  const js_urls = [\"https://cdn.bokeh.org/bokeh/release/bokeh-2.4.3.min.js\", \"https://cdn.bokeh.org/bokeh/release/bokeh-gl-2.4.3.min.js\", \"https://cdn.bokeh.org/bokeh/release/bokeh-widgets-2.4.3.min.js\", \"https://cdn.bokeh.org/bokeh/release/bokeh-tables-2.4.3.min.js\", \"https://cdn.bokeh.org/bokeh/release/bokeh-mathjax-2.4.3.min.js\"];\n  const css_urls = [];\n\n  const inline_js = [    function(Bokeh) {\n      Bokeh.set_log_level(\"info\");\n    },\nfunction(Bokeh) {\n    }\n  ];\n\n  function run_inline_js() {\n    if (root.Bokeh !== undefined || force === true) {\n          for (let i = 0; i < inline_js.length; i++) {\n      inline_js[i].call(root, root.Bokeh);\n    }\nif (force === true) {\n        display_loaded();\n      }} else if (Date.now() < root._bokeh_timeout) {\n      setTimeout(run_inline_js, 100);\n    } else if (!root._bokeh_failed_load) {\n      console.log(\"Bokeh: BokehJS failed to load within specified timeout.\");\n      root._bokeh_failed_load = true;\n    } else if (force !== true) {\n      const cell = $(document.getElementById(\"1002\")).parents('.cell').data().cell;\n      cell.output_area.append_execute_result(NB_LOAD_WARNING)\n    }\n  }\n\n  if (root._bokeh_is_loading === 0) {\n    console.debug(\"Bokeh: BokehJS loaded, going straight to plotting\");\n    run_inline_js();\n  } else {\n    load_libs(css_urls, js_urls, function() {\n      console.debug(\"Bokeh: BokehJS plotting callback run at\", now());\n      run_inline_js();\n    });\n  }\n}(window));"
     },
     "metadata": {},
     "output_type": "display_data"
    }
   ],
   "source": [
    "import math\n",
    "import bokeh\n",
    "from bokeh.plotting import figure, show\n",
    "from bokeh.models import tickers, ranges\n",
    "from bokeh.io import output_notebook\n",
    "output_notebook()\n",
    "import numpy as np\n",
    "import os\n",
    "import pandas as pd"
   ]
  },
  {
   "cell_type": "markdown",
   "id": "496ff77e",
   "metadata": {},
   "source": [
    "## Setting up for NR"
   ]
  },
  {
   "cell_type": "markdown",
   "id": "dd121743",
   "metadata": {},
   "source": [
    "Given"
   ]
  },
  {
   "cell_type": "markdown",
   "id": "f3b67e0c",
   "metadata": {},
   "source": [
    "\\begin{equation}\n",
    "\\large\n",
    "y_i = Po({\\rm e}^{\\theta x_i}) \\\\\n",
    "\\text{where} \\\\\n",
    "z = \\Sigma_{i=1}^{n}x_iy_i \\hspace{10mm} \\lambda_i = {\\rm e}^{\\theta x_i}\n",
    "\\end{equation}"
   ]
  },
  {
   "cell_type": "markdown",
   "id": "24d8a9e7",
   "metadata": {},
   "source": [
    "Before"
   ]
  },
  {
   "cell_type": "markdown",
   "id": "577cabc6",
   "metadata": {},
   "source": [
    "\\begin{equation}\n",
    "\\large\n",
    "\\lambda = a +bx \\\\\n",
    "\\large\n",
    "Log \\hspace{2 mm} likelihood = L(a,b) = a\\hspace{1mm} n \\hspace{1mm}\\bar y + b\\hspace{1mm} z - {\\rm e}^{a}\\Sigma_{i=1}^{n}{\\rm e}^{bx_i}\\\\\n",
    "\\large\n",
    "\\end{equation}"
   ]
  },
  {
   "cell_type": "markdown",
   "id": "9c835996",
   "metadata": {},
   "source": [
    "Now, with $a =0 $"
   ]
  },
  {
   "cell_type": "markdown",
   "id": "57b21b38",
   "metadata": {},
   "source": [
    "\\begin{equation}\n",
    "\\large\n",
    "b\\hspace{1mm} z - (1)\\cdot\\Sigma_{i=1}^{n}{\\rm e}^{bx_i} \\\\\n",
    "\\\\\n",
    "\\large\n",
    "\\text{replace b with $\\theta$}\n",
    "\\newline\n",
    "\\newline\n",
    "\\large\n",
    "\\theta\\hspace{1mm} z - \\Sigma_{i=1}^{n}{\\rm e}^{\\theta x_i} \\\\\n",
    "\\large\n",
    "\\theta\\hspace{1mm} z - \\Sigma_{i=1}^{n}\\lambda_i \\\\\n",
    "\\end{equation}"
   ]
  },
  {
   "cell_type": "markdown",
   "id": "61b7c909",
   "metadata": {},
   "source": [
    "Derivatives"
   ]
  },
  {
   "cell_type": "markdown",
   "id": "3fec9317",
   "metadata": {},
   "source": [
    "\\begin{equation}\n",
    "\\large\n",
    "L' (\\theta) = \\dfrac{\\partial L}{\\partial \\theta} = z - \\Sigma_{i=1}^{n}x_i{\\rm e}^{\\theta x_i} \\\\\n",
    "\\large\n",
    "L' (\\theta) = \\dfrac{\\partial L}{\\partial \\theta} = \\Sigma_{i=1}^{n}x_iy_i - \\Sigma_{i=1}^{n}x_i{\\rm e}^{\\theta x_i} \\\\\n",
    "\\large\n",
    "L'' (\\theta) = \\dfrac{\\partial^2 L}{\\partial\\theta^2} = - \\Sigma_{i=1}^{n}x_i^2{\\rm e}^{\\theta x_i}\n",
    "\\end{equation}\n"
   ]
  },
  {
   "cell_type": "markdown",
   "id": "7e19a1d4",
   "metadata": {},
   "source": [
    "Netwon Raphson"
   ]
  },
  {
   "cell_type": "markdown",
   "id": "5a990a24",
   "metadata": {},
   "source": [
    "\\begin{equation}\n",
    "\\large\n",
    "\\theta_{t+1} = \\theta_{t} - \\frac{L'(x_0)}{L''(x_0)}\n",
    "\\end{equation}"
   ]
  },
  {
   "cell_type": "markdown",
   "id": "d8aa2693",
   "metadata": {},
   "source": [
    "## NR implementation"
   ]
  },
  {
   "cell_type": "markdown",
   "id": "f461b96b",
   "metadata": {},
   "source": [
    "Given $ n = 10$ and $x_i = -3 + 6i/n$ and $z = 1551$"
   ]
  },
  {
   "cell_type": "code",
   "execution_count": 4,
   "id": "b5b3e521",
   "metadata": {},
   "outputs": [
    {
     "data": {
      "text/plain": [
       "array([-2.4, -1.8, -1.2, -0.6,  0. ,  0.6,  1.2,  1.8,  2.4,  3. ])"
      ]
     },
     "execution_count": 4,
     "metadata": {},
     "output_type": "execute_result"
    }
   ],
   "source": [
    "n = 10\n",
    "z = 1551\n",
    "x = np.array([-3 + (6*i)/n for i in range(1,11)])\n",
    "x    "
   ]
  },
  {
   "cell_type": "code",
   "execution_count": 5,
   "id": "7c277499",
   "metadata": {},
   "outputs": [],
   "source": [
    "def newton(x, guess, tolerance = 0.00001, output_message = False):\n",
    "    \"\"\"\n",
    "    Args:\n",
    "        guess (float): initial value for parameter\n",
    "        tolerance (float): tolerance\n",
    "    \n",
    "    \\begin{equation}\n",
    "    t = t_0 - \\frac{f(x_0)}{f'(x_0)}.\n",
    "    \\end{equation}\n",
    "\n",
    "    \"\"\"\n",
    "    #Initialize\n",
    "    t_0 = guess\n",
    "    difference = tolerance * 5 # Enter Loop\n",
    "    iter_number = 0\n",
    "\n",
    "    status_message = 'Starting with Guess = ' + str(t_0) + '\\n'\n",
    "    while abs(difference) > tolerance:\n",
    "        \n",
    "        # calculate values of function and derivative and t+1 value\n",
    "        \n",
    "        L_prime = z - np.sum(x*np.exp(t_0*x))                \n",
    "        L_prime2 = - np.sum((x**2)*np.exp(t_0*x))\n",
    "        t = t_0 - (L_prime / L_prime2)\n",
    "\n",
    "        # calculate difference and update iteration state\n",
    "        difference = t - t_0\n",
    "        t_0 = t\n",
    "        iter_number += 1\n",
    "        status_message += 'Iteration #' + str(iter_number) + ':= ' + str(t) + '\\n'\n",
    "        \n",
    "    status_message += 'Total No. of Iterations = '  +  str(iter_number)\n",
    "    \n",
    "    if output_message:\n",
    "        return t_0, status_message\n",
    "    return t_0    "
   ]
  },
  {
   "cell_type": "code",
   "execution_count": 6,
   "id": "1002b495",
   "metadata": {},
   "outputs": [
    {
     "name": "stdout",
     "output_type": "stream",
     "text": [
      "Trial 1: Theta_hat = 1.9928415099795815\n",
      "Trial 2: Theta_hat = 1.9928415099736108 \n",
      "\n",
      "Starting with Guess = 1\n",
      "Iteration #1:= 6.348995264795304\n",
      "Iteration #2:= 6.014458020383129\n",
      "Iteration #3:= 5.679648195038975\n",
      "Iteration #4:= 5.344504034577839\n",
      "Iteration #5:= 5.0089522078173685\n",
      "Iteration #6:= 4.672911152600926\n",
      "Iteration #7:= 4.336306539727626\n",
      "Iteration #8:= 3.999121757516986\n",
      "Iteration #9:= 3.6615462961731198\n",
      "Iteration #10:= 3.3243917427760756\n",
      "Iteration #11:= 2.990217388243105\n",
      "Iteration #12:= 2.6662075099344005\n",
      "Iteration #13:= 2.3705221112465322\n",
      "Iteration #14:= 2.140588181045432\n",
      "Iteration #15:= 2.0202114623084753\n",
      "Iteration #16:= 1.9938880835642334\n",
      "Iteration #17:= 1.9928430780678603\n",
      "Iteration #18:= 1.9928415099771344\n",
      "Total No. of Iterations = 18\n",
      "Trial 3: Theta_hat = 1.9928415099771344\n"
     ]
    }
   ],
   "source": [
    "# Trial 1\n",
    "theta_hat = newton(x, guess = 3)\n",
    "print('Trial 1: Theta_hat =', theta_hat)\n",
    "\n",
    "# Trial 2\n",
    "theta_hat = newton(x, guess = -3)\n",
    "print('Trial 2: Theta_hat =', theta_hat , '\\n')\n",
    "\n",
    "# Trial 3\n",
    "theta_hat, message = newton(x, guess = 1, output_message = True)\n",
    "print(message)\n",
    "print('Trial 3: Theta_hat =', theta_hat)"
   ]
  },
  {
   "cell_type": "code",
   "execution_count": 22,
   "id": "1d0d4a75",
   "metadata": {
    "scrolled": true
   },
   "outputs": [
    {
     "name": "stdout",
     "output_type": "stream",
     "text": [
      "L' = -1.5419345800182782e-08\n",
      "L'' = -4376.060653373427\n"
     ]
    }
   ],
   "source": [
    "t_0  = theta_hat\n",
    "L_prime = z - np.sum(x*np.exp(theta_hat*x))                \n",
    "L_prime2 = - np.sum((x**2)*np.exp(theta_hat*x))\n",
    "print(\"L' =\", L_prime)\n",
    "print(\"L'' =\", L_prime2)"
   ]
  },
  {
   "cell_type": "markdown",
   "id": "db40c02f",
   "metadata": {},
   "source": [
    "## Variance of Estimator"
   ]
  },
  {
   "cell_type": "markdown",
   "id": "00a3cafa",
   "metadata": {},
   "source": [
    "\\begin{equation}\n",
    "\\\\\n",
    "\\large\n",
    "Var \\hat\\theta = \\sigma^2\\dfrac{\\Sigma_{i=1}^{n}(\\dfrac{\\partial f(\\theta, x_i)}{\\partial \\theta})^2}{L''(\\hat\\theta)^2} = \\dfrac{Var L'(\\theta)}{L''(\\hat\\theta)^2} = \\dfrac{Var \\dfrac{\\partial L}{\\partial \\theta}}{L''(\\hat\\theta)^2} = \n",
    "\\dfrac{\\Sigma_{i=1}^{n}x_i^2\\lambda_i}{L''(\\hat\\theta)^2}\n",
    "\\end{equation}"
   ]
  },
  {
   "cell_type": "markdown",
   "id": "b9dcc516",
   "metadata": {},
   "source": [
    "Estimating Variance $\\sigma^2$"
   ]
  },
  {
   "cell_type": "code",
   "execution_count": 7,
   "id": "155ad023",
   "metadata": {},
   "outputs": [
    {
     "name": "stdout",
     "output_type": "stream",
     "text": [
      "Theta_hat = 1.9928415099771344\n"
     ]
    }
   ],
   "source": [
    "print('Theta_hat =', theta_hat)"
   ]
  },
  {
   "cell_type": "code",
   "execution_count": 9,
   "id": "35b6f528",
   "metadata": {},
   "outputs": [
    {
     "data": {
      "text/plain": [
       "4376.060653373427"
      ]
     },
     "execution_count": 9,
     "metadata": {},
     "output_type": "execute_result"
    }
   ],
   "source": [
    "lambda_i =  np.exp(theta_hat*x)\n",
    "var_L_prime = np.sum(  lambda_i*x**2)\n",
    "var_L_prime"
   ]
  },
  {
   "cell_type": "markdown",
   "id": "1258dc75",
   "metadata": {},
   "source": [
    "$I''(\\hat\\theta)$ "
   ]
  },
  {
   "cell_type": "code",
   "execution_count": 16,
   "id": "3a9118f3",
   "metadata": {
    "scrolled": true
   },
   "outputs": [
    {
     "data": {
      "text/plain": [
       "-4376.060653373427"
      ]
     },
     "execution_count": 16,
     "metadata": {},
     "output_type": "execute_result"
    }
   ],
   "source": [
    "L_prime2 = - np.sum((x**2)*np.exp(theta_hat*x))\n",
    "L_prime2"
   ]
  },
  {
   "cell_type": "markdown",
   "id": "701d82c2",
   "metadata": {},
   "source": [
    "$Var(\\hat\\theta)$ "
   ]
  },
  {
   "cell_type": "code",
   "execution_count": 17,
   "id": "ad2ce8b3",
   "metadata": {},
   "outputs": [
    {
     "data": {
      "text/plain": [
       "0.00022851602827513777"
      ]
     },
     "execution_count": 17,
     "metadata": {},
     "output_type": "execute_result"
    }
   ],
   "source": [
    "var_theta_hat = var_L_prime / (L_prime2)**2\n",
    "var_theta_hat"
   ]
  },
  {
   "cell_type": "markdown",
   "id": "8f578163",
   "metadata": {},
   "source": [
    "## What is the $p$-value obtained for the test $H_o : \\theta = 2$ ? (Use the $\\hat\\theta$ value rounded to two decimal places)"
   ]
  },
  {
   "cell_type": "code",
   "execution_count": 18,
   "id": "790d0bf3",
   "metadata": {},
   "outputs": [],
   "source": [
    "theta_hat = 1.99"
   ]
  },
  {
   "cell_type": "markdown",
   "id": "5327e400",
   "metadata": {},
   "source": [
    "Under Null hypothesis, we would have"
   ]
  },
  {
   "cell_type": "markdown",
   "id": "62b332ee",
   "metadata": {},
   "source": [
    "$\\hat\\theta = N(2,Var\\hat\\theta)$"
   ]
  },
  {
   "cell_type": "code",
   "execution_count": 25,
   "id": "7801c871",
   "metadata": {},
   "outputs": [
    {
     "data": {
      "text/plain": [
       "0.6615180007659229"
      ]
     },
     "execution_count": 25,
     "metadata": {},
     "output_type": "execute_result"
    }
   ],
   "source": [
    "z_score = abs((theta_hat - 2)) / math.sqrt(var_theta_hat)\n",
    "z_score"
   ]
  },
  {
   "cell_type": "code",
   "execution_count": 26,
   "id": "bef20dea",
   "metadata": {},
   "outputs": [],
   "source": [
    "from scipy.stats import norm"
   ]
  },
  {
   "cell_type": "code",
   "execution_count": 31,
   "id": "6dfae9e7",
   "metadata": {},
   "outputs": [
    {
     "data": {
      "text/plain": [
       "0.5082801745412648"
      ]
     },
     "execution_count": 31,
     "metadata": {},
     "output_type": "execute_result"
    }
   ],
   "source": [
    "p_value = 2 * norm.sf(z_score, loc=0, scale=1)\n",
    "p_value"
   ]
  }
 ],
 "metadata": {
  "kernelspec": {
   "display_name": "venv",
   "language": "python",
   "name": "venv"
  },
  "language_info": {
   "codemirror_mode": {
    "name": "ipython",
    "version": 3
   },
   "file_extension": ".py",
   "mimetype": "text/x-python",
   "name": "python",
   "nbconvert_exporter": "python",
   "pygments_lexer": "ipython3",
   "version": "3.10.2"
  }
 },
 "nbformat": 4,
 "nbformat_minor": 5
}
