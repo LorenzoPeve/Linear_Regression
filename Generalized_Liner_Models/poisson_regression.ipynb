{
 "cells": [
  {
   "cell_type": "markdown",
   "id": "6d4a62ad",
   "metadata": {},
   "source": [
    "### Importing Modules"
   ]
  },
  {
   "cell_type": "code",
   "execution_count": 1,
   "id": "7eb20b74",
   "metadata": {},
   "outputs": [
    {
     "data": {
      "text/html": [
       "<div class=\"bk-root\">\n",
       "        <a href=\"https://bokeh.org\" target=\"_blank\" class=\"bk-logo bk-logo-small bk-logo-notebook\"></a>\n",
       "        <span id=\"1002\">Loading BokehJS ...</span>\n",
       "    </div>\n"
      ]
     },
     "metadata": {},
     "output_type": "display_data"
    },
    {
     "data": {
      "application/javascript": [
       "(function(root) {\n",
       "  function now() {\n",
       "    return new Date();\n",
       "  }\n",
       "\n",
       "  const force = true;\n",
       "\n",
       "  if (typeof root._bokeh_onload_callbacks === \"undefined\" || force === true) {\n",
       "    root._bokeh_onload_callbacks = [];\n",
       "    root._bokeh_is_loading = undefined;\n",
       "  }\n",
       "\n",
       "const JS_MIME_TYPE = 'application/javascript';\n",
       "  const HTML_MIME_TYPE = 'text/html';\n",
       "  const EXEC_MIME_TYPE = 'application/vnd.bokehjs_exec.v0+json';\n",
       "  const CLASS_NAME = 'output_bokeh rendered_html';\n",
       "\n",
       "  /**\n",
       "   * Render data to the DOM node\n",
       "   */\n",
       "  function render(props, node) {\n",
       "    const script = document.createElement(\"script\");\n",
       "    node.appendChild(script);\n",
       "  }\n",
       "\n",
       "  /**\n",
       "   * Handle when an output is cleared or removed\n",
       "   */\n",
       "  function handleClearOutput(event, handle) {\n",
       "    const cell = handle.cell;\n",
       "\n",
       "    const id = cell.output_area._bokeh_element_id;\n",
       "    const server_id = cell.output_area._bokeh_server_id;\n",
       "    // Clean up Bokeh references\n",
       "    if (id != null && id in Bokeh.index) {\n",
       "      Bokeh.index[id].model.document.clear();\n",
       "      delete Bokeh.index[id];\n",
       "    }\n",
       "\n",
       "    if (server_id !== undefined) {\n",
       "      // Clean up Bokeh references\n",
       "      const cmd_clean = \"from bokeh.io.state import curstate; print(curstate().uuid_to_server['\" + server_id + \"'].get_sessions()[0].document.roots[0]._id)\";\n",
       "      cell.notebook.kernel.execute(cmd_clean, {\n",
       "        iopub: {\n",
       "          output: function(msg) {\n",
       "            const id = msg.content.text.trim();\n",
       "            if (id in Bokeh.index) {\n",
       "              Bokeh.index[id].model.document.clear();\n",
       "              delete Bokeh.index[id];\n",
       "            }\n",
       "          }\n",
       "        }\n",
       "      });\n",
       "      // Destroy server and session\n",
       "      const cmd_destroy = \"import bokeh.io.notebook as ion; ion.destroy_server('\" + server_id + \"')\";\n",
       "      cell.notebook.kernel.execute(cmd_destroy);\n",
       "    }\n",
       "  }\n",
       "\n",
       "  /**\n",
       "   * Handle when a new output is added\n",
       "   */\n",
       "  function handleAddOutput(event, handle) {\n",
       "    const output_area = handle.output_area;\n",
       "    const output = handle.output;\n",
       "\n",
       "    // limit handleAddOutput to display_data with EXEC_MIME_TYPE content only\n",
       "    if ((output.output_type != \"display_data\") || (!Object.prototype.hasOwnProperty.call(output.data, EXEC_MIME_TYPE))) {\n",
       "      return\n",
       "    }\n",
       "\n",
       "    const toinsert = output_area.element.find(\".\" + CLASS_NAME.split(' ')[0]);\n",
       "\n",
       "    if (output.metadata[EXEC_MIME_TYPE][\"id\"] !== undefined) {\n",
       "      toinsert[toinsert.length - 1].firstChild.textContent = output.data[JS_MIME_TYPE];\n",
       "      // store reference to embed id on output_area\n",
       "      output_area._bokeh_element_id = output.metadata[EXEC_MIME_TYPE][\"id\"];\n",
       "    }\n",
       "    if (output.metadata[EXEC_MIME_TYPE][\"server_id\"] !== undefined) {\n",
       "      const bk_div = document.createElement(\"div\");\n",
       "      bk_div.innerHTML = output.data[HTML_MIME_TYPE];\n",
       "      const script_attrs = bk_div.children[0].attributes;\n",
       "      for (let i = 0; i < script_attrs.length; i++) {\n",
       "        toinsert[toinsert.length - 1].firstChild.setAttribute(script_attrs[i].name, script_attrs[i].value);\n",
       "        toinsert[toinsert.length - 1].firstChild.textContent = bk_div.children[0].textContent\n",
       "      }\n",
       "      // store reference to server id on output_area\n",
       "      output_area._bokeh_server_id = output.metadata[EXEC_MIME_TYPE][\"server_id\"];\n",
       "    }\n",
       "  }\n",
       "\n",
       "  function register_renderer(events, OutputArea) {\n",
       "\n",
       "    function append_mime(data, metadata, element) {\n",
       "      // create a DOM node to render to\n",
       "      const toinsert = this.create_output_subarea(\n",
       "        metadata,\n",
       "        CLASS_NAME,\n",
       "        EXEC_MIME_TYPE\n",
       "      );\n",
       "      this.keyboard_manager.register_events(toinsert);\n",
       "      // Render to node\n",
       "      const props = {data: data, metadata: metadata[EXEC_MIME_TYPE]};\n",
       "      render(props, toinsert[toinsert.length - 1]);\n",
       "      element.append(toinsert);\n",
       "      return toinsert\n",
       "    }\n",
       "\n",
       "    /* Handle when an output is cleared or removed */\n",
       "    events.on('clear_output.CodeCell', handleClearOutput);\n",
       "    events.on('delete.Cell', handleClearOutput);\n",
       "\n",
       "    /* Handle when a new output is added */\n",
       "    events.on('output_added.OutputArea', handleAddOutput);\n",
       "\n",
       "    /**\n",
       "     * Register the mime type and append_mime function with output_area\n",
       "     */\n",
       "    OutputArea.prototype.register_mime_type(EXEC_MIME_TYPE, append_mime, {\n",
       "      /* Is output safe? */\n",
       "      safe: true,\n",
       "      /* Index of renderer in `output_area.display_order` */\n",
       "      index: 0\n",
       "    });\n",
       "  }\n",
       "\n",
       "  // register the mime type if in Jupyter Notebook environment and previously unregistered\n",
       "  if (root.Jupyter !== undefined) {\n",
       "    const events = require('base/js/events');\n",
       "    const OutputArea = require('notebook/js/outputarea').OutputArea;\n",
       "\n",
       "    if (OutputArea.prototype.mime_types().indexOf(EXEC_MIME_TYPE) == -1) {\n",
       "      register_renderer(events, OutputArea);\n",
       "    }\n",
       "  }\n",
       "  if (typeof (root._bokeh_timeout) === \"undefined\" || force === true) {\n",
       "    root._bokeh_timeout = Date.now() + 5000;\n",
       "    root._bokeh_failed_load = false;\n",
       "  }\n",
       "\n",
       "  const NB_LOAD_WARNING = {'data': {'text/html':\n",
       "     \"<div style='background-color: #fdd'>\\n\"+\n",
       "     \"<p>\\n\"+\n",
       "     \"BokehJS does not appear to have successfully loaded. If loading BokehJS from CDN, this \\n\"+\n",
       "     \"may be due to a slow or bad network connection. Possible fixes:\\n\"+\n",
       "     \"</p>\\n\"+\n",
       "     \"<ul>\\n\"+\n",
       "     \"<li>re-rerun `output_notebook()` to attempt to load from CDN again, or</li>\\n\"+\n",
       "     \"<li>use INLINE resources instead, as so:</li>\\n\"+\n",
       "     \"</ul>\\n\"+\n",
       "     \"<code>\\n\"+\n",
       "     \"from bokeh.resources import INLINE\\n\"+\n",
       "     \"output_notebook(resources=INLINE)\\n\"+\n",
       "     \"</code>\\n\"+\n",
       "     \"</div>\"}};\n",
       "\n",
       "  function display_loaded() {\n",
       "    const el = document.getElementById(\"1002\");\n",
       "    if (el != null) {\n",
       "      el.textContent = \"BokehJS is loading...\";\n",
       "    }\n",
       "    if (root.Bokeh !== undefined) {\n",
       "      if (el != null) {\n",
       "        el.textContent = \"BokehJS \" + root.Bokeh.version + \" successfully loaded.\";\n",
       "      }\n",
       "    } else if (Date.now() < root._bokeh_timeout) {\n",
       "      setTimeout(display_loaded, 100)\n",
       "    }\n",
       "  }\n",
       "\n",
       "  function run_callbacks() {\n",
       "    try {\n",
       "      root._bokeh_onload_callbacks.forEach(function(callback) {\n",
       "        if (callback != null)\n",
       "          callback();\n",
       "      });\n",
       "    } finally {\n",
       "      delete root._bokeh_onload_callbacks\n",
       "    }\n",
       "    console.debug(\"Bokeh: all callbacks have finished\");\n",
       "  }\n",
       "\n",
       "  function load_libs(css_urls, js_urls, callback) {\n",
       "    if (css_urls == null) css_urls = [];\n",
       "    if (js_urls == null) js_urls = [];\n",
       "\n",
       "    root._bokeh_onload_callbacks.push(callback);\n",
       "    if (root._bokeh_is_loading > 0) {\n",
       "      console.debug(\"Bokeh: BokehJS is being loaded, scheduling callback at\", now());\n",
       "      return null;\n",
       "    }\n",
       "    if (js_urls == null || js_urls.length === 0) {\n",
       "      run_callbacks();\n",
       "      return null;\n",
       "    }\n",
       "    console.debug(\"Bokeh: BokehJS not loaded, scheduling load and callback at\", now());\n",
       "    root._bokeh_is_loading = css_urls.length + js_urls.length;\n",
       "\n",
       "    function on_load() {\n",
       "      root._bokeh_is_loading--;\n",
       "      if (root._bokeh_is_loading === 0) {\n",
       "        console.debug(\"Bokeh: all BokehJS libraries/stylesheets loaded\");\n",
       "        run_callbacks()\n",
       "      }\n",
       "    }\n",
       "\n",
       "    function on_error(url) {\n",
       "      console.error(\"failed to load \" + url);\n",
       "    }\n",
       "\n",
       "    for (let i = 0; i < css_urls.length; i++) {\n",
       "      const url = css_urls[i];\n",
       "      const element = document.createElement(\"link\");\n",
       "      element.onload = on_load;\n",
       "      element.onerror = on_error.bind(null, url);\n",
       "      element.rel = \"stylesheet\";\n",
       "      element.type = \"text/css\";\n",
       "      element.href = url;\n",
       "      console.debug(\"Bokeh: injecting link tag for BokehJS stylesheet: \", url);\n",
       "      document.body.appendChild(element);\n",
       "    }\n",
       "\n",
       "    for (let i = 0; i < js_urls.length; i++) {\n",
       "      const url = js_urls[i];\n",
       "      const element = document.createElement('script');\n",
       "      element.onload = on_load;\n",
       "      element.onerror = on_error.bind(null, url);\n",
       "      element.async = false;\n",
       "      element.src = url;\n",
       "      console.debug(\"Bokeh: injecting script tag for BokehJS library: \", url);\n",
       "      document.head.appendChild(element);\n",
       "    }\n",
       "  };\n",
       "\n",
       "  function inject_raw_css(css) {\n",
       "    const element = document.createElement(\"style\");\n",
       "    element.appendChild(document.createTextNode(css));\n",
       "    document.body.appendChild(element);\n",
       "  }\n",
       "\n",
       "  const js_urls = [\"https://cdn.bokeh.org/bokeh/release/bokeh-2.4.3.min.js\", \"https://cdn.bokeh.org/bokeh/release/bokeh-gl-2.4.3.min.js\", \"https://cdn.bokeh.org/bokeh/release/bokeh-widgets-2.4.3.min.js\", \"https://cdn.bokeh.org/bokeh/release/bokeh-tables-2.4.3.min.js\", \"https://cdn.bokeh.org/bokeh/release/bokeh-mathjax-2.4.3.min.js\"];\n",
       "  const css_urls = [];\n",
       "\n",
       "  const inline_js = [    function(Bokeh) {\n",
       "      Bokeh.set_log_level(\"info\");\n",
       "    },\n",
       "function(Bokeh) {\n",
       "    }\n",
       "  ];\n",
       "\n",
       "  function run_inline_js() {\n",
       "    if (root.Bokeh !== undefined || force === true) {\n",
       "          for (let i = 0; i < inline_js.length; i++) {\n",
       "      inline_js[i].call(root, root.Bokeh);\n",
       "    }\n",
       "if (force === true) {\n",
       "        display_loaded();\n",
       "      }} else if (Date.now() < root._bokeh_timeout) {\n",
       "      setTimeout(run_inline_js, 100);\n",
       "    } else if (!root._bokeh_failed_load) {\n",
       "      console.log(\"Bokeh: BokehJS failed to load within specified timeout.\");\n",
       "      root._bokeh_failed_load = true;\n",
       "    } else if (force !== true) {\n",
       "      const cell = $(document.getElementById(\"1002\")).parents('.cell').data().cell;\n",
       "      cell.output_area.append_execute_result(NB_LOAD_WARNING)\n",
       "    }\n",
       "  }\n",
       "\n",
       "  if (root._bokeh_is_loading === 0) {\n",
       "    console.debug(\"Bokeh: BokehJS loaded, going straight to plotting\");\n",
       "    run_inline_js();\n",
       "  } else {\n",
       "    load_libs(css_urls, js_urls, function() {\n",
       "      console.debug(\"Bokeh: BokehJS plotting callback run at\", now());\n",
       "      run_inline_js();\n",
       "    });\n",
       "  }\n",
       "}(window));"
      ],
      "application/vnd.bokehjs_load.v0+json": "(function(root) {\n  function now() {\n    return new Date();\n  }\n\n  const force = true;\n\n  if (typeof root._bokeh_onload_callbacks === \"undefined\" || force === true) {\n    root._bokeh_onload_callbacks = [];\n    root._bokeh_is_loading = undefined;\n  }\n\n\n  if (typeof (root._bokeh_timeout) === \"undefined\" || force === true) {\n    root._bokeh_timeout = Date.now() + 5000;\n    root._bokeh_failed_load = false;\n  }\n\n  const NB_LOAD_WARNING = {'data': {'text/html':\n     \"<div style='background-color: #fdd'>\\n\"+\n     \"<p>\\n\"+\n     \"BokehJS does not appear to have successfully loaded. If loading BokehJS from CDN, this \\n\"+\n     \"may be due to a slow or bad network connection. Possible fixes:\\n\"+\n     \"</p>\\n\"+\n     \"<ul>\\n\"+\n     \"<li>re-rerun `output_notebook()` to attempt to load from CDN again, or</li>\\n\"+\n     \"<li>use INLINE resources instead, as so:</li>\\n\"+\n     \"</ul>\\n\"+\n     \"<code>\\n\"+\n     \"from bokeh.resources import INLINE\\n\"+\n     \"output_notebook(resources=INLINE)\\n\"+\n     \"</code>\\n\"+\n     \"</div>\"}};\n\n  function display_loaded() {\n    const el = document.getElementById(\"1002\");\n    if (el != null) {\n      el.textContent = \"BokehJS is loading...\";\n    }\n    if (root.Bokeh !== undefined) {\n      if (el != null) {\n        el.textContent = \"BokehJS \" + root.Bokeh.version + \" successfully loaded.\";\n      }\n    } else if (Date.now() < root._bokeh_timeout) {\n      setTimeout(display_loaded, 100)\n    }\n  }\n\n  function run_callbacks() {\n    try {\n      root._bokeh_onload_callbacks.forEach(function(callback) {\n        if (callback != null)\n          callback();\n      });\n    } finally {\n      delete root._bokeh_onload_callbacks\n    }\n    console.debug(\"Bokeh: all callbacks have finished\");\n  }\n\n  function load_libs(css_urls, js_urls, callback) {\n    if (css_urls == null) css_urls = [];\n    if (js_urls == null) js_urls = [];\n\n    root._bokeh_onload_callbacks.push(callback);\n    if (root._bokeh_is_loading > 0) {\n      console.debug(\"Bokeh: BokehJS is being loaded, scheduling callback at\", now());\n      return null;\n    }\n    if (js_urls == null || js_urls.length === 0) {\n      run_callbacks();\n      return null;\n    }\n    console.debug(\"Bokeh: BokehJS not loaded, scheduling load and callback at\", now());\n    root._bokeh_is_loading = css_urls.length + js_urls.length;\n\n    function on_load() {\n      root._bokeh_is_loading--;\n      if (root._bokeh_is_loading === 0) {\n        console.debug(\"Bokeh: all BokehJS libraries/stylesheets loaded\");\n        run_callbacks()\n      }\n    }\n\n    function on_error(url) {\n      console.error(\"failed to load \" + url);\n    }\n\n    for (let i = 0; i < css_urls.length; i++) {\n      const url = css_urls[i];\n      const element = document.createElement(\"link\");\n      element.onload = on_load;\n      element.onerror = on_error.bind(null, url);\n      element.rel = \"stylesheet\";\n      element.type = \"text/css\";\n      element.href = url;\n      console.debug(\"Bokeh: injecting link tag for BokehJS stylesheet: \", url);\n      document.body.appendChild(element);\n    }\n\n    for (let i = 0; i < js_urls.length; i++) {\n      const url = js_urls[i];\n      const element = document.createElement('script');\n      element.onload = on_load;\n      element.onerror = on_error.bind(null, url);\n      element.async = false;\n      element.src = url;\n      console.debug(\"Bokeh: injecting script tag for BokehJS library: \", url);\n      document.head.appendChild(element);\n    }\n  };\n\n  function inject_raw_css(css) {\n    const element = document.createElement(\"style\");\n    element.appendChild(document.createTextNode(css));\n    document.body.appendChild(element);\n  }\n\n  const js_urls = [\"https://cdn.bokeh.org/bokeh/release/bokeh-2.4.3.min.js\", \"https://cdn.bokeh.org/bokeh/release/bokeh-gl-2.4.3.min.js\", \"https://cdn.bokeh.org/bokeh/release/bokeh-widgets-2.4.3.min.js\", \"https://cdn.bokeh.org/bokeh/release/bokeh-tables-2.4.3.min.js\", \"https://cdn.bokeh.org/bokeh/release/bokeh-mathjax-2.4.3.min.js\"];\n  const css_urls = [];\n\n  const inline_js = [    function(Bokeh) {\n      Bokeh.set_log_level(\"info\");\n    },\nfunction(Bokeh) {\n    }\n  ];\n\n  function run_inline_js() {\n    if (root.Bokeh !== undefined || force === true) {\n          for (let i = 0; i < inline_js.length; i++) {\n      inline_js[i].call(root, root.Bokeh);\n    }\nif (force === true) {\n        display_loaded();\n      }} else if (Date.now() < root._bokeh_timeout) {\n      setTimeout(run_inline_js, 100);\n    } else if (!root._bokeh_failed_load) {\n      console.log(\"Bokeh: BokehJS failed to load within specified timeout.\");\n      root._bokeh_failed_load = true;\n    } else if (force !== true) {\n      const cell = $(document.getElementById(\"1002\")).parents('.cell').data().cell;\n      cell.output_area.append_execute_result(NB_LOAD_WARNING)\n    }\n  }\n\n  if (root._bokeh_is_loading === 0) {\n    console.debug(\"Bokeh: BokehJS loaded, going straight to plotting\");\n    run_inline_js();\n  } else {\n    load_libs(css_urls, js_urls, function() {\n      console.debug(\"Bokeh: BokehJS plotting callback run at\", now());\n      run_inline_js();\n    });\n  }\n}(window));"
     },
     "metadata": {},
     "output_type": "display_data"
    }
   ],
   "source": [
    "import math\n",
    "import matplotlib.pyplot as plt\n",
    "import numpy as np\n",
    "import os\n",
    "import pandas as pd\n",
    "import bokeh\n",
    "from bokeh.plotting import figure, show\n",
    "from bokeh.models import tickers, ranges\n",
    "from bokeh.io import output_notebook\n",
    "output_notebook()"
   ]
  },
  {
   "cell_type": "markdown",
   "id": "7cb950a1",
   "metadata": {},
   "source": [
    "### Synthetic Data & Model"
   ]
  },
  {
   "cell_type": "markdown",
   "id": "5a443274",
   "metadata": {},
   "source": [
    "$\\hspace{80 mm}$ Poisson distribution:"
   ]
  },
  {
   "cell_type": "markdown",
   "id": "f371d29b",
   "metadata": {},
   "source": [
    "\\begin{align}\n",
    "\\large\n",
    "P(Y = y) = \\dfrac{\\lambda^{y}}{y}{\\rm e}^{-\\lambda}\n",
    "\\end{align}"
   ]
  },
  {
   "cell_type": "markdown",
   "id": "f92c1ad1",
   "metadata": {},
   "source": [
    "$\\hspace{80 mm}$ Will model lambda as a regression function:"
   ]
  },
  {
   "cell_type": "markdown",
   "id": "ea15d6d9",
   "metadata": {},
   "source": [
    "\\begin{align}\n",
    "\\large\n",
    "\\lambda  = a + bx \\\\\n",
    "\\end{align}"
   ]
  },
  {
   "cell_type": "markdown",
   "id": "29d2b7ff",
   "metadata": {},
   "source": [
    "$\\hspace{80 mm}$ However, since we need $ a + bx > 0$, it is more usual to take:"
   ]
  },
  {
   "cell_type": "markdown",
   "id": "707a902d",
   "metadata": {},
   "source": [
    "\\begin{align}\n",
    "\\large\n",
    "\\lambda  = {\\rm e}^{a + bx} \\\\\n",
    "\\end{align}"
   ]
  },
  {
   "cell_type": "markdown",
   "id": "d52e4635",
   "metadata": {},
   "source": [
    "Steps: <br>\n",
    "- Model lambda as a regression function\n",
    "- Sample 100 values from $ X_{i} \\sim N(0,1)$\n",
    "- Get 100 values from  $ \\lambda_{i}  = a + bx_{i} $\n",
    "- Sample 1 value from $ Y_{i} \\sim Pois(\\lambda_{i})$ for **each i** (i.e., $ \\lambda_{i} $)"
   ]
  },
  {
   "cell_type": "code",
   "execution_count": 2,
   "id": "af9ed638",
   "metadata": {
    "scrolled": false
   },
   "outputs": [
    {
     "data": {
      "text/html": [
       "\n",
       "  <div class=\"bk-root\" id=\"70565b4e-051a-49d4-8c74-8b33a82a0ad9\" data-root-id=\"1003\"></div>\n"
      ]
     },
     "metadata": {},
     "output_type": "display_data"
    },
    {
     "data": {
      "application/javascript": [
       "(function(root) {\n",
       "  function embed_document(root) {\n",
       "  const docs_json = {\"5b43bee2-cd73-43a2-aa4b-64352c00074e\":{\"defs\":[],\"roots\":{\"references\":[{\"attributes\":{\"below\":[{\"id\":\"1012\"}],\"center\":[{\"id\":\"1015\"},{\"id\":\"1019\"},{\"id\":\"1051\"}],\"height\":350,\"left\":[{\"id\":\"1016\"}],\"outline_line_color\":\"black\",\"renderers\":[{\"id\":\"1038\"}],\"title\":{\"id\":\"1040\"},\"toolbar\":{\"id\":\"1027\"},\"toolbar_location\":null,\"width\":350,\"x_range\":{\"id\":\"1004\"},\"x_scale\":{\"id\":\"1008\"},\"y_range\":{\"id\":\"1006\"},\"y_scale\":{\"id\":\"1010\"}},\"id\":\"1003\",\"subtype\":\"Figure\",\"type\":\"Plot\"},{\"attributes\":{\"fill_color\":{\"value\":\"firebrick\"},\"size\":{\"value\":8},\"x\":{\"field\":\"x\"},\"y\":{\"field\":\"y\"}},\"id\":\"1035\",\"type\":\"Scatter\"},{\"attributes\":{},\"id\":\"1013\",\"type\":\"BasicTicker\"},{\"attributes\":{\"coordinates\":null,\"group\":null},\"id\":\"1040\",\"type\":\"Title\"},{\"attributes\":{\"fill_alpha\":{\"value\":0.1},\"fill_color\":{\"value\":\"firebrick\"},\"hatch_alpha\":{\"value\":0.1},\"line_alpha\":{\"value\":0.1},\"size\":{\"value\":8},\"x\":{\"field\":\"x\"},\"y\":{\"field\":\"y\"}},\"id\":\"1036\",\"type\":\"Scatter\"},{\"attributes\":{},\"id\":\"1048\",\"type\":\"UnionRenderers\"},{\"attributes\":{},\"id\":\"1025\",\"type\":\"HelpTool\"},{\"attributes\":{},\"id\":\"1044\",\"type\":\"AllLabels\"},{\"attributes\":{},\"id\":\"1020\",\"type\":\"PanTool\"},{\"attributes\":{},\"id\":\"1021\",\"type\":\"WheelZoomTool\"},{\"attributes\":{},\"id\":\"1049\",\"type\":\"Selection\"},{\"attributes\":{},\"id\":\"1010\",\"type\":\"LinearScale\"},{\"attributes\":{\"coordinates\":null,\"data_source\":{\"id\":\"1034\"},\"glyph\":{\"id\":\"1035\"},\"group\":null,\"hover_glyph\":null,\"muted_glyph\":{\"id\":\"1037\"},\"nonselection_glyph\":{\"id\":\"1036\"},\"view\":{\"id\":\"1039\"}},\"id\":\"1038\",\"type\":\"GlyphRenderer\"},{\"attributes\":{},\"id\":\"1043\",\"type\":\"BasicTickFormatter\"},{\"attributes\":{\"label\":{\"value\":\"Data\"},\"renderers\":[{\"id\":\"1038\"}]},\"id\":\"1052\",\"type\":\"LegendItem\"},{\"attributes\":{\"bottom_units\":\"screen\",\"coordinates\":null,\"fill_alpha\":0.5,\"fill_color\":\"lightgrey\",\"group\":null,\"left_units\":\"screen\",\"level\":\"overlay\",\"line_alpha\":1.0,\"line_color\":\"black\",\"line_dash\":[4,4],\"line_width\":2,\"right_units\":\"screen\",\"syncable\":false,\"top_units\":\"screen\"},\"id\":\"1026\",\"type\":\"BoxAnnotation\"},{\"attributes\":{\"border_line_alpha\":1,\"border_line_color\":\"black\",\"coordinates\":null,\"group\":null,\"items\":[{\"id\":\"1052\"}],\"label_text_color\":\"black\"},\"id\":\"1051\",\"type\":\"Legend\"},{\"attributes\":{\"tools\":[{\"id\":\"1020\"},{\"id\":\"1021\"},{\"id\":\"1022\"},{\"id\":\"1023\"},{\"id\":\"1024\"},{\"id\":\"1025\"}]},\"id\":\"1027\",\"type\":\"Toolbar\"},{\"attributes\":{\"source\":{\"id\":\"1034\"}},\"id\":\"1039\",\"type\":\"CDSView\"},{\"attributes\":{},\"id\":\"1047\",\"type\":\"AllLabels\"},{\"attributes\":{},\"id\":\"1017\",\"type\":\"BasicTicker\"},{\"attributes\":{},\"id\":\"1006\",\"type\":\"DataRange1d\"},{\"attributes\":{\"axis_label\":\"y\",\"coordinates\":null,\"formatter\":{\"id\":\"1043\"},\"group\":null,\"major_label_policy\":{\"id\":\"1044\"},\"ticker\":{\"id\":\"1017\"}},\"id\":\"1016\",\"type\":\"LinearAxis\"},{\"attributes\":{\"data\":{\"x\":{\"__ndarray__\":\"5escLtjr5T99+rUWEKb7Px0iDKcbXOs/6ZS5GbYa578hRnR8+iv1P3tCUhFu7PE/m1wDVyJjjL+P2YVHFDb+P6i7Rzc1D+C/3iKTiWd66r8NkSAkSJPyv/uYgWcfiuQ/J2YIBwm/lz/HzMMzim/LP9ofZh63dPQ/LN9Qpl/QAUCf+mQhHq3MP28zPjGBxOw/X6PmRGrm8j+bxyJxXDWuP9Y3Eg/VHgFA7ujBM7R34j8HON9O+P7lv7gO/7eFO8c/+7w8QJ84CkBW9h0fkPjiP4az67tJSLM/3imYsmoI2z+zpKI7bs3Iv7TVwbaV3dQ/WBtTIe0l7T+dyDrinN/jv9ywLlUPePs/s4LTSZPY8r8b92RkCEjRP6f2nGdcKew/BMfd89L7079IoDrqYfD2PyRTLo3Rjvi/Zor1Ct9M8T+Rtki2zxjkv3DkvzkTKuK//95YZ94j8r/ls/5jlZXlv9QsgupKA/Y/1fhpIsas0D9XMGfGmn0EwK6O6KP5jfK/kW0f4Tsoy7+vKLSU1dPYP9EXd2+xltE/Ry3BDFR747+liKhlsfjxv+Rbprqwx/I/WM/m5Hsk8r+iy4qxMc+5P1shgVFIQeW/eSgV7WDP8j9C5gzT9CDjP5oZgyMhr9o/3V2icWcF1D/G3Ss6lYjVP45KM3AOQP+/BCcOTh7R87+LBLHI0eyyP6tna/+4kqS/HXa7VydM9z9tACpdqqT7Pzv0igkALu0/gNrJ0OQV7j8hQlkTP7ncP+PrzCsOPNq/r6LaGnOq1r94Z1bTgpToP4UpCWaBm/a/r8gn+CBF+D84sLASLcH4PzFynIAwQek/O0CwXBM557+g8QsseBL3P8vIYPqXEN8/HtCCSH1Z57/QvkgHm/78v1HnrSvdDeg/cLVbSuiq+z9Ekq5bBg7zv2NBr+Bzsvm/ldU700Q+9j+qdbVQ1Gfnv515ZLpdKOQ/pHXrBpYn5r+9SBEoUmrjvyAUWBcG3PS/7qUKpqXnw79IoJ1piCXxP29fJqHIJ/E/M2nlyoyisj9YWG+qiP7hvySFqbP59+S/ix2tbHrG5z8=\",\"dtype\":\"float64\",\"order\":\"little\",\"shape\":[100]},\"y\":[1,1,4,2,0,0,1,0,3,3,5,0,1,0,0,0,2,0,0,3,0,2,4,3,0,1,0,2,0,1,2,2,0,9,1,0,2,2,10,1,1,5,2,4,0,2,20,4,0,0,1,7,5,0,6,0,5,2,1,1,2,0,15,7,1,1,0,1,0,2,0,4,1,2,8,0,0,0,6,3,1,4,12,1,0,7,6,0,4,0,3,6,1,1,2,0,2,0,1,0]},\"selected\":{\"id\":\"1049\"},\"selection_policy\":{\"id\":\"1048\"}},\"id\":\"1034\",\"type\":\"ColumnDataSource\"},{\"attributes\":{\"fill_alpha\":{\"value\":0.2},\"fill_color\":{\"value\":\"firebrick\"},\"hatch_alpha\":{\"value\":0.2},\"line_alpha\":{\"value\":0.2},\"size\":{\"value\":8},\"x\":{\"field\":\"x\"},\"y\":{\"field\":\"y\"}},\"id\":\"1037\",\"type\":\"Scatter\"},{\"attributes\":{},\"id\":\"1004\",\"type\":\"DataRange1d\"},{\"attributes\":{\"axis_label\":\"x\",\"coordinates\":null,\"formatter\":{\"id\":\"1046\"},\"group\":null,\"major_label_policy\":{\"id\":\"1047\"},\"ticker\":{\"id\":\"1013\"}},\"id\":\"1012\",\"type\":\"LinearAxis\"},{\"attributes\":{\"axis\":{\"id\":\"1016\"},\"coordinates\":null,\"dimension\":1,\"group\":null,\"ticker\":null},\"id\":\"1019\",\"type\":\"Grid\"},{\"attributes\":{\"axis\":{\"id\":\"1012\"},\"coordinates\":null,\"group\":null,\"ticker\":null},\"id\":\"1015\",\"type\":\"Grid\"},{\"attributes\":{},\"id\":\"1046\",\"type\":\"BasicTickFormatter\"},{\"attributes\":{},\"id\":\"1023\",\"type\":\"SaveTool\"},{\"attributes\":{\"overlay\":{\"id\":\"1026\"}},\"id\":\"1022\",\"type\":\"BoxZoomTool\"},{\"attributes\":{},\"id\":\"1024\",\"type\":\"ResetTool\"},{\"attributes\":{},\"id\":\"1008\",\"type\":\"LinearScale\"}],\"root_ids\":[\"1003\"]},\"title\":\"Bokeh Application\",\"version\":\"2.4.3\"}};\n",
       "  const render_items = [{\"docid\":\"5b43bee2-cd73-43a2-aa4b-64352c00074e\",\"root_ids\":[\"1003\"],\"roots\":{\"1003\":\"70565b4e-051a-49d4-8c74-8b33a82a0ad9\"}}];\n",
       "  root.Bokeh.embed.embed_items_notebook(docs_json, render_items);\n",
       "  }\n",
       "  if (root.Bokeh !== undefined) {\n",
       "    embed_document(root);\n",
       "  } else {\n",
       "    let attempts = 0;\n",
       "    const timer = setInterval(function(root) {\n",
       "      if (root.Bokeh !== undefined) {\n",
       "        clearInterval(timer);\n",
       "        embed_document(root);\n",
       "      } else {\n",
       "        attempts++;\n",
       "        if (attempts > 100) {\n",
       "          clearInterval(timer);\n",
       "          console.log(\"Bokeh: ERROR: Unable to run BokehJS code because BokehJS library is missing\");\n",
       "        }\n",
       "      }\n",
       "    }, 10, root)\n",
       "  }\n",
       "})(window);"
      ],
      "application/vnd.bokehjs_exec.v0+json": ""
     },
     "metadata": {
      "application/vnd.bokehjs_exec.v0+json": {
       "id": "1003"
      }
     },
     "output_type": "display_data"
    }
   ],
   "source": [
    "n = 100\n",
    "a = 0.5\n",
    "b = -1\n",
    "x_i = np.random.normal(0, 1, n)\n",
    "lambda_vals = np.exp(a + b*x_i)      # shape = 100\n",
    "y_i = np.random.poisson(lambda_vals) # If size is None (default), a single value is returned if lam is a scalar. \n",
    "                                     #  Otherwise, np.array(lam).size samples are drawn. \n",
    "\n",
    "# Plotting\n",
    "p = figure(toolbar_location= None, outline_line_color = 'black')\n",
    "p.plot_width = 350\n",
    "p.plot_height = 350\n",
    "p.scatter(x = x_i, y = y_i, size=8, line_width = 1, line_color = 'black', fill_color = 'firebrick', legend_label=\"Data\")\n",
    "p.axis.axis_label = 'x'\n",
    "p.yaxis.axis_label = 'y'\n",
    "p.legend.border_line_color = \"black\"\n",
    "p.legend.border_line_alpha = 1\n",
    "p.legend.label_text_color = 'black'\n",
    "show(p)    "
   ]
  },
  {
   "cell_type": "markdown",
   "id": "afb94394",
   "metadata": {},
   "source": [
    "### Estimating a and b via maximum likelihood"
   ]
  },
  {
   "cell_type": "code",
   "execution_count": 3,
   "id": "b4001156",
   "metadata": {},
   "outputs": [],
   "source": [
    "def get_J_and_L(x_arr, y_arr, a, b, n):\n",
    "    \"\"\"\n",
    "    Computes J matrix and L vector for a Poisson Distribution\n",
    "    where lambda is model as:\n",
    "    \n",
    "    \\begin{equation}\n",
    "    \\lambda  = {\\rm e}^{a + bx}\n",
    "    \\end{equation}       \n",
    "    \"\"\"\n",
    "    z = np.sum(x_arr*y_arr)\n",
    "\n",
    "    # Get derivatives for NR\n",
    "    dL_da = n*np.mean(y_arr) - np.exp(a)*np.sum(np.exp(b*x_arr))\n",
    "    dL_db = z - np.exp(a)*np.sum(x_arr*np.exp(b*x_arr))\n",
    "\n",
    "    # Second Partial Derivatives\n",
    "    dL_da2 = - np.exp(a)*np.sum(np.exp(b*x_arr))\n",
    "    dL_db2 = - np.exp(a)*np.sum((x_arr**2)*np.exp(b*x_arr))\n",
    "    dL_dadb = - np.exp(a)*np.sum(x_arr*np.exp(b*x_arr))\n",
    "    \n",
    "    J = np.array([[dL_da2,  dL_dadb],\n",
    "              [dL_dadb, dL_db2]])\n",
    "    \n",
    "    L_prime = np.array([[dL_da],[dL_db]])\n",
    "    return J, L_prime"
   ]
  },
  {
   "cell_type": "markdown",
   "id": "b61d4469",
   "metadata": {},
   "source": [
    "J Matrix and L vector"
   ]
  },
  {
   "cell_type": "markdown",
   "id": "f7632e11",
   "metadata": {},
   "source": [
    "$$\n",
    "J(a,b)=\\begin{pmatrix}\n",
    "    \\dfrac{\\partial^2 L}{\\partial a^2}   & \\dfrac{\\partial^2 L}{\\partial a \\hspace{1mm} \\partial b}\\\\\n",
    "    \\dfrac{\\partial^2 L}{\\partial a \\hspace{1mm} \\partial b}   & \\dfrac{\\partial^2 L}{\\partial b^2}\n",
    "\\end{pmatrix} \\\\\n",
    "\\\\\n",
    "\\text{}\\\\\n",
    "L'(a,b) = (\\dfrac{\\partial L}{\\partial a}, \\dfrac{\\partial L}{\\partial b})\n",
    "$$"
   ]
  },
  {
   "cell_type": "code",
   "execution_count": 4,
   "id": "60a375b9",
   "metadata": {
    "scrolled": true
   },
   "outputs": [
    {
     "name": "stdout",
     "output_type": "stream",
     "text": [
      "J matrix:\n",
      " [[-232.49608889  199.35981165]\n",
      " [ 199.35981165 -391.48323114]]\n",
      "\n",
      "L_prime vector:\n",
      " [[ 5.50391111]\n",
      " [-1.96777016]]\n"
     ]
    }
   ],
   "source": [
    "J, L_prime = get_J_and_L(x_i, y_i, a, b, n)\n",
    "print(\"J matrix:\\n\", J)\n",
    "print(\"\\nL_prime vector:\\n\", L_prime)"
   ]
  },
  {
   "attachments": {},
   "cell_type": "markdown",
   "id": "09bd0ba4",
   "metadata": {},
   "source": [
    "### Newton Raphson Algorithm"
   ]
  },
  {
   "cell_type": "code",
   "execution_count": 5,
   "id": "9bdf3261",
   "metadata": {},
   "outputs": [],
   "source": [
    "def newton_n_iter(x, y, a_o, b_o, n_iter =10, output_message = False):\n",
    "    \"\"\"\n",
    "    Performs Newton-Raphson for a definite number of iteration\n",
    "    Args:\n",
    "        guess (float): initial value for parameter\n",
    "        tolerance (float): tolerance\n",
    "    \n",
    "    \"\"\"\n",
    "    #Initialize\n",
    "    iter_number = 0\n",
    "    status_message = 'Starting with Guess = ' + str(a_o) + \",\" + str(b_o) + '\\n'\n",
    "    \n",
    "    a = [a_o]\n",
    "    b = [b_o]\n",
    "    for i in range(n_iter):\n",
    "    \n",
    "        J, L = get_J_and_L(x_i, y_i, a_o, b_o, n)\n",
    "   \n",
    "        a_1 ,b_1 = np.array([[a_o],[b_o]]) - np.linalg.inv(J) @ L\n",
    "        a.append(a_1[0])\n",
    "        b.append(b_1[0])\n",
    "        \n",
    "        # Update Values\n",
    "        a_o, b_o = a_1[0], b_1[0]\n",
    "    \n",
    "        iter_number += 1\n",
    "        status_message += 'Iteration #' + str(iter_number) + ':= ' + str(a_1[0]) + \",\" + str(b_1[0])+ '\\n'\n",
    "        \n",
    "    status_message += 'Total No. of Iterations = '  +  str(iter_number)\n",
    "    \n",
    "    if output_message:\n",
    "        return a_o, b_o, status_message, a, b\n",
    "    return a_o, b_o, a, b"
   ]
  },
  {
   "cell_type": "code",
   "execution_count": 6,
   "id": "b56a95ed",
   "metadata": {},
   "outputs": [
    {
     "name": "stdout",
     "output_type": "stream",
     "text": [
      "Starting with Guess = 1.6,2\n",
      "Iteration #1:= 0.9217916183500717,1.8810259455702836\n",
      "Iteration #2:= 0.6543814364737615,1.6012772839986091\n",
      "Iteration #3:= 0.9601737567437247,1.0542967116618984\n",
      "Iteration #4:= 1.4273300378987681,0.27256043688341347\n",
      "Iteration #5:= 1.2632771048466949,-0.3605562721822555\n",
      "Iteration #6:= 0.856018287051497,-0.7587361358916912\n",
      "Iteration #7:= 0.5949993466085645,-0.9493265104130607\n",
      "Iteration #8:= 0.5359680945138017,-0.986510607350241\n",
      "Iteration #9:= 0.5337625869656893,-0.9878314916057706\n",
      "Iteration #10:= 0.5337597252563666,-0.9878331900529815\n",
      "Iteration #11:= 0.5337597252515717,-0.9878331900558264\n",
      "Iteration #12:= 0.533759725251572,-0.9878331900558263\n",
      "Iteration #13:= 0.533759725251572,-0.9878331900558263\n",
      "Iteration #14:= 0.533759725251572,-0.9878331900558263\n",
      "Iteration #15:= 0.533759725251572,-0.9878331900558263\n",
      "Iteration #16:= 0.533759725251572,-0.9878331900558263\n",
      "Iteration #17:= 0.533759725251572,-0.9878331900558263\n",
      "Iteration #18:= 0.533759725251572,-0.9878331900558263\n",
      "Iteration #19:= 0.533759725251572,-0.9878331900558263\n",
      "Iteration #20:= 0.533759725251572,-0.9878331900558263\n",
      "Total No. of Iterations = 20\n"
     ]
    }
   ],
   "source": [
    "(a_o, b_o, status_message, a_array, b_array) = newton_n_iter(x_i, y_i, 1.6, 2, n_iter =20, output_message = True)\n",
    "print(status_message)"
   ]
  },
  {
   "cell_type": "code",
   "execution_count": 7,
   "id": "e63aed5a",
   "metadata": {
    "scrolled": true
   },
   "outputs": [
    {
     "data": {
      "text/html": [
       "\n",
       "  <div class=\"bk-root\" id=\"c7a5a629-a293-481d-8af9-eac10e1a43e0\" data-root-id=\"1119\"></div>\n"
      ]
     },
     "metadata": {},
     "output_type": "display_data"
    },
    {
     "data": {
      "application/javascript": [
       "(function(root) {\n",
       "  function embed_document(root) {\n",
       "  const docs_json = {\"c3d77fea-9eea-49d7-a1d1-1337be10d95b\":{\"defs\":[],\"roots\":{\"references\":[{\"attributes\":{\"below\":[{\"id\":\"1128\"}],\"center\":[{\"id\":\"1131\"},{\"id\":\"1135\"},{\"id\":\"1167\"}],\"height\":350,\"left\":[{\"id\":\"1132\"}],\"outline_line_color\":\"black\",\"renderers\":[{\"id\":\"1154\"},{\"id\":\"1173\"}],\"title\":{\"id\":\"1156\"},\"toolbar\":{\"id\":\"1143\"},\"toolbar_location\":null,\"width\":350,\"x_range\":{\"id\":\"1120\"},\"x_scale\":{\"id\":\"1124\"},\"y_range\":{\"id\":\"1122\"},\"y_scale\":{\"id\":\"1126\"}},\"id\":\"1119\",\"subtype\":\"Figure\",\"type\":\"Plot\"},{\"attributes\":{},\"id\":\"1163\",\"type\":\"AllLabels\"},{\"attributes\":{\"tools\":[{\"id\":\"1136\"},{\"id\":\"1137\"},{\"id\":\"1138\"},{\"id\":\"1139\"},{\"id\":\"1140\"},{\"id\":\"1141\"}]},\"id\":\"1143\",\"type\":\"Toolbar\"},{\"attributes\":{},\"id\":\"1162\",\"type\":\"BasicTickFormatter\"},{\"attributes\":{},\"id\":\"1186\",\"type\":\"Selection\"},{\"attributes\":{},\"id\":\"1120\",\"type\":\"DataRange1d\"},{\"attributes\":{},\"id\":\"1133\",\"type\":\"BasicTicker\"},{\"attributes\":{\"line_alpha\":0.2,\"line_color\":\"firebrick\",\"line_width\":2,\"x\":{\"field\":\"x\"},\"y\":{\"field\":\"y\"}},\"id\":\"1153\",\"type\":\"Line\"},{\"attributes\":{\"axis\":{\"id\":\"1132\"},\"coordinates\":null,\"dimension\":1,\"group\":null,\"ticker\":null},\"id\":\"1135\",\"type\":\"Grid\"},{\"attributes\":{},\"id\":\"1139\",\"type\":\"SaveTool\"},{\"attributes\":{\"border_line_alpha\":1,\"border_line_color\":\"black\",\"coordinates\":null,\"group\":null,\"items\":[{\"id\":\"1168\"},{\"id\":\"1188\"}],\"label_text_color\":\"black\"},\"id\":\"1167\",\"type\":\"Legend\"},{\"attributes\":{\"line_color\":\"firebrick\",\"line_width\":2,\"x\":{\"field\":\"x\"},\"y\":{\"field\":\"y\"}},\"id\":\"1151\",\"type\":\"Line\"},{\"attributes\":{},\"id\":\"1160\",\"type\":\"AllLabels\"},{\"attributes\":{},\"id\":\"1126\",\"type\":\"LinearScale\"},{\"attributes\":{\"coordinates\":null,\"data_source\":{\"id\":\"1169\"},\"glyph\":{\"id\":\"1170\"},\"group\":null,\"hover_glyph\":null,\"muted_glyph\":{\"id\":\"1172\"},\"nonselection_glyph\":{\"id\":\"1171\"},\"view\":{\"id\":\"1174\"}},\"id\":\"1173\",\"type\":\"GlyphRenderer\"},{\"attributes\":{\"axis_label\":\"Iteration #\",\"coordinates\":null,\"formatter\":{\"id\":\"1162\"},\"group\":null,\"major_label_policy\":{\"id\":\"1163\"},\"ticker\":{\"id\":\"1129\"}},\"id\":\"1128\",\"type\":\"LinearAxis\"},{\"attributes\":{\"source\":{\"id\":\"1169\"}},\"id\":\"1174\",\"type\":\"CDSView\"},{\"attributes\":{},\"id\":\"1129\",\"type\":\"BasicTicker\"},{\"attributes\":{\"line_color\":\"green\",\"line_width\":2,\"x\":{\"field\":\"x\"},\"y\":{\"field\":\"y\"}},\"id\":\"1170\",\"type\":\"Line\"},{\"attributes\":{},\"id\":\"1124\",\"type\":\"LinearScale\"},{\"attributes\":{},\"id\":\"1185\",\"type\":\"UnionRenderers\"},{\"attributes\":{},\"id\":\"1159\",\"type\":\"BasicTickFormatter\"},{\"attributes\":{\"data\":{\"x\":[0,1,2,3,4,5,6,7,8,9,10,11,12,13,14,15,16,17,18,19,20],\"y\":[1.6,0.9217916183500717,0.6543814364737615,0.9601737567437247,1.4273300378987681,1.2632771048466949,0.856018287051497,0.5949993466085645,0.5359680945138017,0.5337625869656893,0.5337597252563666,0.5337597252515717,0.533759725251572,0.533759725251572,0.533759725251572,0.533759725251572,0.533759725251572,0.533759725251572,0.533759725251572,0.533759725251572,0.533759725251572]},\"selected\":{\"id\":\"1165\"},\"selection_policy\":{\"id\":\"1164\"}},\"id\":\"1150\",\"type\":\"ColumnDataSource\"},{\"attributes\":{},\"id\":\"1122\",\"type\":\"DataRange1d\"},{\"attributes\":{\"coordinates\":null,\"group\":null},\"id\":\"1156\",\"type\":\"Title\"},{\"attributes\":{},\"id\":\"1165\",\"type\":\"Selection\"},{\"attributes\":{\"data\":{\"x\":[0,1,2,3,4,5,6,7,8,9,10,11,12,13,14,15,16,17,18,19,20],\"y\":[2,1.8810259455702836,1.6012772839986091,1.0542967116618984,0.27256043688341347,-0.3605562721822555,-0.7587361358916912,-0.9493265104130607,-0.986510607350241,-0.9878314916057706,-0.9878331900529815,-0.9878331900558264,-0.9878331900558263,-0.9878331900558263,-0.9878331900558263,-0.9878331900558263,-0.9878331900558263,-0.9878331900558263,-0.9878331900558263,-0.9878331900558263,-0.9878331900558263]},\"selected\":{\"id\":\"1186\"},\"selection_policy\":{\"id\":\"1185\"}},\"id\":\"1169\",\"type\":\"ColumnDataSource\"},{\"attributes\":{},\"id\":\"1140\",\"type\":\"ResetTool\"},{\"attributes\":{},\"id\":\"1164\",\"type\":\"UnionRenderers\"},{\"attributes\":{\"bottom_units\":\"screen\",\"coordinates\":null,\"fill_alpha\":0.5,\"fill_color\":\"lightgrey\",\"group\":null,\"left_units\":\"screen\",\"level\":\"overlay\",\"line_alpha\":1.0,\"line_color\":\"black\",\"line_dash\":[4,4],\"line_width\":2,\"right_units\":\"screen\",\"syncable\":false,\"top_units\":\"screen\"},\"id\":\"1142\",\"type\":\"BoxAnnotation\"},{\"attributes\":{},\"id\":\"1141\",\"type\":\"HelpTool\"},{\"attributes\":{\"source\":{\"id\":\"1150\"}},\"id\":\"1155\",\"type\":\"CDSView\"},{\"attributes\":{\"label\":{\"value\":\"b\"},\"renderers\":[{\"id\":\"1173\"}]},\"id\":\"1188\",\"type\":\"LegendItem\"},{\"attributes\":{\"line_alpha\":0.1,\"line_color\":\"firebrick\",\"line_width\":2,\"x\":{\"field\":\"x\"},\"y\":{\"field\":\"y\"}},\"id\":\"1152\",\"type\":\"Line\"},{\"attributes\":{\"axis\":{\"id\":\"1128\"},\"coordinates\":null,\"group\":null,\"ticker\":null},\"id\":\"1131\",\"type\":\"Grid\"},{\"attributes\":{\"line_alpha\":0.2,\"line_color\":\"green\",\"line_width\":2,\"x\":{\"field\":\"x\"},\"y\":{\"field\":\"y\"}},\"id\":\"1172\",\"type\":\"Line\"},{\"attributes\":{\"axis_label\":\"a and b\",\"coordinates\":null,\"formatter\":{\"id\":\"1159\"},\"group\":null,\"major_label_policy\":{\"id\":\"1160\"},\"ticker\":{\"id\":\"1133\"}},\"id\":\"1132\",\"type\":\"LinearAxis\"},{\"attributes\":{\"overlay\":{\"id\":\"1142\"}},\"id\":\"1138\",\"type\":\"BoxZoomTool\"},{\"attributes\":{\"line_alpha\":0.1,\"line_color\":\"green\",\"line_width\":2,\"x\":{\"field\":\"x\"},\"y\":{\"field\":\"y\"}},\"id\":\"1171\",\"type\":\"Line\"},{\"attributes\":{},\"id\":\"1136\",\"type\":\"PanTool\"},{\"attributes\":{\"label\":{\"value\":\"a\"},\"renderers\":[{\"id\":\"1154\"}]},\"id\":\"1168\",\"type\":\"LegendItem\"},{\"attributes\":{},\"id\":\"1137\",\"type\":\"WheelZoomTool\"},{\"attributes\":{\"coordinates\":null,\"data_source\":{\"id\":\"1150\"},\"glyph\":{\"id\":\"1151\"},\"group\":null,\"hover_glyph\":null,\"muted_glyph\":{\"id\":\"1153\"},\"nonselection_glyph\":{\"id\":\"1152\"},\"view\":{\"id\":\"1155\"}},\"id\":\"1154\",\"type\":\"GlyphRenderer\"}],\"root_ids\":[\"1119\"]},\"title\":\"Bokeh Application\",\"version\":\"2.4.3\"}};\n",
       "  const render_items = [{\"docid\":\"c3d77fea-9eea-49d7-a1d1-1337be10d95b\",\"root_ids\":[\"1119\"],\"roots\":{\"1119\":\"c7a5a629-a293-481d-8af9-eac10e1a43e0\"}}];\n",
       "  root.Bokeh.embed.embed_items_notebook(docs_json, render_items);\n",
       "  }\n",
       "  if (root.Bokeh !== undefined) {\n",
       "    embed_document(root);\n",
       "  } else {\n",
       "    let attempts = 0;\n",
       "    const timer = setInterval(function(root) {\n",
       "      if (root.Bokeh !== undefined) {\n",
       "        clearInterval(timer);\n",
       "        embed_document(root);\n",
       "      } else {\n",
       "        attempts++;\n",
       "        if (attempts > 100) {\n",
       "          clearInterval(timer);\n",
       "          console.log(\"Bokeh: ERROR: Unable to run BokehJS code because BokehJS library is missing\");\n",
       "        }\n",
       "      }\n",
       "    }, 10, root)\n",
       "  }\n",
       "})(window);"
      ],
      "application/vnd.bokehjs_exec.v0+json": ""
     },
     "metadata": {
      "application/vnd.bokehjs_exec.v0+json": {
       "id": "1119"
      }
     },
     "output_type": "display_data"
    }
   ],
   "source": [
    "# Plotting\n",
    "p = figure(toolbar_location= None, outline_line_color = 'black')\n",
    "p.plot_width = 350\n",
    "p.plot_height = 350\n",
    "p.line(x = range(21), y = a_array, line_width = 2, line_color = 'firebrick', legend_label=\"a\")\n",
    "p.line(x = range(21), y = b_array, line_width = 2, line_color = 'green', legend_label=\"b\")\n",
    "p.axis.axis_label = 'Iteration #'\n",
    "p.yaxis.axis_label = 'a and b'\n",
    "p.legend.border_line_color = \"black\"\n",
    "p.legend.border_line_alpha = 1\n",
    "p.legend.label_text_color = 'black'\n",
    "p.legend.location = 'top_right'\n",
    "show(p)  "
   ]
  },
  {
   "attachments": {},
   "cell_type": "markdown",
   "id": "b5405794",
   "metadata": {},
   "source": [
    "### Estimators Distributions"
   ]
  },
  {
   "cell_type": "markdown",
   "id": "52d2d543",
   "metadata": {},
   "source": [
    "$$\n",
    "\\large\n",
    "Cov\\hspace{1mm}\\hat\\theta = J^{-1}(\\theta)\\hspace{2mm}CovL'(\\theta)\\hspace{2mm}J^{-1}(\\theta)\n",
    "$$"
   ]
  },
  {
   "cell_type": "markdown",
   "id": "ecfc0d7b",
   "metadata": {},
   "source": [
    "$\\hspace{80 mm}$ We estimate $ J(\\theta)$ by $J(\\hat\\theta)$"
   ]
  },
  {
   "cell_type": "markdown",
   "id": "16c328e3",
   "metadata": {},
   "source": [
    "$$\n",
    "L'(a,b) = (\\dfrac{\\partial L}{\\partial a}, \\dfrac{\\partial L}{\\partial b})\n",
    "$$"
   ]
  },
  {
   "cell_type": "markdown",
   "id": "8b8b8d0b",
   "metadata": {},
   "source": [
    "$$\n",
    "Cov L'(a,b)=\\begin{pmatrix}\n",
    "    Var(\\dfrac{\\partial L}{\\partial a})   & Cov(\\dfrac{\\partial L}{\\partial a}, \\dfrac{\\partial L}{\\partial b})\\\\\n",
    "    Cov(\\dfrac{\\partial L}{\\partial a}, \\dfrac{\\partial L}{\\partial b})   & Var(\\dfrac{\\partial L}{\\partial b})\\\\\n",
    "    \\end{pmatrix}\n",
    "     =\\begin{pmatrix}     \n",
    "     \\Sigma_{i=1}^{n}\\lambda_i   & \\Sigma_{i=1}^{n}x_i\\lambda_i\\\\\n",
    "     \\Sigma_{i=1}^{n}x_i\\lambda_i   & \\Sigma_{i=1}^{n}x_i^2\\lambda_i\n",
    "\\end{pmatrix} \\\\\n",
    "\\\\\n",
    "$$"
   ]
  },
  {
   "cell_type": "markdown",
   "id": "eae91cbb",
   "metadata": {},
   "source": [
    "Compute J matrix from best-estimators"
   ]
  },
  {
   "cell_type": "code",
   "execution_count": 8,
   "id": "cad7f7fe",
   "metadata": {
    "scrolled": true
   },
   "outputs": [
    {
     "name": "stdout",
     "output_type": "stream",
     "text": [
      "0.533759725251572\n",
      "-0.9878331900558263\n"
     ]
    }
   ],
   "source": [
    "print(a_o)\n",
    "print(b_o)"
   ]
  },
  {
   "cell_type": "markdown",
   "id": "e36ee2fb",
   "metadata": {},
   "source": [
    "True covariance matric using original parameters"
   ]
  },
  {
   "cell_type": "code",
   "execution_count": 9,
   "id": "4217534b",
   "metadata": {},
   "outputs": [
    {
     "name": "stdout",
     "output_type": "stream",
     "text": [
      "J matrix:\n",
      " [[-232.49608889  199.35981165]\n",
      " [ 199.35981165 -391.48323114]]\n",
      "\n",
      "L vector:\n",
      " [[ 5.50391111]\n",
      " [-1.96777016]]\n"
     ]
    }
   ],
   "source": [
    "J, L_prime = get_J_and_L(x_i, y_i, a, b, n)\n",
    "print(\"J matrix:\\n\", J)\n",
    "print(\"\\nL vector:\\n\", L_prime)"
   ]
  },
  {
   "cell_type": "code",
   "execution_count": 10,
   "id": "04ab000a",
   "metadata": {},
   "outputs": [],
   "source": [
    "def get_COV_L_prime(x_arr, y_arr, a, b, n):\n",
    "    \"\"\"\n",
    "    Computes the covariance matrix of L'   \n",
    "    \"\"\"\n",
    "\n",
    "    # Get derivatives for NR\n",
    "    dL_da = np.sum(np.exp(x_arr + b*x_arr))\n",
    "    dL_db = np.sum((x_arr**2) * np.exp(x_arr + b*x_arr))\n",
    "    dL_dadb = np.sum(x_arr * np.exp(x_arr + b*x_arr))\n",
    "    \n",
    "    COV_L = np.array([[dL_da,  dL_dadb],\n",
    "                      [dL_dadb, dL_db]])\n",
    "    \n",
    "    return COV_L"
   ]
  },
  {
   "cell_type": "code",
   "execution_count": 11,
   "id": "1f00344d",
   "metadata": {},
   "outputs": [
    {
     "data": {
      "text/plain": [
       "array([[100.        ,  19.8132992 ],\n",
       "       [ 19.8132992 , 115.07669151]])"
      ]
     },
     "execution_count": 11,
     "metadata": {},
     "output_type": "execute_result"
    }
   ],
   "source": [
    "COV_L_prime = get_COV_L_prime(x_i, y_i, a, b, n)\n",
    "COV_L_prime"
   ]
  },
  {
   "cell_type": "code",
   "execution_count": 12,
   "id": "e91a8138",
   "metadata": {},
   "outputs": [
    {
     "data": {
      "text/plain": [
       "array([[0.00874556, 0.00598294],\n",
       "       [0.00598294, 0.00457643]])"
      ]
     },
     "execution_count": 12,
     "metadata": {},
     "output_type": "execute_result"
    }
   ],
   "source": [
    "COV_theta_hat = np.linalg.inv(J) @ COV_L_prime @ np.linalg.inv(J)\n",
    "COV_theta_hat"
   ]
  },
  {
   "cell_type": "code",
   "execution_count": null,
   "id": "84e33f77",
   "metadata": {},
   "outputs": [],
   "source": []
  }
 ],
 "metadata": {
  "kernelspec": {
   "display_name": "pymc_env",
   "language": "python",
   "name": "pymc_env"
  },
  "language_info": {
   "codemirror_mode": {
    "name": "ipython",
    "version": 3
   },
   "file_extension": ".py",
   "mimetype": "text/x-python",
   "name": "python",
   "nbconvert_exporter": "python",
   "pygments_lexer": "ipython3",
   "version": "3.10.5"
  }
 },
 "nbformat": 4,
 "nbformat_minor": 5
}
