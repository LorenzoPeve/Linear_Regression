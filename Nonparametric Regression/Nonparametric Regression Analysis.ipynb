{
 "cells": [
  {
   "cell_type": "markdown",
   "id": "95d249e0",
   "metadata": {},
   "source": [
    "# Problem 1"
   ]
  },
  {
   "cell_type": "markdown",
   "id": "1510b251",
   "metadata": {},
   "source": [
    "Consider the nonlinear regression model,"
   ]
  },
  {
   "cell_type": "markdown",
   "id": "6205d986",
   "metadata": {},
   "source": [
    "$$y_i = m(x_i) + \\sigma \\epsilon_i, \\hspace{5 mm} i = 1,2 , ..., n,$$"
   ]
  },
  {
   "cell_type": "code",
   "execution_count": 1,
   "id": "9c999564",
   "metadata": {},
   "outputs": [
    {
     "data": {
      "text/html": [
       "<div class=\"bk-root\">\n",
       "        <a href=\"https://bokeh.org\" target=\"_blank\" class=\"bk-logo bk-logo-small bk-logo-notebook\"></a>\n",
       "        <span id=\"1002\">Loading BokehJS ...</span>\n",
       "    </div>\n"
      ]
     },
     "metadata": {},
     "output_type": "display_data"
    },
    {
     "data": {
      "application/javascript": [
       "(function(root) {\n",
       "  function now() {\n",
       "    return new Date();\n",
       "  }\n",
       "\n",
       "  const force = true;\n",
       "\n",
       "  if (typeof root._bokeh_onload_callbacks === \"undefined\" || force === true) {\n",
       "    root._bokeh_onload_callbacks = [];\n",
       "    root._bokeh_is_loading = undefined;\n",
       "  }\n",
       "\n",
       "const JS_MIME_TYPE = 'application/javascript';\n",
       "  const HTML_MIME_TYPE = 'text/html';\n",
       "  const EXEC_MIME_TYPE = 'application/vnd.bokehjs_exec.v0+json';\n",
       "  const CLASS_NAME = 'output_bokeh rendered_html';\n",
       "\n",
       "  /**\n",
       "   * Render data to the DOM node\n",
       "   */\n",
       "  function render(props, node) {\n",
       "    const script = document.createElement(\"script\");\n",
       "    node.appendChild(script);\n",
       "  }\n",
       "\n",
       "  /**\n",
       "   * Handle when an output is cleared or removed\n",
       "   */\n",
       "  function handleClearOutput(event, handle) {\n",
       "    const cell = handle.cell;\n",
       "\n",
       "    const id = cell.output_area._bokeh_element_id;\n",
       "    const server_id = cell.output_area._bokeh_server_id;\n",
       "    // Clean up Bokeh references\n",
       "    if (id != null && id in Bokeh.index) {\n",
       "      Bokeh.index[id].model.document.clear();\n",
       "      delete Bokeh.index[id];\n",
       "    }\n",
       "\n",
       "    if (server_id !== undefined) {\n",
       "      // Clean up Bokeh references\n",
       "      const cmd_clean = \"from bokeh.io.state import curstate; print(curstate().uuid_to_server['\" + server_id + \"'].get_sessions()[0].document.roots[0]._id)\";\n",
       "      cell.notebook.kernel.execute(cmd_clean, {\n",
       "        iopub: {\n",
       "          output: function(msg) {\n",
       "            const id = msg.content.text.trim();\n",
       "            if (id in Bokeh.index) {\n",
       "              Bokeh.index[id].model.document.clear();\n",
       "              delete Bokeh.index[id];\n",
       "            }\n",
       "          }\n",
       "        }\n",
       "      });\n",
       "      // Destroy server and session\n",
       "      const cmd_destroy = \"import bokeh.io.notebook as ion; ion.destroy_server('\" + server_id + \"')\";\n",
       "      cell.notebook.kernel.execute(cmd_destroy);\n",
       "    }\n",
       "  }\n",
       "\n",
       "  /**\n",
       "   * Handle when a new output is added\n",
       "   */\n",
       "  function handleAddOutput(event, handle) {\n",
       "    const output_area = handle.output_area;\n",
       "    const output = handle.output;\n",
       "\n",
       "    // limit handleAddOutput to display_data with EXEC_MIME_TYPE content only\n",
       "    if ((output.output_type != \"display_data\") || (!Object.prototype.hasOwnProperty.call(output.data, EXEC_MIME_TYPE))) {\n",
       "      return\n",
       "    }\n",
       "\n",
       "    const toinsert = output_area.element.find(\".\" + CLASS_NAME.split(' ')[0]);\n",
       "\n",
       "    if (output.metadata[EXEC_MIME_TYPE][\"id\"] !== undefined) {\n",
       "      toinsert[toinsert.length - 1].firstChild.textContent = output.data[JS_MIME_TYPE];\n",
       "      // store reference to embed id on output_area\n",
       "      output_area._bokeh_element_id = output.metadata[EXEC_MIME_TYPE][\"id\"];\n",
       "    }\n",
       "    if (output.metadata[EXEC_MIME_TYPE][\"server_id\"] !== undefined) {\n",
       "      const bk_div = document.createElement(\"div\");\n",
       "      bk_div.innerHTML = output.data[HTML_MIME_TYPE];\n",
       "      const script_attrs = bk_div.children[0].attributes;\n",
       "      for (let i = 0; i < script_attrs.length; i++) {\n",
       "        toinsert[toinsert.length - 1].firstChild.setAttribute(script_attrs[i].name, script_attrs[i].value);\n",
       "        toinsert[toinsert.length - 1].firstChild.textContent = bk_div.children[0].textContent\n",
       "      }\n",
       "      // store reference to server id on output_area\n",
       "      output_area._bokeh_server_id = output.metadata[EXEC_MIME_TYPE][\"server_id\"];\n",
       "    }\n",
       "  }\n",
       "\n",
       "  function register_renderer(events, OutputArea) {\n",
       "\n",
       "    function append_mime(data, metadata, element) {\n",
       "      // create a DOM node to render to\n",
       "      const toinsert = this.create_output_subarea(\n",
       "        metadata,\n",
       "        CLASS_NAME,\n",
       "        EXEC_MIME_TYPE\n",
       "      );\n",
       "      this.keyboard_manager.register_events(toinsert);\n",
       "      // Render to node\n",
       "      const props = {data: data, metadata: metadata[EXEC_MIME_TYPE]};\n",
       "      render(props, toinsert[toinsert.length - 1]);\n",
       "      element.append(toinsert);\n",
       "      return toinsert\n",
       "    }\n",
       "\n",
       "    /* Handle when an output is cleared or removed */\n",
       "    events.on('clear_output.CodeCell', handleClearOutput);\n",
       "    events.on('delete.Cell', handleClearOutput);\n",
       "\n",
       "    /* Handle when a new output is added */\n",
       "    events.on('output_added.OutputArea', handleAddOutput);\n",
       "\n",
       "    /**\n",
       "     * Register the mime type and append_mime function with output_area\n",
       "     */\n",
       "    OutputArea.prototype.register_mime_type(EXEC_MIME_TYPE, append_mime, {\n",
       "      /* Is output safe? */\n",
       "      safe: true,\n",
       "      /* Index of renderer in `output_area.display_order` */\n",
       "      index: 0\n",
       "    });\n",
       "  }\n",
       "\n",
       "  // register the mime type if in Jupyter Notebook environment and previously unregistered\n",
       "  if (root.Jupyter !== undefined) {\n",
       "    const events = require('base/js/events');\n",
       "    const OutputArea = require('notebook/js/outputarea').OutputArea;\n",
       "\n",
       "    if (OutputArea.prototype.mime_types().indexOf(EXEC_MIME_TYPE) == -1) {\n",
       "      register_renderer(events, OutputArea);\n",
       "    }\n",
       "  }\n",
       "  if (typeof (root._bokeh_timeout) === \"undefined\" || force === true) {\n",
       "    root._bokeh_timeout = Date.now() + 5000;\n",
       "    root._bokeh_failed_load = false;\n",
       "  }\n",
       "\n",
       "  const NB_LOAD_WARNING = {'data': {'text/html':\n",
       "     \"<div style='background-color: #fdd'>\\n\"+\n",
       "     \"<p>\\n\"+\n",
       "     \"BokehJS does not appear to have successfully loaded. If loading BokehJS from CDN, this \\n\"+\n",
       "     \"may be due to a slow or bad network connection. Possible fixes:\\n\"+\n",
       "     \"</p>\\n\"+\n",
       "     \"<ul>\\n\"+\n",
       "     \"<li>re-rerun `output_notebook()` to attempt to load from CDN again, or</li>\\n\"+\n",
       "     \"<li>use INLINE resources instead, as so:</li>\\n\"+\n",
       "     \"</ul>\\n\"+\n",
       "     \"<code>\\n\"+\n",
       "     \"from bokeh.resources import INLINE\\n\"+\n",
       "     \"output_notebook(resources=INLINE)\\n\"+\n",
       "     \"</code>\\n\"+\n",
       "     \"</div>\"}};\n",
       "\n",
       "  function display_loaded() {\n",
       "    const el = document.getElementById(\"1002\");\n",
       "    if (el != null) {\n",
       "      el.textContent = \"BokehJS is loading...\";\n",
       "    }\n",
       "    if (root.Bokeh !== undefined) {\n",
       "      if (el != null) {\n",
       "        el.textContent = \"BokehJS \" + root.Bokeh.version + \" successfully loaded.\";\n",
       "      }\n",
       "    } else if (Date.now() < root._bokeh_timeout) {\n",
       "      setTimeout(display_loaded, 100)\n",
       "    }\n",
       "  }\n",
       "\n",
       "  function run_callbacks() {\n",
       "    try {\n",
       "      root._bokeh_onload_callbacks.forEach(function(callback) {\n",
       "        if (callback != null)\n",
       "          callback();\n",
       "      });\n",
       "    } finally {\n",
       "      delete root._bokeh_onload_callbacks\n",
       "    }\n",
       "    console.debug(\"Bokeh: all callbacks have finished\");\n",
       "  }\n",
       "\n",
       "  function load_libs(css_urls, js_urls, callback) {\n",
       "    if (css_urls == null) css_urls = [];\n",
       "    if (js_urls == null) js_urls = [];\n",
       "\n",
       "    root._bokeh_onload_callbacks.push(callback);\n",
       "    if (root._bokeh_is_loading > 0) {\n",
       "      console.debug(\"Bokeh: BokehJS is being loaded, scheduling callback at\", now());\n",
       "      return null;\n",
       "    }\n",
       "    if (js_urls == null || js_urls.length === 0) {\n",
       "      run_callbacks();\n",
       "      return null;\n",
       "    }\n",
       "    console.debug(\"Bokeh: BokehJS not loaded, scheduling load and callback at\", now());\n",
       "    root._bokeh_is_loading = css_urls.length + js_urls.length;\n",
       "\n",
       "    function on_load() {\n",
       "      root._bokeh_is_loading--;\n",
       "      if (root._bokeh_is_loading === 0) {\n",
       "        console.debug(\"Bokeh: all BokehJS libraries/stylesheets loaded\");\n",
       "        run_callbacks()\n",
       "      }\n",
       "    }\n",
       "\n",
       "    function on_error(url) {\n",
       "      console.error(\"failed to load \" + url);\n",
       "    }\n",
       "\n",
       "    for (let i = 0; i < css_urls.length; i++) {\n",
       "      const url = css_urls[i];\n",
       "      const element = document.createElement(\"link\");\n",
       "      element.onload = on_load;\n",
       "      element.onerror = on_error.bind(null, url);\n",
       "      element.rel = \"stylesheet\";\n",
       "      element.type = \"text/css\";\n",
       "      element.href = url;\n",
       "      console.debug(\"Bokeh: injecting link tag for BokehJS stylesheet: \", url);\n",
       "      document.body.appendChild(element);\n",
       "    }\n",
       "\n",
       "    for (let i = 0; i < js_urls.length; i++) {\n",
       "      const url = js_urls[i];\n",
       "      const element = document.createElement('script');\n",
       "      element.onload = on_load;\n",
       "      element.onerror = on_error.bind(null, url);\n",
       "      element.async = false;\n",
       "      element.src = url;\n",
       "      console.debug(\"Bokeh: injecting script tag for BokehJS library: \", url);\n",
       "      document.head.appendChild(element);\n",
       "    }\n",
       "  };\n",
       "\n",
       "  function inject_raw_css(css) {\n",
       "    const element = document.createElement(\"style\");\n",
       "    element.appendChild(document.createTextNode(css));\n",
       "    document.body.appendChild(element);\n",
       "  }\n",
       "\n",
       "  const js_urls = [\"https://cdn.bokeh.org/bokeh/release/bokeh-2.4.3.min.js\", \"https://cdn.bokeh.org/bokeh/release/bokeh-gl-2.4.3.min.js\", \"https://cdn.bokeh.org/bokeh/release/bokeh-widgets-2.4.3.min.js\", \"https://cdn.bokeh.org/bokeh/release/bokeh-tables-2.4.3.min.js\", \"https://cdn.bokeh.org/bokeh/release/bokeh-mathjax-2.4.3.min.js\"];\n",
       "  const css_urls = [];\n",
       "\n",
       "  const inline_js = [    function(Bokeh) {\n",
       "      Bokeh.set_log_level(\"info\");\n",
       "    },\n",
       "function(Bokeh) {\n",
       "    }\n",
       "  ];\n",
       "\n",
       "  function run_inline_js() {\n",
       "    if (root.Bokeh !== undefined || force === true) {\n",
       "          for (let i = 0; i < inline_js.length; i++) {\n",
       "      inline_js[i].call(root, root.Bokeh);\n",
       "    }\n",
       "if (force === true) {\n",
       "        display_loaded();\n",
       "      }} else if (Date.now() < root._bokeh_timeout) {\n",
       "      setTimeout(run_inline_js, 100);\n",
       "    } else if (!root._bokeh_failed_load) {\n",
       "      console.log(\"Bokeh: BokehJS failed to load within specified timeout.\");\n",
       "      root._bokeh_failed_load = true;\n",
       "    } else if (force !== true) {\n",
       "      const cell = $(document.getElementById(\"1002\")).parents('.cell').data().cell;\n",
       "      cell.output_area.append_execute_result(NB_LOAD_WARNING)\n",
       "    }\n",
       "  }\n",
       "\n",
       "  if (root._bokeh_is_loading === 0) {\n",
       "    console.debug(\"Bokeh: BokehJS loaded, going straight to plotting\");\n",
       "    run_inline_js();\n",
       "  } else {\n",
       "    load_libs(css_urls, js_urls, function() {\n",
       "      console.debug(\"Bokeh: BokehJS plotting callback run at\", now());\n",
       "      run_inline_js();\n",
       "    });\n",
       "  }\n",
       "}(window));"
      ],
      "application/vnd.bokehjs_load.v0+json": "(function(root) {\n  function now() {\n    return new Date();\n  }\n\n  const force = true;\n\n  if (typeof root._bokeh_onload_callbacks === \"undefined\" || force === true) {\n    root._bokeh_onload_callbacks = [];\n    root._bokeh_is_loading = undefined;\n  }\n\n\n  if (typeof (root._bokeh_timeout) === \"undefined\" || force === true) {\n    root._bokeh_timeout = Date.now() + 5000;\n    root._bokeh_failed_load = false;\n  }\n\n  const NB_LOAD_WARNING = {'data': {'text/html':\n     \"<div style='background-color: #fdd'>\\n\"+\n     \"<p>\\n\"+\n     \"BokehJS does not appear to have successfully loaded. If loading BokehJS from CDN, this \\n\"+\n     \"may be due to a slow or bad network connection. Possible fixes:\\n\"+\n     \"</p>\\n\"+\n     \"<ul>\\n\"+\n     \"<li>re-rerun `output_notebook()` to attempt to load from CDN again, or</li>\\n\"+\n     \"<li>use INLINE resources instead, as so:</li>\\n\"+\n     \"</ul>\\n\"+\n     \"<code>\\n\"+\n     \"from bokeh.resources import INLINE\\n\"+\n     \"output_notebook(resources=INLINE)\\n\"+\n     \"</code>\\n\"+\n     \"</div>\"}};\n\n  function display_loaded() {\n    const el = document.getElementById(\"1002\");\n    if (el != null) {\n      el.textContent = \"BokehJS is loading...\";\n    }\n    if (root.Bokeh !== undefined) {\n      if (el != null) {\n        el.textContent = \"BokehJS \" + root.Bokeh.version + \" successfully loaded.\";\n      }\n    } else if (Date.now() < root._bokeh_timeout) {\n      setTimeout(display_loaded, 100)\n    }\n  }\n\n  function run_callbacks() {\n    try {\n      root._bokeh_onload_callbacks.forEach(function(callback) {\n        if (callback != null)\n          callback();\n      });\n    } finally {\n      delete root._bokeh_onload_callbacks\n    }\n    console.debug(\"Bokeh: all callbacks have finished\");\n  }\n\n  function load_libs(css_urls, js_urls, callback) {\n    if (css_urls == null) css_urls = [];\n    if (js_urls == null) js_urls = [];\n\n    root._bokeh_onload_callbacks.push(callback);\n    if (root._bokeh_is_loading > 0) {\n      console.debug(\"Bokeh: BokehJS is being loaded, scheduling callback at\", now());\n      return null;\n    }\n    if (js_urls == null || js_urls.length === 0) {\n      run_callbacks();\n      return null;\n    }\n    console.debug(\"Bokeh: BokehJS not loaded, scheduling load and callback at\", now());\n    root._bokeh_is_loading = css_urls.length + js_urls.length;\n\n    function on_load() {\n      root._bokeh_is_loading--;\n      if (root._bokeh_is_loading === 0) {\n        console.debug(\"Bokeh: all BokehJS libraries/stylesheets loaded\");\n        run_callbacks()\n      }\n    }\n\n    function on_error(url) {\n      console.error(\"failed to load \" + url);\n    }\n\n    for (let i = 0; i < css_urls.length; i++) {\n      const url = css_urls[i];\n      const element = document.createElement(\"link\");\n      element.onload = on_load;\n      element.onerror = on_error.bind(null, url);\n      element.rel = \"stylesheet\";\n      element.type = \"text/css\";\n      element.href = url;\n      console.debug(\"Bokeh: injecting link tag for BokehJS stylesheet: \", url);\n      document.body.appendChild(element);\n    }\n\n    for (let i = 0; i < js_urls.length; i++) {\n      const url = js_urls[i];\n      const element = document.createElement('script');\n      element.onload = on_load;\n      element.onerror = on_error.bind(null, url);\n      element.async = false;\n      element.src = url;\n      console.debug(\"Bokeh: injecting script tag for BokehJS library: \", url);\n      document.head.appendChild(element);\n    }\n  };\n\n  function inject_raw_css(css) {\n    const element = document.createElement(\"style\");\n    element.appendChild(document.createTextNode(css));\n    document.body.appendChild(element);\n  }\n\n  const js_urls = [\"https://cdn.bokeh.org/bokeh/release/bokeh-2.4.3.min.js\", \"https://cdn.bokeh.org/bokeh/release/bokeh-gl-2.4.3.min.js\", \"https://cdn.bokeh.org/bokeh/release/bokeh-widgets-2.4.3.min.js\", \"https://cdn.bokeh.org/bokeh/release/bokeh-tables-2.4.3.min.js\", \"https://cdn.bokeh.org/bokeh/release/bokeh-mathjax-2.4.3.min.js\"];\n  const css_urls = [];\n\n  const inline_js = [    function(Bokeh) {\n      Bokeh.set_log_level(\"info\");\n    },\nfunction(Bokeh) {\n    }\n  ];\n\n  function run_inline_js() {\n    if (root.Bokeh !== undefined || force === true) {\n          for (let i = 0; i < inline_js.length; i++) {\n      inline_js[i].call(root, root.Bokeh);\n    }\nif (force === true) {\n        display_loaded();\n      }} else if (Date.now() < root._bokeh_timeout) {\n      setTimeout(run_inline_js, 100);\n    } else if (!root._bokeh_failed_load) {\n      console.log(\"Bokeh: BokehJS failed to load within specified timeout.\");\n      root._bokeh_failed_load = true;\n    } else if (force !== true) {\n      const cell = $(document.getElementById(\"1002\")).parents('.cell').data().cell;\n      cell.output_area.append_execute_result(NB_LOAD_WARNING)\n    }\n  }\n\n  if (root._bokeh_is_loading === 0) {\n    console.debug(\"Bokeh: BokehJS loaded, going straight to plotting\");\n    run_inline_js();\n  } else {\n    load_libs(css_urls, js_urls, function() {\n      console.debug(\"Bokeh: BokehJS plotting callback run at\", now());\n      run_inline_js();\n    });\n  }\n}(window));"
     },
     "metadata": {},
     "output_type": "display_data"
    }
   ],
   "source": [
    "import math\n",
    "import numpy as np\n",
    "import pandas as pd\n",
    "import matplotlib.pyplot as plt\n",
    "\n",
    "import bokeh\n",
    "from bokeh.plotting import figure, show\n",
    "from bokeh.models import ranges\n",
    "from bokeh.io import output_notebook\n",
    "output_notebook()"
   ]
  },
  {
   "cell_type": "markdown",
   "id": "4e5ae997",
   "metadata": {},
   "source": [
    "### Read Data"
   ]
  },
  {
   "cell_type": "code",
   "execution_count": 2,
   "id": "c476dd04",
   "metadata": {},
   "outputs": [],
   "source": [
    "df = pd.read_csv('data.csv')\n",
    "df = pd.read_csv('data.csv')\n",
    "df.sort_values(by = 'x', inplace = True)\n",
    "xi = df.x.values\n",
    "yi = df.y.values"
   ]
  },
  {
   "cell_type": "markdown",
   "id": "006a48d9",
   "metadata": {},
   "source": [
    "### Plot Data"
   ]
  },
  {
   "cell_type": "code",
   "execution_count": 3,
   "id": "54781068",
   "metadata": {},
   "outputs": [
    {
     "data": {
      "text/html": [
       "\n",
       "  <div class=\"bk-root\" id=\"1c9b12ad-be3a-4e1f-b185-4468a6f54159\" data-root-id=\"1003\"></div>\n"
      ]
     },
     "metadata": {},
     "output_type": "display_data"
    },
    {
     "data": {
      "application/javascript": [
       "(function(root) {\n",
       "  function embed_document(root) {\n",
       "  const docs_json = {\"797bfd47-1e87-4480-89eb-5ddc640aa833\":{\"defs\":[],\"roots\":{\"references\":[{\"attributes\":{\"below\":[{\"id\":\"1012\"}],\"center\":[{\"id\":\"1015\"},{\"id\":\"1019\"}],\"height\":300,\"left\":[{\"id\":\"1016\"}],\"renderers\":[{\"id\":\"1038\"}],\"title\":{\"id\":\"1040\"},\"toolbar\":{\"id\":\"1027\"},\"width\":500,\"x_range\":{\"id\":\"1004\"},\"x_scale\":{\"id\":\"1008\"},\"y_range\":{\"id\":\"1006\"},\"y_scale\":{\"id\":\"1010\"}},\"id\":\"1003\",\"subtype\":\"Figure\",\"type\":\"Plot\"},{\"attributes\":{},\"id\":\"1008\",\"type\":\"LinearScale\"},{\"attributes\":{},\"id\":\"1013\",\"type\":\"BasicTicker\"},{\"attributes\":{\"axis\":{\"id\":\"1012\"},\"coordinates\":null,\"group\":null,\"ticker\":null},\"id\":\"1015\",\"type\":\"Grid\"},{\"attributes\":{},\"id\":\"1048\",\"type\":\"UnionRenderers\"},{\"attributes\":{\"coordinates\":null,\"formatter\":{\"id\":\"1046\"},\"group\":null,\"major_label_policy\":{\"id\":\"1047\"},\"ticker\":{\"id\":\"1013\"}},\"id\":\"1012\",\"type\":\"LinearAxis\"},{\"attributes\":{\"fill_alpha\":{\"value\":0.2},\"fill_color\":{\"value\":\"black\"},\"hatch_alpha\":{\"value\":0.2},\"line_alpha\":{\"value\":0.2},\"size\":{\"value\":6},\"x\":{\"field\":\"x\"},\"y\":{\"field\":\"y\"}},\"id\":\"1037\",\"type\":\"Scatter\"},{\"attributes\":{\"tools\":[{\"id\":\"1020\"},{\"id\":\"1021\"},{\"id\":\"1022\"},{\"id\":\"1023\"},{\"id\":\"1024\"},{\"id\":\"1025\"}]},\"id\":\"1027\",\"type\":\"Toolbar\"},{\"attributes\":{\"data\":{\"x\":{\"__ndarray__\":\"tVJZKxIX778vFs2ddQrvv7eGCO72/+6/a2pkTeiy7r+LcA8Zwazuv80wuF2dEOy/R+C+9/8d6L8gpFiCTcznvz/UDmP4Nua/gIMAXVfT5L8FtwTMu7vkv81yGwVvBeS/69lftbOh47+rlvBb353jv6/KBEqqieO/adHxh1UC4r/I7yFsbrjhv88RZsvTWOG/Tp0wKYpc4L+H5ZcNp0bgvy0OUOK/FeC/ze634Ibk37+HlXnHA3PfvywsdgMem96/FSJFPJA33b9YxXkKSb7cv68B/f3jtty/DJPUAq6d3L+SMh6vhBHavyHxI2Uo+tm/o4f11FcI2b9Dh1atoFfYv6NgAMA1INi/+hv0csYa17+m2AvkXZ7VvxKeoLI5pdG/4DNtWoQd0L9KZbpyHtfMv912l0fbEcu/ZJf5JRrYyL86XYhog/LFv1rlsYK5v8K/vhlJQwzCuL/MaG/mE9a3v1MaimsX+7K/t6JO8oNwsr9nOMaXTkCwv6skCBBrFaO/h1dkBOxUm7/FdHKdfgSBv//RQduN5aE/19MyRcUnsj8tWDP91Q22P2t/2dDcqbo/aiiXwXZCwT8kYoxAo1HHP0+d0reIDM0/QcZGmiSIzT/RcrcjUMjNP6sXZ/9IAM4/dI7CdKiGzj9hReqWTRvSPzl+QFHtVNI/hsGATtZi0z+xteIO4HzVP5zX6ghmANc/RPQGwMFc2j/OxCPaVl/aP4Ha1c+OINs/D3J51OEG3D/sqJq7vljcP3Vdnwmyvdw/PlgIo0B83j+qq4mlS8bgP3tS0jUm0+A/ygHFDLDW4T+t2cDZijbiPwNJekaSWOI/h3i+e1TH4j8guWrbhvriP+BFVc8mMOM/MdGur2a+4z96ofX613XlPyHDqV2zf+U/L5Lghy8F5j9O/VbH/j3mPx1lksteSuc/YqO2UcCd5z+ZEnktSRfoPxaQPxZ3I+k/KTvD9aRD6T/HjlGUB7bpP4ME4+WL6+o/yDv8P8uW6z92a0MMDrvrPyyu9FF73us/1mWTJFH97T9FpnlQG4juPwQwR4omAu8/uhMc+eQa7z8=\",\"dtype\":\"float64\",\"order\":\"little\",\"shape\":[100]},\"y\":{\"__ndarray__\":\"mzTvM4yt8L+hHUIlRsDYv4eDdf0xhuu/ox3Fpoan6b995V3Pud7wvySvihQjy+O//HebPAcE7L/oCAnmIp3qv2LFduUdCfG/yRDAANSK779YPiH0mffvv0L6Fmvyq/C/9PP6IaOE5r/ognkWJHDov3u0YeLJXfS/9Hfs8KIS67+Exf8iCoP0vzcjUOugXO2/ZfDUfMV18L+vgN8SwgvmvyK/B3preuO/wr22p3lx6b+uldjOWs7wv89Ny6owD+2/4OHW2oRG8b+TyI8PsrDuv10A2Ih5iea/RtmVdYOB779pc+OwEKrlv9C66FmATum/s2+bZ/QM4r8cKR7B1Onkv4lywrQK0/C/sJPHwQ8I57/vrzLblGnqv6g4KhGKuOO/sXATZ6XG3b//LfmGXx3cvyQZft/bTtm/omjrzn3z2L8dbvyTPNrWv101XbwQTMC/pyb7xlvX3r+NGwUoEO2kv138nYim9d6/z/QSY5l+xr+hlxeBLYa/P2ZzI8y3ldK/QKKNTFUUlD+ii/UpoV3Hv5YtbrArvsU/LKERJYdzjD+i4dmNWju7P27gZNTid44/jFfuPxFP2T8BcvK952nWP+lisjw4jd4/h3qUJrKq5D8OoSQGfOzjPyZ7zXDYXdc/oS6URN3E5T9MOqmzg3/mP7DR18tttfE/+gZjmqIZ4j9pak5o1t3xPxTTsNhZjvY/Z/nYYlnG8D8ufzc9JbDpP/4NtOTsm+I/u/9GPW/z8D/kOgozFL/yP6lh4+1NC+4/TkzDYmcJ7z9+sA2O8gnsP1zbUDtAs+g/1OGam2xs8z+TE5JxMfPyP0MrfvPlbPE//acJRTSW6z90vm3g7aXsP70Xwt6CzPE/gVUo5OAw8T9xO4C6i8zxP4EINILUwO8/GPOHJzqp8D+KsjgVCZPsP1ny6K47afM/4DSRWqf45z932hVY0jr0P9EJq/WhsvI/04Ywb+8Z6D8jVQw+ak/nP9qMC7uzFPM/CC18YVg87D9dktr2A//nP8fJCYLjDO4/MAcHnCHs3z/DFzo37PXoPwiQvbg2r9g/wDYLSaDA2z8=\",\"dtype\":\"float64\",\"order\":\"little\",\"shape\":[100]}},\"selected\":{\"id\":\"1049\"},\"selection_policy\":{\"id\":\"1048\"}},\"id\":\"1034\",\"type\":\"ColumnDataSource\"},{\"attributes\":{\"axis\":{\"id\":\"1016\"},\"coordinates\":null,\"dimension\":1,\"group\":null,\"ticker\":null},\"id\":\"1019\",\"type\":\"Grid\"},{\"attributes\":{},\"id\":\"1021\",\"type\":\"WheelZoomTool\"},{\"attributes\":{\"fill_alpha\":{\"value\":0.1},\"fill_color\":{\"value\":\"black\"},\"hatch_alpha\":{\"value\":0.1},\"line_alpha\":{\"value\":0.1},\"size\":{\"value\":6},\"x\":{\"field\":\"x\"},\"y\":{\"field\":\"y\"}},\"id\":\"1036\",\"type\":\"Scatter\"},{\"attributes\":{\"coordinates\":null,\"data_source\":{\"id\":\"1034\"},\"glyph\":{\"id\":\"1035\"},\"group\":null,\"hover_glyph\":null,\"muted_glyph\":{\"id\":\"1037\"},\"nonselection_glyph\":{\"id\":\"1036\"},\"view\":{\"id\":\"1039\"}},\"id\":\"1038\",\"type\":\"GlyphRenderer\"},{\"attributes\":{\"bottom_units\":\"screen\",\"coordinates\":null,\"fill_alpha\":0.5,\"fill_color\":\"lightgrey\",\"group\":null,\"left_units\":\"screen\",\"level\":\"overlay\",\"line_alpha\":1.0,\"line_color\":\"black\",\"line_dash\":[4,4],\"line_width\":2,\"right_units\":\"screen\",\"syncable\":false,\"top_units\":\"screen\"},\"id\":\"1026\",\"type\":\"BoxAnnotation\"},{\"attributes\":{},\"id\":\"1017\",\"type\":\"BasicTicker\"},{\"attributes\":{\"coordinates\":null,\"group\":null},\"id\":\"1040\",\"type\":\"Title\"},{\"attributes\":{\"fill_color\":{\"value\":\"black\"},\"size\":{\"value\":6},\"x\":{\"field\":\"x\"},\"y\":{\"field\":\"y\"}},\"id\":\"1035\",\"type\":\"Scatter\"},{\"attributes\":{\"overlay\":{\"id\":\"1026\"}},\"id\":\"1022\",\"type\":\"BoxZoomTool\"},{\"attributes\":{},\"id\":\"1023\",\"type\":\"SaveTool\"},{\"attributes\":{},\"id\":\"1024\",\"type\":\"ResetTool\"},{\"attributes\":{},\"id\":\"1047\",\"type\":\"AllLabels\"},{\"attributes\":{},\"id\":\"1020\",\"type\":\"PanTool\"},{\"attributes\":{},\"id\":\"1046\",\"type\":\"BasicTickFormatter\"},{\"attributes\":{\"coordinates\":null,\"formatter\":{\"id\":\"1043\"},\"group\":null,\"major_label_policy\":{\"id\":\"1044\"},\"ticker\":{\"id\":\"1017\"}},\"id\":\"1016\",\"type\":\"LinearAxis\"},{\"attributes\":{},\"id\":\"1044\",\"type\":\"AllLabels\"},{\"attributes\":{},\"id\":\"1006\",\"type\":\"DataRange1d\"},{\"attributes\":{\"source\":{\"id\":\"1034\"}},\"id\":\"1039\",\"type\":\"CDSView\"},{\"attributes\":{},\"id\":\"1010\",\"type\":\"LinearScale\"},{\"attributes\":{},\"id\":\"1004\",\"type\":\"DataRange1d\"},{\"attributes\":{},\"id\":\"1025\",\"type\":\"HelpTool\"},{\"attributes\":{},\"id\":\"1049\",\"type\":\"Selection\"},{\"attributes\":{},\"id\":\"1043\",\"type\":\"BasicTickFormatter\"}],\"root_ids\":[\"1003\"]},\"title\":\"Bokeh Application\",\"version\":\"2.4.3\"}};\n",
       "  const render_items = [{\"docid\":\"797bfd47-1e87-4480-89eb-5ddc640aa833\",\"root_ids\":[\"1003\"],\"roots\":{\"1003\":\"1c9b12ad-be3a-4e1f-b185-4468a6f54159\"}}];\n",
       "  root.Bokeh.embed.embed_items_notebook(docs_json, render_items);\n",
       "  }\n",
       "  if (root.Bokeh !== undefined) {\n",
       "    embed_document(root);\n",
       "  } else {\n",
       "    let attempts = 0;\n",
       "    const timer = setInterval(function(root) {\n",
       "      if (root.Bokeh !== undefined) {\n",
       "        clearInterval(timer);\n",
       "        embed_document(root);\n",
       "      } else {\n",
       "        attempts++;\n",
       "        if (attempts > 100) {\n",
       "          clearInterval(timer);\n",
       "          console.log(\"Bokeh: ERROR: Unable to run BokehJS code because BokehJS library is missing\");\n",
       "        }\n",
       "      }\n",
       "    }, 10, root)\n",
       "  }\n",
       "})(window);"
      ],
      "application/vnd.bokehjs_exec.v0+json": ""
     },
     "metadata": {
      "application/vnd.bokehjs_exec.v0+json": {
       "id": "1003"
      }
     },
     "output_type": "display_data"
    }
   ],
   "source": [
    "p = figure(width = 500, height = 300)\n",
    "p.scatter(x= xi.flatten(), y= yi.flatten(), color = 'black', size = 6)\n",
    "show(p)"
   ]
  },
  {
   "cell_type": "markdown",
   "id": "d6456615",
   "metadata": {},
   "source": [
    "1) Using the uniform kernel find the estimator of $m(0)$. There are two common forms of seeing the uniform kernel"
   ]
  },
  {
   "cell_type": "markdown",
   "id": "194f0019",
   "metadata": {},
   "source": [
    "Form 1"
   ]
  },
  {
   "cell_type": "markdown",
   "id": "7e7509e7",
   "metadata": {},
   "source": [
    "$$\\large \\hat m (x) = \\Sigma_{i=1}^n \\hspace{2 mm} w_{i,h} (x) \\hspace{1 mm} y_i\\\\\n",
    "\\\\\n",
    "\\large w_{i,h} (x) = \\dfrac{1 (|x_i - x|) < h}{\\Sigma_{i=1}^n 1 (|x_i - x|) < h}$$"
   ]
  },
  {
   "cell_type": "code",
   "execution_count": 4,
   "id": "ebc27df5",
   "metadata": {},
   "outputs": [],
   "source": [
    "def uniform_kernel(xi, yi, x, h):\n",
    "    \"\"\"Returns the estimator at x for a uniform kernel with a\n",
    "    given smoothing parameter h\"\"\"\n",
    "    \n",
    "    # Nearest Neighbors - 1s and 0s\n",
    "    t = abs(xi - x)     \n",
    "    n_neighbors = (t<=h).sum()\n",
    "    \n",
    "    # Apply weights\n",
    "    wi  = np.where(t<=h, 1/n_neighbors ,0)   \n",
    "    \n",
    "    #Nadaraya-Watson estimator\n",
    "    y_pred = np.sum(wi*yi)\n",
    "        \n",
    "    return y_pred"
   ]
  },
  {
   "cell_type": "markdown",
   "id": "fad3cfb8",
   "metadata": {},
   "source": [
    "Form 2: Nadaraya Watson"
   ]
  },
  {
   "cell_type": "markdown",
   "id": "33f207bf",
   "metadata": {},
   "source": [
    "$$\\large \\hat m (x) = \\dfrac{\\Sigma_{i=1}^n \\hspace{1 mm}  y_i K (\\dfrac{x - x _i}{h}) }{\\Sigma_{i=1}^n \\hspace{1 mm}  K (\\dfrac{x - x _i}{h}) } \\\\\n",
    "\\large w_{i,h} (x) = K (\\dfrac{x - x _i}{h}) \\\\\n",
    "\\text{For a uniform kernel} \\\\\n",
    "$$"
   ]
  },
  {
   "cell_type": "markdown",
   "id": "5e166665",
   "metadata": {},
   "source": [
    "$$K(u) = \\begin{cases} \n",
    "      0.5 & |u| \\leq 1 \\\\\n",
    "      0 \\text{ otherwise}\n",
    "\\end{cases}\n",
    "$$"
   ]
  },
  {
   "cell_type": "code",
   "execution_count": 5,
   "id": "cb6ccbe4",
   "metadata": {},
   "outputs": [],
   "source": [
    "def uniform_kernel_NW(xi, yi, x, h):\n",
    "    \"\"\"Returns the estimator at x for a uniform kernel with a\n",
    "    given smoothing parameter h\"\"\"\n",
    "    \n",
    "    u = abs(x - xi) / h\n",
    "    w_i = np.where(u<=1, 0.5, 0) \n",
    "    \n",
    "    y_pred = np.sum(w_i*yi) / np.sum(w_i)  \n",
    "            \n",
    "    return y_pred"
   ]
  },
  {
   "cell_type": "markdown",
   "id": "aa2501b8",
   "metadata": {},
   "source": [
    "Check Kernel over all data points"
   ]
  },
  {
   "cell_type": "code",
   "execution_count": 6,
   "id": "28525e05",
   "metadata": {},
   "outputs": [],
   "source": [
    "y_pred = []\n",
    "y_pred_NW =[]\n",
    "for xo in xi:\n",
    "    y_pred.append(uniform_kernel(xi, yi, xo, 0.1))\n",
    "    y_pred_NW.append(uniform_kernel_NW(xi, yi, xo, 0.1))"
   ]
  },
  {
   "cell_type": "code",
   "execution_count": 7,
   "id": "79879675",
   "metadata": {},
   "outputs": [
    {
     "data": {
      "text/html": [
       "\n",
       "  <div class=\"bk-root\" id=\"3430c16f-11b7-43ea-904d-7b36ea92ac7e\" data-root-id=\"1106\"></div>\n"
      ]
     },
     "metadata": {},
     "output_type": "display_data"
    },
    {
     "data": {
      "application/javascript": [
       "(function(root) {\n",
       "  function embed_document(root) {\n",
       "  const docs_json = {\"c79a0df1-bfad-4ba1-8f28-837c06b9425d\":{\"defs\":[],\"roots\":{\"references\":[{\"attributes\":{\"below\":[{\"id\":\"1115\"}],\"center\":[{\"id\":\"1118\"},{\"id\":\"1122\"},{\"id\":\"1162\"}],\"height\":300,\"left\":[{\"id\":\"1119\"}],\"renderers\":[{\"id\":\"1141\"},{\"id\":\"1147\"},{\"id\":\"1168\"}],\"title\":{\"id\":\"1149\"},\"toolbar\":{\"id\":\"1130\"},\"width\":500,\"x_range\":{\"id\":\"1107\"},\"x_scale\":{\"id\":\"1111\"},\"y_range\":{\"id\":\"1109\"},\"y_scale\":{\"id\":\"1113\"}},\"id\":\"1106\",\"subtype\":\"Figure\",\"type\":\"Plot\"},{\"attributes\":{},\"id\":\"1120\",\"type\":\"BasicTicker\"},{\"attributes\":{},\"id\":\"1158\",\"type\":\"Selection\"},{\"attributes\":{},\"id\":\"1113\",\"type\":\"LinearScale\"},{\"attributes\":{\"coordinates\":null,\"group\":null},\"id\":\"1149\",\"type\":\"Title\"},{\"attributes\":{\"bottom_units\":\"screen\",\"coordinates\":null,\"fill_alpha\":0.5,\"fill_color\":\"lightgrey\",\"group\":null,\"left_units\":\"screen\",\"level\":\"overlay\",\"line_alpha\":1.0,\"line_color\":\"black\",\"line_dash\":[4,4],\"line_width\":2,\"right_units\":\"screen\",\"syncable\":false,\"top_units\":\"screen\"},\"id\":\"1129\",\"type\":\"BoxAnnotation\"},{\"attributes\":{\"source\":{\"id\":\"1137\"}},\"id\":\"1142\",\"type\":\"CDSView\"},{\"attributes\":{},\"id\":\"1128\",\"type\":\"HelpTool\"},{\"attributes\":{\"label\":{\"value\":\"Nadaraya\\u2013Watson Form\"},\"renderers\":[{\"id\":\"1168\"}]},\"id\":\"1185\",\"type\":\"LegendItem\"},{\"attributes\":{\"line_alpha\":0.2,\"line_color\":\"blue\",\"line_width\":1.5,\"x\":{\"field\":\"x\"},\"y\":{\"field\":\"y\"}},\"id\":\"1167\",\"type\":\"Line\"},{\"attributes\":{\"source\":{\"id\":\"1143\"}},\"id\":\"1148\",\"type\":\"CDSView\"},{\"attributes\":{\"axis\":{\"id\":\"1115\"},\"coordinates\":null,\"group\":null,\"ticker\":null},\"id\":\"1118\",\"type\":\"Grid\"},{\"attributes\":{\"data\":{\"x\":{\"__ndarray__\":\"tVJZKxIX778vFs2ddQrvv7eGCO72/+6/a2pkTeiy7r+LcA8Zwazuv80wuF2dEOy/R+C+9/8d6L8gpFiCTcznvz/UDmP4Nua/gIMAXVfT5L8FtwTMu7vkv81yGwVvBeS/69lftbOh47+rlvBb353jv6/KBEqqieO/adHxh1UC4r/I7yFsbrjhv88RZsvTWOG/Tp0wKYpc4L+H5ZcNp0bgvy0OUOK/FeC/ze634Ibk37+HlXnHA3PfvywsdgMem96/FSJFPJA33b9YxXkKSb7cv68B/f3jtty/DJPUAq6d3L+SMh6vhBHavyHxI2Uo+tm/o4f11FcI2b9Dh1atoFfYv6NgAMA1INi/+hv0csYa17+m2AvkXZ7VvxKeoLI5pdG/4DNtWoQd0L9KZbpyHtfMv912l0fbEcu/ZJf5JRrYyL86XYhog/LFv1rlsYK5v8K/vhlJQwzCuL/MaG/mE9a3v1MaimsX+7K/t6JO8oNwsr9nOMaXTkCwv6skCBBrFaO/h1dkBOxUm7/FdHKdfgSBv//RQduN5aE/19MyRcUnsj8tWDP91Q22P2t/2dDcqbo/aiiXwXZCwT8kYoxAo1HHP0+d0reIDM0/QcZGmiSIzT/RcrcjUMjNP6sXZ/9IAM4/dI7CdKiGzj9hReqWTRvSPzl+QFHtVNI/hsGATtZi0z+xteIO4HzVP5zX6ghmANc/RPQGwMFc2j/OxCPaVl/aP4Ha1c+OINs/D3J51OEG3D/sqJq7vljcP3Vdnwmyvdw/PlgIo0B83j+qq4mlS8bgP3tS0jUm0+A/ygHFDLDW4T+t2cDZijbiPwNJekaSWOI/h3i+e1TH4j8guWrbhvriP+BFVc8mMOM/MdGur2a+4z96ofX613XlPyHDqV2zf+U/L5Lghy8F5j9O/VbH/j3mPx1lksteSuc/YqO2UcCd5z+ZEnktSRfoPxaQPxZ3I+k/KTvD9aRD6T/HjlGUB7bpP4ME4+WL6+o/yDv8P8uW6z92a0MMDrvrPyyu9FF73us/1mWTJFH97T9FpnlQG4juPwQwR4omAu8/uhMc+eQa7z8=\",\"dtype\":\"float64\",\"order\":\"little\",\"shape\":[100]},\"y\":[-0.7939766899999999,-0.7939766899999999,-0.7939766899999999,-0.7939766899999999,-0.7939766899999999,-0.7939766899999999,-0.9239663963333333,-0.9513141522,-0.9487586397777776,-0.9791353077,-0.9791353077,-0.9877228598000001,-0.9877228598000001,-0.9877228598000001,-0.9914528536363636,-0.9261647027333334,-0.9357616928125,-0.9197309490588236,-0.9375761962142857,-0.9117822413076924,-0.8880674490666666,-0.8880674490666666,-0.8880674490666666,-0.8552139384117647,-0.8591038860555555,-0.8342281094117647,-0.8342281094117647,-0.8342281094117647,-0.8248013943333332,-0.8248013943333332,-0.82648713025,-0.82648713025,-0.8190673910909092,-0.8021681729166666,-0.707071145111111,-0.5501773007142856,-0.49836816228571423,-0.3986443005714285,-0.3986443005714285,-0.40905056800000006,-0.33564807370000005,-0.2768090201,-0.21697121209090908,-0.1996821795,-0.1996821795,-0.1996821795,-0.14698856400000002,-0.14917381211111108,-0.1328672082,-0.11111796963636364,0.04114197022222223,0.07678923585714284,0.12401853985714284,0.17511243766666665,0.3161601499,0.40645827933333334,0.5912362182,0.5912362182,0.5912362182,0.5912362182,0.6633570845000001,0.7693110555,0.7693110555,0.7693110555,0.8905438623333333,0.954961435,1.0109982811111111,1.0109982811111111,1.0109982811111111,0.9630420483,0.9630420483,0.9630420483,0.9756747837499999,1.0168915034615387,1.0168915034615387,1.0049627231,1.0049627231,1.0128628338333332,1.016768734090909,1.0188142750833333,1.0091323052307692,1.0091323052307692,1.0249113375833332,1.0249113375833332,1.046943234727273,1.0340260437272728,0.9915867978000001,0.9915867978000001,1.0098565631818182,0.9645845774999999,0.9576090640000001,0.9640751037000002,0.9085826027777777,0.8547669479999999,0.8547669479999999,0.8078596731,0.732750883,0.6670646924285714,0.6074413330000001,0.52453333425]},\"selected\":{\"id\":\"1160\"},\"selection_policy\":{\"id\":\"1159\"}},\"id\":\"1143\",\"type\":\"ColumnDataSource\"},{\"attributes\":{\"line_alpha\":0.1,\"line_color\":\"blue\",\"line_width\":1.5,\"x\":{\"field\":\"x\"},\"y\":{\"field\":\"y\"}},\"id\":\"1166\",\"type\":\"Line\"},{\"attributes\":{},\"id\":\"1152\",\"type\":\"BasicTickFormatter\"},{\"attributes\":{\"fill_color\":{\"value\":\"black\"},\"size\":{\"value\":6},\"x\":{\"field\":\"x\"},\"y\":{\"field\":\"y\"}},\"id\":\"1138\",\"type\":\"Scatter\"},{\"attributes\":{},\"id\":\"1160\",\"type\":\"Selection\"},{\"attributes\":{},\"id\":\"1153\",\"type\":\"AllLabels\"},{\"attributes\":{},\"id\":\"1116\",\"type\":\"BasicTicker\"},{\"attributes\":{},\"id\":\"1159\",\"type\":\"UnionRenderers\"},{\"attributes\":{},\"id\":\"1183\",\"type\":\"Selection\"},{\"attributes\":{},\"id\":\"1123\",\"type\":\"PanTool\"},{\"attributes\":{\"coordinates\":null,\"group\":null,\"items\":[{\"id\":\"1163\"},{\"id\":\"1185\"}],\"location\":\"top_left\"},\"id\":\"1162\",\"type\":\"Legend\"},{\"attributes\":{\"coordinates\":null,\"data_source\":{\"id\":\"1143\"},\"glyph\":{\"id\":\"1144\"},\"group\":null,\"hover_glyph\":null,\"muted_glyph\":{\"id\":\"1146\"},\"nonselection_glyph\":{\"id\":\"1145\"},\"view\":{\"id\":\"1148\"}},\"id\":\"1147\",\"type\":\"GlyphRenderer\"},{\"attributes\":{},\"id\":\"1107\",\"type\":\"DataRange1d\"},{\"attributes\":{\"line_color\":\"blue\",\"line_width\":1.5,\"x\":{\"field\":\"x\"},\"y\":{\"field\":\"y\"}},\"id\":\"1165\",\"type\":\"Line\"},{\"attributes\":{\"coordinates\":null,\"formatter\":{\"id\":\"1155\"},\"group\":null,\"major_label_policy\":{\"id\":\"1156\"},\"ticker\":{\"id\":\"1116\"}},\"id\":\"1115\",\"type\":\"LinearAxis\"},{\"attributes\":{},\"id\":\"1157\",\"type\":\"UnionRenderers\"},{\"attributes\":{\"label\":{\"value\":\"Uniform Kernel\"},\"renderers\":[{\"id\":\"1147\"}]},\"id\":\"1163\",\"type\":\"LegendItem\"},{\"attributes\":{},\"id\":\"1182\",\"type\":\"UnionRenderers\"},{\"attributes\":{\"tools\":[{\"id\":\"1123\"},{\"id\":\"1124\"},{\"id\":\"1125\"},{\"id\":\"1126\"},{\"id\":\"1127\"},{\"id\":\"1128\"}]},\"id\":\"1130\",\"type\":\"Toolbar\"},{\"attributes\":{\"coordinates\":null,\"data_source\":{\"id\":\"1164\"},\"glyph\":{\"id\":\"1165\"},\"group\":null,\"hover_glyph\":null,\"muted_glyph\":{\"id\":\"1167\"},\"nonselection_glyph\":{\"id\":\"1166\"},\"view\":{\"id\":\"1169\"}},\"id\":\"1168\",\"type\":\"GlyphRenderer\"},{\"attributes\":{},\"id\":\"1127\",\"type\":\"ResetTool\"},{\"attributes\":{},\"id\":\"1111\",\"type\":\"LinearScale\"},{\"attributes\":{\"overlay\":{\"id\":\"1129\"}},\"id\":\"1125\",\"type\":\"BoxZoomTool\"},{\"attributes\":{\"line_alpha\":0.1,\"line_color\":\"red\",\"line_width\":6,\"x\":{\"field\":\"x\"},\"y\":{\"field\":\"y\"}},\"id\":\"1145\",\"type\":\"Line\"},{\"attributes\":{},\"id\":\"1126\",\"type\":\"SaveTool\"},{\"attributes\":{\"coordinates\":null,\"formatter\":{\"id\":\"1152\"},\"group\":null,\"major_label_policy\":{\"id\":\"1153\"},\"ticker\":{\"id\":\"1120\"}},\"id\":\"1119\",\"type\":\"LinearAxis\"},{\"attributes\":{\"data\":{\"x\":{\"__ndarray__\":\"tVJZKxIX778vFs2ddQrvv7eGCO72/+6/a2pkTeiy7r+LcA8Zwazuv80wuF2dEOy/R+C+9/8d6L8gpFiCTcznvz/UDmP4Nua/gIMAXVfT5L8FtwTMu7vkv81yGwVvBeS/69lftbOh47+rlvBb353jv6/KBEqqieO/adHxh1UC4r/I7yFsbrjhv88RZsvTWOG/Tp0wKYpc4L+H5ZcNp0bgvy0OUOK/FeC/ze634Ibk37+HlXnHA3PfvywsdgMem96/FSJFPJA33b9YxXkKSb7cv68B/f3jtty/DJPUAq6d3L+SMh6vhBHavyHxI2Uo+tm/o4f11FcI2b9Dh1atoFfYv6NgAMA1INi/+hv0csYa17+m2AvkXZ7VvxKeoLI5pdG/4DNtWoQd0L9KZbpyHtfMv912l0fbEcu/ZJf5JRrYyL86XYhog/LFv1rlsYK5v8K/vhlJQwzCuL/MaG/mE9a3v1MaimsX+7K/t6JO8oNwsr9nOMaXTkCwv6skCBBrFaO/h1dkBOxUm7/FdHKdfgSBv//RQduN5aE/19MyRcUnsj8tWDP91Q22P2t/2dDcqbo/aiiXwXZCwT8kYoxAo1HHP0+d0reIDM0/QcZGmiSIzT/RcrcjUMjNP6sXZ/9IAM4/dI7CdKiGzj9hReqWTRvSPzl+QFHtVNI/hsGATtZi0z+xteIO4HzVP5zX6ghmANc/RPQGwMFc2j/OxCPaVl/aP4Ha1c+OINs/D3J51OEG3D/sqJq7vljcP3Vdnwmyvdw/PlgIo0B83j+qq4mlS8bgP3tS0jUm0+A/ygHFDLDW4T+t2cDZijbiPwNJekaSWOI/h3i+e1TH4j8guWrbhvriP+BFVc8mMOM/MdGur2a+4z96ofX613XlPyHDqV2zf+U/L5Lghy8F5j9O/VbH/j3mPx1lksteSuc/YqO2UcCd5z+ZEnktSRfoPxaQPxZ3I+k/KTvD9aRD6T/HjlGUB7bpP4ME4+WL6+o/yDv8P8uW6z92a0MMDrvrPyyu9FF73us/1mWTJFH97T9FpnlQG4juPwQwR4omAu8/uhMc+eQa7z8=\",\"dtype\":\"float64\",\"order\":\"little\",\"shape\":[100]},\"y\":[-0.79397669,-0.79397669,-0.79397669,-0.79397669,-0.79397669,-0.79397669,-0.9239663963333333,-0.9513141521999999,-0.9487586397777777,-0.9791353077,-0.9791353077,-0.9877228598000001,-0.9877228598000001,-0.9877228598000001,-0.9914528536363636,-0.9261647027333333,-0.9357616928125,-0.9197309490588235,-0.9375761962142857,-0.9117822413076924,-0.8880674490666667,-0.8880674490666667,-0.8880674490666667,-0.8552139384117647,-0.8591038860555557,-0.8342281094117647,-0.8342281094117647,-0.8342281094117647,-0.8248013943333333,-0.8248013943333333,-0.82648713025,-0.82648713025,-0.819067391090909,-0.8021681729166668,-0.7070711451111111,-0.5501773007142857,-0.4983681622857143,-0.3986443005714286,-0.3986443005714286,-0.40905056800000006,-0.3356480737,-0.27680902009999997,-0.21697121209090905,-0.19968217949999997,-0.19968217949999997,-0.19968217949999997,-0.146988564,-0.14917381211111114,-0.13286720819999998,-0.11111796963636361,0.04114197022222223,0.07678923585714285,0.12401853985714285,0.17511243766666665,0.3161601499,0.40645827933333334,0.5912362181999999,0.5912362181999999,0.5912362181999999,0.5912362181999999,0.6633570845,0.7693110555,0.7693110555,0.7693110555,0.8905438623333334,0.954961435,1.0109982811111111,1.0109982811111111,1.0109982811111111,0.9630420483,0.9630420483,0.9630420483,0.97567478375,1.0168915034615384,1.0168915034615384,1.0049627231,1.0049627231,1.0128628338333334,1.016768734090909,1.0188142750833333,1.0091323052307692,1.0091323052307692,1.0249113375833334,1.0249113375833334,1.0469432347272727,1.0340260437272728,0.9915867977999999,0.9915867977999999,1.0098565631818182,0.9645845775000002,0.957609064,0.9640751037000002,0.9085826027777778,0.854766948,0.854766948,0.8078596731,0.732750883,0.6670646924285715,0.607441333,0.52453333425]},\"selected\":{\"id\":\"1183\"},\"selection_policy\":{\"id\":\"1182\"}},\"id\":\"1164\",\"type\":\"ColumnDataSource\"},{\"attributes\":{},\"id\":\"1124\",\"type\":\"WheelZoomTool\"},{\"attributes\":{\"source\":{\"id\":\"1164\"}},\"id\":\"1169\",\"type\":\"CDSView\"},{\"attributes\":{\"fill_alpha\":{\"value\":0.1},\"fill_color\":{\"value\":\"black\"},\"hatch_alpha\":{\"value\":0.1},\"line_alpha\":{\"value\":0.1},\"size\":{\"value\":6},\"x\":{\"field\":\"x\"},\"y\":{\"field\":\"y\"}},\"id\":\"1139\",\"type\":\"Scatter\"},{\"attributes\":{\"fill_alpha\":{\"value\":0.2},\"fill_color\":{\"value\":\"black\"},\"hatch_alpha\":{\"value\":0.2},\"line_alpha\":{\"value\":0.2},\"size\":{\"value\":6},\"x\":{\"field\":\"x\"},\"y\":{\"field\":\"y\"}},\"id\":\"1140\",\"type\":\"Scatter\"},{\"attributes\":{\"line_alpha\":0.5,\"line_color\":\"red\",\"line_width\":6,\"x\":{\"field\":\"x\"},\"y\":{\"field\":\"y\"}},\"id\":\"1144\",\"type\":\"Line\"},{\"attributes\":{\"line_alpha\":0.2,\"line_color\":\"red\",\"line_width\":6,\"x\":{\"field\":\"x\"},\"y\":{\"field\":\"y\"}},\"id\":\"1146\",\"type\":\"Line\"},{\"attributes\":{\"coordinates\":null,\"data_source\":{\"id\":\"1137\"},\"glyph\":{\"id\":\"1138\"},\"group\":null,\"hover_glyph\":null,\"muted_glyph\":{\"id\":\"1140\"},\"nonselection_glyph\":{\"id\":\"1139\"},\"view\":{\"id\":\"1142\"}},\"id\":\"1141\",\"type\":\"GlyphRenderer\"},{\"attributes\":{\"axis\":{\"id\":\"1119\"},\"coordinates\":null,\"dimension\":1,\"group\":null,\"ticker\":null},\"id\":\"1122\",\"type\":\"Grid\"},{\"attributes\":{},\"id\":\"1109\",\"type\":\"DataRange1d\"},{\"attributes\":{},\"id\":\"1156\",\"type\":\"AllLabels\"},{\"attributes\":{\"data\":{\"x\":{\"__ndarray__\":\"tVJZKxIX778vFs2ddQrvv7eGCO72/+6/a2pkTeiy7r+LcA8Zwazuv80wuF2dEOy/R+C+9/8d6L8gpFiCTcznvz/UDmP4Nua/gIMAXVfT5L8FtwTMu7vkv81yGwVvBeS/69lftbOh47+rlvBb353jv6/KBEqqieO/adHxh1UC4r/I7yFsbrjhv88RZsvTWOG/Tp0wKYpc4L+H5ZcNp0bgvy0OUOK/FeC/ze634Ibk37+HlXnHA3PfvywsdgMem96/FSJFPJA33b9YxXkKSb7cv68B/f3jtty/DJPUAq6d3L+SMh6vhBHavyHxI2Uo+tm/o4f11FcI2b9Dh1atoFfYv6NgAMA1INi/+hv0csYa17+m2AvkXZ7VvxKeoLI5pdG/4DNtWoQd0L9KZbpyHtfMv912l0fbEcu/ZJf5JRrYyL86XYhog/LFv1rlsYK5v8K/vhlJQwzCuL/MaG/mE9a3v1MaimsX+7K/t6JO8oNwsr9nOMaXTkCwv6skCBBrFaO/h1dkBOxUm7/FdHKdfgSBv//RQduN5aE/19MyRcUnsj8tWDP91Q22P2t/2dDcqbo/aiiXwXZCwT8kYoxAo1HHP0+d0reIDM0/QcZGmiSIzT/RcrcjUMjNP6sXZ/9IAM4/dI7CdKiGzj9hReqWTRvSPzl+QFHtVNI/hsGATtZi0z+xteIO4HzVP5zX6ghmANc/RPQGwMFc2j/OxCPaVl/aP4Ha1c+OINs/D3J51OEG3D/sqJq7vljcP3Vdnwmyvdw/PlgIo0B83j+qq4mlS8bgP3tS0jUm0+A/ygHFDLDW4T+t2cDZijbiPwNJekaSWOI/h3i+e1TH4j8guWrbhvriP+BFVc8mMOM/MdGur2a+4z96ofX613XlPyHDqV2zf+U/L5Lghy8F5j9O/VbH/j3mPx1lksteSuc/YqO2UcCd5z+ZEnktSRfoPxaQPxZ3I+k/KTvD9aRD6T/HjlGUB7bpP4ME4+WL6+o/yDv8P8uW6z92a0MMDrvrPyyu9FF73us/1mWTJFH97T9FpnlQG4juPwQwR4omAu8/uhMc+eQa7z8=\",\"dtype\":\"float64\",\"order\":\"little\",\"shape\":[100]},\"y\":{\"__ndarray__\":\"mzTvM4yt8L+hHUIlRsDYv4eDdf0xhuu/ox3Fpoan6b995V3Pud7wvySvihQjy+O//HebPAcE7L/oCAnmIp3qv2LFduUdCfG/yRDAANSK779YPiH0mffvv0L6Fmvyq/C/9PP6IaOE5r/ognkWJHDov3u0YeLJXfS/9Hfs8KIS67+Exf8iCoP0vzcjUOugXO2/ZfDUfMV18L+vgN8SwgvmvyK/B3preuO/wr22p3lx6b+uldjOWs7wv89Ny6owD+2/4OHW2oRG8b+TyI8PsrDuv10A2Ih5iea/RtmVdYOB779pc+OwEKrlv9C66FmATum/s2+bZ/QM4r8cKR7B1Onkv4lywrQK0/C/sJPHwQ8I57/vrzLblGnqv6g4KhGKuOO/sXATZ6XG3b//LfmGXx3cvyQZft/bTtm/omjrzn3z2L8dbvyTPNrWv101XbwQTMC/pyb7xlvX3r+NGwUoEO2kv138nYim9d6/z/QSY5l+xr+hlxeBLYa/P2ZzI8y3ldK/QKKNTFUUlD+ii/UpoV3Hv5YtbrArvsU/LKERJYdzjD+i4dmNWju7P27gZNTid44/jFfuPxFP2T8BcvK952nWP+lisjw4jd4/h3qUJrKq5D8OoSQGfOzjPyZ7zXDYXdc/oS6URN3E5T9MOqmzg3/mP7DR18tttfE/+gZjmqIZ4j9pak5o1t3xPxTTsNhZjvY/Z/nYYlnG8D8ufzc9JbDpP/4NtOTsm+I/u/9GPW/z8D/kOgozFL/yP6lh4+1NC+4/TkzDYmcJ7z9+sA2O8gnsP1zbUDtAs+g/1OGam2xs8z+TE5JxMfPyP0MrfvPlbPE//acJRTSW6z90vm3g7aXsP70Xwt6CzPE/gVUo5OAw8T9xO4C6i8zxP4EINILUwO8/GPOHJzqp8D+KsjgVCZPsP1ny6K47afM/4DSRWqf45z932hVY0jr0P9EJq/WhsvI/04Ywb+8Z6D8jVQw+ak/nP9qMC7uzFPM/CC18YVg87D9dktr2A//nP8fJCYLjDO4/MAcHnCHs3z/DFzo37PXoPwiQvbg2r9g/wDYLSaDA2z8=\",\"dtype\":\"float64\",\"order\":\"little\",\"shape\":[100]}},\"selected\":{\"id\":\"1158\"},\"selection_policy\":{\"id\":\"1157\"}},\"id\":\"1137\",\"type\":\"ColumnDataSource\"},{\"attributes\":{},\"id\":\"1155\",\"type\":\"BasicTickFormatter\"}],\"root_ids\":[\"1106\"]},\"title\":\"Bokeh Application\",\"version\":\"2.4.3\"}};\n",
       "  const render_items = [{\"docid\":\"c79a0df1-bfad-4ba1-8f28-837c06b9425d\",\"root_ids\":[\"1106\"],\"roots\":{\"1106\":\"3430c16f-11b7-43ea-904d-7b36ea92ac7e\"}}];\n",
       "  root.Bokeh.embed.embed_items_notebook(docs_json, render_items);\n",
       "  }\n",
       "  if (root.Bokeh !== undefined) {\n",
       "    embed_document(root);\n",
       "  } else {\n",
       "    let attempts = 0;\n",
       "    const timer = setInterval(function(root) {\n",
       "      if (root.Bokeh !== undefined) {\n",
       "        clearInterval(timer);\n",
       "        embed_document(root);\n",
       "      } else {\n",
       "        attempts++;\n",
       "        if (attempts > 100) {\n",
       "          clearInterval(timer);\n",
       "          console.log(\"Bokeh: ERROR: Unable to run BokehJS code because BokehJS library is missing\");\n",
       "        }\n",
       "      }\n",
       "    }, 10, root)\n",
       "  }\n",
       "})(window);"
      ],
      "application/vnd.bokehjs_exec.v0+json": ""
     },
     "metadata": {
      "application/vnd.bokehjs_exec.v0+json": {
       "id": "1106"
      }
     },
     "output_type": "display_data"
    }
   ],
   "source": [
    "p = figure(width = 500, height = 300)\n",
    "p.scatter(x= xi.flatten(), y= yi.flatten(), color = 'black', size = 6)\n",
    "p.line(x= xi, y =y_pred,  line_color = 'red', line_width = 6 , legend_label = 'Uniform Kernel', alpha = 0.5)\n",
    "p.line(x= xi, y =y_pred_NW,  line_color = 'blue', line_width = 1.5 , legend_label = 'Nadaraya–Watson Form')\n",
    "p.legend.location = \"top_left\"\n",
    "show(p)"
   ]
  },
  {
   "cell_type": "code",
   "execution_count": 8,
   "id": "d73c3f92",
   "metadata": {},
   "outputs": [
    {
     "data": {
      "text/plain": [
       "-0.11111796963636364"
      ]
     },
     "execution_count": 8,
     "metadata": {},
     "output_type": "execute_result"
    }
   ],
   "source": [
    "mo = uniform_kernel(xi, yi, 0, h = 0.1)\n",
    "mo"
   ]
  },
  {
   "cell_type": "markdown",
   "id": "785afd78",
   "metadata": {},
   "source": [
    "2) Write down an expression for and hence find the value of the bias of $\\hat m(0)$ if the\n",
    "true function $m(x)$ is linear with slope $1.2$"
   ]
  },
  {
   "cell_type": "markdown",
   "id": "502939c7",
   "metadata": {},
   "source": [
    "$$\\large (1) \\hspace{5 mm} E \\hat m(x) = m(x) + \\dfrac{\\Sigma_{|x-x_i|<h} (m(x_i) - m(x))}{\\Sigma_{|x-x_i|<h} 1}$$"
   ]
  },
  {
   "cell_type": "markdown",
   "id": "3f08fdec",
   "metadata": {},
   "source": [
    "Using a Taylor Expansion"
   ]
  },
  {
   "cell_type": "markdown",
   "id": "5b92bd20",
   "metadata": {},
   "source": [
    "$$\\large m(x_i) = m(x) + (x_i - x) m'(x) + \\dfrac{1}{2}(x_i - x)^2 m''(x) + o(h^2)$$"
   ]
  },
  {
   "cell_type": "markdown",
   "id": "0e42ac7a",
   "metadata": {},
   "source": [
    "Thus"
   ]
  },
  {
   "cell_type": "markdown",
   "id": "f3fb9779",
   "metadata": {},
   "source": [
    "$$\\large E \\hat m(x) - m(x) = $$"
   ]
  },
  {
   "cell_type": "markdown",
   "id": "a2865f83",
   "metadata": {},
   "source": [
    "$$\\large m'(x)\\dfrac{\\Sigma_{|x-x_i|<h} ( x_i - x)}{\\Sigma_{|x-x_i|<h} 1} +\n",
    "\\dfrac{1}{2}m''(x)\\dfrac{\\Sigma_{|x-x_i|<h} ( x_i - x)^2}{\\Sigma_{|x-x_i|<h} 1}\n",
    "$$"
   ]
  },
  {
   "cell_type": "markdown",
   "id": "914abd97",
   "metadata": {},
   "source": [
    "$$\\text{where} $$"
   ]
  },
  {
   "cell_type": "markdown",
   "id": "c5b48ff9",
   "metadata": {},
   "source": [
    "$$m'(x) = 1.2 \\\\\n",
    "m''(x) = 0\n",
    "$$"
   ]
  },
  {
   "cell_type": "markdown",
   "id": "a7fa2655",
   "metadata": {},
   "source": [
    "So"
   ]
  },
  {
   "cell_type": "markdown",
   "id": "2c264e0d",
   "metadata": {},
   "source": [
    "$$\\large (2) \\hspace{5 mm} E \\hat m(x) - m(x) = \\large 1.2\\dfrac{\\Sigma_{|x-x_i|<h} ( x_i - x)}{\\Sigma_{|x-x_i|<h} 1}$$"
   ]
  },
  {
   "cell_type": "markdown",
   "id": "451c7366",
   "metadata": {},
   "source": [
    "Using $(1)$"
   ]
  },
  {
   "cell_type": "code",
   "execution_count": 9,
   "id": "94c9a2cc",
   "metadata": {},
   "outputs": [
    {
     "name": "stdout",
     "output_type": "stream",
     "text": [
      "Bias = -0.030515620690909087\n"
     ]
    }
   ],
   "source": [
    "# Short function for clarity\n",
    "m = lambda x: 1.2*x\n",
    "\n",
    "h = 0.1\n",
    "x = 0\n",
    "# Nearest Neighbors - 1s and 0s\n",
    "t = abs(xi - x)     \n",
    "denominator = (t<=h).sum()\n",
    "\n",
    "# Apply weights\n",
    "numerator  = np.sum(np.where(t<=h, m(xi)- m(x) ,0)) \n",
    "\n",
    "bias = m(x) + (numerator/denominator)\n",
    "print('Bias =', bias)"
   ]
  },
  {
   "cell_type": "markdown",
   "id": "e0b32886",
   "metadata": {},
   "source": [
    "Using $(2)$"
   ]
  },
  {
   "cell_type": "code",
   "execution_count": 10,
   "id": "c8367d7b",
   "metadata": {},
   "outputs": [
    {
     "name": "stdout",
     "output_type": "stream",
     "text": [
      "Bias = -0.030515620690909087\n"
     ]
    }
   ],
   "source": [
    "h = 0.1\n",
    "x = 0\n",
    "# Nearest Neighbors - 1s and 0s\n",
    "t = abs(xi - x)     \n",
    "denominator = (t<=h).sum()\n",
    "\n",
    "# Apply weights\n",
    "numerator  = np.sum(np.where(t<=h, xi-x ,0)) \n",
    "\n",
    "bias = 1.2 *(numerator/denominator)\n",
    "print('Bias =', bias)"
   ]
  },
  {
   "cell_type": "markdown",
   "id": "6de8f3e9",
   "metadata": {},
   "source": [
    "3) What is the variance of $\\hat m(0)$? Leave your answer in terms of the unknown $\\sigma^2$"
   ]
  },
  {
   "cell_type": "markdown",
   "id": "17c48908",
   "metadata": {},
   "source": [
    "$$\\large Var \\hspace{1 mm} \\hat m(x)\\hspace{2 mm} = \\sigma ^2 \\Sigma_{i=1}^n \n",
    "w_{i,h}^2 (x)$$"
   ]
  },
  {
   "cell_type": "code",
   "execution_count": 11,
   "id": "9c59d4ae",
   "metadata": {},
   "outputs": [
    {
     "data": {
      "text/plain": [
       "0.09090909090909091"
      ]
     },
     "execution_count": 11,
     "metadata": {},
     "output_type": "execute_result"
    }
   ],
   "source": [
    "x = 0\n",
    "h = 0.1\n",
    "t = abs(xi - x)     \n",
    "n_neighbors = (t<=h).sum()\n",
    "\n",
    "# # Apply weights\n",
    "wi  = np.where(t<=h, 1/n_neighbors ,0)\n",
    "np.sum(wi**2)"
   ]
  },
  {
   "cell_type": "markdown",
   "id": "112eac64",
   "metadata": {},
   "source": [
    "$$\\large Var \\hspace{1 mm} \\hat m(x)\\hspace{2 mm} = 0.09090 \\cdot \\sigma ^2 $$"
   ]
  },
  {
   "cell_type": "markdown",
   "id": "86afd1a6",
   "metadata": {},
   "source": [
    "4) Without actually calculating the variance, write down an expression for estimating $\\sigma^2$"
   ]
  },
  {
   "cell_type": "markdown",
   "id": "26e2dfce",
   "metadata": {},
   "source": [
    "$$\\hat\\sigma ^2  = \\dfrac{\\Sigma_{i=1}^n (y_i - \\hat m(x_i))^2}{n-p} = \\dfrac{\\Sigma_{i=1}^n (y_i - \\hat m(x_i))^2}{n-1}\n",
    "$$"
   ]
  },
  {
   "cell_type": "markdown",
   "id": "f21edee1",
   "metadata": {},
   "source": [
    "$$\\text{where} $$"
   ]
  },
  {
   "cell_type": "markdown",
   "id": "aa627470",
   "metadata": {},
   "source": [
    "$$ p \\hspace{2 mm} \\text{is the number of parameters.} $$"
   ]
  },
  {
   "cell_type": "markdown",
   "id": "aaab011a",
   "metadata": {},
   "source": [
    "5) If the true value of $\\sigma$ is known to be 0.1, find the 95% confidence interval for\n",
    "the predictive value of $y$ at $x = 0$."
   ]
  },
  {
   "cell_type": "code",
   "execution_count": 12,
   "id": "ba0ef459",
   "metadata": {},
   "outputs": [],
   "source": [
    "z = 1.96\n",
    "sigma = 0.1"
   ]
  },
  {
   "cell_type": "code",
   "execution_count": 13,
   "id": "988af0b6",
   "metadata": {},
   "outputs": [
    {
     "data": {
      "text/plain": [
       "-0.11111796963636364"
      ]
     },
     "execution_count": 13,
     "metadata": {},
     "output_type": "execute_result"
    }
   ],
   "source": [
    "y_pred = uniform_kernel(xi, yi, 0, h = 0.1)\n",
    "y_pred"
   ]
  },
  {
   "cell_type": "code",
   "execution_count": 14,
   "id": "24176c2c",
   "metadata": {},
   "outputs": [],
   "source": [
    "variance_m_0 = 0.09090 * sigma**2"
   ]
  },
  {
   "cell_type": "code",
   "execution_count": 15,
   "id": "38177f3f",
   "metadata": {},
   "outputs": [
    {
     "data": {
      "text/plain": [
       "0.05909326865219083"
      ]
     },
     "execution_count": 15,
     "metadata": {},
     "output_type": "execute_result"
    }
   ],
   "source": [
    "CI_error = z * np.sqrt(variance_m_0)\n",
    "CI_error"
   ]
  },
  {
   "cell_type": "code",
   "execution_count": 16,
   "id": "b1794d7b",
   "metadata": {},
   "outputs": [
    {
     "name": "stdout",
     "output_type": "stream",
     "text": [
      "-0.052024700984172806 -0.17021123828855447\n"
     ]
    }
   ],
   "source": [
    "m_at_0_UP = y_pred + CI_error\n",
    "m_at_0_DO = y_pred - CI_error\n",
    "\n",
    "print(m_at_0_UP , m_at_0_DO)"
   ]
  },
  {
   "cell_type": "markdown",
   "id": "d03c7abd",
   "metadata": {},
   "source": [
    "$$ 95\\% \\hspace{2 mm} CI = (-0.0520 \\hspace{2 mm}\\text{to}\\hspace{2 mm} -0.17021) $$"
   ]
  },
  {
   "cell_type": "markdown",
   "id": "318d9885",
   "metadata": {},
   "source": [
    "# Problem 2"
   ]
  },
  {
   "cell_type": "code",
   "execution_count": 17,
   "id": "dd633f96",
   "metadata": {},
   "outputs": [],
   "source": [
    "df = pd.read_csv('data.csv')\n",
    "df.sort_values(by = 'x', inplace = True)\n",
    "xi = df.x.values\n",
    "yi = df.y.values"
   ]
  },
  {
   "cell_type": "markdown",
   "id": "6eed73c6",
   "metadata": {},
   "source": [
    "Splitting Function"
   ]
  },
  {
   "cell_type": "code",
   "execution_count": 18,
   "id": "472f7b6e",
   "metadata": {},
   "outputs": [],
   "source": [
    "def calculate_error(x, y, r):\n",
    "    \"\"\"\n",
    "    Partitions an array based on split term r and computes the error between\n",
    "    the two newly formed segments.  \n",
    "    \"\"\"\n",
    "    # Obtain Subsets\n",
    "    r_filter = x <= r\n",
    "    partition_1 = y[r_filter]\n",
    "    partition_2 = y[~r_filter]\n",
    "    \n",
    "    # Compute the average for each subset\n",
    "    m1_hat = np.mean(partition_1)\n",
    "    m2_hat = np.mean(partition_2)\n",
    "    T = np.sum((partition_1 - m1_hat)**2) + \\\n",
    "        np.sum((partition_2 - m2_hat)**2)\n",
    "    \n",
    "    return T, m1_hat, m2_hat\n",
    "\n",
    "def get_split_point(x, y):\n",
    "    \"\"\"Returns the split value and index in a segment that \n",
    "    minimizes the error. Splits segment in two.\n",
    "    \n",
    "    Examples:\n",
    "        y = np.array([0,0,0,0,0,0,0,3,3,3])\n",
    "        x = np.arange(0,len(y))\n",
    "        print(get_split_point(x,y))\n",
    "        >>> (6, 6)\n",
    "        \n",
    "        y = np.array([3,3,-4,-4,-4,-4,-4,-4,-4,-4])\n",
    "        print(get_split_point(x,y))\n",
    "        >>> (1,1))\n",
    "    \"\"\"\n",
    "\n",
    "    T_r = []\n",
    "    # Iterate over all possible partitions\n",
    "    for idx in range(len(x)):\n",
    "\n",
    "        # For each partition calculate error\n",
    "        T, _, _ =calculate_error(x, y, x[idx])        \n",
    "        T_r.append(T)\n",
    "        \n",
    "    T_r = np.array(T_r)\n",
    "    return x[np.argmin(T_r)]"
   ]
  },
  {
   "cell_type": "markdown",
   "id": "1976924c",
   "metadata": {},
   "source": [
    "Testing Splitting Function"
   ]
  },
  {
   "cell_type": "code",
   "execution_count": 19,
   "id": "a7cf2406",
   "metadata": {},
   "outputs": [
    {
     "name": "stderr",
     "output_type": "stream",
     "text": [
      "C:\\Users\\lpeve\\Documents\\LP_Repo\\ha-geotechnical-library\\venv\\lib\\site-packages\\numpy\\core\\fromnumeric.py:3474: RuntimeWarning: Mean of empty slice.\n",
      "  return _methods._mean(a, axis=axis, dtype=dtype,\n",
      "C:\\Users\\lpeve\\Documents\\LP_Repo\\ha-geotechnical-library\\venv\\lib\\site-packages\\numpy\\core\\_methods.py:189: RuntimeWarning: invalid value encountered in double_scalars\n",
      "  ret = ret.dtype.type(ret / rcount)\n"
     ]
    }
   ],
   "source": [
    "y = np.array([0,0,0,0,0,0,0,3,3,3])\n",
    "x = np.arange(0,len(y))\n",
    "assert get_split_point(x,y) == 6\n",
    "\n",
    "y = np.array([3,3,-4,-4,-4,-4,-4,-4,-4,-4])\n",
    "assert get_split_point(x,y) == 1"
   ]
  },
  {
   "cell_type": "markdown",
   "id": "80385a84",
   "metadata": {},
   "source": [
    "1) Find the optimal choice of r which minimizes the sum of square errors. Show\n",
    "your working and algorithm."
   ]
  },
  {
   "cell_type": "code",
   "execution_count": 20,
   "id": "dd26b193",
   "metadata": {
    "scrolled": true
   },
   "outputs": [
    {
     "name": "stdout",
     "output_type": "stream",
     "text": [
      "Optimal choice of r is 0.104154397\n"
     ]
    }
   ],
   "source": [
    "split_point = get_split_point(xi,yi)\n",
    "print('Optimal choice of r is', split_point)"
   ]
  },
  {
   "cell_type": "code",
   "execution_count": 21,
   "id": "9e3b1624",
   "metadata": {},
   "outputs": [
    {
     "data": {
      "text/html": [
       "\n",
       "  <div class=\"bk-root\" id=\"ee6eb240-dfd1-46e4-9f7b-be8668dd2ac3\" data-root-id=\"1287\"></div>\n"
      ]
     },
     "metadata": {},
     "output_type": "display_data"
    },
    {
     "data": {
      "application/javascript": [
       "(function(root) {\n",
       "  function embed_document(root) {\n",
       "  const docs_json = {\"be6f0713-d852-4f9b-aa1e-25b35dfb8bf7\":{\"defs\":[],\"roots\":{\"references\":[{\"attributes\":{\"below\":[{\"id\":\"1296\"}],\"center\":[{\"id\":\"1299\"},{\"id\":\"1303\"},{\"id\":\"1335\"}],\"height\":300,\"left\":[{\"id\":\"1300\"}],\"renderers\":[{\"id\":\"1322\"},{\"id\":\"1342\"}],\"title\":{\"id\":\"1324\"},\"toolbar\":{\"id\":\"1311\"},\"width\":500,\"x_range\":{\"id\":\"1288\"},\"x_scale\":{\"id\":\"1292\"},\"y_range\":{\"id\":\"1337\"},\"y_scale\":{\"id\":\"1294\"}},\"id\":\"1287\",\"subtype\":\"Figure\",\"type\":\"Plot\"},{\"attributes\":{},\"id\":\"1331\",\"type\":\"AllLabels\"},{\"attributes\":{\"label\":{\"value\":\"split_point\"},\"renderers\":[{\"id\":\"1342\"}]},\"id\":\"1357\",\"type\":\"LegendItem\"},{\"attributes\":{\"coordinates\":null,\"group\":null,\"items\":[{\"id\":\"1336\"},{\"id\":\"1357\"}],\"location\":\"top_left\"},\"id\":\"1335\",\"type\":\"Legend\"},{\"attributes\":{\"axis\":{\"id\":\"1296\"},\"coordinates\":null,\"group\":null,\"ticker\":null},\"id\":\"1299\",\"type\":\"Grid\"},{\"attributes\":{},\"id\":\"1294\",\"type\":\"LinearScale\"},{\"attributes\":{},\"id\":\"1309\",\"type\":\"HelpTool\"},{\"attributes\":{},\"id\":\"1297\",\"type\":\"BasicTicker\"},{\"attributes\":{\"label\":{\"value\":\"data\"},\"renderers\":[{\"id\":\"1322\"}]},\"id\":\"1336\",\"type\":\"LegendItem\"},{\"attributes\":{\"coordinates\":null,\"data_source\":{\"id\":\"1318\"},\"glyph\":{\"id\":\"1319\"},\"group\":null,\"hover_glyph\":null,\"muted_glyph\":{\"id\":\"1321\"},\"nonselection_glyph\":{\"id\":\"1320\"},\"view\":{\"id\":\"1323\"}},\"id\":\"1322\",\"type\":\"GlyphRenderer\"},{\"attributes\":{\"line_color\":\"navy\",\"x\":{\"value\":0.104154397},\"y\":{\"field\":\"y\"}},\"id\":\"1339\",\"type\":\"Line\"},{\"attributes\":{\"end\":1.5,\"start\":-1.5},\"id\":\"1337\",\"type\":\"Range1d\"},{\"attributes\":{},\"id\":\"1355\",\"type\":\"Selection\"},{\"attributes\":{},\"id\":\"1307\",\"type\":\"SaveTool\"},{\"attributes\":{\"tools\":[{\"id\":\"1304\"},{\"id\":\"1305\"},{\"id\":\"1306\"},{\"id\":\"1307\"},{\"id\":\"1308\"},{\"id\":\"1309\"}]},\"id\":\"1311\",\"type\":\"Toolbar\"},{\"attributes\":{\"coordinates\":null,\"formatter\":{\"id\":\"1327\"},\"group\":null,\"major_label_policy\":{\"id\":\"1328\"},\"ticker\":{\"id\":\"1301\"}},\"id\":\"1300\",\"type\":\"LinearAxis\"},{\"attributes\":{\"coordinates\":null,\"formatter\":{\"id\":\"1330\"},\"group\":null,\"major_label_policy\":{\"id\":\"1331\"},\"ticker\":{\"id\":\"1297\"}},\"id\":\"1296\",\"type\":\"LinearAxis\"},{\"attributes\":{\"overlay\":{\"id\":\"1310\"}},\"id\":\"1306\",\"type\":\"BoxZoomTool\"},{\"attributes\":{},\"id\":\"1292\",\"type\":\"LinearScale\"},{\"attributes\":{},\"id\":\"1301\",\"type\":\"BasicTicker\"},{\"attributes\":{},\"id\":\"1354\",\"type\":\"UnionRenderers\"},{\"attributes\":{},\"id\":\"1332\",\"type\":\"UnionRenderers\"},{\"attributes\":{\"source\":{\"id\":\"1318\"}},\"id\":\"1323\",\"type\":\"CDSView\"},{\"attributes\":{\"axis\":{\"id\":\"1300\"},\"coordinates\":null,\"dimension\":1,\"group\":null,\"ticker\":null},\"id\":\"1303\",\"type\":\"Grid\"},{\"attributes\":{\"data\":{\"x\":{\"__ndarray__\":\"tVJZKxIX778vFs2ddQrvv7eGCO72/+6/a2pkTeiy7r+LcA8Zwazuv80wuF2dEOy/R+C+9/8d6L8gpFiCTcznvz/UDmP4Nua/gIMAXVfT5L8FtwTMu7vkv81yGwVvBeS/69lftbOh47+rlvBb353jv6/KBEqqieO/adHxh1UC4r/I7yFsbrjhv88RZsvTWOG/Tp0wKYpc4L+H5ZcNp0bgvy0OUOK/FeC/ze634Ibk37+HlXnHA3PfvywsdgMem96/FSJFPJA33b9YxXkKSb7cv68B/f3jtty/DJPUAq6d3L+SMh6vhBHavyHxI2Uo+tm/o4f11FcI2b9Dh1atoFfYv6NgAMA1INi/+hv0csYa17+m2AvkXZ7VvxKeoLI5pdG/4DNtWoQd0L9KZbpyHtfMv912l0fbEcu/ZJf5JRrYyL86XYhog/LFv1rlsYK5v8K/vhlJQwzCuL/MaG/mE9a3v1MaimsX+7K/t6JO8oNwsr9nOMaXTkCwv6skCBBrFaO/h1dkBOxUm7/FdHKdfgSBv//RQduN5aE/19MyRcUnsj8tWDP91Q22P2t/2dDcqbo/aiiXwXZCwT8kYoxAo1HHP0+d0reIDM0/QcZGmiSIzT/RcrcjUMjNP6sXZ/9IAM4/dI7CdKiGzj9hReqWTRvSPzl+QFHtVNI/hsGATtZi0z+xteIO4HzVP5zX6ghmANc/RPQGwMFc2j/OxCPaVl/aP4Ha1c+OINs/D3J51OEG3D/sqJq7vljcP3Vdnwmyvdw/PlgIo0B83j+qq4mlS8bgP3tS0jUm0+A/ygHFDLDW4T+t2cDZijbiPwNJekaSWOI/h3i+e1TH4j8guWrbhvriP+BFVc8mMOM/MdGur2a+4z96ofX613XlPyHDqV2zf+U/L5Lghy8F5j9O/VbH/j3mPx1lksteSuc/YqO2UcCd5z+ZEnktSRfoPxaQPxZ3I+k/KTvD9aRD6T/HjlGUB7bpP4ME4+WL6+o/yDv8P8uW6z92a0MMDrvrPyyu9FF73us/1mWTJFH97T9FpnlQG4juPwQwR4omAu8/uhMc+eQa7z8=\",\"dtype\":\"float64\",\"order\":\"little\",\"shape\":[100]},\"y\":{\"__ndarray__\":\"mzTvM4yt8L+hHUIlRsDYv4eDdf0xhuu/ox3Fpoan6b995V3Pud7wvySvihQjy+O//HebPAcE7L/oCAnmIp3qv2LFduUdCfG/yRDAANSK779YPiH0mffvv0L6Fmvyq/C/9PP6IaOE5r/ognkWJHDov3u0YeLJXfS/9Hfs8KIS67+Exf8iCoP0vzcjUOugXO2/ZfDUfMV18L+vgN8SwgvmvyK/B3preuO/wr22p3lx6b+uldjOWs7wv89Ny6owD+2/4OHW2oRG8b+TyI8PsrDuv10A2Ih5iea/RtmVdYOB779pc+OwEKrlv9C66FmATum/s2+bZ/QM4r8cKR7B1Onkv4lywrQK0/C/sJPHwQ8I57/vrzLblGnqv6g4KhGKuOO/sXATZ6XG3b//LfmGXx3cvyQZft/bTtm/omjrzn3z2L8dbvyTPNrWv101XbwQTMC/pyb7xlvX3r+NGwUoEO2kv138nYim9d6/z/QSY5l+xr+hlxeBLYa/P2ZzI8y3ldK/QKKNTFUUlD+ii/UpoV3Hv5YtbrArvsU/LKERJYdzjD+i4dmNWju7P27gZNTid44/jFfuPxFP2T8BcvK952nWP+lisjw4jd4/h3qUJrKq5D8OoSQGfOzjPyZ7zXDYXdc/oS6URN3E5T9MOqmzg3/mP7DR18tttfE/+gZjmqIZ4j9pak5o1t3xPxTTsNhZjvY/Z/nYYlnG8D8ufzc9JbDpP/4NtOTsm+I/u/9GPW/z8D/kOgozFL/yP6lh4+1NC+4/TkzDYmcJ7z9+sA2O8gnsP1zbUDtAs+g/1OGam2xs8z+TE5JxMfPyP0MrfvPlbPE//acJRTSW6z90vm3g7aXsP70Xwt6CzPE/gVUo5OAw8T9xO4C6i8zxP4EINILUwO8/GPOHJzqp8D+KsjgVCZPsP1ny6K47afM/4DSRWqf45z932hVY0jr0P9EJq/WhsvI/04Ywb+8Z6D8jVQw+ak/nP9qMC7uzFPM/CC18YVg87D9dktr2A//nP8fJCYLjDO4/MAcHnCHs3z/DFzo37PXoPwiQvbg2r9g/wDYLSaDA2z8=\",\"dtype\":\"float64\",\"order\":\"little\",\"shape\":[100]}},\"selected\":{\"id\":\"1333\"},\"selection_policy\":{\"id\":\"1332\"}},\"id\":\"1318\",\"type\":\"ColumnDataSource\"},{\"attributes\":{},\"id\":\"1308\",\"type\":\"ResetTool\"},{\"attributes\":{\"coordinates\":null,\"data_source\":{\"id\":\"1338\"},\"glyph\":{\"id\":\"1339\"},\"group\":null,\"hover_glyph\":null,\"muted_glyph\":{\"id\":\"1341\"},\"nonselection_glyph\":{\"id\":\"1340\"},\"view\":{\"id\":\"1343\"}},\"id\":\"1342\",\"type\":\"GlyphRenderer\"},{\"attributes\":{},\"id\":\"1304\",\"type\":\"PanTool\"},{\"attributes\":{\"bottom_units\":\"screen\",\"coordinates\":null,\"fill_alpha\":0.5,\"fill_color\":\"lightgrey\",\"group\":null,\"left_units\":\"screen\",\"level\":\"overlay\",\"line_alpha\":1.0,\"line_color\":\"black\",\"line_dash\":[4,4],\"line_width\":2,\"right_units\":\"screen\",\"syncable\":false,\"top_units\":\"screen\"},\"id\":\"1310\",\"type\":\"BoxAnnotation\"},{\"attributes\":{},\"id\":\"1305\",\"type\":\"WheelZoomTool\"},{\"attributes\":{},\"id\":\"1330\",\"type\":\"BasicTickFormatter\"},{\"attributes\":{\"fill_color\":{\"value\":\"black\"},\"size\":{\"value\":6},\"x\":{\"field\":\"x\"},\"y\":{\"field\":\"y\"}},\"id\":\"1319\",\"type\":\"Scatter\"},{\"attributes\":{},\"id\":\"1333\",\"type\":\"Selection\"},{\"attributes\":{\"fill_alpha\":{\"value\":0.2},\"fill_color\":{\"value\":\"black\"},\"hatch_alpha\":{\"value\":0.2},\"line_alpha\":{\"value\":0.2},\"size\":{\"value\":6},\"x\":{\"field\":\"x\"},\"y\":{\"field\":\"y\"}},\"id\":\"1321\",\"type\":\"Scatter\"},{\"attributes\":{},\"id\":\"1328\",\"type\":\"AllLabels\"},{\"attributes\":{\"source\":{\"id\":\"1338\"}},\"id\":\"1343\",\"type\":\"CDSView\"},{\"attributes\":{\"data\":{\"y\":[-10,10]},\"selected\":{\"id\":\"1355\"},\"selection_policy\":{\"id\":\"1354\"}},\"id\":\"1338\",\"type\":\"ColumnDataSource\"},{\"attributes\":{},\"id\":\"1327\",\"type\":\"BasicTickFormatter\"},{\"attributes\":{\"fill_alpha\":{\"value\":0.1},\"fill_color\":{\"value\":\"black\"},\"hatch_alpha\":{\"value\":0.1},\"line_alpha\":{\"value\":0.1},\"size\":{\"value\":6},\"x\":{\"field\":\"x\"},\"y\":{\"field\":\"y\"}},\"id\":\"1320\",\"type\":\"Scatter\"},{\"attributes\":{\"coordinates\":null,\"group\":null},\"id\":\"1324\",\"type\":\"Title\"},{\"attributes\":{},\"id\":\"1288\",\"type\":\"DataRange1d\"},{\"attributes\":{\"line_alpha\":0.2,\"line_color\":\"navy\",\"x\":{\"value\":0.104154397},\"y\":{\"field\":\"y\"}},\"id\":\"1341\",\"type\":\"Line\"},{\"attributes\":{\"line_alpha\":0.1,\"line_color\":\"navy\",\"x\":{\"value\":0.104154397},\"y\":{\"field\":\"y\"}},\"id\":\"1340\",\"type\":\"Line\"}],\"root_ids\":[\"1287\"]},\"title\":\"Bokeh Application\",\"version\":\"2.4.3\"}};\n",
       "  const render_items = [{\"docid\":\"be6f0713-d852-4f9b-aa1e-25b35dfb8bf7\",\"root_ids\":[\"1287\"],\"roots\":{\"1287\":\"ee6eb240-dfd1-46e4-9f7b-be8668dd2ac3\"}}];\n",
       "  root.Bokeh.embed.embed_items_notebook(docs_json, render_items);\n",
       "  }\n",
       "  if (root.Bokeh !== undefined) {\n",
       "    embed_document(root);\n",
       "  } else {\n",
       "    let attempts = 0;\n",
       "    const timer = setInterval(function(root) {\n",
       "      if (root.Bokeh !== undefined) {\n",
       "        clearInterval(timer);\n",
       "        embed_document(root);\n",
       "      } else {\n",
       "        attempts++;\n",
       "        if (attempts > 100) {\n",
       "          clearInterval(timer);\n",
       "          console.log(\"Bokeh: ERROR: Unable to run BokehJS code because BokehJS library is missing\");\n",
       "        }\n",
       "      }\n",
       "    }, 10, root)\n",
       "  }\n",
       "})(window);"
      ],
      "application/vnd.bokehjs_exec.v0+json": ""
     },
     "metadata": {
      "application/vnd.bokehjs_exec.v0+json": {
       "id": "1287"
      }
     },
     "output_type": "display_data"
    }
   ],
   "source": [
    "p = figure(width = 500, height = 300)\n",
    "p.scatter(x= xi, y= yi, color = 'black', size = 6,legend_label = 'data')\n",
    "p.legend.location = 'top_left'\n",
    "p.y_range = ranges.Range1d(start = -1.5, end = 1.5)\n",
    "p.line(x = split_point, y = [-10,10], color = 'navy', legend_label = 'split_point' )\n",
    "show(p)"
   ]
  },
  {
   "cell_type": "markdown",
   "id": "33e278b2",
   "metadata": {},
   "source": [
    "2) What is your result from (1)? State your optimal choice of r and $\\hat m(x)$ function."
   ]
  },
  {
   "cell_type": "code",
   "execution_count": 22,
   "id": "9c05b2ae",
   "metadata": {},
   "outputs": [
    {
     "data": {
      "text/plain": [
       "53"
      ]
     },
     "execution_count": 22,
     "metadata": {},
     "output_type": "execute_result"
    }
   ],
   "source": [
    "abs(xi - split_point).argmin()"
   ]
  },
  {
   "cell_type": "code",
   "execution_count": 23,
   "id": "6867e248",
   "metadata": {},
   "outputs": [
    {
     "name": "stdout",
     "output_type": "stream",
     "text": [
      "Optimal choice of r is 0.104154397\n"
     ]
    }
   ],
   "source": [
    "print('Optimal choice of r is', split_point)"
   ]
  },
  {
   "cell_type": "code",
   "execution_count": 24,
   "id": "f878f77b",
   "metadata": {},
   "outputs": [
    {
     "name": "stdout",
     "output_type": "stream",
     "text": [
      "m1_j: -0.6377018859259259\n",
      "m2_j: 0.8667163272608694\n"
     ]
    }
   ],
   "source": [
    "T, m1_hat, m2_hat = calculate_error(xi, yi, split_point)\n",
    "print('m1_j:', m1_hat)\n",
    "print('m2_j:', m2_hat)"
   ]
  },
  {
   "cell_type": "markdown",
   "id": "c6cda855",
   "metadata": {},
   "source": [
    "\\begin{align}\n",
    "\\hat m(x) &= \\begin{cases}\n",
    "-0.63770,  \\text{ if } x  \\leq r \\\\\n",
    "0.86671,  \\text{ if } x > r\n",
    "\\end{cases} \\\\\n",
    "\\\\\n",
    "&= \\begin{cases}\n",
    "-0.63770,  \\text{ if } x  \\leq 0.10415 \\\\\n",
    "0.86671,  \\text{ if } x > 0.10415\n",
    "\\end{cases}\n",
    "\\end{align}"
   ]
  },
  {
   "cell_type": "markdown",
   "id": "cbbd68bb",
   "metadata": {},
   "source": [
    "3) What is the predictive value for the y corresponding to x = 0.5?"
   ]
  },
  {
   "cell_type": "markdown",
   "id": "6fd80ce9",
   "metadata": {},
   "source": [
    "$$\\hat m(0.5) = 0.86671 $$"
   ]
  },
  {
   "cell_type": "markdown",
   "id": "69aca48d",
   "metadata": {},
   "source": [
    "4) Using the non-parametric bootstrap, find an estimator for the variance of $\\hat m(0.5)$.\n",
    "Provide all your working."
   ]
  },
  {
   "cell_type": "code",
   "execution_count": 25,
   "id": "ece21330",
   "metadata": {},
   "outputs": [],
   "source": [
    "m1_hat = []\n",
    "m2_hat = []\n",
    "m_at_05 = []\n",
    "for _ in range(1000):\n",
    "    \n",
    "    # Sample with replacement 100 (x,y) pairs\n",
    "    idx = np.random.choice(len(df), size=100, replace=True)\n",
    "    x_arr = xi[idx]\n",
    "    y_arr = yi[idx]    \n",
    "        \n",
    "    r_iter = get_split_point(x_arr, y_arr)\n",
    "    T, m1_iter, m2_iter = calculate_error(x_arr, y_arr, r_iter)\n",
    "    m1_hat.append(m1_iter)\n",
    "    m2_hat.append(m2_iter)\n",
    "    if 0.5 > r_iter:\n",
    "        m_at_05.append(m2_iter)\n",
    "    else:\n",
    "        m_at_05.append(m1_iter)"
   ]
  },
  {
   "cell_type": "code",
   "execution_count": 26,
   "id": "814a9ea8",
   "metadata": {},
   "outputs": [],
   "source": [
    "def plot_hist(x, name, label_position):\n",
    "    plt.hist(x, bins=12, color='c', edgecolor='k', alpha=0.65)\n",
    "    plt.axvline(x.mean(), color='k', linestyle='dashed', linewidth=1)\n",
    "    min_ylim, max_ylim = plt.ylim()\n",
    "    plt.text(label_position, max_ylim*0.9, 'Mean: {:.4f}'.format(x.mean()))\n",
    "    plt.xlabel(name); # plt.xlim(0.90,1.05); \n",
    "    plt.show()"
   ]
  },
  {
   "cell_type": "code",
   "execution_count": 27,
   "id": "9099bb37",
   "metadata": {},
   "outputs": [
    {
     "data": {
      "image/png": "[encoded data removed]",
      "text/plain": [
       "<Figure size 432x288 with 1 Axes>"
      ]
     },
     "metadata": {
      "needs_background": "light"
     },
     "output_type": "display_data"
    },
    {
     "data": {
      "image/png": "[encoded data removed]",
      "text/plain": [
       "<Figure size 432x288 with 1 Axes>"
      ]
     },
     "metadata": {
      "needs_background": "light"
     },
     "output_type": "display_data"
    }
   ],
   "source": [
    "plot_hist(np.array(m1_hat), 'm1_hat', -0.55)\n",
    "plot_hist(np.array(m2_hat), 'm2_hat', 0.9)"
   ]
  },
  {
   "cell_type": "code",
   "execution_count": 28,
   "id": "a881f9ad",
   "metadata": {},
   "outputs": [
    {
     "name": "stdout",
     "output_type": "stream",
     "text": [
      "Variance m1_hat: 0.005165883125231743\n",
      "Variance m2_hat: 0.004495251994253141\n",
      "Variance m_hat_05: 0.004495251994253141\n"
     ]
    }
   ],
   "source": [
    "print('Variance m1_hat:' ,np.array(m1_hat).var(ddof = 1))\n",
    "print('Variance m2_hat:' ,np.array(m2_hat).var(ddof = 1))\n",
    "print('Variance m_hat_05:' ,np.array(m_at_05).var(ddof = 1))"
   ]
  },
  {
   "cell_type": "markdown",
   "id": "069f7460",
   "metadata": {},
   "source": [
    "$$Var \\hspace{2 mm} \\hat m(0.5) = Var \\hspace{2 mm} \\hat m_1  = 0.00457$$"
   ]
  },
  {
   "cell_type": "markdown",
   "id": "bd805772",
   "metadata": {},
   "source": [
    "5) Using the answer to part (4), construct a 95% confidence interval for $\\hat m(0.5)$."
   ]
  },
  {
   "cell_type": "code",
   "execution_count": 29,
   "id": "524953ed",
   "metadata": {},
   "outputs": [
    {
     "data": {
      "text/plain": [
       "0.836214403837277"
      ]
     },
     "execution_count": 29,
     "metadata": {},
     "output_type": "execute_result"
    }
   ],
   "source": [
    "y_pred = np.mean(np.array(m_at_05))\n",
    "y_pred"
   ]
  },
  {
   "cell_type": "code",
   "execution_count": 30,
   "id": "b7434c0a",
   "metadata": {},
   "outputs": [
    {
     "data": {
      "text/plain": [
       "0.13141141526185185"
      ]
     },
     "execution_count": 30,
     "metadata": {},
     "output_type": "execute_result"
    }
   ],
   "source": [
    "CI_error = 1.96 * np.std( np.array(m_at_05), ddof = 1)\n",
    "CI_error"
   ]
  },
  {
   "cell_type": "code",
   "execution_count": 31,
   "id": "5a07db40",
   "metadata": {},
   "outputs": [
    {
     "name": "stdout",
     "output_type": "stream",
     "text": [
      "0.9676258190991288 0.7048029885754251\n"
     ]
    }
   ],
   "source": [
    "m_at_05_UP = y_pred + CI_error\n",
    "m_at_05_DO = y_pred - CI_error\n",
    "\n",
    "print(m_at_05_UP , m_at_05_DO)"
   ]
  },
  {
   "cell_type": "markdown",
   "id": "431b2a49",
   "metadata": {},
   "source": [
    "$$ 95\\% \\hspace{2 mm} CI = (0.69736 \\hspace{2 mm}\\text{to}\\hspace{2 mm} 0.96260) $$"
   ]
  }
 ],
 "metadata": {
  "kernelspec": {
   "display_name": "LR",
   "language": "python",
   "name": "lr"
  },
  "language_info": {
   "codemirror_mode": {
    "name": "ipython",
    "version": 3
   },
   "file_extension": ".py",
   "mimetype": "text/x-python",
   "name": "python",
   "nbconvert_exporter": "python",
   "pygments_lexer": "ipython3",
   "version": "3.10.2"
  }
 },
 "nbformat": 4,
 "nbformat_minor": 5
}
