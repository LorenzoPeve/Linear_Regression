{
 "cells": [
  {
   "cell_type": "code",
   "execution_count": 1,
   "id": "ba8551fd",
   "metadata": {},
   "outputs": [
    {
     "data": {
      "text/html": [
       "<div class=\"bk-root\">\n",
       "        <a href=\"https://bokeh.org\" target=\"_blank\" class=\"bk-logo bk-logo-small bk-logo-notebook\"></a>\n",
       "        <span id=\"1002\">Loading BokehJS ...</span>\n",
       "    </div>\n"
      ]
     },
     "metadata": {},
     "output_type": "display_data"
    },
    {
     "data": {
      "application/javascript": [
       "(function(root) {\n",
       "  function now() {\n",
       "    return new Date();\n",
       "  }\n",
       "\n",
       "  const force = true;\n",
       "\n",
       "  if (typeof root._bokeh_onload_callbacks === \"undefined\" || force === true) {\n",
       "    root._bokeh_onload_callbacks = [];\n",
       "    root._bokeh_is_loading = undefined;\n",
       "  }\n",
       "\n",
       "const JS_MIME_TYPE = 'application/javascript';\n",
       "  const HTML_MIME_TYPE = 'text/html';\n",
       "  const EXEC_MIME_TYPE = 'application/vnd.bokehjs_exec.v0+json';\n",
       "  const CLASS_NAME = 'output_bokeh rendered_html';\n",
       "\n",
       "  /**\n",
       "   * Render data to the DOM node\n",
       "   */\n",
       "  function render(props, node) {\n",
       "    const script = document.createElement(\"script\");\n",
       "    node.appendChild(script);\n",
       "  }\n",
       "\n",
       "  /**\n",
       "   * Handle when an output is cleared or removed\n",
       "   */\n",
       "  function handleClearOutput(event, handle) {\n",
       "    const cell = handle.cell;\n",
       "\n",
       "    const id = cell.output_area._bokeh_element_id;\n",
       "    const server_id = cell.output_area._bokeh_server_id;\n",
       "    // Clean up Bokeh references\n",
       "    if (id != null && id in Bokeh.index) {\n",
       "      Bokeh.index[id].model.document.clear();\n",
       "      delete Bokeh.index[id];\n",
       "    }\n",
       "\n",
       "    if (server_id !== undefined) {\n",
       "      // Clean up Bokeh references\n",
       "      const cmd_clean = \"from bokeh.io.state import curstate; print(curstate().uuid_to_server['\" + server_id + \"'].get_sessions()[0].document.roots[0]._id)\";\n",
       "      cell.notebook.kernel.execute(cmd_clean, {\n",
       "        iopub: {\n",
       "          output: function(msg) {\n",
       "            const id = msg.content.text.trim();\n",
       "            if (id in Bokeh.index) {\n",
       "              Bokeh.index[id].model.document.clear();\n",
       "              delete Bokeh.index[id];\n",
       "            }\n",
       "          }\n",
       "        }\n",
       "      });\n",
       "      // Destroy server and session\n",
       "      const cmd_destroy = \"import bokeh.io.notebook as ion; ion.destroy_server('\" + server_id + \"')\";\n",
       "      cell.notebook.kernel.execute(cmd_destroy);\n",
       "    }\n",
       "  }\n",
       "\n",
       "  /**\n",
       "   * Handle when a new output is added\n",
       "   */\n",
       "  function handleAddOutput(event, handle) {\n",
       "    const output_area = handle.output_area;\n",
       "    const output = handle.output;\n",
       "\n",
       "    // limit handleAddOutput to display_data with EXEC_MIME_TYPE content only\n",
       "    if ((output.output_type != \"display_data\") || (!Object.prototype.hasOwnProperty.call(output.data, EXEC_MIME_TYPE))) {\n",
       "      return\n",
       "    }\n",
       "\n",
       "    const toinsert = output_area.element.find(\".\" + CLASS_NAME.split(' ')[0]);\n",
       "\n",
       "    if (output.metadata[EXEC_MIME_TYPE][\"id\"] !== undefined) {\n",
       "      toinsert[toinsert.length - 1].firstChild.textContent = output.data[JS_MIME_TYPE];\n",
       "      // store reference to embed id on output_area\n",
       "      output_area._bokeh_element_id = output.metadata[EXEC_MIME_TYPE][\"id\"];\n",
       "    }\n",
       "    if (output.metadata[EXEC_MIME_TYPE][\"server_id\"] !== undefined) {\n",
       "      const bk_div = document.createElement(\"div\");\n",
       "      bk_div.innerHTML = output.data[HTML_MIME_TYPE];\n",
       "      const script_attrs = bk_div.children[0].attributes;\n",
       "      for (let i = 0; i < script_attrs.length; i++) {\n",
       "        toinsert[toinsert.length - 1].firstChild.setAttribute(script_attrs[i].name, script_attrs[i].value);\n",
       "        toinsert[toinsert.length - 1].firstChild.textContent = bk_div.children[0].textContent\n",
       "      }\n",
       "      // store reference to server id on output_area\n",
       "      output_area._bokeh_server_id = output.metadata[EXEC_MIME_TYPE][\"server_id\"];\n",
       "    }\n",
       "  }\n",
       "\n",
       "  function register_renderer(events, OutputArea) {\n",
       "\n",
       "    function append_mime(data, metadata, element) {\n",
       "      // create a DOM node to render to\n",
       "      const toinsert = this.create_output_subarea(\n",
       "        metadata,\n",
       "        CLASS_NAME,\n",
       "        EXEC_MIME_TYPE\n",
       "      );\n",
       "      this.keyboard_manager.register_events(toinsert);\n",
       "      // Render to node\n",
       "      const props = {data: data, metadata: metadata[EXEC_MIME_TYPE]};\n",
       "      render(props, toinsert[toinsert.length - 1]);\n",
       "      element.append(toinsert);\n",
       "      return toinsert\n",
       "    }\n",
       "\n",
       "    /* Handle when an output is cleared or removed */\n",
       "    events.on('clear_output.CodeCell', handleClearOutput);\n",
       "    events.on('delete.Cell', handleClearOutput);\n",
       "\n",
       "    /* Handle when a new output is added */\n",
       "    events.on('output_added.OutputArea', handleAddOutput);\n",
       "\n",
       "    /**\n",
       "     * Register the mime type and append_mime function with output_area\n",
       "     */\n",
       "    OutputArea.prototype.register_mime_type(EXEC_MIME_TYPE, append_mime, {\n",
       "      /* Is output safe? */\n",
       "      safe: true,\n",
       "      /* Index of renderer in `output_area.display_order` */\n",
       "      index: 0\n",
       "    });\n",
       "  }\n",
       "\n",
       "  // register the mime type if in Jupyter Notebook environment and previously unregistered\n",
       "  if (root.Jupyter !== undefined) {\n",
       "    const events = require('base/js/events');\n",
       "    const OutputArea = require('notebook/js/outputarea').OutputArea;\n",
       "\n",
       "    if (OutputArea.prototype.mime_types().indexOf(EXEC_MIME_TYPE) == -1) {\n",
       "      register_renderer(events, OutputArea);\n",
       "    }\n",
       "  }\n",
       "  if (typeof (root._bokeh_timeout) === \"undefined\" || force === true) {\n",
       "    root._bokeh_timeout = Date.now() + 5000;\n",
       "    root._bokeh_failed_load = false;\n",
       "  }\n",
       "\n",
       "  const NB_LOAD_WARNING = {'data': {'text/html':\n",
       "     \"<div style='background-color: #fdd'>\\n\"+\n",
       "     \"<p>\\n\"+\n",
       "     \"BokehJS does not appear to have successfully loaded. If loading BokehJS from CDN, this \\n\"+\n",
       "     \"may be due to a slow or bad network connection. Possible fixes:\\n\"+\n",
       "     \"</p>\\n\"+\n",
       "     \"<ul>\\n\"+\n",
       "     \"<li>re-rerun `output_notebook()` to attempt to load from CDN again, or</li>\\n\"+\n",
       "     \"<li>use INLINE resources instead, as so:</li>\\n\"+\n",
       "     \"</ul>\\n\"+\n",
       "     \"<code>\\n\"+\n",
       "     \"from bokeh.resources import INLINE\\n\"+\n",
       "     \"output_notebook(resources=INLINE)\\n\"+\n",
       "     \"</code>\\n\"+\n",
       "     \"</div>\"}};\n",
       "\n",
       "  function display_loaded() {\n",
       "    const el = document.getElementById(\"1002\");\n",
       "    if (el != null) {\n",
       "      el.textContent = \"BokehJS is loading...\";\n",
       "    }\n",
       "    if (root.Bokeh !== undefined) {\n",
       "      if (el != null) {\n",
       "        el.textContent = \"BokehJS \" + root.Bokeh.version + \" successfully loaded.\";\n",
       "      }\n",
       "    } else if (Date.now() < root._bokeh_timeout) {\n",
       "      setTimeout(display_loaded, 100)\n",
       "    }\n",
       "  }\n",
       "\n",
       "  function run_callbacks() {\n",
       "    try {\n",
       "      root._bokeh_onload_callbacks.forEach(function(callback) {\n",
       "        if (callback != null)\n",
       "          callback();\n",
       "      });\n",
       "    } finally {\n",
       "      delete root._bokeh_onload_callbacks\n",
       "    }\n",
       "    console.debug(\"Bokeh: all callbacks have finished\");\n",
       "  }\n",
       "\n",
       "  function load_libs(css_urls, js_urls, callback) {\n",
       "    if (css_urls == null) css_urls = [];\n",
       "    if (js_urls == null) js_urls = [];\n",
       "\n",
       "    root._bokeh_onload_callbacks.push(callback);\n",
       "    if (root._bokeh_is_loading > 0) {\n",
       "      console.debug(\"Bokeh: BokehJS is being loaded, scheduling callback at\", now());\n",
       "      return null;\n",
       "    }\n",
       "    if (js_urls == null || js_urls.length === 0) {\n",
       "      run_callbacks();\n",
       "      return null;\n",
       "    }\n",
       "    console.debug(\"Bokeh: BokehJS not loaded, scheduling load and callback at\", now());\n",
       "    root._bokeh_is_loading = css_urls.length + js_urls.length;\n",
       "\n",
       "    function on_load() {\n",
       "      root._bokeh_is_loading--;\n",
       "      if (root._bokeh_is_loading === 0) {\n",
       "        console.debug(\"Bokeh: all BokehJS libraries/stylesheets loaded\");\n",
       "        run_callbacks()\n",
       "      }\n",
       "    }\n",
       "\n",
       "    function on_error(url) {\n",
       "      console.error(\"failed to load \" + url);\n",
       "    }\n",
       "\n",
       "    for (let i = 0; i < css_urls.length; i++) {\n",
       "      const url = css_urls[i];\n",
       "      const element = document.createElement(\"link\");\n",
       "      element.onload = on_load;\n",
       "      element.onerror = on_error.bind(null, url);\n",
       "      element.rel = \"stylesheet\";\n",
       "      element.type = \"text/css\";\n",
       "      element.href = url;\n",
       "      console.debug(\"Bokeh: injecting link tag for BokehJS stylesheet: \", url);\n",
       "      document.body.appendChild(element);\n",
       "    }\n",
       "\n",
       "    for (let i = 0; i < js_urls.length; i++) {\n",
       "      const url = js_urls[i];\n",
       "      const element = document.createElement('script');\n",
       "      element.onload = on_load;\n",
       "      element.onerror = on_error.bind(null, url);\n",
       "      element.async = false;\n",
       "      element.src = url;\n",
       "      console.debug(\"Bokeh: injecting script tag for BokehJS library: \", url);\n",
       "      document.head.appendChild(element);\n",
       "    }\n",
       "  };\n",
       "\n",
       "  function inject_raw_css(css) {\n",
       "    const element = document.createElement(\"style\");\n",
       "    element.appendChild(document.createTextNode(css));\n",
       "    document.body.appendChild(element);\n",
       "  }\n",
       "\n",
       "  const js_urls = [\"https://cdn.bokeh.org/bokeh/release/bokeh-2.4.3.min.js\", \"https://cdn.bokeh.org/bokeh/release/bokeh-gl-2.4.3.min.js\", \"https://cdn.bokeh.org/bokeh/release/bokeh-widgets-2.4.3.min.js\", \"https://cdn.bokeh.org/bokeh/release/bokeh-tables-2.4.3.min.js\", \"https://cdn.bokeh.org/bokeh/release/bokeh-mathjax-2.4.3.min.js\"];\n",
       "  const css_urls = [];\n",
       "\n",
       "  const inline_js = [    function(Bokeh) {\n",
       "      Bokeh.set_log_level(\"info\");\n",
       "    },\n",
       "function(Bokeh) {\n",
       "    }\n",
       "  ];\n",
       "\n",
       "  function run_inline_js() {\n",
       "    if (root.Bokeh !== undefined || force === true) {\n",
       "          for (let i = 0; i < inline_js.length; i++) {\n",
       "      inline_js[i].call(root, root.Bokeh);\n",
       "    }\n",
       "if (force === true) {\n",
       "        display_loaded();\n",
       "      }} else if (Date.now() < root._bokeh_timeout) {\n",
       "      setTimeout(run_inline_js, 100);\n",
       "    } else if (!root._bokeh_failed_load) {\n",
       "      console.log(\"Bokeh: BokehJS failed to load within specified timeout.\");\n",
       "      root._bokeh_failed_load = true;\n",
       "    } else if (force !== true) {\n",
       "      const cell = $(document.getElementById(\"1002\")).parents('.cell').data().cell;\n",
       "      cell.output_area.append_execute_result(NB_LOAD_WARNING)\n",
       "    }\n",
       "  }\n",
       "\n",
       "  if (root._bokeh_is_loading === 0) {\n",
       "    console.debug(\"Bokeh: BokehJS loaded, going straight to plotting\");\n",
       "    run_inline_js();\n",
       "  } else {\n",
       "    load_libs(css_urls, js_urls, function() {\n",
       "      console.debug(\"Bokeh: BokehJS plotting callback run at\", now());\n",
       "      run_inline_js();\n",
       "    });\n",
       "  }\n",
       "}(window));"
      ],
      "application/vnd.bokehjs_load.v0+json": "(function(root) {\n  function now() {\n    return new Date();\n  }\n\n  const force = true;\n\n  if (typeof root._bokeh_onload_callbacks === \"undefined\" || force === true) {\n    root._bokeh_onload_callbacks = [];\n    root._bokeh_is_loading = undefined;\n  }\n\n\n  if (typeof (root._bokeh_timeout) === \"undefined\" || force === true) {\n    root._bokeh_timeout = Date.now() + 5000;\n    root._bokeh_failed_load = false;\n  }\n\n  const NB_LOAD_WARNING = {'data': {'text/html':\n     \"<div style='background-color: #fdd'>\\n\"+\n     \"<p>\\n\"+\n     \"BokehJS does not appear to have successfully loaded. If loading BokehJS from CDN, this \\n\"+\n     \"may be due to a slow or bad network connection. Possible fixes:\\n\"+\n     \"</p>\\n\"+\n     \"<ul>\\n\"+\n     \"<li>re-rerun `output_notebook()` to attempt to load from CDN again, or</li>\\n\"+\n     \"<li>use INLINE resources instead, as so:</li>\\n\"+\n     \"</ul>\\n\"+\n     \"<code>\\n\"+\n     \"from bokeh.resources import INLINE\\n\"+\n     \"output_notebook(resources=INLINE)\\n\"+\n     \"</code>\\n\"+\n     \"</div>\"}};\n\n  function display_loaded() {\n    const el = document.getElementById(\"1002\");\n    if (el != null) {\n      el.textContent = \"BokehJS is loading...\";\n    }\n    if (root.Bokeh !== undefined) {\n      if (el != null) {\n        el.textContent = \"BokehJS \" + root.Bokeh.version + \" successfully loaded.\";\n      }\n    } else if (Date.now() < root._bokeh_timeout) {\n      setTimeout(display_loaded, 100)\n    }\n  }\n\n  function run_callbacks() {\n    try {\n      root._bokeh_onload_callbacks.forEach(function(callback) {\n        if (callback != null)\n          callback();\n      });\n    } finally {\n      delete root._bokeh_onload_callbacks\n    }\n    console.debug(\"Bokeh: all callbacks have finished\");\n  }\n\n  function load_libs(css_urls, js_urls, callback) {\n    if (css_urls == null) css_urls = [];\n    if (js_urls == null) js_urls = [];\n\n    root._bokeh_onload_callbacks.push(callback);\n    if (root._bokeh_is_loading > 0) {\n      console.debug(\"Bokeh: BokehJS is being loaded, scheduling callback at\", now());\n      return null;\n    }\n    if (js_urls == null || js_urls.length === 0) {\n      run_callbacks();\n      return null;\n    }\n    console.debug(\"Bokeh: BokehJS not loaded, scheduling load and callback at\", now());\n    root._bokeh_is_loading = css_urls.length + js_urls.length;\n\n    function on_load() {\n      root._bokeh_is_loading--;\n      if (root._bokeh_is_loading === 0) {\n        console.debug(\"Bokeh: all BokehJS libraries/stylesheets loaded\");\n        run_callbacks()\n      }\n    }\n\n    function on_error(url) {\n      console.error(\"failed to load \" + url);\n    }\n\n    for (let i = 0; i < css_urls.length; i++) {\n      const url = css_urls[i];\n      const element = document.createElement(\"link\");\n      element.onload = on_load;\n      element.onerror = on_error.bind(null, url);\n      element.rel = \"stylesheet\";\n      element.type = \"text/css\";\n      element.href = url;\n      console.debug(\"Bokeh: injecting link tag for BokehJS stylesheet: \", url);\n      document.body.appendChild(element);\n    }\n\n    for (let i = 0; i < js_urls.length; i++) {\n      const url = js_urls[i];\n      const element = document.createElement('script');\n      element.onload = on_load;\n      element.onerror = on_error.bind(null, url);\n      element.async = false;\n      element.src = url;\n      console.debug(\"Bokeh: injecting script tag for BokehJS library: \", url);\n      document.head.appendChild(element);\n    }\n  };\n\n  function inject_raw_css(css) {\n    const element = document.createElement(\"style\");\n    element.appendChild(document.createTextNode(css));\n    document.body.appendChild(element);\n  }\n\n  const js_urls = [\"https://cdn.bokeh.org/bokeh/release/bokeh-2.4.3.min.js\", \"https://cdn.bokeh.org/bokeh/release/bokeh-gl-2.4.3.min.js\", \"https://cdn.bokeh.org/bokeh/release/bokeh-widgets-2.4.3.min.js\", \"https://cdn.bokeh.org/bokeh/release/bokeh-tables-2.4.3.min.js\", \"https://cdn.bokeh.org/bokeh/release/bokeh-mathjax-2.4.3.min.js\"];\n  const css_urls = [];\n\n  const inline_js = [    function(Bokeh) {\n      Bokeh.set_log_level(\"info\");\n    },\nfunction(Bokeh) {\n    }\n  ];\n\n  function run_inline_js() {\n    if (root.Bokeh !== undefined || force === true) {\n          for (let i = 0; i < inline_js.length; i++) {\n      inline_js[i].call(root, root.Bokeh);\n    }\nif (force === true) {\n        display_loaded();\n      }} else if (Date.now() < root._bokeh_timeout) {\n      setTimeout(run_inline_js, 100);\n    } else if (!root._bokeh_failed_load) {\n      console.log(\"Bokeh: BokehJS failed to load within specified timeout.\");\n      root._bokeh_failed_load = true;\n    } else if (force !== true) {\n      const cell = $(document.getElementById(\"1002\")).parents('.cell').data().cell;\n      cell.output_area.append_execute_result(NB_LOAD_WARNING)\n    }\n  }\n\n  if (root._bokeh_is_loading === 0) {\n    console.debug(\"Bokeh: BokehJS loaded, going straight to plotting\");\n    run_inline_js();\n  } else {\n    load_libs(css_urls, js_urls, function() {\n      console.debug(\"Bokeh: BokehJS plotting callback run at\", now());\n      run_inline_js();\n    });\n  }\n}(window));"
     },
     "metadata": {},
     "output_type": "display_data"
    }
   ],
   "source": [
    "import math\n",
    "import numpy as np\n",
    "import pandas as pd\n",
    "\n",
    "import bokeh\n",
    "from bokeh.plotting import figure, show\n",
    "from bokeh.io import output_notebook\n",
    "output_notebook()"
   ]
  },
  {
   "cell_type": "code",
   "execution_count": 2,
   "id": "8980cca2",
   "metadata": {},
   "outputs": [
    {
     "data": {
      "text/plain": [
       "(100, 1)"
      ]
     },
     "execution_count": 2,
     "metadata": {},
     "output_type": "execute_result"
    }
   ],
   "source": [
    "n = 100\n",
    "xi = np.array([i/n for i in range(1,n+1)]).reshape(n,-1)\n",
    "xi.shape"
   ]
  },
  {
   "cell_type": "code",
   "execution_count": 3,
   "id": "120a46a2",
   "metadata": {},
   "outputs": [
    {
     "data": {
      "text/plain": [
       "(100, 1)"
      ]
     },
     "execution_count": 3,
     "metadata": {},
     "output_type": "execute_result"
    }
   ],
   "source": [
    "yi = np.sin(2 * math.pi * xi) + 0.1 * np.random.normal(size = (n,1))\n",
    "yi.shape"
   ]
  },
  {
   "cell_type": "markdown",
   "id": "bece3316",
   "metadata": {},
   "source": [
    "Create  $\\phi_j (x) = x^j$ for $ K = 1,2,3$"
   ]
  },
  {
   "cell_type": "code",
   "execution_count": 4,
   "id": "7fdf212a",
   "metadata": {},
   "outputs": [
    {
     "name": "stdout",
     "output_type": "stream",
     "text": [
      "[[ -0.22025386]\n",
      " [ 12.00959465]\n",
      " [-34.82344291]\n",
      " [ 23.2511863 ]]\n"
     ]
    },
    {
     "data": {
      "text/html": [
       "\n",
       "  <div class=\"bk-root\" id=\"21983a7b-5714-4d94-8baa-72628780d02e\" data-root-id=\"1003\"></div>\n"
      ]
     },
     "metadata": {},
     "output_type": "display_data"
    },
    {
     "data": {
      "application/javascript": [
       "(function(root) {\n",
       "  function embed_document(root) {\n",
       "  const docs_json = {\"7b89b1af-d5d3-436b-98f1-ba8d8988493f\":{\"defs\":[],\"roots\":{\"references\":[{\"attributes\":{\"below\":[{\"id\":\"1012\"}],\"center\":[{\"id\":\"1015\"},{\"id\":\"1019\"},{\"id\":\"1059\"}],\"height\":300,\"left\":[{\"id\":\"1016\"}],\"renderers\":[{\"id\":\"1038\"},{\"id\":\"1044\"}],\"title\":{\"id\":\"1046\"},\"toolbar\":{\"id\":\"1027\"},\"width\":500,\"x_range\":{\"id\":\"1004\"},\"x_scale\":{\"id\":\"1008\"},\"y_range\":{\"id\":\"1006\"},\"y_scale\":{\"id\":\"1010\"}},\"id\":\"1003\",\"subtype\":\"Figure\",\"type\":\"Plot\"},{\"attributes\":{},\"id\":\"1053\",\"type\":\"AllLabels\"},{\"attributes\":{},\"id\":\"1017\",\"type\":\"BasicTicker\"},{\"attributes\":{},\"id\":\"1050\",\"type\":\"AllLabels\"},{\"attributes\":{},\"id\":\"1021\",\"type\":\"WheelZoomTool\"},{\"attributes\":{\"overlay\":{\"id\":\"1026\"}},\"id\":\"1022\",\"type\":\"BoxZoomTool\"},{\"attributes\":{},\"id\":\"1052\",\"type\":\"BasicTickFormatter\"},{\"attributes\":{\"tools\":[{\"id\":\"1020\"},{\"id\":\"1021\"},{\"id\":\"1022\"},{\"id\":\"1023\"},{\"id\":\"1024\"},{\"id\":\"1025\"}]},\"id\":\"1027\",\"type\":\"Toolbar\"},{\"attributes\":{},\"id\":\"1020\",\"type\":\"PanTool\"},{\"attributes\":{\"data\":{\"x\":{\"__ndarray__\":\"exSuR+F6hD97FK5H4XqUP7gehetRuJ4/exSuR+F6pD+amZmZmZmpP7gehetRuK4/7FG4HoXrsT97FK5H4Xq0PwrXo3A9Crc/mpmZmZmZuT8pXI/C9Si8P7gehetRuL4/pHA9CtejwD/sUbgehevBPzMzMzMzM8M/exSuR+F6xD/D9Shcj8LFPwrXo3A9Csc/UrgehetRyD+amZmZmZnJP+F6FK5H4co/KVyPwvUozD9xPQrXo3DNP7gehetRuM4/AAAAAAAA0D+kcD0K16PQP0jhehSuR9E/7FG4HoXr0T+PwvUoXI/SPzMzMzMzM9M/16NwPQrX0z97FK5H4XrUPx+F61G4HtU/w/UoXI/C1T9mZmZmZmbWPwrXo3A9Ctc/rkfhehSu1z9SuB6F61HYP/YoXI/C9dg/mpmZmZmZ2T89CtejcD3aP+F6FK5H4do/hetRuB6F2z8pXI/C9SjcP83MzMzMzNw/cT0K16Nw3T8UrkfhehTeP7gehetRuN4/XI/C9Shc3z8AAAAAAADgP1K4HoXrUeA/pHA9Ctej4D/2KFyPwvXgP0jhehSuR+E/mpmZmZmZ4T/sUbgehevhPz0K16NwPeI/j8L1KFyP4j/hehSuR+HiPzMzMzMzM+M/hetRuB6F4z/Xo3A9CtfjPylcj8L1KOQ/exSuR+F65D/NzMzMzMzkPx+F61G4HuU/cT0K16Nw5T/D9Shcj8LlPxSuR+F6FOY/ZmZmZmZm5j+4HoXrUbjmPwrXo3A9Cuc/XI/C9Shc5z+uR+F6FK7nPwAAAAAAAOg/UrgehetR6D+kcD0K16PoP/YoXI/C9eg/SOF6FK5H6T+amZmZmZnpP+xRuB6F6+k/PQrXo3A96j+PwvUoXI/qP+F6FK5H4eo/MzMzMzMz6z+F61G4HoXrP9ejcD0K1+s/KVyPwvUo7D97FK5H4XrsP83MzMzMzOw/H4XrUbge7T9xPQrXo3DtP8P1KFyPwu0/FK5H4XoU7j9mZmZmZmbuP7gehetRuO4/CtejcD0K7z9cj8L1KFzvP65H4XoUru8/AAAAAAAA8D8=\",\"dtype\":\"float64\",\"order\":\"little\",\"shape\":[100]},\"y\":{\"__ndarray__\":\"cqlQ686mnT+AcjghWo6cv55WPXTOs9c/XXD4nhO41D+sd2oyYvLHP4iej1kQz84/6fMi2fll1j/ofDXveGLgP9IvefWN/+I/QmfS6P+64D9q7FxoQEPkP5MIYcTq1ug/8ILJfIdz6j9LB4tCJKzlP3TSM171Q+Y/j/iCUlaB8D+pCA5ndKLuP4RD0Wl15+w/0wFAhj7y7j8VO9mCePXoP6GIm+5ZI+o/SpzQgABu7j8Fm/TxZQvxP2hoEt4UVvA/Gl9x9S7M5z+1NcWrMdjxP6bYSxk/LfE/veJKkR0N8T/klPo4cCrxP3REQ+wb4Ow/1UsH0FXV7D+qZHSwEUXsP6RSyWAX/es/uteOfDJ18D/NlKrIda7mPxZVvxfZROU/VZqe2Ze65z9inKlb/6LjP2tKM5mBneI/AXHgmbHk5D/lM1AY8hXcP9YJ01h/ed4/hl99a3qm4D/zGtW3+xraP9jEnReLK7a/pGYePPRmsT/41w9ado7LPwIZGVocSaw/lA1lhh5asz8ceDTwvXKnv8CwrRhfJcC/MkDG9AH60L/yXwLUUBnHv0zAiPzddK6/HpsGZAY8y7/k26p/XTPcv3ojOsUGzd+/AlbLMEZH2r8LYLJF8rzkv3uZxcZCaee/Mm4sXU6u6L8QYHesBtrfvwa5nbrNA+e/bnWRRLB75b+YxNcmrYPnv6YYoX3cQe6/53iXKyBy7b+sK48VUy3tv2pnBG86K/C/4XICaTEq7b8KKPCC4drwv0d+VmksGvC/+LvEvOZf7b/iUpTD3fPvv4LRmFmLK/G/mJIcOiuE77+Ud+DJ08jsv8gNhFzwN+u/LJi/8jiL8b8DzmcFk8PsvzLh2HDjZ+q/TqWad3YG67+aZ+3Af9nrv5C1ljb2o+y/6giaAk/c678YG2qN1ALov0zyMfn67+i/egXpIzD9378gazOYf0rjv5Uk2qgkSd2/hmfYUMBU6r9vTGn+l9Pjv0rP4HY/A96/BbCaZuMSwb8Jc9tRrg7Uv0tZgI5Qgta/WxQuDJqNx7/IzmsB0LvGvz6awUpEt5+/SvAFuJGyxD8=\",\"dtype\":\"float64\",\"order\":\"little\",\"shape\":[100]}},\"selected\":{\"id\":\"1055\"},\"selection_policy\":{\"id\":\"1054\"}},\"id\":\"1034\",\"type\":\"ColumnDataSource\"},{\"attributes\":{\"line_alpha\":0.2,\"line_color\":\"red\",\"line_width\":1.5,\"x\":{\"field\":\"x\"},\"y\":{\"field\":\"y\"}},\"id\":\"1043\",\"type\":\"Line\"},{\"attributes\":{\"source\":{\"id\":\"1034\"}},\"id\":\"1039\",\"type\":\"CDSView\"},{\"attributes\":{\"coordinates\":null,\"data_source\":{\"id\":\"1040\"},\"glyph\":{\"id\":\"1041\"},\"group\":null,\"hover_glyph\":null,\"muted_glyph\":{\"id\":\"1043\"},\"nonselection_glyph\":{\"id\":\"1042\"},\"view\":{\"id\":\"1045\"}},\"id\":\"1044\",\"type\":\"GlyphRenderer\"},{\"attributes\":{\"fill_alpha\":{\"value\":0.2},\"fill_color\":{\"value\":\"black\"},\"hatch_alpha\":{\"value\":0.2},\"line_alpha\":{\"value\":0.2},\"size\":{\"value\":6},\"x\":{\"field\":\"x\"},\"y\":{\"field\":\"y\"}},\"id\":\"1037\",\"type\":\"Scatter\"},{\"attributes\":{},\"id\":\"1006\",\"type\":\"DataRange1d\"},{\"attributes\":{\"coordinates\":null,\"group\":null,\"items\":[{\"id\":\"1060\"}]},\"id\":\"1059\",\"type\":\"Legend\"},{\"attributes\":{},\"id\":\"1024\",\"type\":\"ResetTool\"},{\"attributes\":{},\"id\":\"1025\",\"type\":\"HelpTool\"},{\"attributes\":{\"coordinates\":null,\"formatter\":{\"id\":\"1049\"},\"group\":null,\"major_label_policy\":{\"id\":\"1050\"},\"ticker\":{\"id\":\"1017\"}},\"id\":\"1016\",\"type\":\"LinearAxis\"},{\"attributes\":{},\"id\":\"1023\",\"type\":\"SaveTool\"},{\"attributes\":{\"data\":{\"x\":{\"__ndarray__\":\"exSuR+F6hD97FK5H4XqUP7gehetRuJ4/exSuR+F6pD+amZmZmZmpP7gehetRuK4/7FG4HoXrsT97FK5H4Xq0PwrXo3A9Crc/mpmZmZmZuT8pXI/C9Si8P7gehetRuL4/pHA9CtejwD/sUbgehevBPzMzMzMzM8M/exSuR+F6xD/D9Shcj8LFPwrXo3A9Csc/UrgehetRyD+amZmZmZnJP+F6FK5H4co/KVyPwvUozD9xPQrXo3DNP7gehetRuM4/AAAAAAAA0D+kcD0K16PQP0jhehSuR9E/7FG4HoXr0T+PwvUoXI/SPzMzMzMzM9M/16NwPQrX0z97FK5H4XrUPx+F61G4HtU/w/UoXI/C1T9mZmZmZmbWPwrXo3A9Ctc/rkfhehSu1z9SuB6F61HYP/YoXI/C9dg/mpmZmZmZ2T89CtejcD3aP+F6FK5H4do/hetRuB6F2z8pXI/C9SjcP83MzMzMzNw/cT0K16Nw3T8UrkfhehTeP7gehetRuN4/XI/C9Shc3z8AAAAAAADgP1K4HoXrUeA/pHA9Ctej4D/2KFyPwvXgP0jhehSuR+E/mpmZmZmZ4T/sUbgehevhPz0K16NwPeI/j8L1KFyP4j/hehSuR+HiPzMzMzMzM+M/hetRuB6F4z/Xo3A9CtfjPylcj8L1KOQ/exSuR+F65D/NzMzMzMzkPx+F61G4HuU/cT0K16Nw5T/D9Shcj8LlPxSuR+F6FOY/ZmZmZmZm5j+4HoXrUbjmPwrXo3A9Cuc/XI/C9Shc5z+uR+F6FK7nPwAAAAAAAOg/UrgehetR6D+kcD0K16PoP/YoXI/C9eg/SOF6FK5H6T+amZmZmZnpP+xRuB6F6+k/PQrXo3A96j+PwvUoXI/qP+F6FK5H4eo/MzMzMzMz6z+F61G4HoXrP9ejcD0K1+s/KVyPwvUo7D97FK5H4XrsP83MzMzMzOw/H4XrUbge7T9xPQrXo3DtP8P1KFyPwu0/FK5H4XoU7j9mZmZmZmbuP7gehetRuO4/CtejcD0K7z9cj8L1KFzvP65H4XoUru8/AAAAAAAA8D8=\",\"dtype\":\"float64\",\"order\":\"little\",\"shape\":[100]},\"y\":{\"__ndarray__\":\"3YVi56SGur8gKL3Bk195P4BG7l5w/Ls/KH/LhfJayj+KCCbz3vLSP4v2HEuWUdg/qRNrbehL3T/0dFg+D/LgP6+Bx81ADuM/CPVSdq375D8GFEvJebvmP7AjAFjKTug/DGnCs8O26T8iKeJtivTqP/SorxdDCew/hi17QhL27D/s+5R/HLztPxxZTWCGXO4/IIr0dXTY7j8I1NpRCzHvP857UIVvZ+8/gsalocV87z8k+So4MnLvP7xYMNrZSO8/TCoGGeEB7z/ksvyFbJ7uP4Q3ZLKgH+4/MP2ML6KG7T/oSMeOldTsP8RfY2GfCuw/xIaxOOQp6z/gAgKmiDPqPzAZpTqxKOk/uA7rh4IK6D94KCQfIdrmP3CroJGxmOU/uNywcFhH5D9AAaVNOufiPxhezbl7eeE/oHD0jIL+3z/QqfcJX/PcP9DxRA3W09k/oNJ8uTCi1j9Q1j8xuGDTP/CGLpe1EdA/AN3SG+RuyT8gLiJwbajCPwArGOEyqbc/AJ5Gienfoz8AjMBU142Ov4DMF6K3krG/gLpZ19xJv7/A2e3/AnfGv0DHjUgHO82/AMklgDT20b8AE/PwSkPVv6A3DtR9gti/YKzWBoSx27+g56tmFM7ev6Cvdujy6uC/kER9kVdj4r+wbRmdE8/jv+Dl+nkCLeW/EGjRlv975r9wr0xi5rrnv8B2HEuS6Oi/IHnwv94D6r9gcXgvpwvrv6AaZAjH/uu/4C9juRnc7L8AbCWxeqLtvwCKWl7FUO6/wESyL9Xl7r+AV9yThWDvvyB9iPmxv++/IDiz5xoB8L8w9hJCdhPwvyBWO8NYFvC/YDWEIjAJ8L8A44ou1Nbvv+DPrbHoeO+/YOwgPXn37r+A85M/YVHuvyCgtid8he2/YK04ZKWS7L9A1sljuHfrv8DVGZWQM+q/gGbYZgnF6L/AQ7VH/irnv6AoYKZKZOW/oM+I8clv479g9N6XV0zhvwCjJBCe8d2/gEOlYRfo2L8AQZ8B0nnTvwAh5JoJScu/AKT0iZqXvb8A8P/Dy3WHvwDSF4m0cbk/AH6qAmrJyz8=\",\"dtype\":\"float64\",\"order\":\"little\",\"shape\":[100]}},\"selected\":{\"id\":\"1057\"},\"selection_policy\":{\"id\":\"1056\"}},\"id\":\"1040\",\"type\":\"ColumnDataSource\"},{\"attributes\":{\"fill_alpha\":{\"value\":0.1},\"fill_color\":{\"value\":\"black\"},\"hatch_alpha\":{\"value\":0.1},\"line_alpha\":{\"value\":0.1},\"size\":{\"value\":6},\"x\":{\"field\":\"x\"},\"y\":{\"field\":\"y\"}},\"id\":\"1036\",\"type\":\"Scatter\"},{\"attributes\":{},\"id\":\"1055\",\"type\":\"Selection\"},{\"attributes\":{\"line_alpha\":0.1,\"line_color\":\"red\",\"line_width\":1.5,\"x\":{\"field\":\"x\"},\"y\":{\"field\":\"y\"}},\"id\":\"1042\",\"type\":\"Line\"},{\"attributes\":{\"axis\":{\"id\":\"1012\"},\"coordinates\":null,\"group\":null,\"ticker\":null},\"id\":\"1015\",\"type\":\"Grid\"},{\"attributes\":{\"coordinates\":null,\"group\":null},\"id\":\"1046\",\"type\":\"Title\"},{\"attributes\":{\"coordinates\":null,\"data_source\":{\"id\":\"1034\"},\"glyph\":{\"id\":\"1035\"},\"group\":null,\"hover_glyph\":null,\"muted_glyph\":{\"id\":\"1037\"},\"nonselection_glyph\":{\"id\":\"1036\"},\"view\":{\"id\":\"1039\"}},\"id\":\"1038\",\"type\":\"GlyphRenderer\"},{\"attributes\":{},\"id\":\"1054\",\"type\":\"UnionRenderers\"},{\"attributes\":{\"source\":{\"id\":\"1040\"}},\"id\":\"1045\",\"type\":\"CDSView\"},{\"attributes\":{},\"id\":\"1057\",\"type\":\"Selection\"},{\"attributes\":{\"bottom_units\":\"screen\",\"coordinates\":null,\"fill_alpha\":0.5,\"fill_color\":\"lightgrey\",\"group\":null,\"left_units\":\"screen\",\"level\":\"overlay\",\"line_alpha\":1.0,\"line_color\":\"black\",\"line_dash\":[4,4],\"line_width\":2,\"right_units\":\"screen\",\"syncable\":false,\"top_units\":\"screen\"},\"id\":\"1026\",\"type\":\"BoxAnnotation\"},{\"attributes\":{\"label\":{\"value\":\"y_hat\"},\"renderers\":[{\"id\":\"1044\"}]},\"id\":\"1060\",\"type\":\"LegendItem\"},{\"attributes\":{\"axis\":{\"id\":\"1016\"},\"coordinates\":null,\"dimension\":1,\"group\":null,\"ticker\":null},\"id\":\"1019\",\"type\":\"Grid\"},{\"attributes\":{},\"id\":\"1013\",\"type\":\"BasicTicker\"},{\"attributes\":{\"line_color\":\"red\",\"line_width\":1.5,\"x\":{\"field\":\"x\"},\"y\":{\"field\":\"y\"}},\"id\":\"1041\",\"type\":\"Line\"},{\"attributes\":{},\"id\":\"1049\",\"type\":\"BasicTickFormatter\"},{\"attributes\":{\"coordinates\":null,\"formatter\":{\"id\":\"1052\"},\"group\":null,\"major_label_policy\":{\"id\":\"1053\"},\"ticker\":{\"id\":\"1013\"}},\"id\":\"1012\",\"type\":\"LinearAxis\"},{\"attributes\":{\"fill_color\":{\"value\":\"black\"},\"size\":{\"value\":6},\"x\":{\"field\":\"x\"},\"y\":{\"field\":\"y\"}},\"id\":\"1035\",\"type\":\"Scatter\"},{\"attributes\":{},\"id\":\"1056\",\"type\":\"UnionRenderers\"},{\"attributes\":{},\"id\":\"1008\",\"type\":\"LinearScale\"},{\"attributes\":{},\"id\":\"1010\",\"type\":\"LinearScale\"},{\"attributes\":{},\"id\":\"1004\",\"type\":\"DataRange1d\"}],\"root_ids\":[\"1003\"]},\"title\":\"Bokeh Application\",\"version\":\"2.4.3\"}};\n",
       "  const render_items = [{\"docid\":\"7b89b1af-d5d3-436b-98f1-ba8d8988493f\",\"root_ids\":[\"1003\"],\"roots\":{\"1003\":\"21983a7b-5714-4d94-8baa-72628780d02e\"}}];\n",
       "  root.Bokeh.embed.embed_items_notebook(docs_json, render_items);\n",
       "  }\n",
       "  if (root.Bokeh !== undefined) {\n",
       "    embed_document(root);\n",
       "  } else {\n",
       "    let attempts = 0;\n",
       "    const timer = setInterval(function(root) {\n",
       "      if (root.Bokeh !== undefined) {\n",
       "        clearInterval(timer);\n",
       "        embed_document(root);\n",
       "      } else {\n",
       "        attempts++;\n",
       "        if (attempts > 100) {\n",
       "          clearInterval(timer);\n",
       "          console.log(\"Bokeh: ERROR: Unable to run BokehJS code because BokehJS library is missing\");\n",
       "        }\n",
       "      }\n",
       "    }, 10, root)\n",
       "  }\n",
       "})(window);"
      ],
      "application/vnd.bokehjs_exec.v0+json": ""
     },
     "metadata": {
      "application/vnd.bokehjs_exec.v0+json": {
       "id": "1003"
      }
     },
     "output_type": "display_data"
    }
   ],
   "source": [
    "X = np.concatenate((np.ones(shape=(n,1)), xi, xi**2, xi**3), axis =1)\n",
    "B_hat = np.linalg.inv(X.T @ X) @ X.T @ yi\n",
    "print(B_hat)\n",
    "y_predicted = X @ B_hat\n",
    "\n",
    "p = figure(width = 500, height = 300)\n",
    "p.scatter(x= xi.flatten(), y= yi.flatten(), color = 'black', size = 6)\n",
    "\n",
    "p.line(x= xi.flatten(), y = y_predicted.flatten(),  line_color = 'red', \n",
    "      legend_label = 'y_hat', line_width = 1.5 )\n",
    "\n",
    "show(p)"
   ]
  },
  {
   "cell_type": "markdown",
   "id": "7c5df260",
   "metadata": {},
   "source": [
    "### Polynomials are not the fastest shifting objects"
   ]
  },
  {
   "cell_type": "markdown",
   "id": "83d07fe4",
   "metadata": {},
   "source": [
    "#### Case 1"
   ]
  },
  {
   "cell_type": "code",
   "execution_count": 5,
   "id": "34d9c0fd",
   "metadata": {},
   "outputs": [
    {
     "data": {
      "text/html": [
       "\n",
       "  <div class=\"bk-root\" id=\"2b973c3d-f983-4220-9f73-8fd061c3a330\" data-root-id=\"1139\"></div>\n"
      ]
     },
     "metadata": {},
     "output_type": "display_data"
    },
    {
     "data": {
      "application/javascript": [
       "(function(root) {\n",
       "  function embed_document(root) {\n",
       "  const docs_json = {\"fac88fa2-102d-4339-8d01-1a6010d3ae9b\":{\"defs\":[],\"roots\":{\"references\":[{\"attributes\":{\"below\":[{\"id\":\"1148\"}],\"center\":[{\"id\":\"1151\"},{\"id\":\"1155\"},{\"id\":\"1195\"}],\"height\":300,\"left\":[{\"id\":\"1152\"}],\"renderers\":[{\"id\":\"1174\"},{\"id\":\"1180\"}],\"title\":{\"id\":\"1182\"},\"toolbar\":{\"id\":\"1163\"},\"width\":500,\"x_range\":{\"id\":\"1140\"},\"x_scale\":{\"id\":\"1144\"},\"y_range\":{\"id\":\"1142\"},\"y_scale\":{\"id\":\"1146\"}},\"id\":\"1139\",\"subtype\":\"Figure\",\"type\":\"Plot\"},{\"attributes\":{\"coordinates\":null,\"group\":null,\"items\":[{\"id\":\"1196\"}]},\"id\":\"1195\",\"type\":\"Legend\"},{\"attributes\":{\"data\":{\"x\":{\"__ndarray__\":\"exSuR+F6hD97FK5H4XqUP7gehetRuJ4/exSuR+F6pD+amZmZmZmpP7gehetRuK4/7FG4HoXrsT97FK5H4Xq0PwrXo3A9Crc/mpmZmZmZuT8pXI/C9Si8P7gehetRuL4/pHA9CtejwD/sUbgehevBPzMzMzMzM8M/exSuR+F6xD/D9Shcj8LFPwrXo3A9Csc/UrgehetRyD+amZmZmZnJP+F6FK5H4co/KVyPwvUozD9xPQrXo3DNP7gehetRuM4/AAAAAAAA0D+kcD0K16PQP0jhehSuR9E/7FG4HoXr0T+PwvUoXI/SPzMzMzMzM9M/16NwPQrX0z97FK5H4XrUPx+F61G4HtU/w/UoXI/C1T9mZmZmZmbWPwrXo3A9Ctc/rkfhehSu1z9SuB6F61HYP/YoXI/C9dg/mpmZmZmZ2T89CtejcD3aP+F6FK5H4do/hetRuB6F2z8pXI/C9SjcP83MzMzMzNw/cT0K16Nw3T8UrkfhehTeP7gehetRuN4/XI/C9Shc3z8AAAAAAADgP1K4HoXrUeA/pHA9Ctej4D/2KFyPwvXgP0jhehSuR+E/mpmZmZmZ4T/sUbgehevhPz0K16NwPeI/j8L1KFyP4j/hehSuR+HiPzMzMzMzM+M/hetRuB6F4z/Xo3A9CtfjPylcj8L1KOQ/exSuR+F65D/NzMzMzMzkPx+F61G4HuU/cT0K16Nw5T/D9Shcj8LlPxSuR+F6FOY/ZmZmZmZm5j+4HoXrUbjmPwrXo3A9Cuc/XI/C9Shc5z+uR+F6FK7nPwAAAAAAAOg/UrgehetR6D+kcD0K16PoP/YoXI/C9eg/SOF6FK5H6T+amZmZmZnpP+xRuB6F6+k/PQrXo3A96j+PwvUoXI/qP+F6FK5H4eo/MzMzMzMz6z+F61G4HoXrP9ejcD0K1+s/KVyPwvUo7D97FK5H4XrsP83MzMzMzOw/H4XrUbge7T9xPQrXo3DtP8P1KFyPwu0/FK5H4XoU7j9mZmZmZmbuP7gehetRuO4/CtejcD0K7z9cj8L1KFzvP65H4XoUru8/AAAAAAAA8D8=\",\"dtype\":\"float64\",\"order\":\"little\",\"shape\":[100]},\"y\":{\"__ndarray__\":\"Gpmfp6T/vL9rMYPGUlTBvxkNEK+OjKE/GNEIPlBLo796kRKQWX7KP8KZRGD2z7O/g4UzwpMvoT/d/BtzAiC0v9ekXg9TGIg/lsiFCOiRoz+VAhdrQzS0P6/7FE7cJ7M/GPiNgYo3x7+dKrz/mrCxvyaylWbl9sc/jHq5RPEhvT+7SKZKv5VmPwzLpcHYrqc/eLGIEIHbrj/UszVFBXaIv9Kv0y108qO/9qZ7BQOOsD+KDIjPzUumP3StlpKXsLW/AjHOGtsTgb90iq0ThMzBv2LzUFF0op0/2ZgyqGUYwj8VNkzD7jWLP4gULhlktqg/6z8B4tdbgT9iDRKXACDEv8LUhE3BSXk/refDR2nntD+BPNOg/W+wPxkaiwAavrY/Xs9kjtaVrb8P8w40kWamP1dxtASRebk/B+I2HTcxtT8nORIPbpK4v5wjqcn7+qy/5nnvdI+L0T+r7PX5h+agPxrN+y988cs/dj4sIp371T8x+j2Ur7jcP25MjCvm7eQ/6GusFnAT8T8CSaXglhvwP/bY+gsya+w/mEqlBeqs6D+lW0VtBSXbP4gb3DR5Vck/IDD3ZQbni79durgbwlKav9cSqFHohKC/cfNpV4cFur8pxppq32fBv1zARvzBurU/clzxc2Qrkr9S40KmkFLCP82zedAWl7M/PlG5bUoEqT827XDRwHq7v4qQUDzhhrC/KnZ2QvVxsr8PWvIIlOayvyGeIcE7zL0/8OLVk9GTqj/Qo05712mpPyhrUEZOZ5e/g0LXDfVFoD9nIGVt0AyoPzjA5DtF87e/581uVBcHrz8jLlQaKf+Tv/gFc6uZC7A/LLowJ8W3oT+8j7FVc32xv1C+VPTBmLk/FXewC0rIoD+H2NrDkNTHP9ejF6y8MLA/p+SYsRETvL/sEoU6DLaQvx2m/B2Oy7C/uNdKh8Fndb/0nL/FQDKev3WgWmuogsk/CMKoYurZnT/YVQnJdoayv6+LaFjxWae/R0kZGZZVdD/HZjEa4Y/FPxRQ9C3V7b2/epLTkIWztT+PKcxS0EyVP9qdrnbRgas/uqvhUHJHmb8=\",\"dtype\":\"float64\",\"order\":\"little\",\"shape\":[100]}},\"selected\":{\"id\":\"1191\"},\"selection_policy\":{\"id\":\"1190\"}},\"id\":\"1170\",\"type\":\"ColumnDataSource\"},{\"attributes\":{\"tools\":[{\"id\":\"1156\"},{\"id\":\"1157\"},{\"id\":\"1158\"},{\"id\":\"1159\"},{\"id\":\"1160\"},{\"id\":\"1161\"}]},\"id\":\"1163\",\"type\":\"Toolbar\"},{\"attributes\":{},\"id\":\"1185\",\"type\":\"BasicTickFormatter\"},{\"attributes\":{\"axis\":{\"id\":\"1152\"},\"coordinates\":null,\"dimension\":1,\"group\":null,\"ticker\":null},\"id\":\"1155\",\"type\":\"Grid\"},{\"attributes\":{\"source\":{\"id\":\"1170\"}},\"id\":\"1175\",\"type\":\"CDSView\"},{\"attributes\":{},\"id\":\"1156\",\"type\":\"PanTool\"},{\"attributes\":{\"bottom_units\":\"screen\",\"coordinates\":null,\"fill_alpha\":0.5,\"fill_color\":\"lightgrey\",\"group\":null,\"left_units\":\"screen\",\"level\":\"overlay\",\"line_alpha\":1.0,\"line_color\":\"black\",\"line_dash\":[4,4],\"line_width\":2,\"right_units\":\"screen\",\"syncable\":false,\"top_units\":\"screen\"},\"id\":\"1162\",\"type\":\"BoxAnnotation\"},{\"attributes\":{},\"id\":\"1193\",\"type\":\"Selection\"},{\"attributes\":{\"coordinates\":null,\"formatter\":{\"id\":\"1188\"},\"group\":null,\"major_label_policy\":{\"id\":\"1189\"},\"ticker\":{\"id\":\"1149\"}},\"id\":\"1148\",\"type\":\"LinearAxis\"},{\"attributes\":{\"data\":{\"x\":{\"__ndarray__\":\"exSuR+F6hD97FK5H4XqUP7gehetRuJ4/exSuR+F6pD+amZmZmZmpP7gehetRuK4/7FG4HoXrsT97FK5H4Xq0PwrXo3A9Crc/mpmZmZmZuT8pXI/C9Si8P7gehetRuL4/pHA9CtejwD/sUbgehevBPzMzMzMzM8M/exSuR+F6xD/D9Shcj8LFPwrXo3A9Csc/UrgehetRyD+amZmZmZnJP+F6FK5H4co/KVyPwvUozD9xPQrXo3DNP7gehetRuM4/AAAAAAAA0D+kcD0K16PQP0jhehSuR9E/7FG4HoXr0T+PwvUoXI/SPzMzMzMzM9M/16NwPQrX0z97FK5H4XrUPx+F61G4HtU/w/UoXI/C1T9mZmZmZmbWPwrXo3A9Ctc/rkfhehSu1z9SuB6F61HYP/YoXI/C9dg/mpmZmZmZ2T89CtejcD3aP+F6FK5H4do/hetRuB6F2z8pXI/C9SjcP83MzMzMzNw/cT0K16Nw3T8UrkfhehTeP7gehetRuN4/XI/C9Shc3z8AAAAAAADgP1K4HoXrUeA/pHA9Ctej4D/2KFyPwvXgP0jhehSuR+E/mpmZmZmZ4T/sUbgehevhPz0K16NwPeI/j8L1KFyP4j/hehSuR+HiPzMzMzMzM+M/hetRuB6F4z/Xo3A9CtfjPylcj8L1KOQ/exSuR+F65D/NzMzMzMzkPx+F61G4HuU/cT0K16Nw5T/D9Shcj8LlPxSuR+F6FOY/ZmZmZmZm5j+4HoXrUbjmPwrXo3A9Cuc/XI/C9Shc5z+uR+F6FK7nPwAAAAAAAOg/UrgehetR6D+kcD0K16PoP/YoXI/C9eg/SOF6FK5H6T+amZmZmZnpP+xRuB6F6+k/PQrXo3A96j+PwvUoXI/qP+F6FK5H4eo/MzMzMzMz6z+F61G4HoXrP9ejcD0K1+s/KVyPwvUo7D97FK5H4XrsP83MzMzMzOw/H4XrUbge7T9xPQrXo3DtP8P1KFyPwu0/FK5H4XoU7j9mZmZmZmbuP7gehetRuO4/CtejcD0K7z9cj8L1KFzvP65H4XoUru8/AAAAAAAA8D8=\",\"dtype\":\"float64\",\"order\":\"little\",\"shape\":[100]},\"y\":{\"__ndarray__\":\"cGuKh6Blxr+Hlj8kvielv5vadLqvL5Y/0yRJK8IDpT9pT1rYA5qiP7qhJDcqjJU/hDkuvcppcD/RkvY1xIGDv8vi/U4fXpG/Gu5QXwAHkr+Bm63EC6qIvzBZMeCJBlu/4Cj5WnMpiD8oY3fs9wqbP8iuvJbPrqQ/9LCg37G8qj94sTm7WhKvPwhzGdIWo7A/SA+c/quRsD9Acgb8yaeuPwAlSqlz/6k/AAUGLJF9oz8AvCnwaimXPwBYe49DcXY/AHxUjan7iL8AlEU/G+ydvwB9yyqRvaa/ACI7T84Frb8AoxJNuKewvwBWGytRmLG/AOyLVoQssb8ALJYuh5SuvwDYGbTMzKe/AMAgy2gTnL8AAJK+0QhnvwCgSuNAe5s/ADCiS68mrz8AkLMvXy25PwA4c8cLtsE/AAD+LgcExz8AOJ5YyVrMPwBUydLLydA/AIAx3glE0z8A+HwYuYnVPwCoh2vQidc/AKCHbyo12T8A0BnX/H7aPwAg1Cc9Xds/ADDyMPDI2z8AYBI+Yr7bPwAAF5hGPds/AMDCf71I2j8AAFJqQOfYPwDgBeZ0Itc/AOBMKecG1T8AwADoraPSPwBA/J35CdA/AICfEySZyj8AAB8oiv7EPwAAmlQr2b4/AAAqSosWtD8AAPwTdwOkPwAAgIY0KGw/AABwCjMznL8AAJyUDiqrvwAA9o6rkLK/AADo3j3ntb8AAFSCv4+3vwAAPJFpkbe/AACAVd0Dtr8AABC7vQ6zvwAA2PhQ0a2/AACQ/RKro78AAIAxHZGQvwAAgNYzQ30/AACgGhjinj8AABDb5VmqPwAAcNTk2bE/AABoBcZwtT8AAFAc/LC3PwAA8IzVbLg/AADguCmOtz8AAPB8YBq1PwAA8PqINbE/AAAAkTJIqD8AAECAhSuZPwAAAICwVUY/AAAAgTlslr8AAMBg/8GkvwAAALV27qq/AAAAzBN/rL8AAMAPoIeovwAAgNAZVp2/AAAACImoUj8AAEDZdnejPwAAALzgQLM/AAAAYlz5uT8AAIAMHYu5PwAAgKqZe6c/AABAiUb7t78=\",\"dtype\":\"float64\",\"order\":\"little\",\"shape\":[100]}},\"selected\":{\"id\":\"1193\"},\"selection_policy\":{\"id\":\"1192\"}},\"id\":\"1176\",\"type\":\"ColumnDataSource\"},{\"attributes\":{\"label\":{\"value\":\"y_hat\"},\"renderers\":[{\"id\":\"1180\"}]},\"id\":\"1196\",\"type\":\"LegendItem\"},{\"attributes\":{},\"id\":\"1192\",\"type\":\"UnionRenderers\"},{\"attributes\":{},\"id\":\"1153\",\"type\":\"BasicTicker\"},{\"attributes\":{\"coordinates\":null,\"group\":null},\"id\":\"1182\",\"type\":\"Title\"},{\"attributes\":{},\"id\":\"1149\",\"type\":\"BasicTicker\"},{\"attributes\":{},\"id\":\"1191\",\"type\":\"Selection\"},{\"attributes\":{},\"id\":\"1190\",\"type\":\"UnionRenderers\"},{\"attributes\":{},\"id\":\"1142\",\"type\":\"DataRange1d\"},{\"attributes\":{\"coordinates\":null,\"data_source\":{\"id\":\"1176\"},\"glyph\":{\"id\":\"1177\"},\"group\":null,\"hover_glyph\":null,\"muted_glyph\":{\"id\":\"1179\"},\"nonselection_glyph\":{\"id\":\"1178\"},\"view\":{\"id\":\"1181\"}},\"id\":\"1180\",\"type\":\"GlyphRenderer\"},{\"attributes\":{\"source\":{\"id\":\"1176\"}},\"id\":\"1181\",\"type\":\"CDSView\"},{\"attributes\":{\"coordinates\":null,\"data_source\":{\"id\":\"1170\"},\"glyph\":{\"id\":\"1171\"},\"group\":null,\"hover_glyph\":null,\"muted_glyph\":{\"id\":\"1173\"},\"nonselection_glyph\":{\"id\":\"1172\"},\"view\":{\"id\":\"1175\"}},\"id\":\"1174\",\"type\":\"GlyphRenderer\"},{\"attributes\":{\"x\":{\"field\":\"x\"},\"y\":{\"field\":\"y\"}},\"id\":\"1171\",\"type\":\"Line\"},{\"attributes\":{\"line_alpha\":0.1,\"x\":{\"field\":\"x\"},\"y\":{\"field\":\"y\"}},\"id\":\"1172\",\"type\":\"Line\"},{\"attributes\":{},\"id\":\"1140\",\"type\":\"DataRange1d\"},{\"attributes\":{\"line_alpha\":0.2,\"x\":{\"field\":\"x\"},\"y\":{\"field\":\"y\"}},\"id\":\"1173\",\"type\":\"Line\"},{\"attributes\":{},\"id\":\"1159\",\"type\":\"SaveTool\"},{\"attributes\":{},\"id\":\"1189\",\"type\":\"AllLabels\"},{\"attributes\":{},\"id\":\"1157\",\"type\":\"WheelZoomTool\"},{\"attributes\":{\"axis\":{\"id\":\"1148\"},\"coordinates\":null,\"group\":null,\"ticker\":null},\"id\":\"1151\",\"type\":\"Grid\"},{\"attributes\":{},\"id\":\"1186\",\"type\":\"AllLabels\"},{\"attributes\":{\"coordinates\":null,\"formatter\":{\"id\":\"1185\"},\"group\":null,\"major_label_policy\":{\"id\":\"1186\"},\"ticker\":{\"id\":\"1153\"}},\"id\":\"1152\",\"type\":\"LinearAxis\"},{\"attributes\":{\"line_alpha\":0.1,\"line_color\":\"red\",\"line_width\":1.5,\"x\":{\"field\":\"x\"},\"y\":{\"field\":\"y\"}},\"id\":\"1178\",\"type\":\"Line\"},{\"attributes\":{},\"id\":\"1188\",\"type\":\"BasicTickFormatter\"},{\"attributes\":{},\"id\":\"1144\",\"type\":\"LinearScale\"},{\"attributes\":{},\"id\":\"1161\",\"type\":\"HelpTool\"},{\"attributes\":{\"line_alpha\":0.2,\"line_color\":\"red\",\"line_width\":1.5,\"x\":{\"field\":\"x\"},\"y\":{\"field\":\"y\"}},\"id\":\"1179\",\"type\":\"Line\"},{\"attributes\":{\"overlay\":{\"id\":\"1162\"}},\"id\":\"1158\",\"type\":\"BoxZoomTool\"},{\"attributes\":{},\"id\":\"1160\",\"type\":\"ResetTool\"},{\"attributes\":{},\"id\":\"1146\",\"type\":\"LinearScale\"},{\"attributes\":{\"line_color\":\"red\",\"line_width\":1.5,\"x\":{\"field\":\"x\"},\"y\":{\"field\":\"y\"}},\"id\":\"1177\",\"type\":\"Line\"}],\"root_ids\":[\"1139\"]},\"title\":\"Bokeh Application\",\"version\":\"2.4.3\"}};\n",
       "  const render_items = [{\"docid\":\"fac88fa2-102d-4339-8d01-1a6010d3ae9b\",\"root_ids\":[\"1139\"],\"roots\":{\"1139\":\"2b973c3d-f983-4220-9f73-8fd061c3a330\"}}];\n",
       "  root.Bokeh.embed.embed_items_notebook(docs_json, render_items);\n",
       "  }\n",
       "  if (root.Bokeh !== undefined) {\n",
       "    embed_document(root);\n",
       "  } else {\n",
       "    let attempts = 0;\n",
       "    const timer = setInterval(function(root) {\n",
       "      if (root.Bokeh !== undefined) {\n",
       "        clearInterval(timer);\n",
       "        embed_document(root);\n",
       "      } else {\n",
       "        attempts++;\n",
       "        if (attempts > 100) {\n",
       "          clearInterval(timer);\n",
       "          console.log(\"Bokeh: ERROR: Unable to run BokehJS code because BokehJS library is missing\");\n",
       "        }\n",
       "      }\n",
       "    }, 10, root)\n",
       "  }\n",
       "})(window);"
      ],
      "application/vnd.bokehjs_exec.v0+json": ""
     },
     "metadata": {
      "application/vnd.bokehjs_exec.v0+json": {
       "id": "1139"
      }
     },
     "output_type": "display_data"
    }
   ],
   "source": [
    "n = 100\n",
    "xi = np.array([i/n for i in range(1,n+1)]).reshape(n,-1)\n",
    "yi = np.exp(-1000*(xi-0.5)**2) + 0.1 * np.random.normal(size=(n,1))\n",
    "\n",
    "# K = 10 \n",
    "X = np.concatenate((np.ones(shape=(n,1)), xi, xi**2, xi**3, xi**4,xi**5,xi**6,xi**7,xi**8,xi**9,xi**10), axis =1)\n",
    "B_hat = np.linalg.inv(X.T @ X) @ X.T @ yi\n",
    "y_predicted = X @ B_hat\n",
    "\n",
    "# Plotting\n",
    "p = figure(width = 500, height = 300)\n",
    "p.line(x= xi.flatten(), y= yi.flatten(), color = 'black') # Raw Data\n",
    "p.line(x= xi.flatten(), y = y_predicted.flatten(),  line_color = 'red', \n",
    "      legend_label = 'y_hat', line_width = 1.5 ) # Predicted\n",
    "show(p)"
   ]
  },
  {
   "cell_type": "markdown",
   "id": "52bae8ba",
   "metadata": {},
   "source": [
    "#### Case 2"
   ]
  },
  {
   "cell_type": "code",
   "execution_count": 6,
   "id": "37fbdcc8",
   "metadata": {
    "scrolled": true
   },
   "outputs": [
    {
     "data": {
      "text/html": [
       "\n",
       "  <div class=\"bk-root\" id=\"35fd08ce-527a-4035-a902-3cb0ac7c8b27\" data-root-id=\"1288\"></div>\n"
      ]
     },
     "metadata": {},
     "output_type": "display_data"
    },
    {
     "data": {
      "application/javascript": [
       "(function(root) {\n",
       "  function embed_document(root) {\n",
       "  const docs_json = {\"7926ac85-8782-4f9e-a828-f5aa873dccd1\":{\"defs\":[],\"roots\":{\"references\":[{\"attributes\":{\"below\":[{\"id\":\"1299\"}],\"center\":[{\"id\":\"1302\"},{\"id\":\"1306\"},{\"id\":\"1345\"}],\"height\":300,\"left\":[{\"id\":\"1303\"}],\"renderers\":[{\"id\":\"1325\"},{\"id\":\"1331\"}],\"title\":{\"id\":\"1289\"},\"toolbar\":{\"id\":\"1314\"},\"width\":500,\"x_range\":{\"id\":\"1291\"},\"x_scale\":{\"id\":\"1295\"},\"y_range\":{\"id\":\"1293\"},\"y_scale\":{\"id\":\"1297\"}},\"id\":\"1288\",\"subtype\":\"Figure\",\"type\":\"Plot\"},{\"attributes\":{\"fill_color\":{\"value\":\"black\"},\"x\":{\"field\":\"x\"},\"y\":{\"field\":\"y\"}},\"id\":\"1322\",\"type\":\"Scatter\"},{\"attributes\":{},\"id\":\"1340\",\"type\":\"UnionRenderers\"},{\"attributes\":{\"tools\":[{\"id\":\"1307\"},{\"id\":\"1308\"},{\"id\":\"1309\"},{\"id\":\"1310\"},{\"id\":\"1311\"},{\"id\":\"1312\"}]},\"id\":\"1314\",\"type\":\"Toolbar\"},{\"attributes\":{},\"id\":\"1307\",\"type\":\"PanTool\"},{\"attributes\":{},\"id\":\"1341\",\"type\":\"Selection\"},{\"attributes\":{\"bottom_units\":\"screen\",\"coordinates\":null,\"fill_alpha\":0.5,\"fill_color\":\"lightgrey\",\"group\":null,\"left_units\":\"screen\",\"level\":\"overlay\",\"line_alpha\":1.0,\"line_color\":\"black\",\"line_dash\":[4,4],\"line_width\":2,\"right_units\":\"screen\",\"syncable\":false,\"top_units\":\"screen\"},\"id\":\"1313\",\"type\":\"BoxAnnotation\"},{\"attributes\":{\"line_alpha\":0.2,\"line_color\":\"red\",\"line_width\":1.5,\"x\":{\"field\":\"x\"},\"y\":{\"field\":\"y\"}},\"id\":\"1330\",\"type\":\"Line\"},{\"attributes\":{},\"id\":\"1308\",\"type\":\"WheelZoomTool\"},{\"attributes\":{\"source\":{\"id\":\"1327\"}},\"id\":\"1332\",\"type\":\"CDSView\"},{\"attributes\":{},\"id\":\"1297\",\"type\":\"LinearScale\"},{\"attributes\":{\"data\":{\"x\":{\"__ndarray__\":\"exSuR+F6hD97FK5H4XqUP7gehetRuJ4/exSuR+F6pD+amZmZmZmpP7gehetRuK4/7FG4HoXrsT97FK5H4Xq0PwrXo3A9Crc/mpmZmZmZuT8pXI/C9Si8P7gehetRuL4/pHA9CtejwD/sUbgehevBPzMzMzMzM8M/exSuR+F6xD/D9Shcj8LFPwrXo3A9Csc/UrgehetRyD+amZmZmZnJP+F6FK5H4co/KVyPwvUozD9xPQrXo3DNP7gehetRuM4/AAAAAAAA0D+kcD0K16PQP0jhehSuR9E/7FG4HoXr0T+PwvUoXI/SPzMzMzMzM9M/16NwPQrX0z97FK5H4XrUPx+F61G4HtU/w/UoXI/C1T9mZmZmZmbWPwrXo3A9Ctc/rkfhehSu1z9SuB6F61HYP/YoXI/C9dg/mpmZmZmZ2T89CtejcD3aP+F6FK5H4do/hetRuB6F2z8pXI/C9SjcP83MzMzMzNw/cT0K16Nw3T8UrkfhehTeP7gehetRuN4/XI/C9Shc3z8AAAAAAADgP1K4HoXrUeA/pHA9Ctej4D/2KFyPwvXgP0jhehSuR+E/mpmZmZmZ4T/sUbgehevhPz0K16NwPeI/j8L1KFyP4j/hehSuR+HiPzMzMzMzM+M/hetRuB6F4z/Xo3A9CtfjPylcj8L1KOQ/exSuR+F65D/NzMzMzMzkPx+F61G4HuU/cT0K16Nw5T/D9Shcj8LlPxSuR+F6FOY/ZmZmZmZm5j+4HoXrUbjmPwrXo3A9Cuc/XI/C9Shc5z+uR+F6FK7nPwAAAAAAAOg/UrgehetR6D+kcD0K16PoP/YoXI/C9eg/SOF6FK5H6T+amZmZmZnpP+xRuB6F6+k/PQrXo3A96j+PwvUoXI/qP+F6FK5H4eo/MzMzMzMz6z+F61G4HoXrP9ejcD0K1+s/KVyPwvUo7D97FK5H4XrsP83MzMzMzOw/H4XrUbge7T9xPQrXo3DtP8P1KFyPwu0/FK5H4XoU7j9mZmZmZmbuP7gehetRuO4/CtejcD0K7z9cj8L1KFzvP65H4XoUru8/AAAAAAAA8D8=\",\"dtype\":\"float64\",\"order\":\"little\",\"shape\":[100]},\"y\":{\"__ndarray__\":\"m7SaWSf7oj8d6c14jNuuP+P510vqNsE/giT4odvcsT9Ma6BGrCmVv4/ZVqDDw6q/B6UJpyo1wz9MtUBIOba8P9TwSdAs0bK/i6+ICXeJoL8iFKo1e7a1vzWtlGWB3KY/OZYTDHMMl7/nhPlBVKzJvzXDevQraLK/Q41dwmFYoj93FXcGfy6gv4Dl87SoKLK/yQzBEu3Ktr8DWlgDjXKPv6woiy8SULY/9IOpdMZHxj+VkLQdrFC7Pxs0ettCtKU/V/SKkcWrjL84Vqm0bQe6v/hc/hmmnII/ZPucc8LEkb8QQVxQcTPRP3bY5BzDXKu/BubyHCsSoL/UB9I7nGuLv2AoNCQ2srY/ZJZTZCCBwb8d/vA/b9HAP9D0Jk4zyNE/GxcLc3F0yj8GyeZbVp3SP7okKhOu9s4/CcFL6K6w3T+0j8GQeuPZPzLoiK+J1t8/Dl+DV7pB5T+o07QN+qfgP1r+OIMGOeg/fgN4tUmv6z9KHudTYLLtP+DSIw6LQew/FPhY4Bgo8j9gGgocMSrsP4YPBuzrP+0/O8j+2gKL6z+Swu4yHDvvP2nf5cvDYuo/LEmSfPUY7j8mmMH5yd3lP6f08lXemOA/cVyJi+s75j92FCbUaffXP7ACf9aXFeA/Mst8mam51T9Ac9iaYkfKP6f0vdUOesA/iJ5Ki7lNyz+4CvJO7q/MPznurtdmkLk/ew34zg/kpz+rznuzcdvUPy+ctxKJXqC/FScbgnqHp78qdwupN/O0v/ay/+baKrQ/bB9/3JcpfL88Uxpd5Vqnv4PZImg7K76/QFF4S85ifj9VqYc24D3FP3hupZkH8qC/PHGZj3jntr9mmnbq1BulP6vLneG457S/qiLMpHZHsD9m6zzMm190v5c/KSuTfU0/HnVMhUcQub/rOmj7/GyWP4KRGqfD2b0/19x1yEDUxT/ARHmGOD6xP8jX/oWoCpi/+4/6smuZfL9LQL/OrJWsvzCdlRFcJZK/dz3yExSGuT/Ez98wGQmgv13jJ2ncDba/2XXMlYT1ib+DESaJn36Kv1OjPuAX0bg/opflyDC0sz8=\",\"dtype\":\"float64\",\"order\":\"little\",\"shape\":[100]}},\"selected\":{\"id\":\"1341\"},\"selection_policy\":{\"id\":\"1340\"}},\"id\":\"1321\",\"type\":\"ColumnDataSource\"},{\"attributes\":{\"coordinates\":null,\"data_source\":{\"id\":\"1327\"},\"glyph\":{\"id\":\"1328\"},\"group\":null,\"hover_glyph\":null,\"muted_glyph\":{\"id\":\"1330\"},\"nonselection_glyph\":{\"id\":\"1329\"},\"view\":{\"id\":\"1332\"}},\"id\":\"1331\",\"type\":\"GlyphRenderer\"},{\"attributes\":{\"coordinates\":null,\"formatter\":{\"id\":\"1338\"},\"group\":null,\"major_label_policy\":{\"id\":\"1339\"},\"ticker\":{\"id\":\"1300\"}},\"id\":\"1299\",\"type\":\"LinearAxis\"},{\"attributes\":{},\"id\":\"1311\",\"type\":\"ResetTool\"},{\"attributes\":{},\"id\":\"1291\",\"type\":\"DataRange1d\"},{\"attributes\":{\"axis\":{\"id\":\"1299\"},\"coordinates\":null,\"group\":null,\"ticker\":null},\"id\":\"1302\",\"type\":\"Grid\"},{\"attributes\":{},\"id\":\"1338\",\"type\":\"BasicTickFormatter\"},{\"attributes\":{},\"id\":\"1312\",\"type\":\"HelpTool\"},{\"attributes\":{},\"id\":\"1300\",\"type\":\"BasicTicker\"},{\"attributes\":{\"coordinates\":null,\"formatter\":{\"id\":\"1335\"},\"group\":null,\"major_label_policy\":{\"id\":\"1336\"},\"ticker\":{\"id\":\"1304\"}},\"id\":\"1303\",\"type\":\"LinearAxis\"},{\"attributes\":{},\"id\":\"1304\",\"type\":\"BasicTicker\"},{\"attributes\":{\"axis\":{\"id\":\"1303\"},\"coordinates\":null,\"dimension\":1,\"group\":null,\"ticker\":null},\"id\":\"1306\",\"type\":\"Grid\"},{\"attributes\":{},\"id\":\"1335\",\"type\":\"BasicTickFormatter\"},{\"attributes\":{},\"id\":\"1342\",\"type\":\"UnionRenderers\"},{\"attributes\":{\"coordinates\":null,\"group\":null,\"text\":\"Polynomial K = 10\"},\"id\":\"1289\",\"type\":\"Title\"},{\"attributes\":{},\"id\":\"1343\",\"type\":\"Selection\"},{\"attributes\":{\"fill_alpha\":{\"value\":0.1},\"fill_color\":{\"value\":\"black\"},\"hatch_alpha\":{\"value\":0.1},\"line_alpha\":{\"value\":0.1},\"x\":{\"field\":\"x\"},\"y\":{\"field\":\"y\"}},\"id\":\"1323\",\"type\":\"Scatter\"},{\"attributes\":{\"line_color\":\"red\",\"line_width\":1.5,\"x\":{\"field\":\"x\"},\"y\":{\"field\":\"y\"}},\"id\":\"1328\",\"type\":\"Line\"},{\"attributes\":{},\"id\":\"1310\",\"type\":\"SaveTool\"},{\"attributes\":{\"line_alpha\":0.1,\"line_color\":\"red\",\"line_width\":1.5,\"x\":{\"field\":\"x\"},\"y\":{\"field\":\"y\"}},\"id\":\"1329\",\"type\":\"Line\"},{\"attributes\":{\"data\":{\"x\":{\"__ndarray__\":\"exSuR+F6hD97FK5H4XqUP7gehetRuJ4/exSuR+F6pD+amZmZmZmpP7gehetRuK4/7FG4HoXrsT97FK5H4Xq0PwrXo3A9Crc/mpmZmZmZuT8pXI/C9Si8P7gehetRuL4/pHA9CtejwD/sUbgehevBPzMzMzMzM8M/exSuR+F6xD/D9Shcj8LFPwrXo3A9Csc/UrgehetRyD+amZmZmZnJP+F6FK5H4co/KVyPwvUozD9xPQrXo3DNP7gehetRuM4/AAAAAAAA0D+kcD0K16PQP0jhehSuR9E/7FG4HoXr0T+PwvUoXI/SPzMzMzMzM9M/16NwPQrX0z97FK5H4XrUPx+F61G4HtU/w/UoXI/C1T9mZmZmZmbWPwrXo3A9Ctc/rkfhehSu1z9SuB6F61HYP/YoXI/C9dg/mpmZmZmZ2T89CtejcD3aP+F6FK5H4do/hetRuB6F2z8pXI/C9SjcP83MzMzMzNw/cT0K16Nw3T8UrkfhehTeP7gehetRuN4/XI/C9Shc3z8AAAAAAADgP1K4HoXrUeA/pHA9Ctej4D/2KFyPwvXgP0jhehSuR+E/mpmZmZmZ4T/sUbgehevhPz0K16NwPeI/j8L1KFyP4j/hehSuR+HiPzMzMzMzM+M/hetRuB6F4z/Xo3A9CtfjPylcj8L1KOQ/exSuR+F65D/NzMzMzMzkPx+F61G4HuU/cT0K16Nw5T/D9Shcj8LlPxSuR+F6FOY/ZmZmZmZm5j+4HoXrUbjmPwrXo3A9Cuc/XI/C9Shc5z+uR+F6FK7nPwAAAAAAAOg/UrgehetR6D+kcD0K16PoP/YoXI/C9eg/SOF6FK5H6T+amZmZmZnpP+xRuB6F6+k/PQrXo3A96j+PwvUoXI/qP+F6FK5H4eo/MzMzMzMz6z+F61G4HoXrP9ejcD0K1+s/KVyPwvUo7D97FK5H4XrsP83MzMzMzOw/H4XrUbge7T9xPQrXo3DtP8P1KFyPwu0/FK5H4XoU7j9mZmZmZmbuP7gehetRuO4/CtejcD0K7z9cj8L1KFzvP65H4XoUru8/AAAAAAAA8D8=\",\"dtype\":\"float64\",\"order\":\"little\",\"shape\":[100]},\"y\":{\"__ndarray__\":\"IA7gcECSdr/DKrDkyYm3PxfTch5Q774/OqAEyOnouz9C6E68AJezP5QDem0EA6M/iu6t9AU8Lr8uE/ELIhufv67Rrqv+Daq/oXsTkw9mr7+E1GD+rwWwvwFlo4T13qy/0+6EaSz4pr9EndVhafiev/BJTJwgAY6/AIDjvjUjFj9gHgQiyZyJP+Do9PWhHJY/INOldgBrmz9AMImXgJWcP4BY6yIv4Jk/AIEmdwnpkz8AFHlfCC6HPwDghu11O2A/AMyObAcVfr8AxHn8xnyPvwAAaOsNVZW/APj+zYgMl78AQCx4w8iTvwBgSAsPNYW/AABCdjPbdD8AkCjTHyacPwBIWoEGNq0/AGyhZDj/tz8AHsijIJHBPwCYQoj078c/AEzMwWwCzz8AgGvLDlTTPwBg7a5tXdc/ACiXKPGH2z8A0L/ejbzfPwB0SqWd8eE/AHSQX9Lx4z8AwBAr7dLlPwB8QY9+iec/AESsF/EK6T8A6G5N1E3qPwB4p1IfSus/ALCWjGn56z8AePsJGFfsPwCwaZh+YOw/AOCPxPMU7D8AAPxM13XrPwDwUdyKhuo/ALDpLV1M6T8AIEkNaM7nPwCA/OxhFeY/AOAaG2Qr5D8A4LPfphviPwDANSZq5N8/AABX7DF32z8AgHyXCAnXPwCA+MHrstI/AABtW3sZzT8AAFhsKFnFPwAAiH1EmLw/AADQKSMnsD8AACCQxEuWPwAAoDSMAoi/AADYWdr/or8AAIDRZtarvwAALFauU7C/AAAok7LcsL8AAIBal3SvvwAA4Cz9Xqq/AAAwmcQXo78AAMCQUKKUvwAAADrIJFm/AAAg+a19kT8AAKCjKYuhPwAAQAO476g/AAAA2vtZrj8AAHCQb62wPwAAUOr217A/AADgmURLrz8AAIAhilmqPwAAQJMlRaM/AAAAjYxrlT8AAAD0EbNoPwAAAH9pt4y/AAAAZu+bnL8AAIDbJq6ivwAAAGEsTaO/AAAAlCsCn78AAADFfNuMvwAAAFJk9oI/AACA0O8+oj8AAICOVG6tPwAAQMTFDbA/AACAQc4ZoT8=\",\"dtype\":\"float64\",\"order\":\"little\",\"shape\":[100]}},\"selected\":{\"id\":\"1343\"},\"selection_policy\":{\"id\":\"1342\"}},\"id\":\"1327\",\"type\":\"ColumnDataSource\"},{\"attributes\":{},\"id\":\"1336\",\"type\":\"AllLabels\"},{\"attributes\":{},\"id\":\"1293\",\"type\":\"DataRange1d\"},{\"attributes\":{\"coordinates\":null,\"data_source\":{\"id\":\"1321\"},\"glyph\":{\"id\":\"1322\"},\"group\":null,\"hover_glyph\":null,\"muted_glyph\":{\"id\":\"1324\"},\"nonselection_glyph\":{\"id\":\"1323\"},\"view\":{\"id\":\"1326\"}},\"id\":\"1325\",\"type\":\"GlyphRenderer\"},{\"attributes\":{\"source\":{\"id\":\"1321\"}},\"id\":\"1326\",\"type\":\"CDSView\"},{\"attributes\":{\"label\":{\"value\":\"y_hat\"},\"renderers\":[{\"id\":\"1331\"}]},\"id\":\"1346\",\"type\":\"LegendItem\"},{\"attributes\":{},\"id\":\"1339\",\"type\":\"AllLabels\"},{\"attributes\":{},\"id\":\"1295\",\"type\":\"LinearScale\"},{\"attributes\":{\"fill_alpha\":{\"value\":0.2},\"fill_color\":{\"value\":\"black\"},\"hatch_alpha\":{\"value\":0.2},\"line_alpha\":{\"value\":0.2},\"x\":{\"field\":\"x\"},\"y\":{\"field\":\"y\"}},\"id\":\"1324\",\"type\":\"Scatter\"},{\"attributes\":{\"coordinates\":null,\"group\":null,\"items\":[{\"id\":\"1346\"}]},\"id\":\"1345\",\"type\":\"Legend\"},{\"attributes\":{\"overlay\":{\"id\":\"1313\"}},\"id\":\"1309\",\"type\":\"BoxZoomTool\"}],\"root_ids\":[\"1288\"]},\"title\":\"Bokeh Application\",\"version\":\"2.4.3\"}};\n",
       "  const render_items = [{\"docid\":\"7926ac85-8782-4f9e-a828-f5aa873dccd1\",\"root_ids\":[\"1288\"],\"roots\":{\"1288\":\"35fd08ce-527a-4035-a902-3cb0ac7c8b27\"}}];\n",
       "  root.Bokeh.embed.embed_items_notebook(docs_json, render_items);\n",
       "  }\n",
       "  if (root.Bokeh !== undefined) {\n",
       "    embed_document(root);\n",
       "  } else {\n",
       "    let attempts = 0;\n",
       "    const timer = setInterval(function(root) {\n",
       "      if (root.Bokeh !== undefined) {\n",
       "        clearInterval(timer);\n",
       "        embed_document(root);\n",
       "      } else {\n",
       "        attempts++;\n",
       "        if (attempts > 100) {\n",
       "          clearInterval(timer);\n",
       "          console.log(\"Bokeh: ERROR: Unable to run BokehJS code because BokehJS library is missing\");\n",
       "        }\n",
       "      }\n",
       "    }, 10, root)\n",
       "  }\n",
       "})(window);"
      ],
      "application/vnd.bokehjs_exec.v0+json": ""
     },
     "metadata": {
      "application/vnd.bokehjs_exec.v0+json": {
       "id": "1288"
      }
     },
     "output_type": "display_data"
    }
   ],
   "source": [
    "n = 100\n",
    "xi = np.array([i/n for i in range(1,n+1)]).reshape(n,-1)\n",
    "yi = np.exp(-100*(xi-0.5)**2) + 0.1 * np.random.normal(size=(n,1))\n",
    "\n",
    "# K = 10 \n",
    "X = np.concatenate((np.ones(shape=(n,1)), xi, xi**2, xi**3, xi**4, xi**5,xi**6,xi**7,xi**8,xi**9,xi**10), axis =1)\n",
    "B_hat = np.linalg.inv(X.T @ X) @ X.T @ yi\n",
    "y_predicted = X @ B_hat\n",
    "\n",
    "# Plotting\n",
    "p = figure(width = 500, height = 300, title = 'Polynomial K = 10')\n",
    "p.scatter(x= xi.flatten(), y= yi.flatten(), color = 'black') # Raw Data\n",
    "p.line(x= xi.flatten(), y = y_predicted.flatten(),  line_color = 'red', \n",
    "      legend_label = 'y_hat', line_width = 1.5 ) # Predicted\n",
    "show(p)"
   ]
  },
  {
   "cell_type": "markdown",
   "id": "2ac6aa14",
   "metadata": {},
   "source": [
    "### Polynomials Spline"
   ]
  },
  {
   "cell_type": "code",
   "execution_count": 7,
   "id": "afd90df3",
   "metadata": {},
   "outputs": [],
   "source": [
    "n = 100\n",
    "xi = np.array([i/n for i in range(1,n+1)]).reshape(n,-1)\n",
    "yi = np.exp(-100*(xi-0.5)**2) + 0.1 * np.random.normal(size=(n,1))\n",
    "\n",
    "\n",
    "K = 5\n",
    "poly_splines = np.concatenate(\n",
    "                (np.where(xi - 0.2 > 0, (xi-0.2)**K, 0),\n",
    "                np.where(xi - 0.4 > 0, (xi-0.4)**K, 0),\n",
    "                np.where(xi - 0.6 > 0, (xi-0.6)**K, 0), \n",
    "                np.where(xi - 0.8 > 0, (xi-0.8)**K, 0),\n",
    "                ), axis = 1)\n",
    "\n",
    "X = np.concatenate((np.ones(shape=(n,1)), xi, xi**2, xi**3, xi**4, poly_splines), axis =1)\n",
    "B_hat = np.linalg.inv(X.T @ X) @ X.T @ yi\n",
    "y_predicted = X @ B_hat\n"
   ]
  },
  {
   "cell_type": "code",
   "execution_count": 10,
   "id": "57cfdaa2",
   "metadata": {},
   "outputs": [
    {
     "data": {
      "text/html": [
       "\n",
       "  <div class=\"bk-root\" id=\"a89517e6-018c-469d-92d7-c78069a4898b\" data-root-id=\"1445\"></div>\n"
      ]
     },
     "metadata": {},
     "output_type": "display_data"
    },
    {
     "data": {
      "application/javascript": [
       "(function(root) {\n",
       "  function embed_document(root) {\n",
       "  const docs_json = {\"2e91364a-e69b-467d-9dcd-194be10363cd\":{\"defs\":[],\"roots\":{\"references\":[{\"attributes\":{\"below\":[{\"id\":\"1456\"}],\"center\":[{\"id\":\"1459\"},{\"id\":\"1463\"},{\"id\":\"1502\"}],\"height\":300,\"left\":[{\"id\":\"1460\"}],\"renderers\":[{\"id\":\"1482\"},{\"id\":\"1488\"}],\"title\":{\"id\":\"1446\"},\"toolbar\":{\"id\":\"1471\"},\"width\":500,\"x_range\":{\"id\":\"1448\"},\"x_scale\":{\"id\":\"1452\"},\"y_range\":{\"id\":\"1450\"},\"y_scale\":{\"id\":\"1454\"}},\"id\":\"1445\",\"subtype\":\"Figure\",\"type\":\"Plot\"},{\"attributes\":{\"line_alpha\":0.1,\"line_color\":\"red\",\"line_width\":1.5,\"x\":{\"field\":\"x\"},\"y\":{\"field\":\"y\"}},\"id\":\"1486\",\"type\":\"Line\"},{\"attributes\":{},\"id\":\"1492\",\"type\":\"BasicTickFormatter\"},{\"attributes\":{},\"id\":\"1454\",\"type\":\"LinearScale\"},{\"attributes\":{\"data\":{\"x\":{\"__ndarray__\":\"exSuR+F6hD97FK5H4XqUP7gehetRuJ4/exSuR+F6pD+amZmZmZmpP7gehetRuK4/7FG4HoXrsT97FK5H4Xq0PwrXo3A9Crc/mpmZmZmZuT8pXI/C9Si8P7gehetRuL4/pHA9CtejwD/sUbgehevBPzMzMzMzM8M/exSuR+F6xD/D9Shcj8LFPwrXo3A9Csc/UrgehetRyD+amZmZmZnJP+F6FK5H4co/KVyPwvUozD9xPQrXo3DNP7gehetRuM4/AAAAAAAA0D+kcD0K16PQP0jhehSuR9E/7FG4HoXr0T+PwvUoXI/SPzMzMzMzM9M/16NwPQrX0z97FK5H4XrUPx+F61G4HtU/w/UoXI/C1T9mZmZmZmbWPwrXo3A9Ctc/rkfhehSu1z9SuB6F61HYP/YoXI/C9dg/mpmZmZmZ2T89CtejcD3aP+F6FK5H4do/hetRuB6F2z8pXI/C9SjcP83MzMzMzNw/cT0K16Nw3T8UrkfhehTeP7gehetRuN4/XI/C9Shc3z8AAAAAAADgP1K4HoXrUeA/pHA9Ctej4D/2KFyPwvXgP0jhehSuR+E/mpmZmZmZ4T/sUbgehevhPz0K16NwPeI/j8L1KFyP4j/hehSuR+HiPzMzMzMzM+M/hetRuB6F4z/Xo3A9CtfjPylcj8L1KOQ/exSuR+F65D/NzMzMzMzkPx+F61G4HuU/cT0K16Nw5T/D9Shcj8LlPxSuR+F6FOY/ZmZmZmZm5j+4HoXrUbjmPwrXo3A9Cuc/XI/C9Shc5z+uR+F6FK7nPwAAAAAAAOg/UrgehetR6D+kcD0K16PoP/YoXI/C9eg/SOF6FK5H6T+amZmZmZnpP+xRuB6F6+k/PQrXo3A96j+PwvUoXI/qP+F6FK5H4eo/MzMzMzMz6z+F61G4HoXrP9ejcD0K1+s/KVyPwvUo7D97FK5H4XrsP83MzMzMzOw/H4XrUbge7T9xPQrXo3DtP8P1KFyPwu0/FK5H4XoU7j9mZmZmZmbuP7gehetRuO4/CtejcD0K7z9cj8L1KFzvP65H4XoUru8/AAAAAAAA8D8=\",\"dtype\":\"float64\",\"order\":\"little\",\"shape\":[100]},\"y\":{\"__ndarray__\":\"Alk+UHGxcL9uyXqICh+xP/MHax2kLsA/EOZP/4xmo7+UdwFuiULCv7ueHEXmUbo/jdTY5liOqT8T88V51aG+v0ixZocH8qa/m10NOKCypj94h3f3puiwP2GHOt73NqW/mgHJv2y0tr/NkmkI3u2hvz5dFkt6Eq+/hHsBqlqYvj9wDUG6SJm5v5zp8TF4xYU/DmgASfBsv7+7la5FihG6v6bGsZyyVMG/D2vhlc0zlT801SHh2R2zPzqCCtQC2YO/+SLVVdjtoT/PIGAK8MWCv+RlBN7MoIC/ofROOadCxD8qJddo7kOsP3xLVdZPi8Y/6DgZ2VU3oz/7tjvg5j+rv6rrz+1wbqY/DILgT/oqtz82ZT3xtd2iP1NZtHAIuMA/qfelzLsvyj9AjMdmeOnCP8szEyRdZd4/dgnjnVZt1j9wvxFrmw3hP/N3hSTJeOY/unHVOaNO5D/4r0T2YQPgP34+AI63AOk/FDw5oC8f7T9hrcoec0vlPxVXFvkHfes/QJPzxVBC8T9roUP9vJ7wP6Ma8sNPh/A/hISfUsAV8D+JBQkyEirtP43iQ6Whd+g/Ac26JwtL6j815h+vF6/jPwmWQ6Ouj+E/QjkL6hID4j/rfaT71nzWP7DT1iOvsdY/coDlkIHkwj/uVk9C9L7TPzKCOxTEKMY/tEF8oOxFwz/P3gcO+D22P/LWb76f1MI/U4FUrc01sj/O/0K7/b7AP2ljdLXbxqk/FCNIxTXeaj8MgPpT8xyevyyxvmkhIdC/TpdngHJDsr98Zc1g3zS6v0MOhKu3drQ/Lu+15UKVu793yvUiUxGCP8gyuPLTCJs/mbu/RIUDqj+OlLDZzpW3P17kfBEtXa+/gn5gzDoZsD89AMMMfu2yv+S6bHOfz6m/g5bcpbR6uD+trALoKmeXvwj9h6SebqW/rsAWucaLsb+10FmcbP23vyJw+BLObKa/iLdTj8okq780t7Vo3ymsv0vURwAqTru/HALoGBN9cT8jHRLUjuOkv7Te2rf+9rG/+5e370zbo79e/JRSqmSbv+BCbp0D38U/zHrGUBghrr8=\",\"dtype\":\"float64\",\"order\":\"little\",\"shape\":[100]}},\"selected\":{\"id\":\"1498\"},\"selection_policy\":{\"id\":\"1497\"}},\"id\":\"1478\",\"type\":\"ColumnDataSource\"},{\"attributes\":{},\"id\":\"1457\",\"type\":\"BasicTicker\"},{\"attributes\":{},\"id\":\"1495\",\"type\":\"BasicTickFormatter\"},{\"attributes\":{\"coordinates\":null,\"formatter\":{\"id\":\"1492\"},\"group\":null,\"major_label_policy\":{\"id\":\"1493\"},\"ticker\":{\"id\":\"1461\"}},\"id\":\"1460\",\"type\":\"LinearAxis\"},{\"attributes\":{\"fill_alpha\":{\"value\":0.1},\"fill_color\":{\"value\":\"black\"},\"hatch_alpha\":{\"value\":0.1},\"line_alpha\":{\"value\":0.1},\"x\":{\"field\":\"x\"},\"y\":{\"field\":\"y\"}},\"id\":\"1480\",\"type\":\"Scatter\"},{\"attributes\":{\"tools\":[{\"id\":\"1464\"},{\"id\":\"1465\"},{\"id\":\"1466\"},{\"id\":\"1467\"},{\"id\":\"1468\"},{\"id\":\"1469\"}]},\"id\":\"1471\",\"type\":\"Toolbar\"},{\"attributes\":{},\"id\":\"1448\",\"type\":\"DataRange1d\"},{\"attributes\":{\"source\":{\"id\":\"1484\"}},\"id\":\"1489\",\"type\":\"CDSView\"},{\"attributes\":{\"coordinates\":null,\"data_source\":{\"id\":\"1478\"},\"glyph\":{\"id\":\"1479\"},\"group\":null,\"hover_glyph\":null,\"muted_glyph\":{\"id\":\"1481\"},\"nonselection_glyph\":{\"id\":\"1480\"},\"view\":{\"id\":\"1483\"}},\"id\":\"1482\",\"type\":\"GlyphRenderer\"},{\"attributes\":{\"coordinates\":null,\"group\":null,\"text\":\"Polynomial Splines K = 5 L = 4\"},\"id\":\"1446\",\"type\":\"Title\"},{\"attributes\":{\"bottom_units\":\"screen\",\"coordinates\":null,\"fill_alpha\":0.5,\"fill_color\":\"lightgrey\",\"group\":null,\"left_units\":\"screen\",\"level\":\"overlay\",\"line_alpha\":1.0,\"line_color\":\"black\",\"line_dash\":[4,4],\"line_width\":2,\"right_units\":\"screen\",\"syncable\":false,\"top_units\":\"screen\"},\"id\":\"1470\",\"type\":\"BoxAnnotation\"},{\"attributes\":{},\"id\":\"1468\",\"type\":\"ResetTool\"},{\"attributes\":{\"line_color\":\"red\",\"line_width\":1.5,\"x\":{\"field\":\"x\"},\"y\":{\"field\":\"y\"}},\"id\":\"1485\",\"type\":\"Line\"},{\"attributes\":{\"line_alpha\":0.2,\"line_color\":\"red\",\"line_width\":1.5,\"x\":{\"field\":\"x\"},\"y\":{\"field\":\"y\"}},\"id\":\"1487\",\"type\":\"Line\"},{\"attributes\":{},\"id\":\"1493\",\"type\":\"AllLabels\"},{\"attributes\":{},\"id\":\"1496\",\"type\":\"AllLabels\"},{\"attributes\":{\"coordinates\":null,\"group\":null,\"items\":[{\"id\":\"1503\"}]},\"id\":\"1502\",\"type\":\"Legend\"},{\"attributes\":{\"coordinates\":null,\"data_source\":{\"id\":\"1484\"},\"glyph\":{\"id\":\"1485\"},\"group\":null,\"hover_glyph\":null,\"muted_glyph\":{\"id\":\"1487\"},\"nonselection_glyph\":{\"id\":\"1486\"},\"view\":{\"id\":\"1489\"}},\"id\":\"1488\",\"type\":\"GlyphRenderer\"},{\"attributes\":{},\"id\":\"1499\",\"type\":\"UnionRenderers\"},{\"attributes\":{\"fill_color\":{\"value\":\"black\"},\"x\":{\"field\":\"x\"},\"y\":{\"field\":\"y\"}},\"id\":\"1479\",\"type\":\"Scatter\"},{\"attributes\":{\"axis\":{\"id\":\"1460\"},\"coordinates\":null,\"dimension\":1,\"group\":null,\"ticker\":null},\"id\":\"1463\",\"type\":\"Grid\"},{\"attributes\":{},\"id\":\"1500\",\"type\":\"Selection\"},{\"attributes\":{},\"id\":\"1461\",\"type\":\"BasicTicker\"},{\"attributes\":{},\"id\":\"1452\",\"type\":\"LinearScale\"},{\"attributes\":{\"overlay\":{\"id\":\"1470\"}},\"id\":\"1466\",\"type\":\"BoxZoomTool\"},{\"attributes\":{},\"id\":\"1469\",\"type\":\"HelpTool\"},{\"attributes\":{\"data\":{\"x\":{\"__ndarray__\":\"exSuR+F6hD97FK5H4XqUP7gehetRuJ4/exSuR+F6pD+amZmZmZmpP7gehetRuK4/7FG4HoXrsT97FK5H4Xq0PwrXo3A9Crc/mpmZmZmZuT8pXI/C9Si8P7gehetRuL4/pHA9CtejwD/sUbgehevBPzMzMzMzM8M/exSuR+F6xD/D9Shcj8LFPwrXo3A9Csc/UrgehetRyD+amZmZmZnJP+F6FK5H4co/KVyPwvUozD9xPQrXo3DNP7gehetRuM4/AAAAAAAA0D+kcD0K16PQP0jhehSuR9E/7FG4HoXr0T+PwvUoXI/SPzMzMzMzM9M/16NwPQrX0z97FK5H4XrUPx+F61G4HtU/w/UoXI/C1T9mZmZmZmbWPwrXo3A9Ctc/rkfhehSu1z9SuB6F61HYP/YoXI/C9dg/mpmZmZmZ2T89CtejcD3aP+F6FK5H4do/hetRuB6F2z8pXI/C9SjcP83MzMzMzNw/cT0K16Nw3T8UrkfhehTeP7gehetRuN4/XI/C9Shc3z8AAAAAAADgP1K4HoXrUeA/pHA9Ctej4D/2KFyPwvXgP0jhehSuR+E/mpmZmZmZ4T/sUbgehevhPz0K16NwPeI/j8L1KFyP4j/hehSuR+HiPzMzMzMzM+M/hetRuB6F4z/Xo3A9CtfjPylcj8L1KOQ/exSuR+F65D/NzMzMzMzkPx+F61G4HuU/cT0K16Nw5T/D9Shcj8LlPxSuR+F6FOY/ZmZmZmZm5j+4HoXrUbjmPwrXo3A9Cuc/XI/C9Shc5z+uR+F6FK7nPwAAAAAAAOg/UrgehetR6D+kcD0K16PoP/YoXI/C9eg/SOF6FK5H6T+amZmZmZnpP+xRuB6F6+k/PQrXo3A96j+PwvUoXI/qP+F6FK5H4eo/MzMzMzMz6z+F61G4HoXrP9ejcD0K1+s/KVyPwvUo7D97FK5H4XrsP83MzMzMzOw/H4XrUbge7T9xPQrXo3DtP8P1KFyPwu0/FK5H4XoU7j9mZmZmZmbuP7gehetRuO4/CtejcD0K7z9cj8L1KFzvP65H4XoUru8/AAAAAAAA8D8=\",\"dtype\":\"float64\",\"order\":\"little\",\"shape\":[100]},\"y\":{\"__ndarray__\":\"hKdEsUY1rr8Q3PEJEJGOv0ggFiShw5E/CCGI70IcpD/wwLj7CsGqP8DH4p7MfK0/qN/Tw9fyrD9AheFXKL2pP4AH6UpmbKQ/wA+fHssPmz8A6QdomDaGPwDdVuxgbXi/gMG0OnK9l78AKujofIOkv2D6J4FHo6y/wOBCcl73sb8gz3KH6g+1v8Dt0fztfLe/wHjKzbgkub8AxIL0RPK5v+BIJuo11bm/QEyaLsvBuL/AhQjjsbC2vwBf1WvJnrO/gHy+Jc8Zr7+ArXtTOf+kvwDJBbDe+5G/APpt9KxNgz8AtmD/JFikPwCBcDD7trI/gIHitrz2uz+AyvJhqOrCP4BGcshMHcg/gEPL3k6GzT8A6G8L8YvRP6BpvPnDYdQ/wDOT+xY91z/AGJDJJRbaP4DeEgsA5dw/AGqvTZih3z8Ai+WI6SHhPwAo6P7LYeI/QIODQ3SM4z8gsYFg/J3kP2DRICGkkuU/QABhhN1m5j+ARVIvWRfnPwCFYt8Soec/QG6r3F0B6D9AbEBs8TXoP0CVfEL1POg/AJtQ9Q0V6D8Au5Buab3nP4CtQl7LNec/gJXrrJl+5j/A8d3t6JjlPwCKh9GIhuQ/QGO/lxBK4z/AqxOC6+bhP4CrF0ZlYeA/AJKW/Gt93T8AoTbtAQraPwCv8jhkdtY/ALsYlZzR0j8AJOxLDFfOPwCM1ybaKMc/ACoGO1w5wD8AlAfEWFGzPwBg878frJw/AGAOsU84jr8AcPRo4qKqvwB8+BQISLW/AFD9knCHu78A4AsJlva/vwAkPG8XRMG/ANiKGh+ewb8AUHLLyhDBvwD4wKNWV7+/AFAQv3QOu78AOHC9Nou1v97V2TlHTa6/yrsvnpyboL8hEGOlo7t3v5FNw8uEO5M/VX06ydMnpD+Kzz4GacCrP0pqgqurp68/PbneSehUrz+ilgQ5MYeqPxDbDlwBVqE/LfVUmHsHgT/YG4TCA3aXvyfUL9kbHK2/ZZucIfvgtr/6+k7/wHC9vxZW8bDdPMC/HiPWL9jRvb/lpan3ReCyv2afU5PrVos/ghhfK2tPxD8=\",\"dtype\":\"float64\",\"order\":\"little\",\"shape\":[100]}},\"selected\":{\"id\":\"1500\"},\"selection_policy\":{\"id\":\"1499\"}},\"id\":\"1484\",\"type\":\"ColumnDataSource\"},{\"attributes\":{\"coordinates\":null,\"formatter\":{\"id\":\"1495\"},\"group\":null,\"major_label_policy\":{\"id\":\"1496\"},\"ticker\":{\"id\":\"1457\"}},\"id\":\"1456\",\"type\":\"LinearAxis\"},{\"attributes\":{},\"id\":\"1465\",\"type\":\"WheelZoomTool\"},{\"attributes\":{\"axis\":{\"id\":\"1456\"},\"coordinates\":null,\"group\":null,\"ticker\":null},\"id\":\"1459\",\"type\":\"Grid\"},{\"attributes\":{},\"id\":\"1464\",\"type\":\"PanTool\"},{\"attributes\":{\"label\":{\"value\":\"y_hat\"},\"renderers\":[{\"id\":\"1488\"}]},\"id\":\"1503\",\"type\":\"LegendItem\"},{\"attributes\":{},\"id\":\"1450\",\"type\":\"DataRange1d\"},{\"attributes\":{},\"id\":\"1497\",\"type\":\"UnionRenderers\"},{\"attributes\":{},\"id\":\"1498\",\"type\":\"Selection\"},{\"attributes\":{},\"id\":\"1467\",\"type\":\"SaveTool\"},{\"attributes\":{\"fill_alpha\":{\"value\":0.2},\"fill_color\":{\"value\":\"black\"},\"hatch_alpha\":{\"value\":0.2},\"line_alpha\":{\"value\":0.2},\"x\":{\"field\":\"x\"},\"y\":{\"field\":\"y\"}},\"id\":\"1481\",\"type\":\"Scatter\"},{\"attributes\":{\"source\":{\"id\":\"1478\"}},\"id\":\"1483\",\"type\":\"CDSView\"}],\"root_ids\":[\"1445\"]},\"title\":\"Bokeh Application\",\"version\":\"2.4.3\"}};\n",
       "  const render_items = [{\"docid\":\"2e91364a-e69b-467d-9dcd-194be10363cd\",\"root_ids\":[\"1445\"],\"roots\":{\"1445\":\"a89517e6-018c-469d-92d7-c78069a4898b\"}}];\n",
       "  root.Bokeh.embed.embed_items_notebook(docs_json, render_items);\n",
       "  }\n",
       "  if (root.Bokeh !== undefined) {\n",
       "    embed_document(root);\n",
       "  } else {\n",
       "    let attempts = 0;\n",
       "    const timer = setInterval(function(root) {\n",
       "      if (root.Bokeh !== undefined) {\n",
       "        clearInterval(timer);\n",
       "        embed_document(root);\n",
       "      } else {\n",
       "        attempts++;\n",
       "        if (attempts > 100) {\n",
       "          clearInterval(timer);\n",
       "          console.log(\"Bokeh: ERROR: Unable to run BokehJS code because BokehJS library is missing\");\n",
       "        }\n",
       "      }\n",
       "    }, 10, root)\n",
       "  }\n",
       "})(window);"
      ],
      "application/vnd.bokehjs_exec.v0+json": ""
     },
     "metadata": {
      "application/vnd.bokehjs_exec.v0+json": {
       "id": "1445"
      }
     },
     "output_type": "display_data"
    }
   ],
   "source": [
    "# Plotting\n",
    "p = figure(width = 500, height = 300, title = 'Polynomial Splines K = 5 L = 4')\n",
    "p.scatter(x= xi.flatten(), y= yi.flatten(), color = 'black') # Raw Data\n",
    "p.line(x= xi.flatten(), y = y_predicted.flatten(),  line_color = 'red', \n",
    "      legend_label = 'y_hat', line_width = 1.5 ) # Predicted\n",
    "show(p)"
   ]
  },
  {
   "cell_type": "code",
   "execution_count": null,
   "id": "085b69b3",
   "metadata": {},
   "outputs": [],
   "source": [
    "# df = pd.DataFrame(X)\n",
    "# df.columns = [1, 'x^1', 'x^2', 'x^3', 'x^4', '(x-0.2)^K','(x-0.4)^K','(x-0.6)^K', '(x-0.8)^K' ]\n",
    "# df.head(10)"
   ]
  },
  {
   "cell_type": "code",
   "execution_count": null,
   "id": "3686ed6c",
   "metadata": {},
   "outputs": [],
   "source": [
    "X[:,8]"
   ]
  },
  {
   "cell_type": "code",
   "execution_count": null,
   "id": "4ad82a63",
   "metadata": {},
   "outputs": [],
   "source": [
    "np.where(xi - 0.2 > 0, (xi-0.2)**K, 0)"
   ]
  },
  {
   "cell_type": "code",
   "execution_count": null,
   "id": "956bd5b3",
   "metadata": {},
   "outputs": [],
   "source": [
    "X = np.arange(6).reshape(6, 1)"
   ]
  },
  {
   "cell_type": "code",
   "execution_count": null,
   "id": "ef73a688",
   "metadata": {},
   "outputs": [],
   "source": [
    "X"
   ]
  },
  {
   "cell_type": "code",
   "execution_count": null,
   "id": "590b068a",
   "metadata": {},
   "outputs": [],
   "source": []
  }
 ],
 "metadata": {
  "kernelspec": {
   "display_name": "Python 3 (ipykernel)",
   "language": "python",
   "name": "python3"
  },
  "language_info": {
   "codemirror_mode": {
    "name": "ipython",
    "version": 3
   },
   "file_extension": ".py",
   "mimetype": "text/x-python",
   "name": "python",
   "nbconvert_exporter": "python",
   "pygments_lexer": "ipython3",
   "version": "3.10.2"
  }
 },
 "nbformat": 4,
 "nbformat_minor": 5
}
