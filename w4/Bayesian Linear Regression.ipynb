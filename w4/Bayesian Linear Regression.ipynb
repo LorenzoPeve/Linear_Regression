{
 "cells": [
  {
   "cell_type": "code",
   "execution_count": 96,
   "id": "28d75810",
   "metadata": {},
   "outputs": [],
   "source": [
    "import arviz as az\n",
    "import pandas as pd\n",
    "import numpy as np\n",
    "import pymc as pm\n",
    "import os\n",
    "import matplotlib.pyplot as plt"
   ]
  },
  {
   "cell_type": "markdown",
   "id": "703c13a1",
   "metadata": {},
   "source": [
    "## Read Data"
   ]
  },
  {
   "cell_type": "code",
   "execution_count": 6,
   "id": "d6423439",
   "metadata": {},
   "outputs": [
    {
     "data": {
      "text/html": [
       "<div>\n",
       "<style scoped>\n",
       "    .dataframe tbody tr th:only-of-type {\n",
       "        vertical-align: middle;\n",
       "    }\n",
       "\n",
       "    .dataframe tbody tr th {\n",
       "        vertical-align: top;\n",
       "    }\n",
       "\n",
       "    .dataframe thead th {\n",
       "        text-align: right;\n",
       "    }\n",
       "</style>\n",
       "<table border=\"1\" class=\"dataframe\">\n",
       "  <thead>\n",
       "    <tr style=\"text-align: right;\">\n",
       "      <th></th>\n",
       "      <th>y</th>\n",
       "      <th>x1</th>\n",
       "      <th>x2</th>\n",
       "      <th>x3</th>\n",
       "    </tr>\n",
       "  </thead>\n",
       "  <tbody>\n",
       "    <tr>\n",
       "      <th>0</th>\n",
       "      <td>-1.471961</td>\n",
       "      <td>1</td>\n",
       "      <td>-0.626454</td>\n",
       "      <td>-0.383425</td>\n",
       "    </tr>\n",
       "    <tr>\n",
       "      <th>1</th>\n",
       "      <td>4.585642</td>\n",
       "      <td>1</td>\n",
       "      <td>1.595281</td>\n",
       "      <td>1.215549</td>\n",
       "    </tr>\n",
       "    <tr>\n",
       "      <th>2</th>\n",
       "      <td>3.113337</td>\n",
       "      <td>1</td>\n",
       "      <td>0.487429</td>\n",
       "      <td>0.562698</td>\n",
       "    </tr>\n",
       "    <tr>\n",
       "      <th>3</th>\n",
       "      <td>1.018829</td>\n",
       "      <td>1</td>\n",
       "      <td>-0.305388</td>\n",
       "      <td>0.239762</td>\n",
       "    </tr>\n",
       "    <tr>\n",
       "      <th>4</th>\n",
       "      <td>-0.216829</td>\n",
       "      <td>1</td>\n",
       "      <td>-0.621241</td>\n",
       "      <td>-1.099278</td>\n",
       "    </tr>\n",
       "  </tbody>\n",
       "</table>\n",
       "</div>"
      ],
      "text/plain": [
       "          y  x1        x2        x3\n",
       "0 -1.471961   1 -0.626454 -0.383425\n",
       "1  4.585642   1  1.595281  1.215549\n",
       "2  3.113337   1  0.487429  0.562698\n",
       "3  1.018829   1 -0.305388  0.239762\n",
       "4 -0.216829   1 -0.621241 -1.099278"
      ]
     },
     "execution_count": 6,
     "metadata": {},
     "output_type": "execute_result"
    }
   ],
   "source": [
    "df = pd.read_csv('HW2_data.csv')\n",
    "df.head()"
   ]
  },
  {
   "cell_type": "markdown",
   "id": "4901600e",
   "metadata": {},
   "source": [
    "Extract predictor and response observations"
   ]
  },
  {
   "cell_type": "code",
   "execution_count": null,
   "id": "dd1b7b97",
   "metadata": {},
   "outputs": [],
   "source": [
    "yi = df['y'].to_numpy()\n",
    "x1 = df['x1'].to_numpy()\n",
    "x2 = df['x2'].to_numpy()\n",
    "x3 = df['x3'].to_numpy()"
   ]
  },
  {
   "cell_type": "markdown",
   "id": "f11245f6",
   "metadata": {},
   "source": [
    "## Least Squares Linear Regression"
   ]
  },
  {
   "cell_type": "markdown",
   "id": "cdfa7733",
   "metadata": {},
   "source": [
    "Calculate the ordinary least squares (OLS) linear regression model for comparison."
   ]
  },
  {
   "cell_type": "markdown",
   "id": "f22b798f",
   "metadata": {},
   "source": [
    "\\begin{align}\n",
    "\\hat\\beta = (X'X)^{-1}X'y\n",
    "\\end{align}"
   ]
  },
  {
   "cell_type": "markdown",
   "id": "32f5ee27",
   "metadata": {},
   "source": [
    "\\begin{align}\n",
    "\\text{where X is the matrix of the independent variables. \n",
    "Matrix where each column is a predictor variable and each row has the observations} \n",
    "\\end{align}"
   ]
  },
  {
   "cell_type": "code",
   "execution_count": 14,
   "id": "f60b8a5d",
   "metadata": {},
   "outputs": [],
   "source": [
    "def find_estimators(y, *args):\n",
    "    X = np.stack((args), axis=1)\n",
    "    a1 = np.matmul(X.T, X)\n",
    "    inv_a1 = np.linalg.inv(a1)\n",
    "    a2 = np.matmul(inv_a1, X.T)\n",
    "    res = np.matmul(a2, y)\n",
    "    return res"
   ]
  },
  {
   "cell_type": "code",
   "execution_count": 72,
   "id": "11558864",
   "metadata": {
    "scrolled": true
   },
   "outputs": [
    {
     "data": {
      "text/plain": [
       "(0.9925764865075013, 2.0805342305653247, 0.7053498780401117)"
      ]
     },
     "execution_count": 72,
     "metadata": {},
     "output_type": "execute_result"
    }
   ],
   "source": [
    "b1,b2,b3 = find_estimators(yi, x1, x2, x3)\n",
    "b1,b2,b3"
   ]
  },
  {
   "attachments": {},
   "cell_type": "markdown",
   "id": "341a3eb3",
   "metadata": {},
   "source": [
    "\\begin{align}\n",
    "y_i & = \\beta_{1}x_1 + \\beta_{2}x_2+ \\beta_{3}x_3+    \\epsilon_i \\\\\n",
    "y_i & = 0.9925 + 2.080x_2+ 0.7053x_3 +    \\epsilon_i\n",
    "\\end{align}"
   ]
  },
  {
   "cell_type": "code",
   "execution_count": 73,
   "id": "f9e240b6",
   "metadata": {},
   "outputs": [
    {
     "data": {
      "text/plain": [
       "0.6983662158812988"
      ]
     },
     "execution_count": 73,
     "metadata": {},
     "output_type": "execute_result"
    }
   ],
   "source": [
    "b3 / 1.01"
   ]
  },
  {
   "cell_type": "markdown",
   "id": "5977929a",
   "metadata": {},
   "source": [
    "## Bayesian Linear Regression"
   ]
  },
  {
   "cell_type": "markdown",
   "id": "9504fb1c",
   "metadata": {},
   "source": [
    "Initialize Variables"
   ]
  },
  {
   "cell_type": "code",
   "execution_count": 21,
   "id": "e71d739f",
   "metadata": {},
   "outputs": [
    {
     "name": "stdout",
     "output_type": "stream",
     "text": [
      "Design Matrix:\n",
      "[[ 1.         -0.62645381 -0.38342467]\n",
      " [ 1.          1.5952808   1.21554889]\n",
      " [ 1.          0.48742905  0.56269775]\n",
      " [ 1.         -0.30538839  0.23976248]\n",
      " [ 1.         -0.62124058 -1.09927837]]\n",
      "\n",
      "(X'X)^{-1}:\n"
     ]
    },
    {
     "data": {
      "text/plain": [
       "array([[ 0.03605075,  0.00886407, -0.02331968],\n",
       "       [ 0.00886407,  0.30290927, -0.37437606],\n",
       "       [-0.02331968, -0.37437606,  0.52489867]])"
      ]
     },
     "execution_count": 21,
     "metadata": {},
     "output_type": "execute_result"
    }
   ],
   "source": [
    "def inv_product_design_mat(*args):\n",
    "    X = np.stack((args), axis=1)\n",
    "    a1 = np.matmul(X.T, X)\n",
    "    inv_a1 = np.linalg.inv(a1)\n",
    "    return inv_a1\n",
    "\n",
    "\n",
    "X = np.stack((x1, x2, x3), axis=1)\n",
    "print('Design Matrix:')\n",
    "print(X[:5])\n",
    "print(\"\")\n",
    "print(\"(X'X)^{-1}:\")\n",
    "inv_x_prime_x = inv_product_design_mat(x1, x2, x3)\n",
    "inv_x_prime_x"
   ]
  },
  {
   "cell_type": "code",
   "execution_count": 61,
   "id": "edcc74b9",
   "metadata": {},
   "outputs": [
    {
     "name": "stderr",
     "output_type": "stream",
     "text": [
      "Auto-assigning NUTS sampler...\n",
      "Initializing NUTS using jitter+adapt_diag...\n",
      "Multiprocess sampling (4 chains in 4 jobs)\n",
      "NUTS: [beta, sigma]\n"
     ]
    },
    {
     "data": {
      "text/html": [
       "\n",
       "<style>\n",
       "    /* Turns off some styling */\n",
       "    progress {\n",
       "        /* gets rid of default border in Firefox and Opera. */\n",
       "        border: none;\n",
       "        /* Needs to be in here for Safari polyfill so background images work as expected. */\n",
       "        background-size: auto;\n",
       "    }\n",
       "    .progress-bar-interrupted, .progress-bar-interrupted::-webkit-progress-bar {\n",
       "        background: #F44336;\n",
       "    }\n",
       "</style>\n"
      ],
      "text/plain": [
       "<IPython.core.display.HTML object>"
      ]
     },
     "metadata": {},
     "output_type": "display_data"
    },
    {
     "data": {
      "text/html": [
       "\n",
       "    <div>\n",
       "      <progress value='16000' class='' max='16000' style='width:300px; height:20px; vertical-align: middle;'></progress>\n",
       "      100.00% [16000/16000 00:08<00:00 Sampling 4 chains, 7 divergences]\n",
       "    </div>\n",
       "    "
      ],
      "text/plain": [
       "<IPython.core.display.HTML object>"
      ]
     },
     "metadata": {},
     "output_type": "display_data"
    },
    {
     "name": "stderr",
     "output_type": "stream",
     "text": [
      "Sampling 4 chains for 1_000 tune and 3_000 draw iterations (4_000 + 12_000 draws total) took 9 seconds.\n",
      "There was 1 divergence after tuning. Increase `target_accept` or reparameterize.\n",
      "There were 6 divergences after tuning. Increase `target_accept` or reparameterize.\n"
     ]
    }
   ],
   "source": [
    "with pm.Model() as model:\n",
    "    \n",
    "    # Step 1: Specify the Prior Model ---------------------------------\n",
    "    # Assume B has a multivariate normal prior with:\n",
    "    #     mean 0 and covariance matrix 100*(X'X)^{-1}\n",
    "    \n",
    "    # Extract variances from covariance matrix and take SQRT\n",
    "    beta_sigma = np.sqrt(np.diag(100*inv_x_prime_x))\n",
    "    beta = pm.Normal('beta', mu = 0, sigma = beta_sigma, shape=3)        \n",
    "    sigma = pm.HalfNormal('sigma', sigma = 1.0)            # homoscedastic error in standard deviation\n",
    "    \n",
    "    # Step 2: Specify the linear model ---------------------------------\n",
    "    mu = pm.math.dot(X, beta)\n",
    "    \n",
    "    # Step 3 Define the distribution of the predictor and response features\n",
    "    y_obs = pm.Normal('y_obs', mu = mu, sigma = sigma, observed = yi)\n",
    "   \n",
    "    # Step 4: Posterior distribution\n",
    "    result = pm.sample(draws = 3000)"
   ]
  },
  {
   "cell_type": "code",
   "execution_count": 63,
   "id": "dbef241d",
   "metadata": {
    "scrolled": true
   },
   "outputs": [
    {
     "data": {
      "text/html": [
       "<div>\n",
       "<style scoped>\n",
       "    .dataframe tbody tr th:only-of-type {\n",
       "        vertical-align: middle;\n",
       "    }\n",
       "\n",
       "    .dataframe tbody tr th {\n",
       "        vertical-align: top;\n",
       "    }\n",
       "\n",
       "    .dataframe thead th {\n",
       "        text-align: right;\n",
       "    }\n",
       "</style>\n",
       "<table border=\"1\" class=\"dataframe\">\n",
       "  <thead>\n",
       "    <tr style=\"text-align: right;\">\n",
       "      <th></th>\n",
       "      <th>mean</th>\n",
       "      <th>sd</th>\n",
       "      <th>hdi_3%</th>\n",
       "      <th>hdi_97%</th>\n",
       "      <th>mcse_mean</th>\n",
       "      <th>mcse_sd</th>\n",
       "      <th>ess_bulk</th>\n",
       "      <th>ess_tail</th>\n",
       "      <th>r_hat</th>\n",
       "    </tr>\n",
       "  </thead>\n",
       "  <tbody>\n",
       "    <tr>\n",
       "      <th>beta[0]</th>\n",
       "      <td>0.985</td>\n",
       "      <td>0.166</td>\n",
       "      <td>0.676</td>\n",
       "      <td>1.299</td>\n",
       "      <td>0.002</td>\n",
       "      <td>0.001</td>\n",
       "      <td>6414.0</td>\n",
       "      <td>6180.0</td>\n",
       "      <td>1.0</td>\n",
       "    </tr>\n",
       "    <tr>\n",
       "      <th>beta[1]</th>\n",
       "      <td>2.068</td>\n",
       "      <td>0.480</td>\n",
       "      <td>1.141</td>\n",
       "      <td>2.966</td>\n",
       "      <td>0.007</td>\n",
       "      <td>0.005</td>\n",
       "      <td>4306.0</td>\n",
       "      <td>5035.0</td>\n",
       "      <td>1.0</td>\n",
       "    </tr>\n",
       "    <tr>\n",
       "      <th>beta[2]</th>\n",
       "      <td>0.724</td>\n",
       "      <td>0.635</td>\n",
       "      <td>-0.492</td>\n",
       "      <td>1.915</td>\n",
       "      <td>0.010</td>\n",
       "      <td>0.007</td>\n",
       "      <td>4267.0</td>\n",
       "      <td>4920.0</td>\n",
       "      <td>1.0</td>\n",
       "    </tr>\n",
       "    <tr>\n",
       "      <th>sigma</th>\n",
       "      <td>0.864</td>\n",
       "      <td>0.122</td>\n",
       "      <td>0.651</td>\n",
       "      <td>1.091</td>\n",
       "      <td>0.002</td>\n",
       "      <td>0.001</td>\n",
       "      <td>4229.0</td>\n",
       "      <td>2630.0</td>\n",
       "      <td>1.0</td>\n",
       "    </tr>\n",
       "  </tbody>\n",
       "</table>\n",
       "</div>"
      ],
      "text/plain": [
       "          mean     sd  hdi_3%  hdi_97%  mcse_mean  mcse_sd  ess_bulk  \\\n",
       "beta[0]  0.985  0.166   0.676    1.299      0.002    0.001    6414.0   \n",
       "beta[1]  2.068  0.480   1.141    2.966      0.007    0.005    4306.0   \n",
       "beta[2]  0.724  0.635  -0.492    1.915      0.010    0.007    4267.0   \n",
       "sigma    0.864  0.122   0.651    1.091      0.002    0.001    4229.0   \n",
       "\n",
       "         ess_tail  r_hat  \n",
       "beta[0]    6180.0    1.0  \n",
       "beta[1]    5035.0    1.0  \n",
       "beta[2]    4920.0    1.0  \n",
       "sigma      2630.0    1.0  "
      ]
     },
     "execution_count": 63,
     "metadata": {},
     "output_type": "execute_result"
    }
   ],
   "source": [
    "# Sigma = [10,10,10] and 3,000 draws\n",
    "df = pm.stats.summary(result)\n",
    "df"
   ]
  },
  {
   "cell_type": "code",
   "execution_count": 66,
   "id": "e808d68b",
   "metadata": {},
   "outputs": [
    {
     "data": {
      "text/plain": [
       "0.403225"
      ]
     },
     "execution_count": 66,
     "metadata": {},
     "output_type": "execute_result"
    }
   ],
   "source": [
    "df.loc['beta[2]','sd']**2"
   ]
  },
  {
   "cell_type": "code",
   "execution_count": 67,
   "id": "d8655be4",
   "metadata": {},
   "outputs": [
    {
     "name": "stderr",
     "output_type": "stream",
     "text": [
      "Auto-assigning NUTS sampler...\n",
      "Initializing NUTS using jitter+adapt_diag...\n",
      "Multiprocess sampling (4 chains in 4 jobs)\n",
      "NUTS: [beta]\n"
     ]
    },
    {
     "data": {
      "text/html": [
       "\n",
       "<style>\n",
       "    /* Turns off some styling */\n",
       "    progress {\n",
       "        /* gets rid of default border in Firefox and Opera. */\n",
       "        border: none;\n",
       "        /* Needs to be in here for Safari polyfill so background images work as expected. */\n",
       "        background-size: auto;\n",
       "    }\n",
       "    .progress-bar-interrupted, .progress-bar-interrupted::-webkit-progress-bar {\n",
       "        background: #F44336;\n",
       "    }\n",
       "</style>\n"
      ],
      "text/plain": [
       "<IPython.core.display.HTML object>"
      ]
     },
     "metadata": {},
     "output_type": "display_data"
    },
    {
     "data": {
      "text/html": [
       "\n",
       "    <div>\n",
       "      <progress value='16000' class='' max='16000' style='width:300px; height:20px; vertical-align: middle;'></progress>\n",
       "      100.00% [16000/16000 00:05<00:00 Sampling 4 chains, 0 divergences]\n",
       "    </div>\n",
       "    "
      ],
      "text/plain": [
       "<IPython.core.display.HTML object>"
      ]
     },
     "metadata": {},
     "output_type": "display_data"
    },
    {
     "name": "stderr",
     "output_type": "stream",
     "text": [
      "Sampling 4 chains for 1_000 tune and 3_000 draw iterations (4_000 + 12_000 draws total) took 6 seconds.\n",
      "The acceptance probability does not match the target. It is 0.9003, but should be close to 0.8. Try to increase the number of tuning steps.\n",
      "The acceptance probability does not match the target. It is 0.8978, but should be close to 0.8. Try to increase the number of tuning steps.\n"
     ]
    }
   ],
   "source": [
    "with pm.Model() as model:\n",
    "    \n",
    "    # Step 1: Specify the Prior Model ---------------------------------\n",
    "    # Assume B has a multivariate normal prior with:\n",
    "    #     mean 0 and covariance matrix 100*(X'X)^{-1}\n",
    "    \n",
    "    # Extract variances from covariance matrix and take SQRT\n",
    "    beta_sigma = np.sqrt(np.diag(100*inv_x_prime_x))\n",
    "    beta = pm.Normal('beta', mu = 0, sigma = beta_sigma, shape=3)        \n",
    "    #sigma = pm.HalfNormal('sigma', sigma = 1.0)            # homoscedastic error in standard deviation\n",
    "    \n",
    "    # Step 2: Specify the linear model ---------------------------------\n",
    "    mu = pm.math.dot(X, beta)\n",
    "    \n",
    "    # Step 3 Define the distribution of the predictor and response features\n",
    "    y_obs = pm.Normal('y_obs', mu = mu, sigma = 1, observed = yi)\n",
    "   \n",
    "    # Step 4: Posterior distribution\n",
    "    result_v2 = pm.sample(draws = 3000)"
   ]
  },
  {
   "cell_type": "code",
   "execution_count": 68,
   "id": "5c3463a4",
   "metadata": {},
   "outputs": [
    {
     "data": {
      "text/html": [
       "<div>\n",
       "<style scoped>\n",
       "    .dataframe tbody tr th:only-of-type {\n",
       "        vertical-align: middle;\n",
       "    }\n",
       "\n",
       "    .dataframe tbody tr th {\n",
       "        vertical-align: top;\n",
       "    }\n",
       "\n",
       "    .dataframe thead th {\n",
       "        text-align: right;\n",
       "    }\n",
       "</style>\n",
       "<table border=\"1\" class=\"dataframe\">\n",
       "  <thead>\n",
       "    <tr style=\"text-align: right;\">\n",
       "      <th></th>\n",
       "      <th>mean</th>\n",
       "      <th>sd</th>\n",
       "      <th>hdi_3%</th>\n",
       "      <th>hdi_97%</th>\n",
       "      <th>mcse_mean</th>\n",
       "      <th>mcse_sd</th>\n",
       "      <th>ess_bulk</th>\n",
       "      <th>ess_tail</th>\n",
       "      <th>r_hat</th>\n",
       "    </tr>\n",
       "  </thead>\n",
       "  <tbody>\n",
       "    <tr>\n",
       "      <th>beta[0]</th>\n",
       "      <td>0.984</td>\n",
       "      <td>0.193</td>\n",
       "      <td>0.623</td>\n",
       "      <td>1.342</td>\n",
       "      <td>0.002</td>\n",
       "      <td>0.002</td>\n",
       "      <td>6333.0</td>\n",
       "      <td>6272.0</td>\n",
       "      <td>1.0</td>\n",
       "    </tr>\n",
       "    <tr>\n",
       "      <th>beta[1]</th>\n",
       "      <td>2.065</td>\n",
       "      <td>0.559</td>\n",
       "      <td>1.045</td>\n",
       "      <td>3.139</td>\n",
       "      <td>0.009</td>\n",
       "      <td>0.007</td>\n",
       "      <td>3585.0</td>\n",
       "      <td>4836.0</td>\n",
       "      <td>1.0</td>\n",
       "    </tr>\n",
       "    <tr>\n",
       "      <th>beta[2]</th>\n",
       "      <td>0.728</td>\n",
       "      <td>0.734</td>\n",
       "      <td>-0.644</td>\n",
       "      <td>2.094</td>\n",
       "      <td>0.013</td>\n",
       "      <td>0.009</td>\n",
       "      <td>3430.0</td>\n",
       "      <td>4664.0</td>\n",
       "      <td>1.0</td>\n",
       "    </tr>\n",
       "  </tbody>\n",
       "</table>\n",
       "</div>"
      ],
      "text/plain": [
       "          mean     sd  hdi_3%  hdi_97%  mcse_mean  mcse_sd  ess_bulk  \\\n",
       "beta[0]  0.984  0.193   0.623    1.342      0.002    0.002    6333.0   \n",
       "beta[1]  2.065  0.559   1.045    3.139      0.009    0.007    3585.0   \n",
       "beta[2]  0.728  0.734  -0.644    2.094      0.013    0.009    3430.0   \n",
       "\n",
       "         ess_tail  r_hat  \n",
       "beta[0]    6272.0    1.0  \n",
       "beta[1]    4836.0    1.0  \n",
       "beta[2]    4664.0    1.0  "
      ]
     },
     "execution_count": 68,
     "metadata": {},
     "output_type": "execute_result"
    }
   ],
   "source": [
    "df = pm.stats.summary(result_v2)\n",
    "df"
   ]
  },
  {
   "cell_type": "code",
   "execution_count": 69,
   "id": "bf8a0eb0",
   "metadata": {},
   "outputs": [
    {
     "data": {
      "text/plain": [
       "0.538756"
      ]
     },
     "execution_count": 69,
     "metadata": {},
     "output_type": "execute_result"
    }
   ],
   "source": [
    "df.loc['beta[2]','sd']**2"
   ]
  },
  {
   "cell_type": "code",
   "execution_count": 70,
   "id": "b578327a",
   "metadata": {},
   "outputs": [
    {
     "data": {
      "text/plain": [
       "0.7207920792079208"
      ]
     },
     "execution_count": 70,
     "metadata": {},
     "output_type": "execute_result"
    }
   ],
   "source": [
    "0.728 / 1.01"
   ]
  },
  {
   "cell_type": "code",
   "execution_count": null,
   "id": "757cb073",
   "metadata": {},
   "outputs": [],
   "source": []
  },
  {
   "cell_type": "code",
   "execution_count": null,
   "id": "174ee80a",
   "metadata": {},
   "outputs": [],
   "source": []
  },
  {
   "cell_type": "markdown",
   "id": "e9b22800",
   "metadata": {},
   "source": [
    "## Class Example"
   ]
  },
  {
   "cell_type": "markdown",
   "id": "8ea0ee50",
   "metadata": {},
   "source": [
    "Synthetic Data"
   ]
  },
  {
   "cell_type": "code",
   "execution_count": 82,
   "id": "e77a1fbd",
   "metadata": {},
   "outputs": [],
   "source": [
    "RANDOM_SEED = 8927\n",
    "rng = np.random.default_rng(RANDOM_SEED)\n",
    "\n",
    "# True parameter values\n",
    "alpha, sigma = 2, 1\n",
    "beta = [-1]\n",
    "\n",
    "# Size of dataset\n",
    "size = 100\n",
    "\n",
    "# Predictor variable\n",
    "X1 = np.random.randn(size)\n",
    "\n",
    "# Simulate outcome variable\n",
    "Y = alpha + beta[0] * X1 + rng.normal(size=size) * sigma\n",
    "\n",
    "fig, axes = plt.subplots(1, 1, sharex=True, figsize=(10, 4))\n",
    "axes.scatter(X1, Y, alpha=0.6)\n",
    "axes.set_ylabel(\"Y\")\n",
    "axes.set_xlabel(\"X1\")"
   ]
  },
  {
   "cell_type": "markdown",
   "id": "ac720f64",
   "metadata": {},
   "source": [
    "Covariance Matrix"
   ]
  },
  {
   "cell_type": "code",
   "execution_count": 88,
   "id": "04349d83",
   "metadata": {
    "scrolled": true
   },
   "outputs": [
    {
     "data": {
      "text/plain": [
       "array([[0.01046616, 0.0020717 ],\n",
       "       [0.0020717 , 0.00920707]])"
      ]
     },
     "execution_count": 88,
     "metadata": {},
     "output_type": "execute_result"
    }
   ],
   "source": [
    "X = np.stack((np.ones(Y.shape), X1), axis=1)\n",
    "inv_x_prime_x = inv_product_design_mat(np.ones(Y.shape), X1)\n",
    "inv_x_prime_x"
   ]
  },
  {
   "cell_type": "markdown",
   "id": "ef1dd78b",
   "metadata": {},
   "source": [
    "Extract Variance of Estimators"
   ]
  },
  {
   "cell_type": "code",
   "execution_count": 86,
   "id": "c7d5e337",
   "metadata": {},
   "outputs": [
    {
     "data": {
      "text/plain": [
       "array([1.02304247, 0.95953479])"
      ]
     },
     "execution_count": 86,
     "metadata": {},
     "output_type": "execute_result"
    }
   ],
   "source": [
    "psi = 0.01\n",
    "beta_sigma = np.sqrt(np.diag((1/psi)*inv_x_prime_x))\n",
    "beta_sigma"
   ]
  },
  {
   "cell_type": "code",
   "execution_count": 99,
   "id": "122273c5",
   "metadata": {},
   "outputs": [
    {
     "name": "stderr",
     "output_type": "stream",
     "text": [
      "Auto-assigning NUTS sampler...\n",
      "Initializing NUTS using jitter+adapt_diag...\n",
      "Multiprocess sampling (4 chains in 4 jobs)\n",
      "NUTS: [beta, sigma]\n"
     ]
    },
    {
     "data": {
      "text/html": [
       "\n",
       "<style>\n",
       "    /* Turns off some styling */\n",
       "    progress {\n",
       "        /* gets rid of default border in Firefox and Opera. */\n",
       "        border: none;\n",
       "        /* Needs to be in here for Safari polyfill so background images work as expected. */\n",
       "        background-size: auto;\n",
       "    }\n",
       "    .progress-bar-interrupted, .progress-bar-interrupted::-webkit-progress-bar {\n",
       "        background: #F44336;\n",
       "    }\n",
       "</style>\n"
      ],
      "text/plain": [
       "<IPython.core.display.HTML object>"
      ]
     },
     "metadata": {},
     "output_type": "display_data"
    },
    {
     "data": {
      "text/html": [
       "\n",
       "    <div>\n",
       "      <progress value='16000' class='' max='16000' style='width:300px; height:20px; vertical-align: middle;'></progress>\n",
       "      100.00% [16000/16000 00:03<00:00 Sampling 4 chains, 0 divergences]\n",
       "    </div>\n",
       "    "
      ],
      "text/plain": [
       "<IPython.core.display.HTML object>"
      ]
     },
     "metadata": {},
     "output_type": "display_data"
    },
    {
     "name": "stderr",
     "output_type": "stream",
     "text": [
      "Sampling 4 chains for 1_000 tune and 3_000 draw iterations (4_000 + 12_000 draws total) took 4 seconds.\n"
     ]
    }
   ],
   "source": [
    "basic_model = pm.Model()\n",
    "\n",
    "with basic_model:\n",
    "      \n",
    "    # Extract variances from covariance matrix and take SQRT\n",
    "    beta = pm.Normal('beta', mu = 0, sigma = beta_sigma, shape=2)        \n",
    "    sigma = pm.Normal('sigma', mu = 0, sigma = 1.0)            # homoscedastic error in standard deviation\n",
    "    \n",
    "    # Step 2: Specify the linear model ---------------------------------\n",
    "    mu = pm.math.dot(X, beta) # Our Expected Observations\n",
    "    \n",
    "#     # Step 3 Define the distribution of the predictor and response features\n",
    "#     y_obs = pm.Normal('y_obs', mu = mu / (1+ psi), sigma = sigma, observed = Y)\n",
    "   \n",
    "    # Step 4: Posterior distribution\n",
    "    result = pm.sample(draws = 3000)"
   ]
  },
  {
   "cell_type": "code",
   "execution_count": 100,
   "id": "4ae480c6",
   "metadata": {},
   "outputs": [
    {
     "data": {
      "text/html": [
       "<div>\n",
       "<style scoped>\n",
       "    .dataframe tbody tr th:only-of-type {\n",
       "        vertical-align: middle;\n",
       "    }\n",
       "\n",
       "    .dataframe tbody tr th {\n",
       "        vertical-align: top;\n",
       "    }\n",
       "\n",
       "    .dataframe thead th {\n",
       "        text-align: right;\n",
       "    }\n",
       "</style>\n",
       "<table border=\"1\" class=\"dataframe\">\n",
       "  <thead>\n",
       "    <tr style=\"text-align: right;\">\n",
       "      <th></th>\n",
       "      <th>mean</th>\n",
       "      <th>sd</th>\n",
       "      <th>hdi_3%</th>\n",
       "      <th>hdi_97%</th>\n",
       "      <th>mcse_mean</th>\n",
       "      <th>mcse_sd</th>\n",
       "      <th>ess_bulk</th>\n",
       "      <th>ess_tail</th>\n",
       "      <th>r_hat</th>\n",
       "    </tr>\n",
       "  </thead>\n",
       "  <tbody>\n",
       "    <tr>\n",
       "      <th>beta[0]</th>\n",
       "      <td>-0.000</td>\n",
       "      <td>1.027</td>\n",
       "      <td>-1.926</td>\n",
       "      <td>1.925</td>\n",
       "      <td>0.008</td>\n",
       "      <td>0.010</td>\n",
       "      <td>16218.0</td>\n",
       "      <td>8628.0</td>\n",
       "      <td>1.0</td>\n",
       "    </tr>\n",
       "    <tr>\n",
       "      <th>beta[1]</th>\n",
       "      <td>0.014</td>\n",
       "      <td>0.964</td>\n",
       "      <td>-1.857</td>\n",
       "      <td>1.735</td>\n",
       "      <td>0.008</td>\n",
       "      <td>0.010</td>\n",
       "      <td>15366.0</td>\n",
       "      <td>7870.0</td>\n",
       "      <td>1.0</td>\n",
       "    </tr>\n",
       "    <tr>\n",
       "      <th>sigma</th>\n",
       "      <td>-0.010</td>\n",
       "      <td>1.009</td>\n",
       "      <td>-1.838</td>\n",
       "      <td>1.938</td>\n",
       "      <td>0.008</td>\n",
       "      <td>0.009</td>\n",
       "      <td>15614.0</td>\n",
       "      <td>9248.0</td>\n",
       "      <td>1.0</td>\n",
       "    </tr>\n",
       "  </tbody>\n",
       "</table>\n",
       "</div>"
      ],
      "text/plain": [
       "          mean     sd  hdi_3%  hdi_97%  mcse_mean  mcse_sd  ess_bulk  \\\n",
       "beta[0] -0.000  1.027  -1.926    1.925      0.008    0.010   16218.0   \n",
       "beta[1]  0.014  0.964  -1.857    1.735      0.008    0.010   15366.0   \n",
       "sigma   -0.010  1.009  -1.838    1.938      0.008    0.009   15614.0   \n",
       "\n",
       "         ess_tail  r_hat  \n",
       "beta[0]    8628.0    1.0  \n",
       "beta[1]    7870.0    1.0  \n",
       "sigma      9248.0    1.0  "
      ]
     },
     "execution_count": 100,
     "metadata": {},
     "output_type": "execute_result"
    }
   ],
   "source": [
    "df = pm.stats.summary(result)\n",
    "df"
   ]
  },
  {
   "cell_type": "code",
   "execution_count": 97,
   "id": "fb05cae2",
   "metadata": {},
   "outputs": [
    {
     "data": {
      "image/png": "[encoded data removed]",
      "text/plain": [
       "<Figure size 864x288 with 4 Axes>"
      ]
     },
     "metadata": {
      "needs_background": "light"
     },
     "output_type": "display_data"
    }
   ],
   "source": [
    "az.plot_trace(result, combined=True);"
   ]
  },
  {
   "cell_type": "code",
   "execution_count": null,
   "id": "9a261774",
   "metadata": {},
   "outputs": [],
   "source": []
  }
 ],
 "metadata": {
  "kernelspec": {
   "display_name": "pymc_env",
   "language": "python",
   "name": "pymc_env"
  },
  "language_info": {
   "codemirror_mode": {
    "name": "ipython",
    "version": 3
   },
   "file_extension": ".py",
   "mimetype": "text/x-python",
   "name": "python",
   "nbconvert_exporter": "python",
   "pygments_lexer": "ipython3",
   "version": "3.10.5"
  }
 },
 "nbformat": 4,
 "nbformat_minor": 5
}
