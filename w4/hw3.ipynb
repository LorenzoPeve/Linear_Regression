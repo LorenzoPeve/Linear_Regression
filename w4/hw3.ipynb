{
 "cells": [
  {
   "cell_type": "markdown",
   "id": "1f0ad452",
   "metadata": {},
   "source": [
    "### Import Libraries"
   ]
  },
  {
   "cell_type": "code",
   "execution_count": 33,
   "id": "1b259309",
   "metadata": {},
   "outputs": [],
   "source": [
    "import pandas as pd\n",
    "import numpy as np\n",
    "import scipy.stats\n",
    "from sklearn.linear_model import LinearRegression"
   ]
  },
  {
   "cell_type": "markdown",
   "id": "f865fa3b",
   "metadata": {},
   "source": [
    "### Read Data"
   ]
  },
  {
   "cell_type": "markdown",
   "id": "e0afb721",
   "metadata": {},
   "source": [
    "df = pd.read_csv('HW3_data.csv')\n",
    "df.head()"
   ]
  },
  {
   "cell_type": "code",
   "execution_count": 7,
   "id": "2e6277f2",
   "metadata": {},
   "outputs": [],
   "source": [
    "yi = df['y'].to_numpy()\n",
    "mi = df['m'].to_numpy()\n",
    "xi = df['x'].to_numpy()"
   ]
  },
  {
   "cell_type": "markdown",
   "id": "6b1843a3",
   "metadata": {},
   "source": [
    "1) What is the null hypothesis of the Sobel test?"
   ]
  },
  {
   "cell_type": "markdown",
   "id": "8f6249a9",
   "metadata": {},
   "source": [
    "The null hypothesis says that there is no mediation effect between *m* and *x* if $\\beta_{22} = 0$ or $\\beta_{32} = 0$ and $\\beta_{12} = \\beta_{33}$. Then: "
   ]
  },
  {
   "cell_type": "markdown",
   "id": "6b614081",
   "metadata": {},
   "source": [
    "\\begin{align}\n",
    "Z = \\frac{\\hat\\beta_{12}-\\hat\\beta_{33}}{\\sqrt{\\hat\\beta_{22}^2Var(\\hat\\beta_{32}^2) + \n",
    "            \\hat\\beta_{32}^2Var(\\hat\\beta_{22}^2)}}\n",
    "\\end{align}"
   ]
  },
  {
   "cell_type": "markdown",
   "id": "0baa95be",
   "metadata": {},
   "source": [
    "2) Regress the three models and and the estimators."
   ]
  },
  {
   "cell_type": "code",
   "execution_count": 30,
   "id": "154b245f",
   "metadata": {},
   "outputs": [],
   "source": [
    "def get_linear_params(x, y):\n",
    "    \"\"\"\n",
    "    Returns the slope and intercept of the regression line\n",
    "    \"\"\"\n",
    "    # Compute Stats\n",
    "    x_y_bar = np.mean(x * y)\n",
    "    x_bar = np.mean(x)\n",
    "    y_bar = np.mean(y)\n",
    "    x2_bar = np.mean(x**2)\n",
    "    \n",
    "    slope = (x_y_bar - x_bar * y_bar ) / (x2_bar - x_bar**2)\n",
    "    intercept = y_bar - slope * x_bar\n",
    "    \n",
    "    return slope, intercept"
   ]
  },
  {
   "cell_type": "code",
   "execution_count": 85,
   "id": "91357f49",
   "metadata": {},
   "outputs": [],
   "source": [
    "def find_estimators(y, *args):\n",
    "    X = np.stack((args), axis=1)\n",
    "    a1 = np.matmul(X.T, X)\n",
    "    inv_a1 = np.linalg.inv(a1)\n",
    "    a2 = np.matmul(inv_a1, X.T)\n",
    "    res = np.matmul(a2, y)\n",
    "    return res\n",
    "\n",
    "def h_hat_matrix(*args):\n",
    "    \"\"\"\n",
    "    Returns the H-hat matrix for any number of \n",
    "        \n",
    "    \"\"\"\n",
    "    X = np.stack((args), axis=1)\n",
    "    a1 = np.matmul(X.T, X)\n",
    "    inv_a1 = np.linalg.inv(a1)\n",
    "    a2 = np.matmul(X, inv_a1)\n",
    "    h_hat = np.matmul(a2, X.T)\n",
    "    return h_hat\n",
    "\n",
    "def get_residual_SS(y, *args):\n",
    "    \"\"\"Calculates the residual sum of squares\"\"\"\n",
    "    \n",
    "    H = h_hat_matrix(*args)\n",
    "    I = np.identity(H.shape[0])\n",
    "    ss = np.matmul(np.matmul(y.T, (I-H)), y)\n",
    "    return ss"
   ]
  },
  {
   "cell_type": "markdown",
   "id": "5ba05711",
   "metadata": {},
   "source": [
    "\\begin{align}\n",
    "\\hat\\sigma^2 =  \\frac{1}{n-p} \\hat e' \\hat e\n",
    "\\end{align}"
   ]
  },
  {
   "cell_type": "markdown",
   "id": "9ff3cc94",
   "metadata": {},
   "source": [
    "---------"
   ]
  },
  {
   "cell_type": "markdown",
   "id": "448d6eaf",
   "metadata": {},
   "source": [
    "\\begin{align}\n",
    "\\text{Model #1} \\hspace{5mm}\n",
    "y_i = \\beta_{11} + \\beta_{12}x_i+\\epsilon_i\n",
    "\\end{align}"
   ]
  },
  {
   "cell_type": "code",
   "execution_count": 78,
   "id": "bbf74ba7",
   "metadata": {
    "scrolled": false
   },
   "outputs": [
    {
     "name": "stdout",
     "output_type": "stream",
     "text": [
      "2.9772904369906783 1.7841228898300225\n"
     ]
    },
    {
     "data": {
      "text/plain": [
       "array([2.97729044, 1.78412289])"
      ]
     },
     "execution_count": 78,
     "metadata": {},
     "output_type": "execute_result"
    }
   ],
   "source": [
    "#Option 1: Simple Linear Case\n",
    "B12, B11 = get_linear_params(xi,yi)\n",
    "print(B11, B12)\n",
    "\n",
    "# Option 2: Linear Algebra\n",
    "find_estimators(yi, np.ones(yi.shape), xi)"
   ]
  },
  {
   "cell_type": "markdown",
   "id": "e8b31597",
   "metadata": {},
   "source": [
    "\\begin{align}\n",
    "y_i = 2.9772 + 1.7841x_i+\\epsilon_i\n",
    "\\end{align}"
   ]
  },
  {
   "cell_type": "markdown",
   "id": "cb9b724f",
   "metadata": {},
   "source": [
    "---------"
   ]
  },
  {
   "cell_type": "markdown",
   "id": "c28ef44b",
   "metadata": {},
   "source": [
    "\\begin{align}\n",
    "\\text{Model #2} \\hspace{5mm}\n",
    "m_i = \\beta_{21} + \\beta_{22}x_i+\\epsilon_i\n",
    "\\end{align}"
   ]
  },
  {
   "cell_type": "code",
   "execution_count": 32,
   "id": "61fd1fee",
   "metadata": {
    "scrolled": false
   },
   "outputs": [
    {
     "name": "stdout",
     "output_type": "stream",
     "text": [
      "0.9740536557783886 0.9104199975762058\n"
     ]
    }
   ],
   "source": [
    "B22, B21 = get_linear_params(xi,mi)\n",
    "print(B21, B22)"
   ]
  },
  {
   "cell_type": "markdown",
   "id": "0a863d7d",
   "metadata": {},
   "source": [
    "\\begin{align}\n",
    "m_i = 0.9740 + 0.9104x_i+\\epsilon_i\n",
    "\\end{align}"
   ]
  },
  {
   "cell_type": "markdown",
   "id": "38af8521",
   "metadata": {},
   "source": [
    "---------"
   ]
  },
  {
   "cell_type": "markdown",
   "id": "489e6f49",
   "metadata": {},
   "source": [
    "\\begin{align}\n",
    "\\text{Model #3} \\hspace{5mm}\n",
    "y_i = \\beta_{31} + \\beta_{32}m_i + \\beta_{33}x_i + \\epsilon_i\n",
    "\\end{align}"
   ]
  },
  {
   "cell_type": "code",
   "execution_count": 79,
   "id": "f48396f4",
   "metadata": {},
   "outputs": [
    {
     "data": {
      "text/plain": [
       "array([1.1786478 , 1.84655397, 0.10298323])"
      ]
     },
     "execution_count": 79,
     "metadata": {},
     "output_type": "execute_result"
    }
   ],
   "source": [
    "# Option 1: Linear Algebra\n",
    "find_estimators(yi, np.ones(yi.shape), mi, xi)"
   ]
  },
  {
   "cell_type": "code",
   "execution_count": 80,
   "id": "709e2fa5",
   "metadata": {
    "scrolled": true
   },
   "outputs": [
    {
     "name": "stdout",
     "output_type": "stream",
     "text": [
      "B32 and B33 respectively =  [1.84655397 0.10298323]\n",
      "B31 =  1.1786477956297094\n"
     ]
    }
   ],
   "source": [
    "#Option 2: sklearn library\n",
    "\n",
    "mlr = LinearRegression()\n",
    "mlr.fit(X = np.stack((mi, xi), axis = -1), y = yi);\n",
    "print(\"B32 and B33 respectively = \", mlr.coef_)\n",
    "print(\"B31 = \", mlr.intercept_)"
   ]
  },
  {
   "cell_type": "markdown",
   "id": "75296495",
   "metadata": {},
   "source": [
    "\\begin{align}\n",
    "y_i = 1.1786 + 1.8465 m_i + 0.1029 x_i + \\epsilon_i\n",
    "\\end{align}"
   ]
  },
  {
   "cell_type": "markdown",
   "id": "a9ebc241",
   "metadata": {},
   "source": [
    "# "
   ]
  },
  {
   "cell_type": "markdown",
   "id": "0ad02e11",
   "metadata": {},
   "source": [
    "3) Find the variance of B_22 and B_32."
   ]
  },
  {
   "cell_type": "markdown",
   "id": "7ae79ba3",
   "metadata": {},
   "source": [
    "\\begin{align}\n",
    "Cov \\hat \\beta = \\sigma^2 ( X'X)^{-1}\n",
    "\\end{align}"
   ]
  },
  {
   "cell_type": "markdown",
   "id": "afe65bfd",
   "metadata": {},
   "source": [
    "\\begin{align}\n",
    "\\hat\\sigma^2 =  \\frac{1}{n-p} \\hat e' \\hat e\n",
    "\\end{align}"
   ]
  },
  {
   "cell_type": "code",
   "execution_count": 104,
   "id": "73ccd433",
   "metadata": {},
   "outputs": [
    {
     "name": "stdout",
     "output_type": "stream",
     "text": [
      "Variance of B22:  0.005728784301207686\n"
     ]
    }
   ],
   "source": [
    "X_mod_2 = X = np.stack((np.ones(yi.shape), xi), axis=1)\n",
    "mod_2_res = get_residual_SS(mi, np.ones(yi.shape), xi)\n",
    "variance_mod_2 = (1 / (200-2))*mod_2_res\n",
    "cov_mod_2 = variance_mod_2 * np.linalg.inv(np.matmul(X.T, X))\n",
    "var_B_22 = cov_mod_2[1][-1]\n",
    "print('Variance of B22: ', var_B_22)"
   ]
  },
  {
   "cell_type": "code",
   "execution_count": 105,
   "id": "975bf77d",
   "metadata": {
    "scrolled": true
   },
   "outputs": [
    {
     "name": "stdout",
     "output_type": "stream",
     "text": [
      "Variance of B32:  0.004953382792054966\n"
     ]
    }
   ],
   "source": [
    "X_mod_3 = X = np.stack((np.ones(yi.shape), mi, xi), axis=1)\n",
    "mod_3_res = get_residual_SS(yi, np.ones(yi.shape), mi, xi)\n",
    "variance_mod_3 = (1 / (200-3))*mod_3_res\n",
    "cov_mod_3 = variance_mod_3 * np.linalg.inv(np.matmul(X.T, X))\n",
    "var_B_32 = cov_mod_3[1][1]\n",
    "print('Variance of B32: ', var_B_32)"
   ]
  },
  {
   "cell_type": "markdown",
   "id": "ab6e603b",
   "metadata": {},
   "source": [
    "# "
   ]
  },
  {
   "cell_type": "markdown",
   "id": "4a9c16f9",
   "metadata": {},
   "source": [
    "4) Find the z test statistic."
   ]
  },
  {
   "cell_type": "code",
   "execution_count": 109,
   "id": "4c393bea",
   "metadata": {},
   "outputs": [
    {
     "data": {
      "text/plain": [
       "10.934146977829494"
      ]
     },
     "execution_count": 109,
     "metadata": {},
     "output_type": "execute_result"
    }
   ],
   "source": [
    "Z = (B12 - 0.10298323 )  / np.sqrt( (B22**2)*var_B_32 + (1.84655397**2)*var_B_22 )\n",
    "Z"
   ]
  },
  {
   "cell_type": "markdown",
   "id": "e06ddaec",
   "metadata": {},
   "source": [
    "# "
   ]
  },
  {
   "cell_type": "markdown",
   "id": "36c913ed",
   "metadata": {},
   "source": [
    "5) Find the p-value and the conclusion of the test."
   ]
  },
  {
   "cell_type": "code",
   "execution_count": 108,
   "id": "dc4a516e",
   "metadata": {},
   "outputs": [],
   "source": [
    "import scipy.stats"
   ]
  },
  {
   "cell_type": "code",
   "execution_count": 111,
   "id": "ed9dc744",
   "metadata": {},
   "outputs": [
    {
     "data": {
      "text/plain": [
       "7.914680445902254e-28"
      ]
     },
     "execution_count": 111,
     "metadata": {},
     "output_type": "execute_result"
    }
   ],
   "source": [
    "scipy.stats.norm.sf(abs(Z)) * 2 # Two-sided"
   ]
  },
  {
   "cell_type": "markdown",
   "id": "0a0e3e0d",
   "metadata": {},
   "source": [
    "We have very strong evidence to reject the null hypothesis (Null hypothesis says there is no mediation effect)."
   ]
  }
 ],
 "metadata": {
  "kernelspec": {
   "display_name": "Python 3 (ipykernel)",
   "language": "python",
   "name": "python3"
  },
  "language_info": {
   "codemirror_mode": {
    "name": "ipython",
    "version": 3
   },
   "file_extension": ".py",
   "mimetype": "text/x-python",
   "name": "python",
   "nbconvert_exporter": "python",
   "pygments_lexer": "ipython3",
   "version": "3.8.10"
  }
 },
 "nbformat": 4,
 "nbformat_minor": 5
}
